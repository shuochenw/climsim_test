{
 "cells": [
  {
   "cell_type": "code",
   "execution_count": 1,
   "id": "208d4555-31c3-4b43-99f4-e8372d6150a9",
   "metadata": {
    "execution": {
     "iopub.execute_input": "2024-03-26T18:09:38.354582Z",
     "iopub.status.busy": "2024-03-26T18:09:38.354366Z",
     "iopub.status.idle": "2024-03-26T18:09:42.090960Z",
     "shell.execute_reply": "2024-03-26T18:09:42.090602Z",
     "shell.execute_reply.started": "2024-03-26T18:09:38.354568Z"
    }
   },
   "outputs": [],
   "source": [
    "import xarray as xr\n",
    "import os\n",
    "import netCDF4\n",
    "import numpy as np\n",
    "import torch\n",
    "from torch import nn\n",
    "import matplotlib.pyplot as plt\n",
    "from sklearn.model_selection import train_test_split\n",
    "from sklearn.metrics import mean_absolute_error\n",
    "from torch.utils.data import random_split\n",
    "import random\n",
    "import pandas as pd\n",
    "from torch.utils.data import DataLoader, TensorDataset\n",
    "from sklearn.preprocessing import StandardScaler\n",
    "from torch.optim.lr_scheduler import ReduceLROnPlateau"
   ]
  },
  {
   "cell_type": "code",
   "execution_count": 2,
   "id": "ac2d5da7-a122-4ba2-af60-ad9e82a962ad",
   "metadata": {
    "execution": {
     "iopub.execute_input": "2024-03-26T18:09:42.091838Z",
     "iopub.status.busy": "2024-03-26T18:09:42.091591Z",
     "iopub.status.idle": "2024-03-26T18:09:42.157851Z",
     "shell.execute_reply": "2024-03-26T18:09:42.157474Z",
     "shell.execute_reply.started": "2024-03-26T18:09:42.091827Z"
    }
   },
   "outputs": [
    {
     "name": "stdout",
     "output_type": "stream",
     "text": [
      "Using device: cuda\n",
      "NVIDIA A100-SXM4-80GB\n",
      "Memory Usage:\n",
      "Allocated: 0.0 GB\n",
      "Cached:    0.0 GB\n"
     ]
    }
   ],
   "source": [
    "# setting device on GPU if available, else CPU\n",
    "device = torch.device('cuda' if torch.cuda.is_available() else 'cpu')\n",
    "print('Using device:', device)\n",
    "#Additional Info when using cuda\n",
    "if device.type == 'cuda':\n",
    "    print(torch.cuda.get_device_name(0))\n",
    "    print('Memory Usage:')\n",
    "    print('Allocated:', round(torch.cuda.memory_allocated(0)/1024**3,1), 'GB')\n",
    "    print('Cached:   ', round(torch.cuda.memory_reserved(0)/1024**3,1), 'GB')"
   ]
  },
  {
   "cell_type": "code",
   "execution_count": 3,
   "id": "5b021a8d-b0bd-4107-a9a3-de0da53d3cdc",
   "metadata": {
    "execution": {
     "iopub.execute_input": "2024-03-26T18:09:42.158668Z",
     "iopub.status.busy": "2024-03-26T18:09:42.158406Z",
     "iopub.status.idle": "2024-03-26T18:09:42.160831Z",
     "shell.execute_reply": "2024-03-26T18:09:42.160530Z",
     "shell.execute_reply.started": "2024-03-26T18:09:42.158653Z"
    }
   },
   "outputs": [],
   "source": [
    "LEARNING_RATE = 0.001\n",
    "IN_FEATURES = 124\n",
    "OUT_FEATURES = 128\n",
    "RANDOM_SEED = 42\n",
    "BATCH_SIZE = 3072"
   ]
  },
  {
   "cell_type": "code",
   "execution_count": 4,
   "id": "2525eff5-15c6-494e-87d4-2178ac7f33a8",
   "metadata": {
    "execution": {
     "iopub.execute_input": "2024-03-26T18:09:44.639293Z",
     "iopub.status.busy": "2024-03-26T18:09:44.638894Z",
     "iopub.status.idle": "2024-03-26T18:09:48.201696Z",
     "shell.execute_reply": "2024-03-26T18:09:48.201225Z",
     "shell.execute_reply.started": "2024-03-26T18:09:44.639278Z"
    }
   },
   "outputs": [],
   "source": [
    "# # use validation year: change path\n",
    "# X=np.load('/work/sds-lab/Shuochen/climsim/val_input.npy')\n",
    "# y=np.load('/work/sds-lab/Shuochen/climsim/val_target.npy')\n",
    "\n",
    "# X = torch.from_numpy(X).type(torch.float)\n",
    "# y = torch.from_numpy(y).type(torch.float)\n",
    "\n",
    "# X_train, X_test, y_train, y_test = train_test_split(X,\n",
    "#     y,\n",
    "#     test_size=0.2,\n",
    "#     random_state=RANDOM_SEED\n",
    "# )\n",
    "\n",
    "# use all 8 years: change path\n",
    "X_train=np.load('/work/sds-lab/Shuochen/climsim/train_input.npy')\n",
    "y_train=np.load('/work/sds-lab/Shuochen/climsim/train_target.npy')\n",
    "X_test=np.load('/work/sds-lab/Shuochen/climsim/val_input.npy')\n",
    "y_test=np.load('/work/sds-lab/Shuochen/climsim/val_target.npy')\n",
    "\n",
    "X_train = torch.from_numpy(X_train).type(torch.float)\n",
    "y_train = torch.from_numpy(y_train).type(torch.float)\n",
    "X_test = torch.from_numpy(X_test).type(torch.float)\n",
    "y_test = torch.from_numpy(y_test).type(torch.float)"
   ]
  },
  {
   "cell_type": "code",
   "execution_count": 5,
   "id": "fed7be17-d035-4941-9fa7-5130035635ca",
   "metadata": {
    "execution": {
     "iopub.execute_input": "2024-03-26T18:09:50.054386Z",
     "iopub.status.busy": "2024-03-26T18:09:50.054151Z",
     "iopub.status.idle": "2024-03-26T18:09:50.057590Z",
     "shell.execute_reply": "2024-03-26T18:09:50.057305Z",
     "shell.execute_reply.started": "2024-03-26T18:09:50.054374Z"
    }
   },
   "outputs": [],
   "source": [
    "# # split datasets to training and testing\n",
    "# X_train, X_test, y_train, y_test = train_test_split(X, y, test_size=0.2, random_state=RANDOM_SEED)\n",
    "# create datasets\n",
    "training_set = TensorDataset(X_train, y_train)\n",
    "testing_set = TensorDataset(X_test, y_test)\n",
    "# create dataloaders\n",
    "train_dataloader = DataLoader(training_set, # dataset to turn into iterable\n",
    "    batch_size=BATCH_SIZE, # how many samples per batch? \n",
    "    shuffle=True # shuffle data every epoch?\n",
    ")\n",
    "test_dataloader = DataLoader(testing_set,\n",
    "    batch_size=BATCH_SIZE,\n",
    "    shuffle=False # don't necessarily have to shuffle the testing data\n",
    ")"
   ]
  },
  {
   "cell_type": "code",
   "execution_count": 6,
   "id": "52c68d96-3033-45eb-948f-3dd115c52d5d",
   "metadata": {
    "execution": {
     "iopub.execute_input": "2024-03-26T18:10:42.023046Z",
     "iopub.status.busy": "2024-03-26T18:10:42.022710Z",
     "iopub.status.idle": "2024-03-26T18:10:43.196573Z",
     "shell.execute_reply": "2024-03-26T18:10:43.196245Z",
     "shell.execute_reply.started": "2024-03-26T18:10:42.023033Z"
    }
   },
   "outputs": [],
   "source": [
    "class MLP(nn.Module):\n",
    "    def __init__(self, IN_FEATURES, OUT_FEATURES):\n",
    "        super().__init__()\n",
    "        self.seq = nn.Sequential(nn.Linear(IN_FEATURES, 768),\n",
    "                                 nn.LeakyReLU(0.15),\n",
    "                                 nn.Linear(768, 640),\n",
    "                                 nn.LeakyReLU(0.15),\n",
    "                                 nn.Linear(640, 512),\n",
    "                                 nn.LeakyReLU(0.15),\n",
    "                                 nn.Linear(512, 640),\n",
    "                                 nn.LeakyReLU(0.15),\n",
    "                                 nn.Linear(640, 640),\n",
    "                                 nn.LeakyReLU(0.15),\n",
    "                                 nn.Linear(640, 128),\n",
    "                                 nn.LeakyReLU(0.15))\n",
    "        self.linear1 = nn.Linear(128, 120)\n",
    "        self.linear2 = nn.Linear(128, 8)\n",
    "        self.relu = nn.ReLU()\n",
    "\n",
    "    def forward(self, x):\n",
    "        a = self.linear1(self.seq(x))\n",
    "        b = self.relu(self.linear2(self.seq(x)))\n",
    "        return torch.concat((a, b), dim=1)\n",
    "        \n",
    "model = MLP(IN_FEATURES, OUT_FEATURES).to(device)\n",
    "loss_fn = nn.MSELoss()\n",
    "optimizer = torch.optim.RAdam(model.parameters(),lr=LEARNING_RATE)\n",
    "# to do: scheduler\n",
    "\n",
    "\n"
   ]
  },
  {
   "cell_type": "code",
   "execution_count": 7,
   "id": "16efe77d-94f6-46db-8406-f97802435885",
   "metadata": {
    "execution": {
     "iopub.execute_input": "2024-03-26T18:10:45.775557Z",
     "iopub.status.busy": "2024-03-26T18:10:45.775065Z",
     "iopub.status.idle": "2024-03-26T18:10:45.778032Z",
     "shell.execute_reply": "2024-03-26T18:10:45.777718Z",
     "shell.execute_reply.started": "2024-03-26T18:10:45.775542Z"
    }
   },
   "outputs": [
    {
     "name": "stdout",
     "output_type": "stream",
     "text": [
      "MLP(\n",
      "  (seq): Sequential(\n",
      "    (0): Linear(in_features=124, out_features=768, bias=True)\n",
      "    (1): LeakyReLU(negative_slope=0.15)\n",
      "    (2): Linear(in_features=768, out_features=640, bias=True)\n",
      "    (3): LeakyReLU(negative_slope=0.15)\n",
      "    (4): Linear(in_features=640, out_features=512, bias=True)\n",
      "    (5): LeakyReLU(negative_slope=0.15)\n",
      "    (6): Linear(in_features=512, out_features=640, bias=True)\n",
      "    (7): LeakyReLU(negative_slope=0.15)\n",
      "    (8): Linear(in_features=640, out_features=640, bias=True)\n",
      "    (9): LeakyReLU(negative_slope=0.15)\n",
      "    (10): Linear(in_features=640, out_features=128, bias=True)\n",
      "    (11): LeakyReLU(negative_slope=0.15)\n",
      "  )\n",
      "  (linear1): Linear(in_features=128, out_features=120, bias=True)\n",
      "  (linear2): Linear(in_features=128, out_features=8, bias=True)\n",
      "  (relu): ReLU()\n",
      ")\n"
     ]
    }
   ],
   "source": [
    "print(model)"
   ]
  },
  {
   "cell_type": "code",
   "execution_count": 8,
   "id": "0cefc69c-86ba-43cb-a743-ca66e662a2ad",
   "metadata": {
    "execution": {
     "iopub.execute_input": "2024-03-23T22:45:22.212559Z",
     "iopub.status.busy": "2024-03-23T22:45:22.212438Z",
     "iopub.status.idle": "2024-03-23T22:57:27.707565Z",
     "shell.execute_reply": "2024-03-23T22:57:27.707227Z",
     "shell.execute_reply.started": "2024-03-23T22:45:22.212549Z"
    }
   },
   "outputs": [
    {
     "name": "stdout",
     "output_type": "stream",
     "text": [
      "Epoch: 0 | Train loss: 557230129152.00000 | Test loss: 1115288576.00000\n",
      "Epoch: 1 | Train loss: 19906407956480.00000 | Test loss: 5769351168.00000\n",
      "Epoch: 2 | Train loss: 110943065341952.00000 | Test loss: 1870349467648.00000\n",
      "Epoch: 3 | Train loss: 591424714178560.00000 | Test loss: 14912283648.00000\n",
      "Epoch: 4 | Train loss: 533439233130496.00000 | Test loss: 34912931840.00000\n"
     ]
    }
   ],
   "source": [
    "torch.manual_seed(42)\n",
    "epochs = 5\n",
    "\n",
    "for epoch in range(epochs):\n",
    "    train_loss = 0\n",
    "    for batch, (X, y) in enumerate(train_dataloader):\n",
    "        model.train()\n",
    "        y_pred = model(X.to(device))\n",
    "        loss = loss_fn(y_pred, y.to(device))\n",
    "        train_loss += loss # accumulatively add up the loss per epoch \n",
    "        optimizer.zero_grad()\n",
    "        loss.backward()\n",
    "        optimizer.step()\n",
    "\n",
    "    # Divide total train loss by length of train dataloader (average loss per batch per epoch)\n",
    "    train_loss /= len(train_dataloader)\n",
    "    \n",
    "    with torch.inference_mode():\n",
    "        test_loss = 0\n",
    "        model.eval()\n",
    "        for X, y in test_dataloader:\n",
    "            test_pred = model(X.to(device))\n",
    "            test_loss += loss_fn(test_pred, y.to(device)) # accumulatively add up the loss per epoch\n",
    "        \n",
    "        # Divide total test loss by length of test dataloader (per batch)\n",
    "        test_loss /= len(test_dataloader)\n",
    "\n",
    "    print(f\"Epoch: {epoch} | Train loss: {train_loss:.5f} | Test loss: {test_loss:.5f}\")"
   ]
  },
  {
   "cell_type": "code",
   "execution_count": 9,
   "id": "0ecbce26-bb20-4560-a244-38e3ddd3e835",
   "metadata": {
    "execution": {
     "iopub.execute_input": "2024-03-23T22:57:27.708866Z",
     "iopub.status.busy": "2024-03-23T22:57:27.708719Z",
     "iopub.status.idle": "2024-03-23T22:58:23.255254Z",
     "shell.execute_reply": "2024-03-23T22:58:23.254718Z",
     "shell.execute_reply.started": "2024-03-23T22:57:27.708854Z"
    }
   },
   "outputs": [],
   "source": [
    "# combine batches\n",
    "model = model.to('cpu')\n",
    "test_pred = model(X_test)\n",
    "test_pred = test_pred.detach().numpy()"
   ]
  },
  {
   "cell_type": "code",
   "execution_count": 10,
   "id": "ba0b5fc9-a086-45fb-9b64-d48784ac4c3f",
   "metadata": {
    "execution": {
     "iopub.execute_input": "2024-03-23T22:58:23.260291Z",
     "iopub.status.busy": "2024-03-23T22:58:23.260151Z",
     "iopub.status.idle": "2024-03-23T22:58:23.539005Z",
     "shell.execute_reply": "2024-03-23T22:58:23.538691Z",
     "shell.execute_reply.started": "2024-03-23T22:58:23.260281Z"
    }
   },
   "outputs": [
    {
     "data": {
      "text/plain": [
       "[<matplotlib.lines.Line2D at 0x2af1a6bdd710>]"
      ]
     },
     "execution_count": 10,
     "metadata": {},
     "output_type": "execute_result"
    },
    {
     "data": {
      "image/png": "[encoded data removed]",
      "text/plain": [
       "<Figure size 640x480 with 1 Axes>"
      ]
     },
     "metadata": {},
     "output_type": "display_data"
    }
   ],
   "source": [
    "# plot the first sample. Delete this if not necessary.\n",
    "plt.plot(test_pred[0,:])\n",
    "plt.plot(y_test[0,:])"
   ]
  },
  {
   "cell_type": "code",
   "execution_count": 12,
   "id": "13906849-679d-4992-b140-e7c509101a0c",
   "metadata": {
    "execution": {
     "iopub.execute_input": "2024-03-23T23:00:01.619118Z",
     "iopub.status.busy": "2024-03-23T23:00:01.618701Z",
     "iopub.status.idle": "2024-03-23T23:00:01.621807Z",
     "shell.execute_reply": "2024-03-23T23:00:01.621520Z",
     "shell.execute_reply.started": "2024-03-23T23:00:01.619078Z"
    }
   },
   "outputs": [
    {
     "name": "stdout",
     "output_type": "stream",
     "text": [
      "Number of parameters: 1753472\n"
     ]
    }
   ],
   "source": [
    "total_params = sum(p.numel() for p in model.parameters())\n",
    "print(f\"Number of parameters: {total_params}\")"
   ]
  },
  {
   "cell_type": "markdown",
   "id": "0b1e2e23-d7be-4ff5-be7e-6ee197331217",
   "metadata": {
    "execution": {
     "iopub.execute_input": "2024-03-19T21:25:50.171308Z",
     "iopub.status.busy": "2024-03-19T21:25:50.170921Z",
     "iopub.status.idle": "2024-03-19T21:25:50.173338Z",
     "shell.execute_reply": "2024-03-19T21:25:50.173066Z",
     "shell.execute_reply.started": "2024-03-19T21:25:50.171293Z"
    }
   },
   "source": [
    "# to do: post-processing (metric files)"
   ]
  },
  {
   "cell_type": "code",
   "execution_count": null,
   "id": "af804081-58e5-4535-8f84-760109d93843",
   "metadata": {},
   "outputs": [],
   "source": []
  },
  {
   "cell_type": "code",
   "execution_count": null,
   "id": "fba67d92-542b-422d-8a89-549ce17086e8",
   "metadata": {},
   "outputs": [],
   "source": []
  },
  {
   "cell_type": "code",
   "execution_count": null,
   "id": "29b24b3c-649d-452e-8c70-0b115b9ba74e",
   "metadata": {},
   "outputs": [],
   "source": []
  }
 ],
 "metadata": {
  "kernelspec": {
   "display_name": "Python 3 (ipykernel)",
   "language": "python",
   "name": "python3"
  },
  "language_info": {
   "codemirror_mode": {
    "name": "ipython",
    "version": 3
   },
   "file_extension": ".py",
   "mimetype": "text/x-python",
   "name": "python",
   "nbconvert_exporter": "python",
   "pygments_lexer": "ipython3",
   "version": "3.11.8"
  }
 },
 "nbformat": 4,
 "nbformat_minor": 5
}
