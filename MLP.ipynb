{
 "cells": [
  {
   "cell_type": "code",
   "execution_count": 1,
   "id": "208d4555-31c3-4b43-99f4-e8372d6150a9",
   "metadata": {
    "execution": {
     "iopub.execute_input": "2024-03-21T20:23:20.654232Z",
     "iopub.status.busy": "2024-03-21T20:23:20.653857Z",
     "iopub.status.idle": "2024-03-21T20:23:27.292612Z",
     "shell.execute_reply": "2024-03-21T20:23:27.292253Z",
     "shell.execute_reply.started": "2024-03-21T20:23:20.654218Z"
    }
   },
   "outputs": [],
   "source": [
    "import xarray as xr\n",
    "import os\n",
    "import netCDF4\n",
    "import numpy as np\n",
    "import torch\n",
    "from torch import nn\n",
    "import matplotlib.pyplot as plt\n",
    "from sklearn.model_selection import train_test_split\n",
    "from sklearn.metrics import mean_absolute_error\n",
    "from torch.utils.data import random_split\n",
    "import random\n",
    "import pandas as pd\n",
    "from torch.utils.data import DataLoader, TensorDataset\n",
    "from sklearn.preprocessing import StandardScaler\n",
    "from torch.optim.lr_scheduler import ReduceLROnPlateau"
   ]
  },
  {
   "cell_type": "code",
   "execution_count": 2,
   "id": "ac2d5da7-a122-4ba2-af60-ad9e82a962ad",
   "metadata": {
    "execution": {
     "iopub.execute_input": "2024-03-21T20:23:27.293643Z",
     "iopub.status.busy": "2024-03-21T20:23:27.293375Z",
     "iopub.status.idle": "2024-03-21T20:23:59.063300Z",
     "shell.execute_reply": "2024-03-21T20:23:59.062791Z",
     "shell.execute_reply.started": "2024-03-21T20:23:27.293631Z"
    }
   },
   "outputs": [
    {
     "name": "stdout",
     "output_type": "stream",
     "text": [
      "Using device: cuda\n",
      "NVIDIA A100-SXM4-40GB\n",
      "Memory Usage:\n",
      "Allocated: 0.0 GB\n",
      "Cached:    0.0 GB\n"
     ]
    }
   ],
   "source": [
    "# setting device on GPU if available, else CPU\n",
    "device = torch.device('cuda' if torch.cuda.is_available() else 'cpu')\n",
    "print('Using device:', device)\n",
    "#Additional Info when using cuda\n",
    "if device.type == 'cuda':\n",
    "    print(torch.cuda.get_device_name(0))\n",
    "    print('Memory Usage:')\n",
    "    print('Allocated:', round(torch.cuda.memory_allocated(0)/1024**3,1), 'GB')\n",
    "    print('Cached:   ', round(torch.cuda.memory_reserved(0)/1024**3,1), 'GB')"
   ]
  },
  {
   "cell_type": "code",
   "execution_count": 3,
   "id": "5b021a8d-b0bd-4107-a9a3-de0da53d3cdc",
   "metadata": {
    "execution": {
     "iopub.execute_input": "2024-03-21T20:23:59.064465Z",
     "iopub.status.busy": "2024-03-21T20:23:59.064312Z",
     "iopub.status.idle": "2024-03-21T20:23:59.067499Z",
     "shell.execute_reply": "2024-03-21T20:23:59.067226Z",
     "shell.execute_reply.started": "2024-03-21T20:23:59.064451Z"
    }
   },
   "outputs": [],
   "source": [
    "LEARNING_RATE = 0.01\n",
    "IN_FEATURES = 124\n",
    "OUT_FEATURES = 128\n",
    "RANDOM_SEED = 42\n",
    "BATCH_SIZE = 320"
   ]
  },
  {
   "cell_type": "code",
   "execution_count": 8,
   "id": "2525eff5-15c6-494e-87d4-2178ac7f33a8",
   "metadata": {
    "execution": {
     "iopub.execute_input": "2024-03-21T20:24:55.395560Z",
     "iopub.status.busy": "2024-03-21T20:24:55.395334Z",
     "iopub.status.idle": "2024-03-21T20:24:58.812407Z",
     "shell.execute_reply": "2024-03-21T20:24:58.812023Z",
     "shell.execute_reply.started": "2024-03-21T20:24:55.395546Z"
    }
   },
   "outputs": [],
   "source": [
    "# # use validation year: change path\n",
    "# X=np.load('/work/sds-lab/Shuochen/climsim/val_input.npy')\n",
    "# y=np.load('/work/sds-lab/Shuochen/climsim/val_target.npy')\n",
    "\n",
    "# X = torch.from_numpy(X).type(torch.float)\n",
    "# y = torch.from_numpy(y).type(torch.float)\n",
    "\n",
    "# X_train, X_test, y_train, y_test = train_test_split(X,\n",
    "#     y,\n",
    "#     test_size=0.2,\n",
    "#     random_state=RANDOM_SEED\n",
    "# )\n",
    "\n",
    "# use all 8 years: change path\n",
    "X_train=np.load('/work/sds-lab/Shuochen/climsim/train_input.npy')\n",
    "y_train=np.load('/work/sds-lab/Shuochen/climsim/train_target.npy')\n",
    "X_test=np.load('/work/sds-lab/Shuochen/climsim/val_input.npy')\n",
    "y_test=np.load('/work/sds-lab/Shuochen/climsim/val_target.npy')\n",
    "\n",
    "X_train = torch.from_numpy(X_train).type(torch.float)\n",
    "y_train = torch.from_numpy(y_train).type(torch.float)\n",
    "X_test = torch.from_numpy(X_test).type(torch.float)\n",
    "y_test = torch.from_numpy(y_test).type(torch.float)"
   ]
  },
  {
   "cell_type": "code",
   "execution_count": 9,
   "id": "fed7be17-d035-4941-9fa7-5130035635ca",
   "metadata": {
    "execution": {
     "iopub.execute_input": "2024-03-21T20:25:00.002337Z",
     "iopub.status.busy": "2024-03-21T20:25:00.002029Z",
     "iopub.status.idle": "2024-03-21T20:25:00.005083Z",
     "shell.execute_reply": "2024-03-21T20:25:00.004831Z",
     "shell.execute_reply.started": "2024-03-21T20:25:00.002324Z"
    }
   },
   "outputs": [],
   "source": [
    "# # split datasets to training and testing\n",
    "# X_train, X_test, y_train, y_test = train_test_split(X, y, test_size=0.2, random_state=RANDOM_SEED)\n",
    "# create datasets\n",
    "training_set = TensorDataset(X_train, y_train)\n",
    "testing_set = TensorDataset(X_test, y_test)\n",
    "# create dataloaders\n",
    "train_dataloader = DataLoader(training_set, # dataset to turn into iterable\n",
    "    batch_size=BATCH_SIZE, # how many samples per batch? \n",
    "    shuffle=True # shuffle data every epoch?\n",
    ")\n",
    "test_dataloader = DataLoader(testing_set,\n",
    "    batch_size=BATCH_SIZE,\n",
    "    shuffle=False # don't necessarily have to shuffle the testing data\n",
    ")"
   ]
  },
  {
   "cell_type": "code",
   "execution_count": 10,
   "id": "52c68d96-3033-45eb-948f-3dd115c52d5d",
   "metadata": {
    "execution": {
     "iopub.execute_input": "2024-03-21T20:25:01.785681Z",
     "iopub.status.busy": "2024-03-21T20:25:01.785467Z",
     "iopub.status.idle": "2024-03-21T20:25:10.432530Z",
     "shell.execute_reply": "2024-03-21T20:25:10.432177Z",
     "shell.execute_reply.started": "2024-03-21T20:25:01.785669Z"
    }
   },
   "outputs": [],
   "source": [
    "class MLP(nn.Module):\n",
    "    def __init__(self, IN_FEATURES, OUT_FEATURES):\n",
    "        super().__init__()\n",
    "        self.seq = nn.Sequential(nn.Linear(IN_FEATURES, 768),\n",
    "                                 nn.LeakyReLU(0.15),\n",
    "                                 nn.Linear(768, 640),\n",
    "                                 nn.LeakyReLU(0.15),\n",
    "                                 nn.Linear(640, 512),\n",
    "                                 nn.LeakyReLU(0.15),\n",
    "                                 nn.Linear(512, 640),\n",
    "                                 nn.LeakyReLU(0.15),\n",
    "                                 nn.Linear(640, 640),\n",
    "                                 nn.LeakyReLU(0.15),\n",
    "                                 nn.Linear(640, 128),\n",
    "                                 nn.LeakyReLU(0.15))\n",
    "        self.linear1 = nn.Linear(128, 120)\n",
    "        self.linear2 = nn.Linear(128, 8)\n",
    "        self.relu = nn.ReLU()\n",
    "\n",
    "    def forward(self, x):\n",
    "        a = self.linear1(self.seq(x))\n",
    "        b = self.relu(self.linear2(self.seq(x)))\n",
    "        return torch.concat((a, b), dim=1)\n",
    "        \n",
    "model = MLP(IN_FEATURES, OUT_FEATURES).to(device)\n",
    "loss_fn = nn.MSELoss()\n",
    "optimizer = torch.optim.RAdam(model.parameters(),lr=LEARNING_RATE)"
   ]
  },
  {
   "cell_type": "code",
   "execution_count": 12,
   "id": "16efe77d-94f6-46db-8406-f97802435885",
   "metadata": {
    "execution": {
     "iopub.execute_input": "2024-03-21T20:25:47.802505Z",
     "iopub.status.busy": "2024-03-21T20:25:47.802147Z",
     "iopub.status.idle": "2024-03-21T20:25:47.805432Z",
     "shell.execute_reply": "2024-03-21T20:25:47.805135Z",
     "shell.execute_reply.started": "2024-03-21T20:25:47.802494Z"
    }
   },
   "outputs": [
    {
     "name": "stdout",
     "output_type": "stream",
     "text": [
      "MLP(\n",
      "  (seq): Sequential(\n",
      "    (0): Linear(in_features=124, out_features=768, bias=True)\n",
      "    (1): LeakyReLU(negative_slope=0.15)\n",
      "    (2): Linear(in_features=768, out_features=640, bias=True)\n",
      "    (3): LeakyReLU(negative_slope=0.15)\n",
      "    (4): Linear(in_features=640, out_features=512, bias=True)\n",
      "    (5): LeakyReLU(negative_slope=0.15)\n",
      "    (6): Linear(in_features=512, out_features=640, bias=True)\n",
      "    (7): LeakyReLU(negative_slope=0.15)\n",
      "    (8): Linear(in_features=640, out_features=640, bias=True)\n",
      "    (9): LeakyReLU(negative_slope=0.15)\n",
      "    (10): Linear(in_features=640, out_features=128, bias=True)\n",
      "    (11): LeakyReLU(negative_slope=0.15)\n",
      "  )\n",
      "  (linear1): Linear(in_features=128, out_features=120, bias=True)\n",
      "  (linear2): Linear(in_features=128, out_features=8, bias=True)\n",
      "  (relu): ReLU()\n",
      ")\n"
     ]
    }
   ],
   "source": [
    "print(model)"
   ]
  },
  {
   "cell_type": "code",
   "execution_count": 7,
   "id": "0cefc69c-86ba-43cb-a743-ca66e662a2ad",
   "metadata": {
    "execution": {
     "iopub.execute_input": "2024-03-19T21:27:28.189529Z",
     "iopub.status.busy": "2024-03-19T21:27:28.188986Z",
     "iopub.status.idle": "2024-03-19T21:42:36.817636Z",
     "shell.execute_reply": "2024-03-19T21:42:36.817241Z",
     "shell.execute_reply.started": "2024-03-19T21:27:28.189516Z"
    }
   },
   "outputs": [
    {
     "name": "stdout",
     "output_type": "stream",
     "text": [
      "Epoch: 0 | Train loss: 404199607107584.00000 | Test loss: 222663950336.00000\n",
      "Epoch: 1 | Train loss: 2080021522939904.00000 | Test loss: 34228109312.00000\n",
      "Epoch: 2 | Train loss: 6801238016393216.00000 | Test loss: 3178387996672.00000\n",
      "Epoch: 3 | Train loss: 15369069096075264.00000 | Test loss: 11779686006784.00000\n",
      "Epoch: 4 | Train loss: 859653743312896.00000 | Test loss: 828755607552.00000\n"
     ]
    }
   ],
   "source": [
    "torch.manual_seed(42)\n",
    "epochs = 5\n",
    "\n",
    "for epoch in range(epochs):\n",
    "    train_loss = 0\n",
    "    for batch, (X, y) in enumerate(train_dataloader):\n",
    "        model.train()\n",
    "        y_pred = model(X.to(device))\n",
    "        loss = loss_fn(y_pred, y.to(device))\n",
    "        train_loss += loss # accumulatively add up the loss per epoch \n",
    "        optimizer.zero_grad()\n",
    "        loss.backward()\n",
    "        optimizer.step()\n",
    "\n",
    "    # Divide total train loss by length of train dataloader (average loss per batch per epoch)\n",
    "    train_loss /= len(train_dataloader)\n",
    "    \n",
    "    with torch.inference_mode():\n",
    "        test_loss = 0\n",
    "        model.eval()\n",
    "        for X, y in test_dataloader:\n",
    "            test_pred = model(X.to(device))\n",
    "            test_loss += loss_fn(test_pred, y.to(device)) # accumulatively add up the loss per epoch\n",
    "        \n",
    "        # Divide total test loss by length of test dataloader (per batch)\n",
    "        test_loss /= len(test_dataloader)\n",
    "\n",
    "    print(f\"Epoch: {epoch} | Train loss: {train_loss:.5f} | Test loss: {test_loss:.5f}\")"
   ]
  },
  {
   "cell_type": "code",
   "execution_count": 8,
   "id": "0ecbce26-bb20-4560-a244-38e3ddd3e835",
   "metadata": {
    "execution": {
     "iopub.execute_input": "2024-03-19T21:42:38.839609Z",
     "iopub.status.busy": "2024-03-19T21:42:38.839269Z",
     "iopub.status.idle": "2024-03-19T21:43:42.423477Z",
     "shell.execute_reply": "2024-03-19T21:43:42.422818Z",
     "shell.execute_reply.started": "2024-03-19T21:42:38.839596Z"
    }
   },
   "outputs": [],
   "source": [
    "# combine batches\n",
    "model = model.to('cpu')\n",
    "test_pred = model(X_test)\n",
    "test_pred = test_pred.detach().numpy()"
   ]
  },
  {
   "cell_type": "code",
   "execution_count": 9,
   "id": "ba0b5fc9-a086-45fb-9b64-d48784ac4c3f",
   "metadata": {
    "execution": {
     "iopub.execute_input": "2024-03-19T21:43:42.424799Z",
     "iopub.status.busy": "2024-03-19T21:43:42.424598Z",
     "iopub.status.idle": "2024-03-19T21:43:42.680744Z",
     "shell.execute_reply": "2024-03-19T21:43:42.680465Z",
     "shell.execute_reply.started": "2024-03-19T21:43:42.424788Z"
    }
   },
   "outputs": [
    {
     "data": {
      "text/plain": [
       "[<matplotlib.lines.Line2D at 0x2b519dd2ff90>]"
      ]
     },
     "execution_count": 9,
     "metadata": {},
     "output_type": "execute_result"
    },
    {
     "data": {
      "image/png": "[encoded data removed]",
      "text/plain": [
       "<Figure size 640x480 with 1 Axes>"
      ]
     },
     "metadata": {},
     "output_type": "display_data"
    }
   ],
   "source": [
    "# plot the first sample. Delete this if not necessary.\n",
    "plt.plot(test_pred[0,:])\n",
    "plt.plot(y_test[0,:])"
   ]
  },
  {
   "cell_type": "markdown",
   "id": "0b1e2e23-d7be-4ff5-be7e-6ee197331217",
   "metadata": {
    "execution": {
     "iopub.execute_input": "2024-03-19T21:25:50.171308Z",
     "iopub.status.busy": "2024-03-19T21:25:50.170921Z",
     "iopub.status.idle": "2024-03-19T21:25:50.173338Z",
     "shell.execute_reply": "2024-03-19T21:25:50.173066Z",
     "shell.execute_reply.started": "2024-03-19T21:25:50.171293Z"
    }
   },
   "source": [
    "# to do: post-processing (metric files)"
   ]
  },
  {
   "cell_type": "code",
   "execution_count": null,
   "id": "af804081-58e5-4535-8f84-760109d93843",
   "metadata": {},
   "outputs": [],
   "source": []
  },
  {
   "cell_type": "code",
   "execution_count": null,
   "id": "fba67d92-542b-422d-8a89-549ce17086e8",
   "metadata": {},
   "outputs": [],
   "source": []
  },
  {
   "cell_type": "code",
   "execution_count": null,
   "id": "c82363cc-7d0c-432b-964b-d71c54a2da8a",
   "metadata": {},
   "outputs": [],
   "source": []
  }
 ],
 "metadata": {
  "kernelspec": {
   "display_name": "Python 3 (ipykernel)",
   "language": "python",
   "name": "python3"
  },
  "language_info": {
   "codemirror_mode": {
    "name": "ipython",
    "version": 3
   },
   "file_extension": ".py",
   "mimetype": "text/x-python",
   "name": "python",
   "nbconvert_exporter": "python",
   "pygments_lexer": "ipython3",
   "version": "3.11.8"
  }
 },
 "nbformat": 4,
 "nbformat_minor": 5
}
