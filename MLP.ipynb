{
 "cells": [
  {
   "cell_type": "code",
   "execution_count": 1,
   "id": "208d4555-31c3-4b43-99f4-e8372d6150a9",
   "metadata": {
    "execution": {
     "iopub.execute_input": "2024-03-30T19:49:12.046396Z",
     "iopub.status.busy": "2024-03-30T19:49:12.046295Z",
     "iopub.status.idle": "2024-03-30T19:49:16.812052Z",
     "shell.execute_reply": "2024-03-30T19:49:16.811648Z",
     "shell.execute_reply.started": "2024-03-30T19:49:12.046386Z"
    }
   },
   "outputs": [],
   "source": [
    "import xarray as xr\n",
    "import os\n",
    "import netCDF4\n",
    "import numpy as np\n",
    "import torch\n",
    "from torch import nn\n",
    "import matplotlib.pyplot as plt\n",
    "from sklearn.model_selection import train_test_split\n",
    "from sklearn.metrics import mean_absolute_error\n",
    "from torch.utils.data import random_split\n",
    "import random\n",
    "import pandas as pd\n",
    "from torch.utils.data import DataLoader, TensorDataset\n",
    "from sklearn.preprocessing import StandardScaler\n",
    "from torch.optim.lr_scheduler import ReduceLROnPlateau"
   ]
  },
  {
   "cell_type": "code",
   "execution_count": 2,
   "id": "ac2d5da7-a122-4ba2-af60-ad9e82a962ad",
   "metadata": {
    "execution": {
     "iopub.execute_input": "2024-03-30T19:49:16.812840Z",
     "iopub.status.busy": "2024-03-30T19:49:16.812583Z",
     "iopub.status.idle": "2024-03-30T19:49:16.874793Z",
     "shell.execute_reply": "2024-03-30T19:49:16.874444Z",
     "shell.execute_reply.started": "2024-03-30T19:49:16.812828Z"
    }
   },
   "outputs": [
    {
     "name": "stdout",
     "output_type": "stream",
     "text": [
      "Using device: cuda\n",
      "NVIDIA A100-SXM4-40GB\n",
      "Memory Usage:\n",
      "Allocated: 0.0 GB\n",
      "Cached:    0.0 GB\n"
     ]
    }
   ],
   "source": [
    "# setting device on GPU if available, else CPU\n",
    "device = torch.device('cuda' if torch.cuda.is_available() else 'cpu')\n",
    "print('Using device:', device)\n",
    "#Additional Info when using cuda\n",
    "if device.type == 'cuda':\n",
    "    print(torch.cuda.get_device_name(0))\n",
    "    print('Memory Usage:')\n",
    "    print('Allocated:', round(torch.cuda.memory_allocated(0)/1024**3,1), 'GB')\n",
    "    print('Cached:   ', round(torch.cuda.memory_reserved(0)/1024**3,1), 'GB')"
   ]
  },
  {
   "cell_type": "code",
   "execution_count": 3,
   "id": "5b021a8d-b0bd-4107-a9a3-de0da53d3cdc",
   "metadata": {
    "execution": {
     "iopub.execute_input": "2024-03-30T19:49:16.875612Z",
     "iopub.status.busy": "2024-03-30T19:49:16.875482Z",
     "iopub.status.idle": "2024-03-30T19:49:16.887487Z",
     "shell.execute_reply": "2024-03-30T19:49:16.887230Z",
     "shell.execute_reply.started": "2024-03-30T19:49:16.875599Z"
    }
   },
   "outputs": [],
   "source": [
    "LEARNING_RATE = 0.001\n",
    "IN_FEATURES = 124\n",
    "OUT_FEATURES = 128\n",
    "RANDOM_SEED = 42\n",
    "BATCH_SIZE = 3072"
   ]
  },
  {
   "cell_type": "code",
   "execution_count": 4,
   "id": "2525eff5-15c6-494e-87d4-2178ac7f33a8",
   "metadata": {
    "execution": {
     "iopub.execute_input": "2024-03-30T19:49:16.888052Z",
     "iopub.status.busy": "2024-03-30T19:49:16.887862Z",
     "iopub.status.idle": "2024-03-30T19:49:21.300567Z",
     "shell.execute_reply": "2024-03-30T19:49:21.300162Z",
     "shell.execute_reply.started": "2024-03-30T19:49:16.888042Z"
    }
   },
   "outputs": [],
   "source": [
    "# # use validation year: change path\n",
    "# X=np.load('/work/sds-lab/Shuochen/climsim/val_input.npy')\n",
    "# y=np.load('/work/sds-lab/Shuochen/climsim/val_target.npy')\n",
    "\n",
    "# X = torch.from_numpy(X).type(torch.float)\n",
    "# y = torch.from_numpy(y).type(torch.float)\n",
    "\n",
    "# X_train, X_test, y_train, y_test = train_test_split(X,\n",
    "#     y,\n",
    "#     test_size=0.2,\n",
    "#     random_state=RANDOM_SEED\n",
    "# )\n",
    "\n",
    "# use all 8 years: change path\n",
    "X_train=np.load('/work/sds-lab/Shuochen/climsim/train_input.npy')\n",
    "y_train=np.load('/work/sds-lab/Shuochen/climsim/train_target.npy')\n",
    "X_test=np.load('/work/sds-lab/Shuochen/climsim/val_input.npy')\n",
    "y_test=np.load('/work/sds-lab/Shuochen/climsim/val_target.npy')\n",
    "\n",
    "X_train = torch.from_numpy(X_train).type(torch.float)\n",
    "y_train = torch.from_numpy(y_train).type(torch.float)\n",
    "X_test = torch.from_numpy(X_test).type(torch.float)\n",
    "y_test = torch.from_numpy(y_test).type(torch.float)"
   ]
  },
  {
   "cell_type": "code",
   "execution_count": 5,
   "id": "fed7be17-d035-4941-9fa7-5130035635ca",
   "metadata": {
    "execution": {
     "iopub.execute_input": "2024-03-30T19:49:21.301308Z",
     "iopub.status.busy": "2024-03-30T19:49:21.301137Z",
     "iopub.status.idle": "2024-03-30T19:49:21.304165Z",
     "shell.execute_reply": "2024-03-30T19:49:21.303896Z",
     "shell.execute_reply.started": "2024-03-30T19:49:21.301295Z"
    }
   },
   "outputs": [],
   "source": [
    "# # split datasets to training and testing\n",
    "# X_train, X_test, y_train, y_test = train_test_split(X, y, test_size=0.2, random_state=RANDOM_SEED)\n",
    "# create datasets\n",
    "training_set = TensorDataset(X_train, y_train)\n",
    "testing_set = TensorDataset(X_test, y_test)\n",
    "# create dataloaders\n",
    "train_dataloader = DataLoader(training_set, # dataset to turn into iterable\n",
    "    batch_size=BATCH_SIZE, # how many samples per batch? \n",
    "    shuffle=True # shuffle data every epoch?\n",
    ")\n",
    "test_dataloader = DataLoader(testing_set,\n",
    "    batch_size=BATCH_SIZE,\n",
    "    shuffle=False # don't necessarily have to shuffle the testing data\n",
    ")"
   ]
  },
  {
   "cell_type": "code",
   "execution_count": 6,
   "id": "52c68d96-3033-45eb-948f-3dd115c52d5d",
   "metadata": {
    "execution": {
     "iopub.execute_input": "2024-03-30T19:49:21.305848Z",
     "iopub.status.busy": "2024-03-30T19:49:21.305622Z",
     "iopub.status.idle": "2024-03-30T19:49:23.147008Z",
     "shell.execute_reply": "2024-03-30T19:49:23.146561Z",
     "shell.execute_reply.started": "2024-03-30T19:49:21.305839Z"
    }
   },
   "outputs": [],
   "source": [
    "class MLP(nn.Module):\n",
    "    def __init__(self, IN_FEATURES, OUT_FEATURES):\n",
    "        super().__init__()\n",
    "        self.seq = nn.Sequential(nn.Linear(IN_FEATURES, 768),\n",
    "                                 nn.LeakyReLU(0.15),\n",
    "                                 nn.Linear(768, 640),\n",
    "                                 nn.LeakyReLU(0.15),\n",
    "                                 nn.Linear(640, 512),\n",
    "                                 nn.LeakyReLU(0.15),\n",
    "                                 nn.Linear(512, 640),\n",
    "                                 nn.LeakyReLU(0.15),\n",
    "                                 nn.Linear(640, 640),\n",
    "                                 nn.LeakyReLU(0.15),\n",
    "                                 nn.Linear(640, 128),\n",
    "                                 nn.LeakyReLU(0.15))\n",
    "        # self.linear1 = nn.Linear(128, 120)\n",
    "        # self.linear2 = nn.Linear(128, 8)\n",
    "        self.relu = nn.ReLU()\n",
    "\n",
    "    def forward(self, x):\n",
    "        temp = self.seq(x)\n",
    "        a = temp[:,:120]\n",
    "        b = self.relu(temp[:,120:])\n",
    "        return torch.concat((a, b), dim=1)\n",
    "        \n",
    "model = MLP(IN_FEATURES, OUT_FEATURES).to(device)\n",
    "loss_fn = nn.MSELoss()\n",
    "optimizer = torch.optim.RAdam(model.parameters(),lr=LEARNING_RATE)\n",
    "# to do: scheduler\n",
    "\n",
    "\n"
   ]
  },
  {
   "cell_type": "code",
   "execution_count": 7,
   "id": "16efe77d-94f6-46db-8406-f97802435885",
   "metadata": {
    "execution": {
     "iopub.execute_input": "2024-03-30T19:49:23.148086Z",
     "iopub.status.busy": "2024-03-30T19:49:23.147828Z",
     "iopub.status.idle": "2024-03-30T19:49:23.150675Z",
     "shell.execute_reply": "2024-03-30T19:49:23.150415Z",
     "shell.execute_reply.started": "2024-03-30T19:49:23.148068Z"
    }
   },
   "outputs": [
    {
     "name": "stdout",
     "output_type": "stream",
     "text": [
      "MLP(\n",
      "  (seq): Sequential(\n",
      "    (0): Linear(in_features=124, out_features=768, bias=True)\n",
      "    (1): LeakyReLU(negative_slope=0.15)\n",
      "    (2): Linear(in_features=768, out_features=640, bias=True)\n",
      "    (3): LeakyReLU(negative_slope=0.15)\n",
      "    (4): Linear(in_features=640, out_features=512, bias=True)\n",
      "    (5): LeakyReLU(negative_slope=0.15)\n",
      "    (6): Linear(in_features=512, out_features=640, bias=True)\n",
      "    (7): LeakyReLU(negative_slope=0.15)\n",
      "    (8): Linear(in_features=640, out_features=640, bias=True)\n",
      "    (9): LeakyReLU(negative_slope=0.15)\n",
      "    (10): Linear(in_features=640, out_features=128, bias=True)\n",
      "    (11): LeakyReLU(negative_slope=0.15)\n",
      "  )\n",
      "  (relu): ReLU()\n",
      ")\n"
     ]
    }
   ],
   "source": [
    "print(model)"
   ]
  },
  {
   "cell_type": "code",
   "execution_count": 8,
   "id": "0cefc69c-86ba-43cb-a743-ca66e662a2ad",
   "metadata": {
    "execution": {
     "iopub.execute_input": "2024-03-30T19:49:23.151257Z",
     "iopub.status.busy": "2024-03-30T19:49:23.151068Z",
     "iopub.status.idle": "2024-03-30T20:14:58.211350Z",
     "shell.execute_reply": "2024-03-30T20:14:58.210984Z",
     "shell.execute_reply.started": "2024-03-30T19:49:23.151246Z"
    }
   },
   "outputs": [
    {
     "name": "stdout",
     "output_type": "stream",
     "text": [
      "Epoch: 0 | Train loss: 0.00799 | Test loss: 0.00712\n",
      "Epoch: 1 | Train loss: 0.00527 | Test loss: 0.00385\n",
      "Epoch: 2 | Train loss: 0.00379 | Test loss: 0.00378\n",
      "Epoch: 3 | Train loss: 0.00372 | Test loss: 0.00373\n",
      "Epoch: 4 | Train loss: 0.00367 | Test loss: 0.00371\n",
      "Epoch: 5 | Train loss: 0.00364 | Test loss: 0.00363\n",
      "Epoch: 6 | Train loss: 0.00361 | Test loss: 0.00363\n",
      "Epoch: 7 | Train loss: 0.00358 | Test loss: 0.00364\n",
      "Epoch: 8 | Train loss: 0.00356 | Test loss: 0.00359\n",
      "Epoch: 9 | Train loss: 0.00355 | Test loss: 0.00358\n"
     ]
    }
   ],
   "source": [
    "torch.manual_seed(42)\n",
    "epochs = 10\n",
    "train_loss_list = []\n",
    "test_loss_list = []\n",
    "\n",
    "for epoch in range(epochs):\n",
    "    train_loss = 0\n",
    "    for batch, (X, y) in enumerate(train_dataloader):\n",
    "        model.train()\n",
    "        y_pred = model(X.to(device))\n",
    "        loss = loss_fn(y_pred, y.to(device))\n",
    "        train_loss += loss # accumulatively add up the loss per epoch \n",
    "        optimizer.zero_grad()\n",
    "        loss.backward()\n",
    "        optimizer.step()\n",
    "\n",
    "    # Divide total train loss by length of train dataloader (average loss per batch per epoch)\n",
    "    train_loss /= len(train_dataloader)\n",
    "    train_loss_list.append(train_loss.detach().cpu().numpy())\n",
    "    \n",
    "    with torch.inference_mode():\n",
    "        test_loss = 0\n",
    "        model.eval()\n",
    "        for X, y in test_dataloader:\n",
    "            test_pred = model(X.to(device))\n",
    "            test_loss += loss_fn(test_pred, y.to(device)) # accumulatively add up the loss per epoch\n",
    "        \n",
    "        # Divide total test loss by length of test dataloader (per batch)\n",
    "        test_loss /= len(test_dataloader)\n",
    "        test_loss_list.append(test_loss.detach().cpu().numpy())\n",
    "\n",
    "    print(f\"Epoch: {epoch} | Train loss: {train_loss:.5f} | Test loss: {test_loss:.5f}\")"
   ]
  },
  {
   "cell_type": "code",
   "execution_count": 9,
   "id": "0ecbce26-bb20-4560-a244-38e3ddd3e835",
   "metadata": {
    "execution": {
     "iopub.execute_input": "2024-03-30T20:14:58.212065Z",
     "iopub.status.busy": "2024-03-30T20:14:58.211902Z",
     "iopub.status.idle": "2024-03-30T20:16:16.587588Z",
     "shell.execute_reply": "2024-03-30T20:16:16.587167Z",
     "shell.execute_reply.started": "2024-03-30T20:14:58.212054Z"
    }
   },
   "outputs": [],
   "source": [
    "# combine batches\n",
    "test_pred = []\n",
    "with torch.inference_mode():\n",
    "    test_loss = 0\n",
    "    model.eval()\n",
    "    for X, y in test_dataloader:\n",
    "        test_pred_batch = model(X.to(device))\n",
    "        test_pred.append(test_pred_batch)\n",
    "\n",
    "test_pred = torch.cat(tuple(test_pred), dim=0)\n",
    "# to cpu\n",
    "test_pred = test_pred.detach().cpu().numpy()"
   ]
  },
  {
   "cell_type": "code",
   "execution_count": 10,
   "id": "ba0b5fc9-a086-45fb-9b64-d48784ac4c3f",
   "metadata": {
    "execution": {
     "iopub.execute_input": "2024-03-30T20:16:16.588350Z",
     "iopub.status.busy": "2024-03-30T20:16:16.588184Z",
     "iopub.status.idle": "2024-03-30T20:16:16.751455Z",
     "shell.execute_reply": "2024-03-30T20:16:16.751126Z",
     "shell.execute_reply.started": "2024-03-30T20:16:16.588338Z"
    }
   },
   "outputs": [
    {
     "data": {
      "text/plain": [
       "[<matplotlib.lines.Line2D at 0x2b371d2f5d90>]"
      ]
     },
     "execution_count": 10,
     "metadata": {},
     "output_type": "execute_result"
    },
    {
     "data": {
      "image/png": "[encoded data removed]",
      "text/plain": [
       "<Figure size 640x480 with 1 Axes>"
      ]
     },
     "metadata": {},
     "output_type": "display_data"
    }
   ],
   "source": [
    "# plot the first sample. Delete this if not necessary.\n",
    "plt.plot(test_pred[0,:])\n",
    "plt.plot(y_test[0,:])"
   ]
  },
  {
   "cell_type": "code",
   "execution_count": 11,
   "id": "13906849-679d-4992-b140-e7c509101a0c",
   "metadata": {
    "execution": {
     "iopub.execute_input": "2024-03-30T20:16:16.752128Z",
     "iopub.status.busy": "2024-03-30T20:16:16.751921Z",
     "iopub.status.idle": "2024-03-30T20:16:16.754340Z",
     "shell.execute_reply": "2024-03-30T20:16:16.754072Z",
     "shell.execute_reply.started": "2024-03-30T20:16:16.752117Z"
    }
   },
   "outputs": [
    {
     "name": "stdout",
     "output_type": "stream",
     "text": [
      "Number of parameters: 1736960\n"
     ]
    }
   ],
   "source": [
    "total_params = sum(p.numel() for p in model.parameters())\n",
    "print(f\"Number of parameters: {total_params}\")"
   ]
  },
  {
   "cell_type": "markdown",
   "id": "0b1e2e23-d7be-4ff5-be7e-6ee197331217",
   "metadata": {
    "execution": {
     "iopub.execute_input": "2024-03-19T21:25:50.171308Z",
     "iopub.status.busy": "2024-03-19T21:25:50.170921Z",
     "iopub.status.idle": "2024-03-19T21:25:50.173338Z",
     "shell.execute_reply": "2024-03-19T21:25:50.173066Z",
     "shell.execute_reply.started": "2024-03-19T21:25:50.171293Z"
    }
   },
   "source": [
    "# Post-processing (metric files)"
   ]
  },
  {
   "cell_type": "code",
   "execution_count": 12,
   "id": "af804081-58e5-4535-8f84-760109d93843",
   "metadata": {
    "execution": {
     "iopub.execute_input": "2024-03-30T20:16:16.754778Z",
     "iopub.status.busy": "2024-03-30T20:16:16.754675Z",
     "iopub.status.idle": "2024-03-30T20:16:16.832199Z",
     "shell.execute_reply": "2024-03-30T20:16:16.831936Z",
     "shell.execute_reply.started": "2024-03-30T20:16:16.754769Z"
    }
   },
   "outputs": [],
   "source": [
    "# model name\n",
    "# (model name is used for the output)\n",
    "model_name = 'MLP'\n",
    "# input of validation dataset (npy)\n",
    "fn_x_true = '/work/sds-lab/Shuochen/climsim/val_input.npy'\n",
    "# true output of validation dataset (npy)\n",
    "fn_y_true = '/work/sds-lab/Shuochen/climsim/val_target.npy'\n",
    "# Model predicted output of varlidation dataset (npy)\n",
    "fn_y_pred = test_pred\n",
    "# model grid information (nc)\n",
    "fn_grid = '/work/sds-lab/Shuochen/climsim/normalizations_git/ClimSim_low-res_grid-info.nc'\n",
    "\n",
    "# normalization and scale factors (nc), fn_mli files are not necessary\n",
    "fn_mli_mean  = '/work/sds-lab/Shuochen/climsim/normalizations_git/inputs/input_mean.nc'\n",
    "fn_mli_min   = '/work/sds-lab/Shuochen/climsim/normalizations_git/inputs/input_min.nc'\n",
    "fn_mli_max   = '/work/sds-lab/Shuochen/climsim/normalizations_git/inputs/input_max.nc'\n",
    "fn_mlo_scale = '/work/sds-lab/Shuochen/climsim/normalizations_git/outputs/output_scale.nc'\n"
   ]
  },
  {
   "cell_type": "code",
   "execution_count": 13,
   "id": "fba67d92-542b-422d-8a89-549ce17086e8",
   "metadata": {
    "execution": {
     "iopub.execute_input": "2024-03-30T20:16:16.832745Z",
     "iopub.status.busy": "2024-03-30T20:16:16.832567Z",
     "iopub.status.idle": "2024-03-30T20:16:16.918393Z",
     "shell.execute_reply": "2024-03-30T20:16:16.918126Z",
     "shell.execute_reply.started": "2024-03-30T20:16:16.832736Z"
    }
   },
   "outputs": [],
   "source": [
    "# physical constatns from (E3SM_ROOT/share/util/shr_const_mod.F90)\n",
    "grav    = 9.80616    # acceleration of gravity ~ m/s^2\n",
    "cp      = 1.00464e3  # specific heat of dry air   ~ J/kg/K\n",
    "lv      = 2.501e6    # latent heat of evaporation ~ J/kg\n",
    "lf      = 3.337e5    # latent heat of fusion      ~ J/kg\n",
    "ls      = lv + lf    # latent heat of sublimation ~ J/kg\n",
    "rho_air = 101325./ (6.02214e26*1.38065e-23/28.966) / 273.15 # density of dry air at STP  ~ kg/m^3\n",
    "                                                            # ~ 1.2923182846924677\n",
    "                                                            # SHR_CONST_PSTD/(SHR_CONST_RDAIR*SHR_CONST_TKFRZ)\n",
    "                                                            # SHR_CONST_RDAIR   = SHR_CONST_RGAS/SHR_CONST_MWDAIR\n",
    "                                                            # SHR_CONST_RGAS    = SHR_CONST_AVOGAD*SHR_CONST_BOLTZ\n",
    "rho_h20 = 1.e3       # density of fresh water     ~ kg/m^ 3\n",
    "\n",
    "vars_mlo_energy_conv = {'ptend_t':cp,\n",
    "                        'ptend_q0001':lv,\n",
    "                        'cam_out_NETSW':1.,\n",
    "                        'cam_out_FLWDS':1.,\n",
    "                        'cam_out_PRECSC':lv*rho_h20,\n",
    "                        'cam_out_PRECC':lv*rho_h20,\n",
    "                        'cam_out_SOLS':1.,\n",
    "                        'cam_out_SOLL':1.,\n",
    "                        'cam_out_SOLSD':1.,\n",
    "                        'cam_out_SOLLD':1.\n",
    "                       }\n",
    "vars_longname=\\\n",
    "{'ptend_t':'Heating tendency, ∂T/∂t',\n",
    " 'ptend_q0001':'Moistening tendency, ∂q/∂t',\n",
    " 'cam_out_NETSW':'Net surface shortwave flux, NETSW',\n",
    " 'cam_out_FLWDS':'Downward surface longwave flux, FLWDS',\n",
    " 'cam_out_PRECSC':'Snow rate, PRECSC',\n",
    " 'cam_out_PRECC':'Rain rate, PRECC',\n",
    " 'cam_out_SOLS':'Visible direct solar flux, SOLS',\n",
    " 'cam_out_SOLL':'Near-IR direct solar flux, SOLL',\n",
    " 'cam_out_SOLSD':'Visible diffused solar flux, SOLSD',\n",
    " 'cam_out_SOLLD':'Near-IR diffused solar flux, SOLLD'}"
   ]
  },
  {
   "cell_type": "code",
   "execution_count": 14,
   "id": "29b24b3c-649d-452e-8c70-0b115b9ba74e",
   "metadata": {
    "execution": {
     "iopub.execute_input": "2024-03-30T20:16:16.919003Z",
     "iopub.status.busy": "2024-03-30T20:16:16.918762Z",
     "iopub.status.idle": "2024-03-30T20:16:17.862553Z",
     "shell.execute_reply": "2024-03-30T20:16:17.862136Z",
     "shell.execute_reply.started": "2024-03-30T20:16:16.918994Z"
    }
   },
   "outputs": [],
   "source": [
    "# set dimemsion names for xarray datasets\n",
    "dim_name_level  = 'lev'\n",
    "dim_name_sample = 'sample'\n",
    "\n",
    "# load input dataset\n",
    "x_true = np.load(fn_x_true)\n",
    "y_true = np.load(fn_y_true)\n",
    "y_pred = fn_y_pred\n",
    "N_samples = y_pred.shape[0]\n",
    "\n",
    "# load norm/scale factors\n",
    "mlo_scale = xr.open_dataset(fn_mlo_scale)\n",
    "mli_mean  = xr.open_dataset(fn_mli_mean)\n",
    "mli_min   = xr.open_dataset(fn_mli_min)\n",
    "mli_max   = xr.open_dataset(fn_mli_max)"
   ]
  },
  {
   "cell_type": "code",
   "execution_count": 15,
   "id": "45c3f5bc-fe2f-4c49-9824-37d9946a1424",
   "metadata": {
    "execution": {
     "iopub.execute_input": "2024-03-30T20:16:17.863434Z",
     "iopub.status.busy": "2024-03-30T20:16:17.863238Z",
     "iopub.status.idle": "2024-03-30T20:16:17.894589Z",
     "shell.execute_reply": "2024-03-30T20:16:17.894283Z",
     "shell.execute_reply.started": "2024-03-30T20:16:17.863420Z"
    }
   },
   "outputs": [],
   "source": [
    "# load grid information\n",
    "ds_grid = xr.open_dataset(fn_grid) # has ncol:384\n",
    "N_ncol = len(ds_grid['ncol']) # length of ncol dimension (nlat * nlon)\n",
    "\n",
    "# make area-weights\n",
    "ds_grid['area_wgt'] = ds_grid['area'] / ds_grid['area'].mean('ncol')\n",
    "\n",
    "# map ds_grid's ncol dimension -> the N_samples dimension of npy-loayd arrays (e.g., y_pred)\n",
    "to_xarray = {'area_wgt': (dim_name_sample,np.tile(ds_grid['area_wgt'], int(N_samples/len(ds_grid['ncol'])))),\n",
    "            }\n",
    "to_xarray = xr.Dataset(to_xarray)\n",
    "\n",
    "# add nsample-mapped grid variables back to ds_grid\n",
    "ds_grid = xr.merge([ds_grid  [['P0', 'hyai', 'hyam','hybi','hybm','lat','lon','area']],\n",
    "                    to_xarray[['area_wgt']]])"
   ]
  },
  {
   "cell_type": "code",
   "execution_count": 16,
   "id": "caa56ca4-fecb-4cea-8dad-04c002e9e970",
   "metadata": {
    "execution": {
     "iopub.execute_input": "2024-03-30T20:16:17.895314Z",
     "iopub.status.busy": "2024-03-30T20:16:17.895097Z",
     "iopub.status.idle": "2024-03-30T20:16:17.951774Z",
     "shell.execute_reply": "2024-03-30T20:16:17.951498Z",
     "shell.execute_reply.started": "2024-03-30T20:16:17.895302Z"
    }
   },
   "outputs": [],
   "source": [
    "# list of ML output variables\n",
    "vars_mlo = ['ptend_t','ptend_q0001','cam_out_NETSW','cam_out_FLWDS','cam_out_PRECSC',\n",
    "            'cam_out_PRECC','cam_out_SOLS','cam_out_SOLL','cam_out_SOLSD','cam_out_SOLLD'] # mlo mean ML output.\n",
    "\n",
    "# length of each variable\n",
    "# (make sure that the order of variables are correct)\n",
    "vars_mlo_len = {'ptend_t':60,\n",
    "                'ptend_q0001':60,\n",
    "                'cam_out_NETSW':1,\n",
    "                'cam_out_FLWDS':1,\n",
    "                'cam_out_PRECSC':1,\n",
    "                'cam_out_PRECC':1,\n",
    "                'cam_out_SOLS':1,\n",
    "                'cam_out_SOLL':1,\n",
    "                'cam_out_SOLSD':1,\n",
    "                'cam_out_SOLLD':1\n",
    "               }\n",
    "\n",
    "# map the length of dimension to the name of dimension\n",
    "len_to_dim = {60:dim_name_level,\n",
    "              N_samples: dim_name_sample}"
   ]
  },
  {
   "cell_type": "code",
   "execution_count": 17,
   "id": "027883b3-9b7e-4670-aa2a-adc1c47dc0f5",
   "metadata": {
    "execution": {
     "iopub.execute_input": "2024-03-30T20:16:17.952394Z",
     "iopub.status.busy": "2024-03-30T20:16:17.952144Z",
     "iopub.status.idle": "2024-03-30T20:16:25.123226Z",
     "shell.execute_reply": "2024-03-30T20:16:25.122247Z",
     "shell.execute_reply.started": "2024-03-30T20:16:17.952385Z"
    }
   },
   "outputs": [],
   "source": [
    "# Here, we first construct a dictionary of {var name: (dimension name, array-like)},\n",
    "# then, map the dictionary to an Xarray Dataset.\n",
    "# (ref: https://docs.xarray.dev/en/stable/generated/xarray.Dataset.html)\n",
    "\n",
    "DS = {}\n",
    "\n",
    "for kds in ['true', 'pred']:\n",
    "    if kds=='true':\n",
    "        work = y_true\n",
    "    elif kds=='pred':\n",
    "        work = y_pred\n",
    "\n",
    "    # [1] Construct dictionary for xarray dataset\n",
    "    #     format is key for variable name /\n",
    "    #               value for a turple of (dimension names, data).\n",
    "    to_xarray = {}\n",
    "    for k, kvar in enumerate(vars_mlo):\n",
    "\n",
    "        # length of variable (ie, number of levels)\n",
    "        kvar_len = vars_mlo_len[kvar]\n",
    "\n",
    "        # set dimensions of variable\n",
    "        if kvar_len == 60:\n",
    "            kvar_dims = (dim_name_sample, dim_name_level)\n",
    "        elif kvar_len == 1:\n",
    "            kvar_dims = dim_name_sample\n",
    "\n",
    "        # set start and end indices of variable in the loaded numpy array\n",
    "        # then, add 'kvar':(kvar_dims, <np_array>) to dictionary\n",
    "        if k==0: ind1=0\n",
    "        ind2 = ind1 + kvar_len\n",
    "\n",
    "        # scaled output\n",
    "        kvar_data = np.squeeze(work[:,ind1:ind2])\n",
    "        # unscaled output\n",
    "        kvar_data = kvar_data / mlo_scale[kvar].values\n",
    "\n",
    "        to_xarray[kvar] = (kvar_dims, kvar_data)\n",
    "\n",
    "        ind1 = ind2\n",
    "\n",
    "    # [2] convert dict to xarray dataset\n",
    "    DS[kds] = xr.Dataset(to_xarray)\n",
    "\n",
    "    # [3] add surface pressure ('state_ps') from ml input\n",
    "    # normalized ps\n",
    "    state_ps =  xr.DataArray(x_true[:,120], dims=('sample'), name='state_ps')\n",
    "    # denormalized ps\n",
    "    state_ps = state_ps * (mli_max['state_ps'] - mli_min['state_ps']) + mli_mean['state_ps']\n",
    "    DS[kds]['state_ps'] = state_ps\n",
    "\n",
    "    # [4] add grid information\n",
    "    DS[kds] = xr.merge([DS[kds], ds_grid])\n",
    "\n",
    "    # [5] add pressure thickness of each level, dp\n",
    "    # FYI, in a hybrid sigma vertical coordinate system, pressure at level z is\n",
    "    # P[x,z] = hyam[z]*P0 + hybm[z]*PS[x,z],\n",
    "    # where, hyam and hybm are \n",
    "    tmp = DS[kds]['P0']*DS[kds]['hyai'] + DS[kds]['state_ps']*DS[kds]['hybi']\n",
    "    tmp = tmp.isel(ilev=slice(1,61)).values - tmp.isel(ilev=slice(0,60)).values\n",
    "    tmp = tmp.transpose()\n",
    "    DS[kds]['dp'] = xr.DataArray(tmp, dims=('sample', 'lev'))\n",
    "\n",
    "    # [6] break (sample) to (ncol,time)\n",
    "    N_timestep = int(N_samples/N_ncol)\n",
    "    dim_ncol     = np.arange(N_ncol)\n",
    "    dim_timestep = np.arange(N_timestep)\n",
    "    new_ind = pd.MultiIndex.from_product([dim_timestep, dim_ncol],\n",
    "                                         names=['time', 'ncol'])\n",
    "    DS[kds] = DS[kds].assign_coords(sample=new_ind).unstack('sample')\n",
    "\n",
    "del work, to_xarray, y_true, y_pred, x_true, state_ps, tmp"
   ]
  },
  {
   "cell_type": "code",
   "execution_count": 18,
   "id": "1f0e4477-650e-4005-9191-2c47b600190e",
   "metadata": {
    "execution": {
     "iopub.execute_input": "2024-03-30T20:16:25.124874Z",
     "iopub.status.busy": "2024-03-30T20:16:25.124638Z",
     "iopub.status.idle": "2024-03-30T20:16:34.206792Z",
     "shell.execute_reply": "2024-03-30T20:16:34.206333Z",
     "shell.execute_reply.started": "2024-03-30T20:16:25.124861Z"
    }
   },
   "outputs": [],
   "source": [
    "# [1] Weight vertical levels by dp/g that is equivalent to a mass of air within a grid cell per unit area [kg/m2]\n",
    "# [2] Weight horizontal area of each grid cell by a[x]/mean(a[x]).\n",
    "# [3] Unit conversion to a common energy unit\n",
    "\n",
    "DS_ENERGY = {}\n",
    "for kds in ['true','pred']:\n",
    "    # Make a copy to keep original dataset\n",
    "    DS_ENERGY[kds] = DS[kds].copy(deep=True)\n",
    "\n",
    "    # vertical weighting / area weighting / unit conversion\n",
    "    for kvar in vars_mlo:\n",
    "\n",
    "        # [1] weight vertical levels by dp/g\n",
    "        #     ONLY for vertically-resolved variables, e.g., ptend_{t,q0001}\n",
    "        # dp/g = - \\rho * dz\n",
    "        if vars_mlo_len[kvar] == 60:\n",
    "            DS_ENERGY[kds][kvar] = DS_ENERGY[kds][kvar] * DS_ENERGY[kds]['dp']/grav\n",
    "\n",
    "        # [2] weight area\n",
    "        #     for ALL variables\n",
    "        DS_ENERGY[kds][kvar] = DS_ENERGY[kds]['area_wgt'] * DS_ENERGY[kds][kvar]\n",
    "\n",
    "        # [3] convert units to W/m2\n",
    "        #     for variables with different units, e.g., ptend_{t,q0001}, precsc, precc\n",
    "        DS_ENERGY[kds][kvar] =  vars_mlo_energy_conv[kvar] * DS_ENERGY[kds][kvar]"
   ]
  },
  {
   "cell_type": "code",
   "execution_count": 19,
   "id": "5ee05bea-91f8-409b-871f-2afc49f0f16a",
   "metadata": {
    "execution": {
     "iopub.execute_input": "2024-03-30T20:16:34.207613Z",
     "iopub.status.busy": "2024-03-30T20:16:34.207443Z",
     "iopub.status.idle": "2024-03-30T20:16:49.630670Z",
     "shell.execute_reply": "2024-03-30T20:16:49.630204Z",
     "shell.execute_reply.started": "2024-03-30T20:16:34.207602Z"
    }
   },
   "outputs": [],
   "source": [
    "all_metrics = ['MAE','RMSE','R2']\n",
    "\n",
    "# A. Calculate metrics\n",
    "# After this step,\n",
    "# ptend_{t,q0001} have [ncol, lev] dimension;\n",
    "# and the rest variables have [ncol] dimension.\n",
    "\n",
    "# if spatial analysis is desired (e.g., R2 distribution on global map or on latitude-level plane),\n",
    "# the metrics at this step should be used.\n",
    "\n",
    "\n",
    "# Select only ML output varibles\n",
    "DS_ENERGY[kds] = DS_ENERGY[kds][vars_mlo]\n",
    "\n",
    "# Caclulate 3 metrics\n",
    "Metrics = {}\n",
    "Metrics['MAE']  = (np.abs(DS_ENERGY['true']   - DS_ENERGY['pred'])).mean('time')\n",
    "Metrics['RMSE'] = np.sqrt(((DS_ENERGY['true'] - DS_ENERGY['pred'])**2.).mean('time'))\n",
    "Metrics['R2'] = 1 - ((DS_ENERGY['true'] - DS_ENERGY['pred']                    )**2.).sum('time')/\\\n",
    "                    ((DS_ENERGY['true'] - DS_ENERGY['true'].mean('time'))**2.).sum('time')\n",
    "\n",
    "# Save grid-wise metric files in netcdf format\n",
    "if True:\n",
    "    for kmetric in ['MAE', 'RMSE', 'R2']:\n",
    "        fn_save = f'./metrics_netcdf/{model_name}_{kmetric}.nc'\n",
    "        Metrics[kmetric].to_netcdf(fn_save)"
   ]
  },
  {
   "cell_type": "code",
   "execution_count": 20,
   "id": "7bcb650a-28ca-4f88-89de-0d7f64382a30",
   "metadata": {
    "execution": {
     "iopub.execute_input": "2024-03-30T20:16:49.631574Z",
     "iopub.status.busy": "2024-03-30T20:16:49.631392Z",
     "iopub.status.idle": "2024-03-30T20:16:49.636614Z",
     "shell.execute_reply": "2024-03-30T20:16:49.636336Z",
     "shell.execute_reply.started": "2024-03-30T20:16:49.631563Z"
    }
   },
   "outputs": [],
   "source": [
    "# B. Make horizontal mean.\n",
    "# After this step,\n",
    "# ptend_{t,q0001} have [lev] dimension;\n",
    "# and the rest variables have zero dimensions, i.e., scalars.\n",
    "\n",
    "for kmetric in all_metrics:\n",
    "    Metrics[kmetric] = Metrics[kmetric].mean('ncol') # simple mean"
   ]
  },
  {
   "cell_type": "code",
   "execution_count": 21,
   "id": "9d14b6ef-73f0-43ab-a29d-8526607a5a93",
   "metadata": {
    "execution": {
     "iopub.execute_input": "2024-03-30T20:16:49.637254Z",
     "iopub.status.busy": "2024-03-30T20:16:49.637041Z",
     "iopub.status.idle": "2024-03-30T20:16:49.771046Z",
     "shell.execute_reply": "2024-03-30T20:16:49.770743Z",
     "shell.execute_reply.started": "2024-03-30T20:16:49.637244Z"
    }
   },
   "outputs": [
    {
     "data": {
      "text/html": [
       "<div>\n",
       "<style scoped>\n",
       "    .dataframe tbody tr th:only-of-type {\n",
       "        vertical-align: middle;\n",
       "    }\n",
       "\n",
       "    .dataframe tbody tr th {\n",
       "        vertical-align: top;\n",
       "    }\n",
       "\n",
       "    .dataframe thead th {\n",
       "        text-align: right;\n",
       "    }\n",
       "</style>\n",
       "<table border=\"1\" class=\"dataframe\">\n",
       "  <thead>\n",
       "    <tr style=\"text-align: right;\">\n",
       "      <th></th>\n",
       "      <th>MAE</th>\n",
       "      <th>RMSE</th>\n",
       "      <th>R2</th>\n",
       "    </tr>\n",
       "    <tr>\n",
       "      <th>output_idx</th>\n",
       "      <th></th>\n",
       "      <th></th>\n",
       "      <th></th>\n",
       "    </tr>\n",
       "  </thead>\n",
       "  <tbody>\n",
       "    <tr>\n",
       "      <th>0</th>\n",
       "      <td>0.002771</td>\n",
       "      <td>0.005657</td>\n",
       "      <td>0.878984</td>\n",
       "    </tr>\n",
       "    <tr>\n",
       "      <th>1</th>\n",
       "      <td>0.006397</td>\n",
       "      <td>0.011964</td>\n",
       "      <td>0.906354</td>\n",
       "    </tr>\n",
       "    <tr>\n",
       "      <th>2</th>\n",
       "      <td>0.009640</td>\n",
       "      <td>0.015903</td>\n",
       "      <td>0.955291</td>\n",
       "    </tr>\n",
       "    <tr>\n",
       "      <th>3</th>\n",
       "      <td>0.016991</td>\n",
       "      <td>0.024203</td>\n",
       "      <td>0.977724</td>\n",
       "    </tr>\n",
       "    <tr>\n",
       "      <th>4</th>\n",
       "      <td>0.028676</td>\n",
       "      <td>0.037604</td>\n",
       "      <td>0.989999</td>\n",
       "    </tr>\n",
       "    <tr>\n",
       "      <th>...</th>\n",
       "      <td>...</td>\n",
       "      <td>...</td>\n",
       "      <td>...</td>\n",
       "    </tr>\n",
       "    <tr>\n",
       "      <th>123</th>\n",
       "      <td>36.337995</td>\n",
       "      <td>76.482245</td>\n",
       "      <td>-227.360068</td>\n",
       "    </tr>\n",
       "    <tr>\n",
       "      <th>124</th>\n",
       "      <td>8.715317</td>\n",
       "      <td>18.774777</td>\n",
       "      <td>0.953144</td>\n",
       "    </tr>\n",
       "    <tr>\n",
       "      <th>125</th>\n",
       "      <td>11.077572</td>\n",
       "      <td>23.318361</td>\n",
       "      <td>0.939096</td>\n",
       "    </tr>\n",
       "    <tr>\n",
       "      <th>126</th>\n",
       "      <td>5.001318</td>\n",
       "      <td>10.153138</td>\n",
       "      <td>0.948937</td>\n",
       "    </tr>\n",
       "    <tr>\n",
       "      <th>127</th>\n",
       "      <td>5.172092</td>\n",
       "      <td>10.669295</td>\n",
       "      <td>0.853796</td>\n",
       "    </tr>\n",
       "  </tbody>\n",
       "</table>\n",
       "<p>128 rows × 3 columns</p>\n",
       "</div>"
      ],
      "text/plain": [
       "                  MAE       RMSE          R2\n",
       "output_idx                                  \n",
       "0            0.002771   0.005657    0.878984\n",
       "1            0.006397   0.011964    0.906354\n",
       "2            0.009640   0.015903    0.955291\n",
       "3            0.016991   0.024203    0.977724\n",
       "4            0.028676   0.037604    0.989999\n",
       "...               ...        ...         ...\n",
       "123         36.337995  76.482245 -227.360068\n",
       "124          8.715317  18.774777    0.953144\n",
       "125         11.077572  23.318361    0.939096\n",
       "126          5.001318  10.153138    0.948937\n",
       "127          5.172092  10.669295    0.853796\n",
       "\n",
       "[128 rows x 3 columns]"
      ]
     },
     "execution_count": 21,
     "metadata": {},
     "output_type": "execute_result"
    }
   ],
   "source": [
    "# C-1. Save the result after B.\n",
    "# to save in a table format as a csv file, the level dimensions are flattened.\n",
    "\n",
    "Metrics_stacked = {}\n",
    "for kmetric in all_metrics:\n",
    "    Metrics_stacked[kmetric] = Metrics[kmetric].to_stacked_array('ml_out_idx', sample_dims='', name=kmetric)\n",
    "\n",
    "\n",
    "# save the output\n",
    "work = pd.DataFrame({'MAE':  Metrics_stacked['MAE'].values,\n",
    "                     'RMSE': Metrics_stacked['RMSE'].values,\n",
    "                     'R2':   Metrics_stacked['R2'].values}\n",
    "                    )\n",
    "work.index.name = 'output_idx'\n",
    "\n",
    "# save to the metrics folder\n",
    "fn_save_metrics = f'./metrics/{model_name}.metrics.csv'\n",
    "work.to_csv(fn_save_metrics)\n",
    "work"
   ]
  },
  {
   "cell_type": "code",
   "execution_count": 22,
   "id": "b42bef26-05ea-4673-a4f7-aa84035dbec6",
   "metadata": {
    "execution": {
     "iopub.execute_input": "2024-03-30T20:16:49.771642Z",
     "iopub.status.busy": "2024-03-30T20:16:49.771451Z",
     "iopub.status.idle": "2024-03-30T20:16:49.881836Z",
     "shell.execute_reply": "2024-03-30T20:16:49.881573Z",
     "shell.execute_reply.started": "2024-03-30T20:16:49.771634Z"
    }
   },
   "outputs": [
    {
     "data": {
      "text/plain": [
       "<Axes: xlabel='output_idx'>"
      ]
     },
     "execution_count": 22,
     "metadata": {},
     "output_type": "execute_result"
    },
    {
     "data": {
      "image/png": "[encoded data removed]",
      "text/plain": [
       "<Figure size 640x480 with 1 Axes>"
      ]
     },
     "metadata": {},
     "output_type": "display_data"
    }
   ],
   "source": [
    "# try to reproduce their plot 2\n",
    "work['MAE'][:60].plot()"
   ]
  },
  {
   "cell_type": "code",
   "execution_count": 23,
   "id": "31f1ada7-4a1f-40c5-86c4-6e97d54161a3",
   "metadata": {
    "execution": {
     "iopub.execute_input": "2024-03-30T20:16:49.882970Z",
     "iopub.status.busy": "2024-03-30T20:16:49.882781Z",
     "iopub.status.idle": "2024-03-30T20:16:49.901163Z",
     "shell.execute_reply": "2024-03-30T20:16:49.900905Z",
     "shell.execute_reply.started": "2024-03-30T20:16:49.882961Z"
    }
   },
   "outputs": [
    {
     "data": {
      "text/html": [
       "<div>\n",
       "<style scoped>\n",
       "    .dataframe tbody tr th:only-of-type {\n",
       "        vertical-align: middle;\n",
       "    }\n",
       "\n",
       "    .dataframe tbody tr th {\n",
       "        vertical-align: top;\n",
       "    }\n",
       "\n",
       "    .dataframe thead th {\n",
       "        text-align: right;\n",
       "    }\n",
       "</style>\n",
       "<table border=\"1\" class=\"dataframe\">\n",
       "  <thead>\n",
       "    <tr style=\"text-align: right;\">\n",
       "      <th></th>\n",
       "      <th>MAE</th>\n",
       "      <th>RMSE</th>\n",
       "      <th>R2</th>\n",
       "    </tr>\n",
       "    <tr>\n",
       "      <th>Variable</th>\n",
       "      <th></th>\n",
       "      <th></th>\n",
       "      <th></th>\n",
       "    </tr>\n",
       "  </thead>\n",
       "  <tbody>\n",
       "    <tr>\n",
       "      <th>ptend_t</th>\n",
       "      <td>2.781737</td>\n",
       "      <td>4.569944</td>\n",
       "      <td>0.564616</td>\n",
       "    </tr>\n",
       "    <tr>\n",
       "      <th>ptend_q0001</th>\n",
       "      <td>4.627142</td>\n",
       "      <td>7.493035</td>\n",
       "      <td>-inf</td>\n",
       "    </tr>\n",
       "    <tr>\n",
       "      <th>cam_out_NETSW</th>\n",
       "      <td>15.236686</td>\n",
       "      <td>29.730560</td>\n",
       "      <td>0.976438</td>\n",
       "    </tr>\n",
       "    <tr>\n",
       "      <th>cam_out_FLWDS</th>\n",
       "      <td>5.739177</td>\n",
       "      <td>7.530553</td>\n",
       "      <td>0.908773</td>\n",
       "    </tr>\n",
       "    <tr>\n",
       "      <th>cam_out_PRECSC</th>\n",
       "      <td>3.034113</td>\n",
       "      <td>5.440673</td>\n",
       "      <td>-inf</td>\n",
       "    </tr>\n",
       "    <tr>\n",
       "      <th>cam_out_PRECC</th>\n",
       "      <td>36.337995</td>\n",
       "      <td>76.482245</td>\n",
       "      <td>-227.360068</td>\n",
       "    </tr>\n",
       "    <tr>\n",
       "      <th>cam_out_SOLS</th>\n",
       "      <td>8.715317</td>\n",
       "      <td>18.774777</td>\n",
       "      <td>0.953144</td>\n",
       "    </tr>\n",
       "    <tr>\n",
       "      <th>cam_out_SOLL</th>\n",
       "      <td>11.077572</td>\n",
       "      <td>23.318361</td>\n",
       "      <td>0.939096</td>\n",
       "    </tr>\n",
       "    <tr>\n",
       "      <th>cam_out_SOLSD</th>\n",
       "      <td>5.001318</td>\n",
       "      <td>10.153138</td>\n",
       "      <td>0.948937</td>\n",
       "    </tr>\n",
       "    <tr>\n",
       "      <th>cam_out_SOLLD</th>\n",
       "      <td>5.172092</td>\n",
       "      <td>10.669295</td>\n",
       "      <td>0.853796</td>\n",
       "    </tr>\n",
       "  </tbody>\n",
       "</table>\n",
       "</div>"
      ],
      "text/plain": [
       "                      MAE       RMSE          R2\n",
       "Variable                                        \n",
       "ptend_t          2.781737   4.569944    0.564616\n",
       "ptend_q0001      4.627142   7.493035        -inf\n",
       "cam_out_NETSW   15.236686  29.730560    0.976438\n",
       "cam_out_FLWDS    5.739177   7.530553    0.908773\n",
       "cam_out_PRECSC   3.034113   5.440673        -inf\n",
       "cam_out_PRECC   36.337995  76.482245 -227.360068\n",
       "cam_out_SOLS     8.715317  18.774777    0.953144\n",
       "cam_out_SOLL    11.077572  23.318361    0.939096\n",
       "cam_out_SOLSD    5.001318  10.153138    0.948937\n",
       "cam_out_SOLLD    5.172092  10.669295    0.853796"
      ]
     },
     "execution_count": 23,
     "metadata": {},
     "output_type": "execute_result"
    }
   ],
   "source": [
    "# C-2. Save the result after vertical averaging.\n",
    "# After this step,\n",
    "# ptend_{t,q0001} also have zero dimensions, i.e., scalars;\n",
    "\n",
    "# Then, the results are saved to a csv file.\n",
    "# This csv file will be used for generating plots.\n",
    "\n",
    "Metrics_vert_avg = {}\n",
    "for kmetric in all_metrics:\n",
    "    Metrics_vert_avg[kmetric] = Metrics[kmetric].mean('lev')\n",
    "    Metrics_vert_avg[kmetric] = Metrics_vert_avg[kmetric].mean('ilev') # remove dummy dim\n",
    "\n",
    "# save the output\n",
    "work = pd.DataFrame({'MAE':  Metrics_vert_avg['MAE'].to_pandas(),\n",
    "                     'RMSE': Metrics_vert_avg['RMSE'].to_pandas(),\n",
    "                     'R2':   Metrics_vert_avg['R2'].to_pandas()}\n",
    "                    )\n",
    "work.index.name = 'Variable'\n",
    "\n",
    "# save to the metrics folder\n",
    "fn_save_metrics_avg = f'./metrics/{model_name}.metrics.lev-avg.csv'\n",
    "work.to_csv(fn_save_metrics_avg)\n",
    "work"
   ]
  },
  {
   "cell_type": "code",
   "execution_count": null,
   "id": "0a6a31b4-7542-44f3-84cc-3d09e8442394",
   "metadata": {},
   "outputs": [],
   "source": []
  }
 ],
 "metadata": {
  "kernelspec": {
   "display_name": "Python 3 (ipykernel)",
   "language": "python",
   "name": "python3"
  },
  "language_info": {
   "codemirror_mode": {
    "name": "ipython",
    "version": 3
   },
   "file_extension": ".py",
   "mimetype": "text/x-python",
   "name": "python",
   "nbconvert_exporter": "python",
   "pygments_lexer": "ipython3",
   "version": "3.11.8"
  }
 },
 "nbformat": 4,
 "nbformat_minor": 5
}
