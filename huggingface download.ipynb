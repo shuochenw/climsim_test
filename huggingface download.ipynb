{
 "cells": [
  {
   "cell_type": "code",
   "execution_count": 3,
   "id": "15274d7a-3cf0-4859-a9b7-9178ed5f19d2",
   "metadata": {
    "execution": {
     "iopub.execute_input": "2024-02-29T18:10:38.678943Z",
     "iopub.status.busy": "2024-02-29T18:10:38.678709Z",
     "iopub.status.idle": "2024-02-29T18:10:38.681281Z",
     "shell.execute_reply": "2024-02-29T18:10:38.680990Z",
     "shell.execute_reply.started": "2024-02-29T18:10:38.678928Z"
    }
   },
   "outputs": [],
   "source": [
    "# download data from huggingface\n",
    "from huggingface_hub import hf_hub_download\n",
    "from huggingface_hub import snapshot_download\n",
    "from huggingface_hub import hf_hub_url"
   ]
  },
  {
   "cell_type": "code",
   "execution_count": null,
   "id": "fd29418e-31cd-47f9-af07-5327f8acafc8",
   "metadata": {},
   "outputs": [],
   "source": [
    "snapshot_download(repo_id=\"LEAP/ClimSim_low-res\",\n",
    "                  repo_type=\"dataset\",\n",
    "                  local_dir='/work/sds-lab/Shuochen/climsim/',\n",
    "                  allow_patterns='train/0008-0[2-9]/*.nc',\n",
    "                  local_dir_use_symlinks=False)"
   ]
  },
  {
   "cell_type": "code",
   "execution_count": 8,
   "id": "d09e5f7a-adc3-4ca8-9c85-840845dd40a1",
   "metadata": {
    "execution": {
     "iopub.execute_input": "2024-02-29T18:23:56.969649Z",
     "iopub.status.busy": "2024-02-29T18:23:56.969419Z",
     "iopub.status.idle": "2024-02-29T18:25:41.872961Z",
     "shell.execute_reply": "2024-02-29T18:25:41.872445Z",
     "shell.execute_reply.started": "2024-02-29T18:23:56.969633Z"
    }
   },
   "outputs": [
    {
     "name": "stderr",
     "output_type": "stream",
     "text": [
      "Fetching 1 files: 100%|██████████| 1/1 [01:44<00:00, 104.83s/it]\n"
     ]
    },
    {
     "data": {
      "text/plain": [
       "'/work/sds-lab/Shuochen/climsim'"
      ]
     },
     "execution_count": 8,
     "metadata": {},
     "output_type": "execute_result"
    }
   ],
   "source": [
    "snapshot_download(repo_id=\"LEAP/subsampled_low_res\",\n",
    "                  repo_type=\"dataset\",\n",
    "                  local_dir='/work/sds-lab/Shuochen/climsim/',\n",
    "                  allow_patterns='train_target.npy',\n",
    "                  local_dir_use_symlinks=False)"
   ]
  },
  {
   "cell_type": "code",
   "execution_count": null,
   "id": "c68ac287-5df8-459e-bdca-e46fb0cdd9c0",
   "metadata": {},
   "outputs": [],
   "source": []
  }
 ],
 "metadata": {
  "kernelspec": {
   "display_name": "Python 3 (ipykernel)",
   "language": "python",
   "name": "python3"
  },
  "language_info": {
   "codemirror_mode": {
    "name": "ipython",
    "version": 3
   },
   "file_extension": ".py",
   "mimetype": "text/x-python",
   "name": "python",
   "nbconvert_exporter": "python",
   "pygments_lexer": "ipython3",
   "version": "3.11.8"
  }
 },
 "nbformat": 4,
 "nbformat_minor": 5
}
