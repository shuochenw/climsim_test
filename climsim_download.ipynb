{
 "cells": [
  {
   "cell_type": "code",
   "execution_count": null,
   "id": "5c1f39be-a435-44ed-8d1c-d24ea7531229",
   "metadata": {},
   "outputs": [],
   "source": [
    "# download data from huggingface\n",
    "from huggingface_hub import hf_hub_download\n",
    "from huggingface_hub import snapshot_download\n",
    "from huggingface_hub import hf_hub_url\n",
    "snapshot_download(repo_id=\"LEAP/ClimSim_low-res\",\n",
    "                  repo_type=\"dataset\",\n",
    "               local_dir=\"F:/phd/L96_demo-main/notebooks/climsim_data/train\",\n",
    "                  allow_patterns='train/0009-01/*.nc',\n",
    "                 local_dir_use_symlinks=False)"
   ]
  }
 ],
 "metadata": {
  "kernelspec": {
   "display_name": "Python 3 (ipykernel)",
   "language": "python",
   "name": "python3"
  },
  "language_info": {
   "codemirror_mode": {
    "name": "ipython",
    "version": 3
   },
   "file_extension": ".py",
   "mimetype": "text/x-python",
   "name": "python",
   "nbconvert_exporter": "python",
   "pygments_lexer": "ipython3",
   "version": "3.9.18"
  }
 },
 "nbformat": 4,
 "nbformat_minor": 5
}
