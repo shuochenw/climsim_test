{
 "cells": [
  {
   "cell_type": "code",
   "execution_count": 1,
   "id": "a1f978ab-88d5-4a73-bf37-e2ea9676c50d",
   "metadata": {
    "execution": {
     "iopub.execute_input": "2024-04-06T23:54:39.167697Z",
     "iopub.status.busy": "2024-04-06T23:54:39.167385Z",
     "iopub.status.idle": "2024-04-06T23:54:42.948269Z",
     "shell.execute_reply": "2024-04-06T23:54:42.947919Z",
     "shell.execute_reply.started": "2024-04-06T23:54:39.167684Z"
    }
   },
   "outputs": [],
   "source": [
    "import xarray as xr\n",
    "import os\n",
    "import netCDF4\n",
    "import numpy as np\n",
    "import torch\n",
    "from torch import nn\n",
    "import matplotlib.pyplot as plt\n",
    "from sklearn.model_selection import train_test_split\n",
    "from sklearn.metrics import mean_absolute_error\n",
    "from torch.utils.data import random_split\n",
    "import random\n",
    "import pandas as pd\n",
    "from torch.utils.data import DataLoader, TensorDataset\n",
    "from sklearn.preprocessing import StandardScaler\n",
    "from torch.optim.lr_scheduler import ReduceLROnPlateau"
   ]
  },
  {
   "cell_type": "code",
   "execution_count": 2,
   "id": "846e4cb0-9cfb-4573-9d5b-ef74dd68e90d",
   "metadata": {
    "execution": {
     "iopub.execute_input": "2024-04-06T23:54:42.949186Z",
     "iopub.status.busy": "2024-04-06T23:54:42.948908Z",
     "iopub.status.idle": "2024-04-06T23:54:43.196003Z",
     "shell.execute_reply": "2024-04-06T23:54:43.195555Z",
     "shell.execute_reply.started": "2024-04-06T23:54:42.949175Z"
    }
   },
   "outputs": [
    {
     "name": "stdout",
     "output_type": "stream",
     "text": [
      "Using device: cuda\n",
      "NVIDIA A100-SXM4-80GB\n",
      "Memory Usage:\n",
      "Allocated: 0.0 GB\n",
      "Cached:    0.0 GB\n"
     ]
    }
   ],
   "source": [
    "# setting device on GPU if available, else CPU\n",
    "device = torch.device('cuda' if torch.cuda.is_available() else 'cpu')\n",
    "print('Using device:', device)\n",
    "#Additional Info when using cuda\n",
    "if device.type == 'cuda':\n",
    "    print(torch.cuda.get_device_name(0))\n",
    "    print('Memory Usage:')\n",
    "    print('Allocated:', round(torch.cuda.memory_allocated(0)/1024**3,1), 'GB')\n",
    "    print('Cached:   ', round(torch.cuda.memory_reserved(0)/1024**3,1), 'GB')"
   ]
  },
  {
   "cell_type": "code",
   "execution_count": 3,
   "id": "e059d84f-63c6-4460-8189-83b14b9b0259",
   "metadata": {
    "execution": {
     "iopub.execute_input": "2024-04-06T23:54:43.197447Z",
     "iopub.status.busy": "2024-04-06T23:54:43.197194Z",
     "iopub.status.idle": "2024-04-06T23:54:43.584154Z",
     "shell.execute_reply": "2024-04-06T23:54:43.583824Z",
     "shell.execute_reply.started": "2024-04-06T23:54:43.197433Z"
    }
   },
   "outputs": [],
   "source": [
    "names = ['year', 'month', 'day', 'dec_year', 'sn_value',\n",
    "         'sn_error', 'obs_num', 'unused1']\n",
    "df = pd.read_csv(\n",
    "    \"https://data.heatonresearch.com/data/t81-558/SN_d_tot_V2.0.csv\",\n",
    "    sep=';', header=None, names=names,\n",
    "    na_values=['-1'], index_col=False)"
   ]
  },
  {
   "cell_type": "code",
   "execution_count": 4,
   "id": "b450672c-42b7-42ad-b713-96f04c99df86",
   "metadata": {
    "execution": {
     "iopub.execute_input": "2024-04-06T23:54:43.584926Z",
     "iopub.status.busy": "2024-04-06T23:54:43.584801Z",
     "iopub.status.idle": "2024-04-06T23:54:43.600230Z",
     "shell.execute_reply": "2024-04-06T23:54:43.599916Z",
     "shell.execute_reply.started": "2024-04-06T23:54:43.584905Z"
    }
   },
   "outputs": [
    {
     "data": {
      "text/html": [
       "<div>\n",
       "<style scoped>\n",
       "    .dataframe tbody tr th:only-of-type {\n",
       "        vertical-align: middle;\n",
       "    }\n",
       "\n",
       "    .dataframe tbody tr th {\n",
       "        vertical-align: top;\n",
       "    }\n",
       "\n",
       "    .dataframe thead th {\n",
       "        text-align: right;\n",
       "    }\n",
       "</style>\n",
       "<table border=\"1\" class=\"dataframe\">\n",
       "  <thead>\n",
       "    <tr style=\"text-align: right;\">\n",
       "      <th></th>\n",
       "      <th>year</th>\n",
       "      <th>month</th>\n",
       "      <th>day</th>\n",
       "      <th>dec_year</th>\n",
       "      <th>sn_value</th>\n",
       "      <th>sn_error</th>\n",
       "      <th>obs_num</th>\n",
       "      <th>unused1</th>\n",
       "    </tr>\n",
       "  </thead>\n",
       "  <tbody>\n",
       "    <tr>\n",
       "      <th>0</th>\n",
       "      <td>1818</td>\n",
       "      <td>1</td>\n",
       "      <td>1</td>\n",
       "      <td>1818.001</td>\n",
       "      <td>-1</td>\n",
       "      <td>NaN</td>\n",
       "      <td>0</td>\n",
       "      <td>1</td>\n",
       "    </tr>\n",
       "    <tr>\n",
       "      <th>1</th>\n",
       "      <td>1818</td>\n",
       "      <td>1</td>\n",
       "      <td>2</td>\n",
       "      <td>1818.004</td>\n",
       "      <td>-1</td>\n",
       "      <td>NaN</td>\n",
       "      <td>0</td>\n",
       "      <td>1</td>\n",
       "    </tr>\n",
       "    <tr>\n",
       "      <th>2</th>\n",
       "      <td>1818</td>\n",
       "      <td>1</td>\n",
       "      <td>3</td>\n",
       "      <td>1818.007</td>\n",
       "      <td>-1</td>\n",
       "      <td>NaN</td>\n",
       "      <td>0</td>\n",
       "      <td>1</td>\n",
       "    </tr>\n",
       "    <tr>\n",
       "      <th>3</th>\n",
       "      <td>1818</td>\n",
       "      <td>1</td>\n",
       "      <td>4</td>\n",
       "      <td>1818.010</td>\n",
       "      <td>-1</td>\n",
       "      <td>NaN</td>\n",
       "      <td>0</td>\n",
       "      <td>1</td>\n",
       "    </tr>\n",
       "    <tr>\n",
       "      <th>4</th>\n",
       "      <td>1818</td>\n",
       "      <td>1</td>\n",
       "      <td>5</td>\n",
       "      <td>1818.012</td>\n",
       "      <td>-1</td>\n",
       "      <td>NaN</td>\n",
       "      <td>0</td>\n",
       "      <td>1</td>\n",
       "    </tr>\n",
       "    <tr>\n",
       "      <th>...</th>\n",
       "      <td>...</td>\n",
       "      <td>...</td>\n",
       "      <td>...</td>\n",
       "      <td>...</td>\n",
       "      <td>...</td>\n",
       "      <td>...</td>\n",
       "      <td>...</td>\n",
       "      <td>...</td>\n",
       "    </tr>\n",
       "    <tr>\n",
       "      <th>72860</th>\n",
       "      <td>2017</td>\n",
       "      <td>6</td>\n",
       "      <td>26</td>\n",
       "      <td>2017.484</td>\n",
       "      <td>21</td>\n",
       "      <td>1.1</td>\n",
       "      <td>25</td>\n",
       "      <td>0</td>\n",
       "    </tr>\n",
       "    <tr>\n",
       "      <th>72861</th>\n",
       "      <td>2017</td>\n",
       "      <td>6</td>\n",
       "      <td>27</td>\n",
       "      <td>2017.486</td>\n",
       "      <td>19</td>\n",
       "      <td>1.2</td>\n",
       "      <td>36</td>\n",
       "      <td>0</td>\n",
       "    </tr>\n",
       "    <tr>\n",
       "      <th>72862</th>\n",
       "      <td>2017</td>\n",
       "      <td>6</td>\n",
       "      <td>28</td>\n",
       "      <td>2017.489</td>\n",
       "      <td>17</td>\n",
       "      <td>1.1</td>\n",
       "      <td>22</td>\n",
       "      <td>0</td>\n",
       "    </tr>\n",
       "    <tr>\n",
       "      <th>72863</th>\n",
       "      <td>2017</td>\n",
       "      <td>6</td>\n",
       "      <td>29</td>\n",
       "      <td>2017.492</td>\n",
       "      <td>12</td>\n",
       "      <td>0.5</td>\n",
       "      <td>25</td>\n",
       "      <td>0</td>\n",
       "    </tr>\n",
       "    <tr>\n",
       "      <th>72864</th>\n",
       "      <td>2017</td>\n",
       "      <td>6</td>\n",
       "      <td>30</td>\n",
       "      <td>2017.495</td>\n",
       "      <td>11</td>\n",
       "      <td>0.5</td>\n",
       "      <td>30</td>\n",
       "      <td>0</td>\n",
       "    </tr>\n",
       "  </tbody>\n",
       "</table>\n",
       "<p>72865 rows × 8 columns</p>\n",
       "</div>"
      ],
      "text/plain": [
       "       year  month  day  dec_year  sn_value  sn_error  obs_num  unused1\n",
       "0      1818      1    1  1818.001        -1       NaN        0        1\n",
       "1      1818      1    2  1818.004        -1       NaN        0        1\n",
       "2      1818      1    3  1818.007        -1       NaN        0        1\n",
       "3      1818      1    4  1818.010        -1       NaN        0        1\n",
       "4      1818      1    5  1818.012        -1       NaN        0        1\n",
       "...     ...    ...  ...       ...       ...       ...      ...      ...\n",
       "72860  2017      6   26  2017.484        21       1.1       25        0\n",
       "72861  2017      6   27  2017.486        19       1.2       36        0\n",
       "72862  2017      6   28  2017.489        17       1.1       22        0\n",
       "72863  2017      6   29  2017.492        12       0.5       25        0\n",
       "72864  2017      6   30  2017.495        11       0.5       30        0\n",
       "\n",
       "[72865 rows x 8 columns]"
      ]
     },
     "execution_count": 4,
     "metadata": {},
     "output_type": "execute_result"
    }
   ],
   "source": [
    "df"
   ]
  },
  {
   "cell_type": "code",
   "execution_count": 5,
   "id": "230fee4b-1997-4aa5-8062-739ec99fc434",
   "metadata": {
    "execution": {
     "iopub.execute_input": "2024-04-06T23:54:45.629000Z",
     "iopub.status.busy": "2024-04-06T23:54:45.628777Z",
     "iopub.status.idle": "2024-04-06T23:54:45.637127Z",
     "shell.execute_reply": "2024-04-06T23:54:45.636833Z",
     "shell.execute_reply.started": "2024-04-06T23:54:45.628989Z"
    }
   },
   "outputs": [],
   "source": [
    "# Data Preprocessing\n",
    "start_id = max(df[df['obs_num'] == 0].index.tolist()) + 1\n",
    "df = df[start_id:].copy()\n",
    "df['sn_value'] = df['sn_value'].astype(float)\n",
    "df_train = df[df['year'] < 2000]\n",
    "df_test = df[df['year'] >= 2000]\n",
    "\n",
    "spots_train = df_train['sn_value'].to_numpy().reshape(-1, 1)\n",
    "spots_test = df_test['sn_value'].to_numpy().reshape(-1, 1)\n",
    "\n",
    "scaler = StandardScaler()\n",
    "spots_train = scaler.fit_transform(spots_train).flatten().tolist()\n",
    "spots_test = scaler.transform(spots_test).flatten().tolist()"
   ]
  },
  {
   "cell_type": "code",
   "execution_count": 9,
   "id": "90628fff-6bdc-430a-91ea-d17298f59ba8",
   "metadata": {
    "execution": {
     "iopub.execute_input": "2024-04-06T23:55:13.562847Z",
     "iopub.status.busy": "2024-04-06T23:55:13.562637Z",
     "iopub.status.idle": "2024-04-06T23:55:13.565300Z",
     "shell.execute_reply": "2024-04-06T23:55:13.565051Z",
     "shell.execute_reply.started": "2024-04-06T23:55:13.562834Z"
    }
   },
   "outputs": [
    {
     "data": {
      "text/plain": [
       "[3.370924724576519,\n",
       " 1.9389109571846703,\n",
       " 2.3824550444299333,\n",
       " 3.3582520363695116,\n",
       " 2.293746226980881,\n",
       " 2.509181926500008,\n",
       " 3.244197842506444,\n",
       " 3.2061797778854215,\n",
       " 1.9135655807706553,\n",
       " 2.5345273029140234,\n",
       " 2.623236120363076,\n",
       " 3.2315251542994363,\n",
       " 2.5345273029140234,\n",
       " 2.4331457972579633,\n",
       " 2.344436979808911,\n",
       " 2.243055474152851,\n",
       " 2.1416739684967907,\n",
       " 2.1923647213248207,\n",
       " 2.078310527461753,\n",
       " 1.951583645391678,\n",
       " 1.8375294515286102,\n",
       " 2.078310527461753,\n",
       " 2.3190916033948956,\n",
       " 2.559872679328038,\n",
       " 2.800653755261181]"
      ]
     },
     "execution_count": 9,
     "metadata": {},
     "output_type": "execute_result"
    }
   ],
   "source": [
    "spots_train[:25]"
   ]
  },
  {
   "cell_type": "code",
   "execution_count": 10,
   "id": "b728f855-81bf-4445-bedc-a5ed4e9b1bf4",
   "metadata": {
    "execution": {
     "iopub.execute_input": "2024-04-06T23:55:21.561037Z",
     "iopub.status.busy": "2024-04-06T23:55:21.558544Z",
     "iopub.status.idle": "2024-04-06T23:55:21.760707Z",
     "shell.execute_reply": "2024-04-06T23:55:21.760366Z",
     "shell.execute_reply.started": "2024-04-06T23:55:21.560987Z"
    }
   },
   "outputs": [],
   "source": [
    "# Sequence Data Preparation\n",
    "SEQUENCE_SIZE = 10\n",
    "\n",
    "def to_sequences(seq_size, obs):\n",
    "    x = []\n",
    "    y = []\n",
    "    for i in range(len(obs) - seq_size):\n",
    "        window = obs[i:(i + seq_size)]\n",
    "        after_window = obs[i + seq_size]\n",
    "        x.append(window)\n",
    "        y.append(after_window)\n",
    "    return torch.tensor(x, dtype=torch.float32).view(-1, seq_size, 1), torch.tensor(y, dtype=torch.float32).view(-1, 1)\n",
    "\n",
    "x_train, y_train = to_sequences(SEQUENCE_SIZE, spots_train)\n",
    "x_test, y_test = to_sequences(SEQUENCE_SIZE, spots_test)\n",
    "\n",
    "# Setup data loaders for batch\n",
    "train_dataset = TensorDataset(x_train, y_train)\n",
    "train_loader = DataLoader(train_dataset, batch_size=32, shuffle=True)\n",
    "\n",
    "test_dataset = TensorDataset(x_test, y_test)\n",
    "test_loader = DataLoader(test_dataset, batch_size=32, shuffle=False)"
   ]
  },
  {
   "cell_type": "code",
   "execution_count": 11,
   "id": "83a02dcd-0ac4-4243-b78a-63ab52929415",
   "metadata": {
    "execution": {
     "iopub.execute_input": "2024-04-06T23:55:22.841945Z",
     "iopub.status.busy": "2024-04-06T23:55:22.841552Z",
     "iopub.status.idle": "2024-04-06T23:55:22.846591Z",
     "shell.execute_reply": "2024-04-06T23:55:22.846257Z",
     "shell.execute_reply.started": "2024-04-06T23:55:22.841908Z"
    }
   },
   "outputs": [
    {
     "data": {
      "text/plain": [
       "tensor([[1.9389],\n",
       "        [2.3825],\n",
       "        [3.3583],\n",
       "        [2.2937],\n",
       "        [2.5092],\n",
       "        [3.2442],\n",
       "        [3.2062],\n",
       "        [1.9136],\n",
       "        [2.5345],\n",
       "        [2.6232]])"
      ]
     },
     "execution_count": 11,
     "metadata": {},
     "output_type": "execute_result"
    }
   ],
   "source": [
    "x_train[1]"
   ]
  },
  {
   "cell_type": "code",
   "execution_count": 12,
   "id": "edd71c1b-2a60-409b-8f2a-070df75879e1",
   "metadata": {
    "execution": {
     "iopub.execute_input": "2024-04-06T23:55:23.919754Z",
     "iopub.status.busy": "2024-04-06T23:55:23.918566Z",
     "iopub.status.idle": "2024-04-06T23:55:23.922885Z",
     "shell.execute_reply": "2024-04-06T23:55:23.922608Z",
     "shell.execute_reply.started": "2024-04-06T23:55:23.919742Z"
    }
   },
   "outputs": [
    {
     "data": {
      "text/plain": [
       "tensor([2.6232])"
      ]
     },
     "execution_count": 12,
     "metadata": {},
     "output_type": "execute_result"
    }
   ],
   "source": [
    "y_train[0]"
   ]
  },
  {
   "cell_type": "code",
   "execution_count": 9,
   "id": "a8c4a4e4-3631-455e-827b-9d6117db5699",
   "metadata": {
    "execution": {
     "iopub.execute_input": "2024-04-03T23:32:43.965376Z",
     "iopub.status.busy": "2024-04-03T23:32:43.965019Z",
     "iopub.status.idle": "2024-04-03T23:32:43.968820Z",
     "shell.execute_reply": "2024-04-03T23:32:43.968555Z",
     "shell.execute_reply.started": "2024-04-03T23:32:43.965364Z"
    }
   },
   "outputs": [],
   "source": [
    "# Positional Encoding for Transformer\n",
    "class PositionalEncoding(nn.Module):\n",
    "    def __init__(self, d_model, dropout=0.1, max_len=5000):\n",
    "        super(PositionalEncoding, self).__init__()\n",
    "        self.dropout = nn.Dropout(p=dropout)\n",
    "\n",
    "        pe = torch.zeros(max_len, d_model)\n",
    "        position = torch.arange(0, max_len, dtype=torch.float).unsqueeze(1)\n",
    "        div_term = torch.exp(torch.arange(0, d_model, 2).float() * (-np.log(10000.0) / d_model))\n",
    "        pe[:, 0::2] = torch.sin(position * div_term)\n",
    "        pe[:, 1::2] = torch.cos(position * div_term)\n",
    "        pe = pe.unsqueeze(0).transpose(0, 1)\n",
    "        self.register_buffer('pe', pe)\n",
    "\n",
    "    def forward(self, x):\n",
    "        x = x + self.pe[:x.size(0), :]\n",
    "        return self.dropout(x)"
   ]
  },
  {
   "cell_type": "code",
   "execution_count": 10,
   "id": "6f76d7c3-6a1a-4483-9957-1653c42913a7",
   "metadata": {
    "execution": {
     "iopub.execute_input": "2024-04-03T23:32:49.711344Z",
     "iopub.status.busy": "2024-04-03T23:32:49.710939Z",
     "iopub.status.idle": "2024-04-03T23:32:49.933321Z",
     "shell.execute_reply": "2024-04-03T23:32:49.933023Z",
     "shell.execute_reply.started": "2024-04-03T23:32:49.711331Z"
    }
   },
   "outputs": [
    {
     "name": "stderr",
     "output_type": "stream",
     "text": [
      "/home/wang.shuoc/.conda/envs/my_env/lib/python3.11/site-packages/torch/nn/modules/transformer.py:286: UserWarning: enable_nested_tensor is True, but self.use_nested_tensor is False because encoder_layer.self_attn.batch_first was not True(use batch_first for better inference performance)\n",
      "  warnings.warn(f\"enable_nested_tensor is True, but self.use_nested_tensor is False because {why_not_sparsity_fast_path}\")\n"
     ]
    }
   ],
   "source": [
    "# Model definition using Transformer\n",
    "class TransformerModel(nn.Module):\n",
    "    def __init__(self, input_dim=1, d_model=64, nhead=4, num_layers=2, dropout=0.2):\n",
    "        super(TransformerModel, self).__init__()\n",
    "\n",
    "        self.encoder = nn.Linear(input_dim, d_model)\n",
    "        self.pos_encoder = PositionalEncoding(d_model, dropout)\n",
    "        encoder_layers = nn.TransformerEncoderLayer(d_model, nhead)\n",
    "        self.transformer_encoder = nn.TransformerEncoder(encoder_layers, num_layers)\n",
    "        self.decoder = nn.Linear(d_model, 1)\n",
    "\n",
    "    def forward(self, x):\n",
    "        x = self.encoder(x)\n",
    "        x = self.pos_encoder(x)\n",
    "        x = self.transformer_encoder(x)\n",
    "        x = self.decoder(x[:, -1, :])\n",
    "        return x\n",
    "\n",
    "model = TransformerModel().to(device)"
   ]
  },
  {
   "cell_type": "code",
   "execution_count": 11,
   "id": "232f8423-3a6c-4adf-9147-996a65596871",
   "metadata": {
    "execution": {
     "iopub.execute_input": "2024-04-03T23:33:16.408258Z",
     "iopub.status.busy": "2024-04-03T23:33:16.407895Z",
     "iopub.status.idle": "2024-04-03T23:34:41.452308Z",
     "shell.execute_reply": "2024-04-03T23:34:41.451916Z",
     "shell.execute_reply.started": "2024-04-03T23:33:16.408245Z"
    }
   },
   "outputs": [
    {
     "name": "stderr",
     "output_type": "stream",
     "text": [
      "/home/wang.shuoc/.conda/envs/my_env/lib/python3.11/site-packages/torch/optim/lr_scheduler.py:28: UserWarning: The verbose parameter is deprecated. Please use get_last_lr() to access the learning rate.\n",
      "  warnings.warn(\"The verbose parameter is deprecated. Please use get_last_lr() \"\n"
     ]
    },
    {
     "name": "stdout",
     "output_type": "stream",
     "text": [
      "Epoch 1/1000, Validation Loss: 0.0579\n",
      "Epoch 2/1000, Validation Loss: 0.0404\n",
      "Epoch 3/1000, Validation Loss: 0.0448\n",
      "Epoch 4/1000, Validation Loss: 0.0467\n",
      "Epoch 5/1000, Validation Loss: 0.0417\n",
      "Epoch 6/1000, Validation Loss: 0.0359\n",
      "Epoch 7/1000, Validation Loss: 0.0353\n",
      "Epoch 8/1000, Validation Loss: 0.0354\n",
      "Epoch 9/1000, Validation Loss: 0.0389\n",
      "Epoch 10/1000, Validation Loss: 0.0367\n",
      "Epoch 11/1000, Validation Loss: 0.0382\n",
      "Early stopping!\n"
     ]
    }
   ],
   "source": [
    "# Train the model\n",
    "criterion = nn.MSELoss()\n",
    "optimizer = torch.optim.Adam(model.parameters(), lr=0.001)\n",
    "scheduler = ReduceLROnPlateau(optimizer, 'min', factor=0.5, patience=3, verbose=True)\n",
    "\n",
    "epochs = 1000\n",
    "early_stop_count = 0\n",
    "min_val_loss = float('inf')\n",
    "\n",
    "for epoch in range(epochs):\n",
    "    model.train()\n",
    "    for batch in train_loader:\n",
    "        x_batch, y_batch = batch\n",
    "        x_batch, y_batch = x_batch.to(device), y_batch.to(device)\n",
    "\n",
    "        optimizer.zero_grad()\n",
    "        outputs = model(x_batch)\n",
    "        loss = criterion(outputs, y_batch)\n",
    "        loss.backward()\n",
    "        optimizer.step()\n",
    "\n",
    "    # Validation\n",
    "    model.eval()\n",
    "    val_losses = []\n",
    "    with torch.no_grad():\n",
    "        for batch in test_loader:\n",
    "            x_batch, y_batch = batch\n",
    "            x_batch, y_batch = x_batch.to(device), y_batch.to(device)\n",
    "            outputs = model(x_batch)\n",
    "            loss = criterion(outputs, y_batch)\n",
    "            val_losses.append(loss.item())\n",
    "\n",
    "    val_loss = np.mean(val_losses)\n",
    "    scheduler.step(val_loss)\n",
    "\n",
    "    if val_loss < min_val_loss:\n",
    "        min_val_loss = val_loss\n",
    "        early_stop_count = 0\n",
    "    else:\n",
    "        early_stop_count += 1\n",
    "\n",
    "    if early_stop_count >= 5:\n",
    "        print(\"Early stopping!\")\n",
    "        break\n",
    "    print(f\"Epoch {epoch + 1}/{epochs}, Validation Loss: {val_loss:.4f}\")"
   ]
  },
  {
   "cell_type": "code",
   "execution_count": 12,
   "id": "20b27fb8-a8e0-4367-beff-9fb6b2070645",
   "metadata": {
    "execution": {
     "iopub.execute_input": "2024-04-03T23:34:45.214140Z",
     "iopub.status.busy": "2024-04-03T23:34:45.213651Z",
     "iopub.status.idle": "2024-04-03T23:34:45.430253Z",
     "shell.execute_reply": "2024-04-03T23:34:45.429936Z",
     "shell.execute_reply.started": "2024-04-03T23:34:45.214127Z"
    }
   },
   "outputs": [
    {
     "name": "stdout",
     "output_type": "stream",
     "text": [
      "Score (RMSE): 15.4622\n"
     ]
    }
   ],
   "source": [
    "# Evaluation\n",
    "model.eval()\n",
    "predictions = []\n",
    "with torch.no_grad():\n",
    "    for batch in test_loader:\n",
    "        x_batch, y_batch = batch\n",
    "        x_batch = x_batch.to(device)\n",
    "        outputs = model(x_batch)\n",
    "        predictions.extend(outputs.squeeze().tolist())\n",
    "\n",
    "rmse = np.sqrt(np.mean((scaler.inverse_transform(np.array(predictions).reshape(-1, 1)) - scaler.inverse_transform(y_test.numpy().reshape(-1, 1)))**2))\n",
    "print(f\"Score (RMSE): {rmse:.4f}\")"
   ]
  },
  {
   "cell_type": "code",
   "execution_count": null,
   "id": "eb09ed71-020f-470c-8e62-2f83e2500a6e",
   "metadata": {},
   "outputs": [],
   "source": []
  }
 ],
 "metadata": {
  "kernelspec": {
   "display_name": "Python 3 (ipykernel)",
   "language": "python",
   "name": "python3"
  },
  "language_info": {
   "codemirror_mode": {
    "name": "ipython",
    "version": 3
   },
   "file_extension": ".py",
   "mimetype": "text/x-python",
   "name": "python",
   "nbconvert_exporter": "python",
   "pygments_lexer": "ipython3",
   "version": "3.11.8"
  }
 },
 "nbformat": 4,
 "nbformat_minor": 5
}
