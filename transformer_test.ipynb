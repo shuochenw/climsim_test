{
 "cells": [
  {
   "cell_type": "code",
   "execution_count": 3,
   "id": "a1f978ab-88d5-4a73-bf37-e2ea9676c50d",
   "metadata": {
    "execution": {
     "iopub.execute_input": "2024-07-05T14:20:40.458824Z",
     "iopub.status.busy": "2024-07-05T14:20:40.458381Z",
     "iopub.status.idle": "2024-07-05T14:20:40.461746Z",
     "shell.execute_reply": "2024-07-05T14:20:40.461436Z",
     "shell.execute_reply.started": "2024-07-05T14:20:40.458808Z"
    }
   },
   "outputs": [],
   "source": [
    "import xarray as xr\n",
    "import os\n",
    "import netCDF4\n",
    "import numpy as np\n",
    "import torch\n",
    "from torch import nn\n",
    "import matplotlib.pyplot as plt\n",
    "from sklearn.model_selection import train_test_split\n",
    "from sklearn.metrics import mean_absolute_error\n",
    "from torch.utils.data import random_split\n",
    "import random\n",
    "import pandas as pd\n",
    "from torch.utils.data import DataLoader, TensorDataset\n",
    "from sklearn.preprocessing import StandardScaler\n",
    "from torch.optim.lr_scheduler import ReduceLROnPlateau\n",
    "import torch.nn.functional as F"
   ]
  },
  {
   "cell_type": "code",
   "execution_count": 4,
   "id": "846e4cb0-9cfb-4573-9d5b-ef74dd68e90d",
   "metadata": {
    "execution": {
     "iopub.execute_input": "2024-07-05T14:20:40.475585Z",
     "iopub.status.busy": "2024-07-05T14:20:40.475277Z",
     "iopub.status.idle": "2024-07-05T14:20:40.484375Z",
     "shell.execute_reply": "2024-07-05T14:20:40.484078Z",
     "shell.execute_reply.started": "2024-07-05T14:20:40.475570Z"
    }
   },
   "outputs": [
    {
     "name": "stdout",
     "output_type": "stream",
     "text": [
      "Using device: cuda\n",
      "NVIDIA A100-SXM4-80GB\n",
      "Memory Usage:\n",
      "Allocated: 0.0 GB\n",
      "Cached:    0.0 GB\n"
     ]
    }
   ],
   "source": [
    "# setting device on GPU if available, else CPU\n",
    "device = torch.device('cuda' if torch.cuda.is_available() else 'cpu')\n",
    "print('Using device:', device)\n",
    "#Additional Info when using cuda\n",
    "if device.type == 'cuda':\n",
    "    print(torch.cuda.get_device_name(0))\n",
    "    print('Memory Usage:')\n",
    "    print('Allocated:', round(torch.cuda.memory_allocated(0)/1024**3,1), 'GB')\n",
    "    print('Cached:   ', round(torch.cuda.memory_reserved(0)/1024**3,1), 'GB')"
   ]
  },
  {
   "cell_type": "code",
   "execution_count": 5,
   "id": "08a99b53-4c8f-4d5f-95e2-7ea608f7accd",
   "metadata": {
    "execution": {
     "iopub.execute_input": "2024-07-05T14:20:40.485123Z",
     "iopub.status.busy": "2024-07-05T14:20:40.484923Z",
     "iopub.status.idle": "2024-07-05T14:20:40.503991Z",
     "shell.execute_reply": "2024-07-05T14:20:40.503701Z",
     "shell.execute_reply.started": "2024-07-05T14:20:40.485112Z"
    }
   },
   "outputs": [],
   "source": [
    "SEQUENCE_SIZE = 10\n",
    "LEARNING_RATE = 0.0005\n",
    "BATCH_SIZE = 5000\n",
    "EPOCHS = 30\n",
    "IN_FEATURES = 124\n",
    "OUT_FEATURES = 128\n",
    "# RANDOM_SEED = 42\n",
    "D_MODEL = 64\n",
    "DROPOUT = 0.2\n",
    "N_HEAD = 4\n",
    "N_LAYER = 2\n",
    "MAX_LEN = 5000"
   ]
  },
  {
   "cell_type": "code",
   "execution_count": 6,
   "id": "2ce50a24-ac7d-4b63-8386-a46dbda3b027",
   "metadata": {
    "execution": {
     "iopub.execute_input": "2024-07-05T14:20:40.504957Z",
     "iopub.status.busy": "2024-07-05T14:20:40.504678Z",
     "iopub.status.idle": "2024-07-05T14:20:43.433597Z",
     "shell.execute_reply": "2024-07-05T14:20:43.432941Z",
     "shell.execute_reply.started": "2024-07-05T14:20:40.504945Z"
    }
   },
   "outputs": [],
   "source": [
    "# # use one yaer\n",
    "# X=np.load('/work/sds-lab/Shuochen/climsim/val_input.npy')\n",
    "# y=np.load('/work/sds-lab/Shuochen/climsim/val_target.npy')\n",
    "\n",
    "# use all 8 years: change path\n",
    "X_train=np.load('/work/sds-lab/Shuochen/climsim/train_input.npy')\n",
    "y_train=np.load('/work/sds-lab/Shuochen/climsim/train_target.npy')\n",
    "X_test=np.load('/work/sds-lab/Shuochen/climsim/val_input.npy')\n",
    "y_test=np.load('/work/sds-lab/Shuochen/climsim/val_target.npy')\n",
    "\n",
    "X_train = torch.from_numpy(X_train).type(torch.float)\n",
    "y_train = torch.from_numpy(y_train).type(torch.float)\n",
    "X_test = torch.from_numpy(X_test).type(torch.float)\n",
    "y_test = torch.from_numpy(y_test).type(torch.float)"
   ]
  },
  {
   "cell_type": "code",
   "execution_count": 7,
   "id": "4c279573-e4f9-4ee8-ae0a-80748ecb9cff",
   "metadata": {
    "execution": {
     "iopub.execute_input": "2024-07-05T14:20:43.434484Z",
     "iopub.status.busy": "2024-07-05T14:20:43.434280Z",
     "iopub.status.idle": "2024-07-05T14:20:53.089066Z",
     "shell.execute_reply": "2024-07-05T14:20:53.088722Z",
     "shell.execute_reply.started": "2024-07-05T14:20:43.434471Z"
    }
   },
   "outputs": [
    {
     "name": "stdout",
     "output_type": "stream",
     "text": [
      "torch.Size([384, 26280, 124]) torch.Size([384, 26280, 128])\n",
      "torch.Size([384, 26271, 124, 10]) torch.Size([384, 26271, 128, 10])\n",
      "torch.Size([384, 26271, 10, 124]) torch.Size([384, 26271, 10, 128])\n",
      "torch.Size([10088064, 10, 124]) torch.Size([10088064, 10, 128])\n",
      "torch.Size([384, 3755, 124]) torch.Size([384, 3755, 128])\n",
      "torch.Size([384, 3746, 124, 10]) torch.Size([384, 3746, 128, 10])\n",
      "torch.Size([384, 3746, 10, 124]) torch.Size([384, 3746, 10, 128])\n",
      "torch.Size([1438464, 10, 124]) torch.Size([1438464, 10, 128])\n"
     ]
    }
   ],
   "source": [
    "def create_sliding_window(X, y):\n",
    "    # to tensor, reshape, transpose (time * space, 124 or 128) > (space, time, 124 or 128)\n",
    "    X=torch.Tensor(X).reshape(int(X.shape[0]/384),384,124).permute(1,0,2)\n",
    "    y=torch.Tensor(y).reshape(int(y.shape[0]/384),384,128).permute(1,0,2)\n",
    "    print(X.shape,y.shape)\n",
    "    # create sliding window (space, time, 124 or 128) > (space, num_window, 124 or 128, seq_size)\n",
    "    X = X.unfold(1,SEQUENCE_SIZE,1)\n",
    "    y = y.unfold(1,SEQUENCE_SIZE,1)\n",
    "    print(X.shape,y.shape)\n",
    "    # transpose (space, num_window, 124 or 128, seq_size) > (space, num_window, seq_size, 124 or 128)\n",
    "    X = X.permute(0,1,3,2)\n",
    "    y = y.permute(0,1,3,2)\n",
    "    print(X.shape,y.shape)\n",
    "    # combine dimension (space, num_window, seq_size, 124 or 128) > (space * num_window, seq_size, 124 or 128)\n",
    "    X = X.reshape(384 * X.shape[1],SEQUENCE_SIZE,124)\n",
    "    y = y.reshape(384 * y.shape[1],SEQUENCE_SIZE,128)\n",
    "    print(X.shape,y.shape)\n",
    "    return X, y\n",
    "\n",
    "# X, y = create_sliding_window(X, y)\n",
    "X_train, y_train = create_sliding_window(X_train, y_train)\n",
    "X_test, y_test = create_sliding_window(X_test, y_test)"
   ]
  },
  {
   "cell_type": "code",
   "execution_count": 8,
   "id": "a2c5e756-12e2-428e-874b-2709d201816e",
   "metadata": {
    "execution": {
     "iopub.execute_input": "2024-07-05T14:20:53.090286Z",
     "iopub.status.busy": "2024-07-05T14:20:53.090046Z",
     "iopub.status.idle": "2024-07-05T14:20:53.093196Z",
     "shell.execute_reply": "2024-07-05T14:20:53.092907Z",
     "shell.execute_reply.started": "2024-07-05T14:20:53.090272Z"
    }
   },
   "outputs": [],
   "source": [
    "# # # split datasets to training and testing\n",
    "# X_train, X_test, y_train, y_test = train_test_split(X, y, test_size=0.2, random_state=RANDOM_SEED)\n",
    "# print(y_test.shape)\n",
    "\n",
    "# create datasets\n",
    "training_set = TensorDataset(X_train, y_train)\n",
    "testing_set = TensorDataset(X_test, y_test)\n",
    "# create dataloaders\n",
    "train_dataloader = DataLoader(training_set, # dataset to turn into iterable\n",
    "    batch_size=BATCH_SIZE, # how many samples per batch? \n",
    "    shuffle=True # shuffle data every epoch?\n",
    ")\n",
    "test_dataloader = DataLoader(testing_set,\n",
    "    batch_size=BATCH_SIZE,\n",
    "    shuffle=False # don't necessarily have to shuffle the testing data\n",
    ")"
   ]
  },
  {
   "cell_type": "code",
   "execution_count": 9,
   "id": "a8c4a4e4-3631-455e-827b-9d6117db5699",
   "metadata": {
    "execution": {
     "iopub.execute_input": "2024-07-05T14:20:53.093905Z",
     "iopub.status.busy": "2024-07-05T14:20:53.093669Z",
     "iopub.status.idle": "2024-07-05T14:20:53.115417Z",
     "shell.execute_reply": "2024-07-05T14:20:53.115118Z",
     "shell.execute_reply.started": "2024-07-05T14:20:53.093893Z"
    }
   },
   "outputs": [],
   "source": [
    "# Positional Encoding for Transformer\n",
    "class PositionalEncoding(nn.Module):\n",
    "    def __init__(self, d_model=D_MODEL, dropout=DROPOUT, max_len=MAX_LEN):\n",
    "        super(PositionalEncoding, self).__init__()\n",
    "        self.dropout = nn.Dropout(p=dropout)\n",
    "\n",
    "        pe = torch.zeros(max_len, d_model)\n",
    "        position = torch.arange(0, max_len, dtype=torch.float).unsqueeze(1)\n",
    "        div_term = torch.exp(torch.arange(0, d_model, 2).float() * (-np.log(10000.0) / d_model))\n",
    "        pe[:, 0::2] = torch.sin(position * div_term)\n",
    "        pe[:, 1::2] = torch.cos(position * div_term)\n",
    "        pe = pe.unsqueeze(0).transpose(0, 1)\n",
    "        self.register_buffer('pe', pe)\n",
    "\n",
    "    def forward(self, x):\n",
    "        x = x + self.pe[:x.size(0), :]\n",
    "        return self.dropout(x)"
   ]
  },
  {
   "cell_type": "code",
   "execution_count": 10,
   "id": "6f76d7c3-6a1a-4483-9957-1653c42913a7",
   "metadata": {
    "execution": {
     "iopub.execute_input": "2024-07-05T14:20:53.116120Z",
     "iopub.status.busy": "2024-07-05T14:20:53.115889Z",
     "iopub.status.idle": "2024-07-05T14:20:53.306272Z",
     "shell.execute_reply": "2024-07-05T14:20:53.305962Z",
     "shell.execute_reply.started": "2024-07-05T14:20:53.116108Z"
    }
   },
   "outputs": [
    {
     "name": "stderr",
     "output_type": "stream",
     "text": [
      "/home/wang.shuoc/miniconda3/envs/ml/lib/python3.11/site-packages/torch/nn/modules/transformer.py:306: UserWarning: enable_nested_tensor is True, but self.use_nested_tensor is False because encoder_layer.self_attn.batch_first was not True(use batch_first for better inference performance)\n",
      "  warnings.warn(f\"enable_nested_tensor is True, but self.use_nested_tensor is False because {why_not_sparsity_fast_path}\")\n"
     ]
    },
    {
     "data": {
      "text/plain": [
       "578624"
      ]
     },
     "execution_count": 10,
     "metadata": {},
     "output_type": "execute_result"
    }
   ],
   "source": [
    "# Model definition using Transformer\n",
    "class TransformerModel(nn.Module):\n",
    "    def __init__(self, input_dim=IN_FEATURES, output_dim = OUT_FEATURES, d_model=D_MODEL, \n",
    "                 nhead=N_HEAD, num_layers=N_LAYER, dropout=DROPOUT):\n",
    "        super(TransformerModel, self).__init__()\n",
    "        self.encoder = nn.Linear(input_dim, d_model)\n",
    "        self.pos_encoder = PositionalEncoding(d_model, dropout)\n",
    "        encoder_layers = nn.TransformerEncoderLayer(d_model, nhead)\n",
    "        self.transformer_encoder = nn.TransformerEncoder(encoder_layers, num_layers)\n",
    "        self.decoder = nn.Linear(d_model, output_dim)\n",
    "        # self.relu = nn.ReLU()\n",
    "        # self.decoder_2 = nn.Linear(512, output_dim)\n",
    "        \n",
    "\n",
    "    def forward(self, x):\n",
    "        x = self.encoder(x)\n",
    "        x = self.pos_encoder(x)\n",
    "        x = self.transformer_encoder(x)\n",
    "        # x = self.decoder(x[:, -1, :])\n",
    "        x = self.decoder(x)\n",
    "        # x = self.relu(x)\n",
    "        # x = self.decoder_2(x)\n",
    "        return x\n",
    "\n",
    "model = TransformerModel().to(device)\n",
    "sum(p.numel() for p in model.parameters())"
   ]
  },
  {
   "cell_type": "code",
   "execution_count": 11,
   "id": "232f8423-3a6c-4adf-9147-996a65596871",
   "metadata": {
    "execution": {
     "iopub.execute_input": "2024-07-05T14:20:53.307006Z",
     "iopub.status.busy": "2024-07-05T14:20:53.306781Z",
     "iopub.status.idle": "2024-07-05T16:45:33.113756Z",
     "shell.execute_reply": "2024-07-05T16:45:33.113390Z",
     "shell.execute_reply.started": "2024-07-05T14:20:53.306993Z"
    }
   },
   "outputs": [
    {
     "name": "stdout",
     "output_type": "stream",
     "text": [
      "Epoch: 0 | Train loss: 0.01007 | Test loss: 0.01276\n",
      "Epoch: 1 | Train loss: 0.00566 | Test loss: 0.00962\n",
      "Epoch: 2 | Train loss: 0.00528 | Test loss: 0.00864\n",
      "Epoch: 3 | Train loss: 0.00506 | Test loss: 0.00725\n",
      "Epoch: 4 | Train loss: 0.00489 | Test loss: 0.00650\n",
      "Epoch: 5 | Train loss: 0.00476 | Test loss: 0.00624\n",
      "Epoch: 6 | Train loss: 0.00466 | Test loss: 0.00637\n",
      "Epoch: 7 | Train loss: 0.00458 | Test loss: 0.00656\n",
      "Epoch: 8 | Train loss: 0.00452 | Test loss: 0.00682\n",
      "Epoch: 9 | Train loss: 0.00447 | Test loss: 0.00696\n",
      "Epoch: 10 | Train loss: 0.00443 | Test loss: 0.00709\n",
      "Epoch: 11 | Train loss: 0.00440 | Test loss: 0.00705\n",
      "Epoch: 12 | Train loss: 0.00437 | Test loss: 0.00706\n",
      "Epoch: 13 | Train loss: 0.00435 | Test loss: 0.00691\n",
      "Epoch: 14 | Train loss: 0.00433 | Test loss: 0.00688\n",
      "Epoch: 15 | Train loss: 0.00431 | Test loss: 0.00685\n",
      "Epoch: 16 | Train loss: 0.00429 | Test loss: 0.00689\n",
      "Epoch: 17 | Train loss: 0.00427 | Test loss: 0.00694\n",
      "Epoch: 18 | Train loss: 0.00426 | Test loss: 0.00694\n",
      "Epoch: 19 | Train loss: 0.00425 | Test loss: 0.00684\n",
      "Epoch: 20 | Train loss: 0.00423 | Test loss: 0.00680\n",
      "Epoch: 21 | Train loss: 0.00422 | Test loss: 0.00677\n",
      "Epoch: 22 | Train loss: 0.00421 | Test loss: 0.00671\n",
      "Epoch: 23 | Train loss: 0.00420 | Test loss: 0.00683\n",
      "Epoch: 24 | Train loss: 0.00419 | Test loss: 0.00674\n",
      "Epoch: 25 | Train loss: 0.00418 | Test loss: 0.00681\n",
      "Epoch: 26 | Train loss: 0.00417 | Test loss: 0.00695\n",
      "Epoch: 27 | Train loss: 0.00417 | Test loss: 0.00692\n",
      "Epoch: 28 | Train loss: 0.00416 | Test loss: 0.00683\n",
      "Epoch: 29 | Train loss: 0.00415 | Test loss: 0.00681\n"
     ]
    }
   ],
   "source": [
    "# Train the model\n",
    "loss_fn = nn.MSELoss()\n",
    "optimizer = torch.optim.Adam(model.parameters(), lr=LEARNING_RATE)\n",
    "# scheduler = ReduceLROnPlateau(optimizer, 'min', factor=0.5, patience=3, verbose=True)\n",
    "\n",
    "epochs = EPOCHS\n",
    "early_stop_count = 0\n",
    "min_val_loss = float('inf')\n",
    "\n",
    "train_loss_list = []\n",
    "test_loss_list = []\n",
    "# this will write training and testing losses after each batch to a txt file. Delete this if not necessary.\n",
    "f = open(\"loss_Transformer.txt\", \"w\")\n",
    "# write hyperparams\n",
    "f.write(f\"SEQUENCE_SIZE={SEQUENCE_SIZE}\" + '\\t' + f\"LEARNING_RATE={LEARNING_RATE}\" + '\\t' + f\"BATCH_SIZE={BATCH_SIZE}\" + '\\t' + \n",
    "            f\"EPOCHS={EPOCHS}\" + '\\t' + f\"D_MODEL={D_MODEL}\" + '\\t' + f\"DROPOUT={DROPOUT}\" + '\\t' + \n",
    "            f\"N_HEAD={N_HEAD}\" + '\\t' + f\"N_LAYER={N_LAYER}\" + '\\t' + f\"MAX_LEN={MAX_LEN}\" + '\\n')\n",
    "\n",
    "for epoch in range(epochs):\n",
    "    train_loss = 0\n",
    "    for batch, (X, y) in enumerate(train_dataloader):\n",
    "        model.train()\n",
    "        y_pred = model(X.to(device))\n",
    "        loss = loss_fn(y_pred, y.to(device))\n",
    "        train_loss += loss # accumulatively add up the loss per epoch\n",
    "        optimizer.zero_grad()\n",
    "        loss.backward()\n",
    "        optimizer.step()\n",
    "        \n",
    "    # Divide total train loss by length of train dataloader (average loss per batch per epoch)\n",
    "    train_loss /= len(train_dataloader)\n",
    "    train_loss_list.append(train_loss.detach().cpu().numpy())\n",
    "\n",
    "    # Validation\n",
    "    with torch.inference_mode():\n",
    "        test_loss = 0\n",
    "        model.eval()\n",
    "        for X, y in test_dataloader:\n",
    "            test_pred = model(X.to(device))\n",
    "            test_loss += loss_fn(test_pred, y.to(device)) # accumulatively add up the loss per epoch\n",
    "        \n",
    "        # Divide total test loss by length of test dataloader (per batch)\n",
    "        test_loss /= len(test_dataloader)\n",
    "        test_loss_list.append(test_loss.detach().cpu().numpy())\n",
    "\n",
    "    # if test_loss < min_val_loss:\n",
    "    #     min_val_loss = test_loss\n",
    "    #     early_stop_count = 0\n",
    "    # else:\n",
    "    #     early_stop_count += 1\n",
    "\n",
    "    # if early_stop_count >= 5:\n",
    "    #     print(\"Early stopping!\")\n",
    "    #     break\n",
    "    \n",
    "    # print(f\"Epoch {epoch + 1}/{epochs}, Validation Loss: {val_loss:.4f}\")\n",
    "    print(f\"Epoch: {epoch} | Train loss: {train_loss:.5f} | Test loss: {test_loss:.5f}\")\n",
    "\n",
    "    f.write(str(epoch) + '\\t' + f\"{float(train_loss):.5f}\" + '\\t' + f\"{float(test_loss):.5f}\" + '\\n')\n",
    "    \n",
    "f.close()"
   ]
  },
  {
   "cell_type": "code",
   "execution_count": 12,
   "id": "d4b5e664-a346-45ab-9ab4-706a90ddf15b",
   "metadata": {
    "execution": {
     "iopub.execute_input": "2024-07-05T16:45:33.114749Z",
     "iopub.status.busy": "2024-07-05T16:45:33.114286Z",
     "iopub.status.idle": "2024-07-05T16:45:33.254471Z",
     "shell.execute_reply": "2024-07-05T16:45:33.254190Z",
     "shell.execute_reply.started": "2024-07-05T16:45:33.114736Z"
    }
   },
   "outputs": [
    {
     "data": {
      "image/png": "[encoded data removed]",
      "text/plain": [
       "<Figure size 640x480 with 1 Axes>"
      ]
     },
     "metadata": {},
     "output_type": "display_data"
    }
   ],
   "source": [
    "# plot error curves\n",
    "df_error = pd.read_csv('loss_Transformer.txt',sep='\\t', header=None, skiprows=1)\n",
    "df_error.columns=['epochs','train_loss','test_loss']\n",
    "plt.plot(df_error['train_loss'],label='train_loss')\n",
    "plt.plot(df_error['test_loss'],label='test_loss')\n",
    "plt.legend()\n",
    "plt.savefig('Transformer_loss.jpg')"
   ]
  },
  {
   "cell_type": "code",
   "execution_count": 13,
   "id": "b838f12f-cce0-4ed3-95b3-5bb74cfe2cce",
   "metadata": {
    "execution": {
     "iopub.execute_input": "2024-07-05T16:45:33.255012Z",
     "iopub.status.busy": "2024-07-05T16:45:33.254892Z",
     "iopub.status.idle": "2024-07-05T16:45:46.947320Z",
     "shell.execute_reply": "2024-07-05T16:45:46.946956Z",
     "shell.execute_reply.started": "2024-07-05T16:45:33.255001Z"
    }
   },
   "outputs": [],
   "source": [
    "# combine batches\n",
    "test_pred = []\n",
    "with torch.inference_mode():\n",
    "    test_loss = 0\n",
    "    model.eval()\n",
    "    for X, y in test_dataloader:\n",
    "        test_pred_batch = model(X.to(device))\n",
    "        test_pred.append(test_pred_batch)\n",
    "\n",
    "test_pred = torch.cat(tuple(test_pred), dim=0)\n",
    "\n",
    "def get_original_shape(y):\n",
    "    # (space * num_window, seq_size, 124 or 128) > (space, num_window, seq_size, 124 or 128)\n",
    "    y = y.reshape(384, int(y.shape[0]/384),SEQUENCE_SIZE,128)\n",
    "    # window_1 is values in the first window, take the last value from each rest window and concat to the end.\n",
    "    # (space, num_window, seq_size, 124 or 128) > (space, time, 124 or 128)\n",
    "    window_1 = y[:, 0, :, :]\n",
    "    rest = y[:, 1:, -1, :]\n",
    "    y = torch.cat((window_1,rest),dim=1)\n",
    "    y = y.reshape(y.shape[0]*y.shape[1],128)\n",
    "    return y\n",
    "\n",
    "# get back the original shape\n",
    "y_test = get_original_shape(y_test)\n",
    "test_pred = get_original_shape(test_pred)\n",
    "\n",
    "# to cpu\n",
    "test_pred = test_pred.detach().cpu().numpy()"
   ]
  },
  {
   "cell_type": "code",
   "execution_count": 14,
   "id": "db03cb56-89e3-49b5-8214-36ced009af78",
   "metadata": {
    "execution": {
     "iopub.execute_input": "2024-07-05T16:45:46.949044Z",
     "iopub.status.busy": "2024-07-05T16:45:46.948825Z",
     "iopub.status.idle": "2024-07-05T16:45:47.026441Z",
     "shell.execute_reply": "2024-07-05T16:45:47.026177Z",
     "shell.execute_reply.started": "2024-07-05T16:45:46.949032Z"
    }
   },
   "outputs": [
    {
     "data": {
      "text/plain": [
       "[<matplotlib.lines.Line2D at 0x2b42f9649ad0>]"
      ]
     },
     "execution_count": 14,
     "metadata": {},
     "output_type": "execute_result"
    },
    {
     "data": {
      "image/png": "[encoded data removed]",
      "text/plain": [
       "<Figure size 640x480 with 1 Axes>"
      ]
     },
     "metadata": {},
     "output_type": "display_data"
    }
   ],
   "source": [
    "# plot the first sample. Delete this if not necessary.\n",
    "plt.plot(test_pred[5000,:])\n",
    "plt.plot(y_test[5000,:])"
   ]
  },
  {
   "cell_type": "code",
   "execution_count": 15,
   "id": "20b27fb8-a8e0-4367-beff-9fb6b2070645",
   "metadata": {
    "execution": {
     "iopub.execute_input": "2024-07-05T16:45:47.026952Z",
     "iopub.status.busy": "2024-07-05T16:45:47.026830Z",
     "iopub.status.idle": "2024-07-05T16:45:47.028694Z",
     "shell.execute_reply": "2024-07-05T16:45:47.028409Z",
     "shell.execute_reply.started": "2024-07-05T16:45:47.026941Z"
    }
   },
   "outputs": [],
   "source": [
    "# # Evaluation\n",
    "# model.eval()\n",
    "# predictions = []\n",
    "# with torch.no_grad():\n",
    "#     for batch in test_dataloader:\n",
    "#         x_batch, y_batch = batch\n",
    "#         x_batch = x_batch.to(device)\n",
    "#         outputs = model(x_batch)\n",
    "#         predictions.extend(outputs.squeeze().tolist())\n",
    "\n",
    "# rmse = np.sqrt(np.mean((scaler.inverse_transform(np.array(predictions).reshape(-1, 1)) - scaler.inverse_transform(y_test.numpy().reshape(-1, 1)))**2))\n",
    "# print(f\"Score (RMSE): {rmse:.4f}\")"
   ]
  },
  {
   "cell_type": "markdown",
   "id": "e68cf4f1-82cc-455c-b370-dc5e5c7283e6",
   "metadata": {},
   "source": [
    "# Post-processing (metric files)"
   ]
  },
  {
   "cell_type": "code",
   "execution_count": 16,
   "id": "8e2cbd2b-88fa-426b-9139-a85e965d0441",
   "metadata": {
    "execution": {
     "iopub.execute_input": "2024-07-05T16:45:47.029262Z",
     "iopub.status.busy": "2024-07-05T16:45:47.029066Z",
     "iopub.status.idle": "2024-07-05T16:45:47.046660Z",
     "shell.execute_reply": "2024-07-05T16:45:47.046357Z",
     "shell.execute_reply.started": "2024-07-05T16:45:47.029251Z"
    }
   },
   "outputs": [],
   "source": [
    "# model name\n",
    "# (model name is used for the output)\n",
    "model_name = 'Transformer'\n",
    "# input of validation dataset (npy)\n",
    "fn_x_true = '/work/sds-lab/Shuochen/climsim/val_input.npy'\n",
    "# true output of validation dataset (npy)\n",
    "fn_y_true = '/work/sds-lab/Shuochen/climsim/val_target.npy'\n",
    "# Model predicted output of varlidation dataset (npy)\n",
    "fn_y_pred = test_pred\n",
    "# model grid information (nc)\n",
    "fn_grid = '/work/sds-lab/Shuochen/climsim/normalizations_git/ClimSim_low-res_grid-info.nc'\n",
    "\n",
    "# normalization and scale factors (nc), fn_mli files are not necessary\n",
    "fn_mli_mean  = '/work/sds-lab/Shuochen/climsim/normalizations_git/inputs/input_mean.nc'\n",
    "fn_mli_min   = '/work/sds-lab/Shuochen/climsim/normalizations_git/inputs/input_min.nc'\n",
    "fn_mli_max   = '/work/sds-lab/Shuochen/climsim/normalizations_git/inputs/input_max.nc'\n",
    "fn_mlo_scale = '/work/sds-lab/Shuochen/climsim/normalizations_git/outputs/output_scale.nc'\n"
   ]
  },
  {
   "cell_type": "code",
   "execution_count": 17,
   "id": "c1255581-b166-49ec-a1b9-17eb94313a37",
   "metadata": {
    "execution": {
     "iopub.execute_input": "2024-07-05T16:45:47.047237Z",
     "iopub.status.busy": "2024-07-05T16:45:47.047117Z",
     "iopub.status.idle": "2024-07-05T16:45:47.063913Z",
     "shell.execute_reply": "2024-07-05T16:45:47.063625Z",
     "shell.execute_reply.started": "2024-07-05T16:45:47.047226Z"
    }
   },
   "outputs": [],
   "source": [
    "# physical constatns from (E3SM_ROOT/share/util/shr_const_mod.F90)\n",
    "grav    = 9.80616    # acceleration of gravity ~ m/s^2\n",
    "cp      = 1.00464e3  # specific heat of dry air   ~ J/kg/K\n",
    "lv      = 2.501e6    # latent heat of evaporation ~ J/kg\n",
    "lf      = 3.337e5    # latent heat of fusion      ~ J/kg\n",
    "ls      = lv + lf    # latent heat of sublimation ~ J/kg\n",
    "rho_air = 101325./ (6.02214e26*1.38065e-23/28.966) / 273.15 # density of dry air at STP  ~ kg/m^3\n",
    "                                                            # ~ 1.2923182846924677\n",
    "                                                            # SHR_CONST_PSTD/(SHR_CONST_RDAIR*SHR_CONST_TKFRZ)\n",
    "                                                            # SHR_CONST_RDAIR   = SHR_CONST_RGAS/SHR_CONST_MWDAIR\n",
    "                                                            # SHR_CONST_RGAS    = SHR_CONST_AVOGAD*SHR_CONST_BOLTZ\n",
    "rho_h20 = 1.e3       # density of fresh water     ~ kg/m^ 3\n",
    "\n",
    "vars_mlo_energy_conv = {'ptend_t':cp,\n",
    "                        'ptend_q0001':lv,\n",
    "                        'cam_out_NETSW':1.,\n",
    "                        'cam_out_FLWDS':1.,\n",
    "                        'cam_out_PRECSC':lv*rho_h20,\n",
    "                        'cam_out_PRECC':lv*rho_h20,\n",
    "                        'cam_out_SOLS':1.,\n",
    "                        'cam_out_SOLL':1.,\n",
    "                        'cam_out_SOLSD':1.,\n",
    "                        'cam_out_SOLLD':1.\n",
    "                       }\n",
    "vars_longname=\\\n",
    "{'ptend_t':'Heating tendency, ∂T/∂t',\n",
    " 'ptend_q0001':'Moistening tendency, ∂q/∂t',\n",
    " 'cam_out_NETSW':'Net surface shortwave flux, NETSW',\n",
    " 'cam_out_FLWDS':'Downward surface longwave flux, FLWDS',\n",
    " 'cam_out_PRECSC':'Snow rate, PRECSC',\n",
    " 'cam_out_PRECC':'Rain rate, PRECC',\n",
    " 'cam_out_SOLS':'Visible direct solar flux, SOLS',\n",
    " 'cam_out_SOLL':'Near-IR direct solar flux, SOLL',\n",
    " 'cam_out_SOLSD':'Visible diffused solar flux, SOLSD',\n",
    " 'cam_out_SOLLD':'Near-IR diffused solar flux, SOLLD'}"
   ]
  },
  {
   "cell_type": "code",
   "execution_count": 18,
   "id": "740a8f35-3c8f-4d94-bec2-7788b52602b8",
   "metadata": {
    "execution": {
     "iopub.execute_input": "2024-07-05T16:45:47.064586Z",
     "iopub.status.busy": "2024-07-05T16:45:47.064298Z",
     "iopub.status.idle": "2024-07-05T16:45:47.646981Z",
     "shell.execute_reply": "2024-07-05T16:45:47.646638Z",
     "shell.execute_reply.started": "2024-07-05T16:45:47.064575Z"
    }
   },
   "outputs": [],
   "source": [
    "# set dimemsion names for xarray datasets\n",
    "dim_name_level  = 'lev'\n",
    "dim_name_sample = 'sample'\n",
    "\n",
    "# load input dataset\n",
    "x_true = np.load(fn_x_true)\n",
    "y_true = np.load(fn_y_true)\n",
    "y_pred = fn_y_pred\n",
    "N_samples = y_pred.shape[0]\n",
    "\n",
    "# load norm/scale factors\n",
    "mlo_scale = xr.open_dataset(fn_mlo_scale)\n",
    "mli_mean  = xr.open_dataset(fn_mli_mean)\n",
    "mli_min   = xr.open_dataset(fn_mli_min)\n",
    "mli_max   = xr.open_dataset(fn_mli_max)"
   ]
  },
  {
   "cell_type": "code",
   "execution_count": 19,
   "id": "170fee4f-db4f-4ed6-af5d-8295475d10da",
   "metadata": {
    "execution": {
     "iopub.execute_input": "2024-07-05T16:45:47.647629Z",
     "iopub.status.busy": "2024-07-05T16:45:47.647469Z",
     "iopub.status.idle": "2024-07-05T16:45:47.666940Z",
     "shell.execute_reply": "2024-07-05T16:45:47.666647Z",
     "shell.execute_reply.started": "2024-07-05T16:45:47.647616Z"
    }
   },
   "outputs": [],
   "source": [
    "# load grid information\n",
    "ds_grid = xr.open_dataset(fn_grid) # has ncol:384\n",
    "N_ncol = len(ds_grid['ncol']) # length of ncol dimension (nlat * nlon)\n",
    "\n",
    "# make area-weights\n",
    "ds_grid['area_wgt'] = ds_grid['area'] / ds_grid['area'].mean('ncol')\n",
    "\n",
    "# map ds_grid's ncol dimension -> the N_samples dimension of npy-loayd arrays (e.g., y_pred)\n",
    "to_xarray = {'area_wgt': (dim_name_sample,np.tile(ds_grid['area_wgt'], int(N_samples/len(ds_grid['ncol'])))),\n",
    "            }\n",
    "to_xarray = xr.Dataset(to_xarray)\n",
    "\n",
    "# add nsample-mapped grid variables back to ds_grid\n",
    "ds_grid = xr.merge([ds_grid  [['P0', 'hyai', 'hyam','hybi','hybm','lat','lon','area']],\n",
    "                    to_xarray[['area_wgt']]])"
   ]
  },
  {
   "cell_type": "code",
   "execution_count": 20,
   "id": "0662eb23-fd85-4edb-b2ef-636f8d2205ab",
   "metadata": {
    "execution": {
     "iopub.execute_input": "2024-07-05T16:45:47.667436Z",
     "iopub.status.busy": "2024-07-05T16:45:47.667322Z",
     "iopub.status.idle": "2024-07-05T16:45:47.681894Z",
     "shell.execute_reply": "2024-07-05T16:45:47.681597Z",
     "shell.execute_reply.started": "2024-07-05T16:45:47.667426Z"
    }
   },
   "outputs": [],
   "source": [
    "# list of ML output variables\n",
    "vars_mlo = ['ptend_t','ptend_q0001','cam_out_NETSW','cam_out_FLWDS','cam_out_PRECSC',\n",
    "            'cam_out_PRECC','cam_out_SOLS','cam_out_SOLL','cam_out_SOLSD','cam_out_SOLLD'] # mlo mean ML output.\n",
    "\n",
    "# length of each variable\n",
    "# (make sure that the order of variables are correct)\n",
    "vars_mlo_len = {'ptend_t':60,\n",
    "                'ptend_q0001':60,\n",
    "                'cam_out_NETSW':1,\n",
    "                'cam_out_FLWDS':1,\n",
    "                'cam_out_PRECSC':1,\n",
    "                'cam_out_PRECC':1,\n",
    "                'cam_out_SOLS':1,\n",
    "                'cam_out_SOLL':1,\n",
    "                'cam_out_SOLSD':1,\n",
    "                'cam_out_SOLLD':1\n",
    "               }\n",
    "\n",
    "# map the length of dimension to the name of dimension\n",
    "len_to_dim = {60:dim_name_level,\n",
    "              N_samples: dim_name_sample}"
   ]
  },
  {
   "cell_type": "code",
   "execution_count": 21,
   "id": "95076025-91d6-4ea3-96c3-e875887b079c",
   "metadata": {
    "execution": {
     "iopub.execute_input": "2024-07-05T16:45:47.682363Z",
     "iopub.status.busy": "2024-07-05T16:45:47.682253Z",
     "iopub.status.idle": "2024-07-05T16:45:52.654268Z",
     "shell.execute_reply": "2024-07-05T16:45:52.653887Z",
     "shell.execute_reply.started": "2024-07-05T16:45:47.682353Z"
    }
   },
   "outputs": [
    {
     "name": "stderr",
     "output_type": "stream",
     "text": [
      "/tmp/ipykernel_38301/1724888985.py:70: FutureWarning: the `pandas.MultiIndex` object(s) passed as 'sample' coordinate(s) or data variable(s) will no longer be implicitly promoted and wrapped into multiple indexed coordinates in the future (i.e., one coordinate for each multi-index level + one dimension coordinate). If you want to keep this behavior, you need to first wrap it explicitly using `mindex_coords = xarray.Coordinates.from_pandas_multiindex(mindex_obj, 'dim')` and pass it as coordinates, e.g., `xarray.Dataset(coords=mindex_coords)`, `dataset.assign_coords(mindex_coords)` or `dataarray.assign_coords(mindex_coords)`.\n",
      "  DS[kds] = DS[kds].assign_coords(sample=new_ind).unstack('sample')\n"
     ]
    }
   ],
   "source": [
    "# Here, we first construct a dictionary of {var name: (dimension name, array-like)},\n",
    "# then, map the dictionary to an Xarray Dataset.\n",
    "# (ref: https://docs.xarray.dev/en/stable/generated/xarray.Dataset.html)\n",
    "\n",
    "DS = {}\n",
    "\n",
    "for kds in ['true', 'pred']:\n",
    "    if kds=='true':\n",
    "        work = y_true\n",
    "    elif kds=='pred':\n",
    "        work = y_pred\n",
    "\n",
    "    # [1] Construct dictionary for xarray dataset\n",
    "    #     format is key for variable name /\n",
    "    #               value for a turple of (dimension names, data).\n",
    "    to_xarray = {}\n",
    "    for k, kvar in enumerate(vars_mlo):\n",
    "\n",
    "        # length of variable (ie, number of levels)\n",
    "        kvar_len = vars_mlo_len[kvar]\n",
    "\n",
    "        # set dimensions of variable\n",
    "        if kvar_len == 60:\n",
    "            kvar_dims = (dim_name_sample, dim_name_level)\n",
    "        elif kvar_len == 1:\n",
    "            kvar_dims = dim_name_sample\n",
    "\n",
    "        # set start and end indices of variable in the loaded numpy array\n",
    "        # then, add 'kvar':(kvar_dims, <np_array>) to dictionary\n",
    "        if k==0: ind1=0\n",
    "        ind2 = ind1 + kvar_len\n",
    "\n",
    "        # scaled output\n",
    "        kvar_data = np.squeeze(work[:,ind1:ind2])\n",
    "        # unscaled output\n",
    "        kvar_data = kvar_data / mlo_scale[kvar].values\n",
    "\n",
    "        to_xarray[kvar] = (kvar_dims, kvar_data)\n",
    "\n",
    "        ind1 = ind2\n",
    "\n",
    "    # [2] convert dict to xarray dataset\n",
    "    DS[kds] = xr.Dataset(to_xarray)\n",
    "\n",
    "    # [3] add surface pressure ('state_ps') from ml input\n",
    "    # normalized ps\n",
    "    state_ps =  xr.DataArray(x_true[:,120], dims=('sample'), name='state_ps')\n",
    "    # denormalized ps\n",
    "    state_ps = state_ps * (mli_max['state_ps'] - mli_min['state_ps']) + mli_mean['state_ps']\n",
    "    DS[kds]['state_ps'] = state_ps\n",
    "\n",
    "    # [4] add grid information\n",
    "    DS[kds] = xr.merge([DS[kds], ds_grid])\n",
    "\n",
    "    # [5] add pressure thickness of each level, dp\n",
    "    # FYI, in a hybrid sigma vertical coordinate system, pressure at level z is\n",
    "    # P[x,z] = hyam[z]*P0 + hybm[z]*PS[x,z],\n",
    "    # where, hyam and hybm are \n",
    "    tmp = DS[kds]['P0']*DS[kds]['hyai'] + DS[kds]['state_ps']*DS[kds]['hybi']\n",
    "    tmp = tmp.isel(ilev=slice(1,61)).values - tmp.isel(ilev=slice(0,60)).values\n",
    "    tmp = tmp.transpose()\n",
    "    DS[kds]['dp'] = xr.DataArray(tmp, dims=('sample', 'lev'))\n",
    "\n",
    "    # [6] break (sample) to (ncol,time)\n",
    "    N_timestep = int(N_samples/N_ncol)\n",
    "    dim_ncol     = np.arange(N_ncol)\n",
    "    dim_timestep = np.arange(N_timestep)\n",
    "    new_ind = pd.MultiIndex.from_product([dim_timestep, dim_ncol],\n",
    "                                         names=['time', 'ncol'])\n",
    "    DS[kds] = DS[kds].assign_coords(sample=new_ind).unstack('sample')\n",
    "\n",
    "del work, to_xarray, y_true, y_pred, x_true, state_ps, tmp"
   ]
  },
  {
   "cell_type": "code",
   "execution_count": 22,
   "id": "279f8938-94f4-4331-ae4a-49ba3d3c7f9c",
   "metadata": {
    "execution": {
     "iopub.execute_input": "2024-07-05T16:45:52.655182Z",
     "iopub.status.busy": "2024-07-05T16:45:52.654813Z",
     "iopub.status.idle": "2024-07-05T16:45:57.434959Z",
     "shell.execute_reply": "2024-07-05T16:45:57.434611Z",
     "shell.execute_reply.started": "2024-07-05T16:45:52.655170Z"
    }
   },
   "outputs": [],
   "source": [
    "# [1] Weight vertical levels by dp/g that is equivalent to a mass of air within a grid cell per unit area [kg/m2]\n",
    "# [2] Weight horizontal area of each grid cell by a[x]/mean(a[x]).\n",
    "# [3] Unit conversion to a common energy unit\n",
    "\n",
    "DS_ENERGY = {}\n",
    "for kds in ['true','pred']:\n",
    "    # Make a copy to keep original dataset\n",
    "    DS_ENERGY[kds] = DS[kds].copy(deep=True)\n",
    "\n",
    "    # vertical weighting / area weighting / unit conversion\n",
    "    for kvar in vars_mlo:\n",
    "\n",
    "        # [1] weight vertical levels by dp/g\n",
    "        #     ONLY for vertically-resolved variables, e.g., ptend_{t,q0001}\n",
    "        # dp/g = - \\rho * dz\n",
    "        if vars_mlo_len[kvar] == 60:\n",
    "            DS_ENERGY[kds][kvar] = DS_ENERGY[kds][kvar] * DS_ENERGY[kds]['dp']/grav\n",
    "\n",
    "        # [2] weight area\n",
    "        #     for ALL variables\n",
    "        DS_ENERGY[kds][kvar] = DS_ENERGY[kds]['area_wgt'] * DS_ENERGY[kds][kvar]\n",
    "\n",
    "        # [3] convert units to W/m2\n",
    "        #     for variables with different units, e.g., ptend_{t,q0001}, precsc, precc\n",
    "        DS_ENERGY[kds][kvar] =  vars_mlo_energy_conv[kvar] * DS_ENERGY[kds][kvar]"
   ]
  },
  {
   "cell_type": "code",
   "execution_count": 23,
   "id": "00e6771f-65d1-4f48-b89e-1a04b73e9c0c",
   "metadata": {
    "execution": {
     "iopub.execute_input": "2024-07-05T16:45:57.435740Z",
     "iopub.status.busy": "2024-07-05T16:45:57.435465Z",
     "iopub.status.idle": "2024-07-05T16:46:07.157395Z",
     "shell.execute_reply": "2024-07-05T16:46:07.157050Z",
     "shell.execute_reply.started": "2024-07-05T16:45:57.435728Z"
    }
   },
   "outputs": [],
   "source": [
    "all_metrics = ['MAE','RMSE','R2']\n",
    "\n",
    "# A. Calculate metrics\n",
    "# After this step,\n",
    "# ptend_{t,q0001} have [ncol, lev] dimension;\n",
    "# and the rest variables have [ncol] dimension.\n",
    "\n",
    "# if spatial analysis is desired (e.g., R2 distribution on global map or on latitude-level plane),\n",
    "# the metrics at this step should be used.\n",
    "\n",
    "\n",
    "# Select only ML output varibles\n",
    "DS_ENERGY[kds] = DS_ENERGY[kds][vars_mlo]\n",
    "\n",
    "# Caclulate 3 metrics\n",
    "Metrics = {}\n",
    "Metrics['MAE']  = (np.abs(DS_ENERGY['true']   - DS_ENERGY['pred'])).mean('time')\n",
    "Metrics['RMSE'] = np.sqrt(((DS_ENERGY['true'] - DS_ENERGY['pred'])**2.).mean('time'))\n",
    "Metrics['R2'] = 1 - ((DS_ENERGY['true'] - DS_ENERGY['pred']                    )**2.).sum('time')/\\\n",
    "                    ((DS_ENERGY['true'] - DS_ENERGY['true'].mean('time'))**2.).sum('time')\n",
    "\n",
    "# Save grid-wise metric files in netcdf format\n",
    "if True:\n",
    "    for kmetric in ['MAE', 'RMSE', 'R2']:\n",
    "        fn_save = f'./metrics_netcdf/{model_name}_{kmetric}.nc'\n",
    "        Metrics[kmetric].to_netcdf(fn_save)"
   ]
  },
  {
   "cell_type": "code",
   "execution_count": 24,
   "id": "0152d5bd-1ee7-437a-9651-2bca891eeef8",
   "metadata": {
    "execution": {
     "iopub.execute_input": "2024-07-05T16:46:07.158197Z",
     "iopub.status.busy": "2024-07-05T16:46:07.157908Z",
     "iopub.status.idle": "2024-07-05T16:46:07.164379Z",
     "shell.execute_reply": "2024-07-05T16:46:07.164076Z",
     "shell.execute_reply.started": "2024-07-05T16:46:07.158185Z"
    }
   },
   "outputs": [],
   "source": [
    "# B. Make horizontal mean.\n",
    "# After this step,\n",
    "# ptend_{t,q0001} have [lev] dimension;\n",
    "# and the rest variables have zero dimensions, i.e., scalars.\n",
    "\n",
    "for kmetric in all_metrics:\n",
    "    Metrics[kmetric] = Metrics[kmetric].mean('ncol') # simple mean"
   ]
  },
  {
   "cell_type": "code",
   "execution_count": 25,
   "id": "54b06bf1-8300-432f-846b-afdb157b62e3",
   "metadata": {
    "execution": {
     "iopub.execute_input": "2024-07-05T16:46:07.165133Z",
     "iopub.status.busy": "2024-07-05T16:46:07.164872Z",
     "iopub.status.idle": "2024-07-05T16:46:07.253077Z",
     "shell.execute_reply": "2024-07-05T16:46:07.252810Z",
     "shell.execute_reply.started": "2024-07-05T16:46:07.165119Z"
    }
   },
   "outputs": [
    {
     "data": {
      "text/html": [
       "<div>\n",
       "<style scoped>\n",
       "    .dataframe tbody tr th:only-of-type {\n",
       "        vertical-align: middle;\n",
       "    }\n",
       "\n",
       "    .dataframe tbody tr th {\n",
       "        vertical-align: top;\n",
       "    }\n",
       "\n",
       "    .dataframe thead th {\n",
       "        text-align: right;\n",
       "    }\n",
       "</style>\n",
       "<table border=\"1\" class=\"dataframe\">\n",
       "  <thead>\n",
       "    <tr style=\"text-align: right;\">\n",
       "      <th></th>\n",
       "      <th>MAE</th>\n",
       "      <th>RMSE</th>\n",
       "      <th>R2</th>\n",
       "    </tr>\n",
       "    <tr>\n",
       "      <th>output_idx</th>\n",
       "      <th></th>\n",
       "      <th></th>\n",
       "      <th></th>\n",
       "    </tr>\n",
       "  </thead>\n",
       "  <tbody>\n",
       "    <tr>\n",
       "      <th>0</th>\n",
       "      <td>0.012886</td>\n",
       "      <td>0.018365</td>\n",
       "      <td>-0.459680</td>\n",
       "    </tr>\n",
       "    <tr>\n",
       "      <th>1</th>\n",
       "      <td>0.032907</td>\n",
       "      <td>0.042784</td>\n",
       "      <td>-0.409851</td>\n",
       "    </tr>\n",
       "    <tr>\n",
       "      <th>2</th>\n",
       "      <td>0.074984</td>\n",
       "      <td>0.092050</td>\n",
       "      <td>-0.494079</td>\n",
       "    </tr>\n",
       "    <tr>\n",
       "      <th>3</th>\n",
       "      <td>0.177011</td>\n",
       "      <td>0.212605</td>\n",
       "      <td>-0.532160</td>\n",
       "    </tr>\n",
       "    <tr>\n",
       "      <th>4</th>\n",
       "      <td>0.405484</td>\n",
       "      <td>0.487383</td>\n",
       "      <td>-0.601493</td>\n",
       "    </tr>\n",
       "    <tr>\n",
       "      <th>...</th>\n",
       "      <td>...</td>\n",
       "      <td>...</td>\n",
       "      <td>...</td>\n",
       "    </tr>\n",
       "    <tr>\n",
       "      <th>123</th>\n",
       "      <td>105.247975</td>\n",
       "      <td>190.575349</td>\n",
       "      <td>-37911.124131</td>\n",
       "    </tr>\n",
       "    <tr>\n",
       "      <th>124</th>\n",
       "      <td>84.553360</td>\n",
       "      <td>124.277941</td>\n",
       "      <td>-1.075538</td>\n",
       "    </tr>\n",
       "    <tr>\n",
       "      <th>125</th>\n",
       "      <td>91.078930</td>\n",
       "      <td>131.609267</td>\n",
       "      <td>-0.816858</td>\n",
       "    </tr>\n",
       "    <tr>\n",
       "      <th>126</th>\n",
       "      <td>44.781987</td>\n",
       "      <td>59.285840</td>\n",
       "      <td>-0.734047</td>\n",
       "    </tr>\n",
       "    <tr>\n",
       "      <th>127</th>\n",
       "      <td>26.567221</td>\n",
       "      <td>37.382332</td>\n",
       "      <td>-0.761801</td>\n",
       "    </tr>\n",
       "  </tbody>\n",
       "</table>\n",
       "<p>128 rows × 3 columns</p>\n",
       "</div>"
      ],
      "text/plain": [
       "                   MAE        RMSE            R2\n",
       "output_idx                                      \n",
       "0             0.012886    0.018365     -0.459680\n",
       "1             0.032907    0.042784     -0.409851\n",
       "2             0.074984    0.092050     -0.494079\n",
       "3             0.177011    0.212605     -0.532160\n",
       "4             0.405484    0.487383     -0.601493\n",
       "...                ...         ...           ...\n",
       "123         105.247975  190.575349 -37911.124131\n",
       "124          84.553360  124.277941     -1.075538\n",
       "125          91.078930  131.609267     -0.816858\n",
       "126          44.781987   59.285840     -0.734047\n",
       "127          26.567221   37.382332     -0.761801\n",
       "\n",
       "[128 rows x 3 columns]"
      ]
     },
     "execution_count": 25,
     "metadata": {},
     "output_type": "execute_result"
    }
   ],
   "source": [
    "# C-1. Save the result after B.\n",
    "# to save in a table format as a csv file, the level dimensions are flattened.\n",
    "\n",
    "Metrics_stacked = {}\n",
    "for kmetric in all_metrics:\n",
    "    Metrics_stacked[kmetric] = Metrics[kmetric].to_stacked_array('ml_out_idx', sample_dims='', name=kmetric)\n",
    "\n",
    "\n",
    "# save the output\n",
    "work = pd.DataFrame({'MAE':  Metrics_stacked['MAE'].values,\n",
    "                     'RMSE': Metrics_stacked['RMSE'].values,\n",
    "                     'R2':   Metrics_stacked['R2'].values}\n",
    "                    )\n",
    "work.index.name = 'output_idx'\n",
    "\n",
    "# save to the metrics folder\n",
    "fn_save_metrics = f'./metrics/{model_name}.metrics.csv'\n",
    "work.to_csv(fn_save_metrics)\n",
    "work"
   ]
  },
  {
   "cell_type": "code",
   "execution_count": 26,
   "id": "2908a200-7e84-4335-9097-165071a774a4",
   "metadata": {
    "execution": {
     "iopub.execute_input": "2024-07-05T16:46:07.253740Z",
     "iopub.status.busy": "2024-07-05T16:46:07.253474Z",
     "iopub.status.idle": "2024-07-05T16:46:07.347308Z",
     "shell.execute_reply": "2024-07-05T16:46:07.347035Z",
     "shell.execute_reply.started": "2024-07-05T16:46:07.253728Z"
    }
   },
   "outputs": [
    {
     "data": {
      "text/plain": [
       "<Axes: xlabel='output_idx'>"
      ]
     },
     "execution_count": 26,
     "metadata": {},
     "output_type": "execute_result"
    },
    {
     "data": {
      "image/png": "[encoded data removed]",
      "text/plain": [
       "<Figure size 640x480 with 1 Axes>"
      ]
     },
     "metadata": {},
     "output_type": "display_data"
    }
   ],
   "source": [
    "# try to reproduce their plot 2\n",
    "work['MAE'][:60].plot()"
   ]
  },
  {
   "cell_type": "code",
   "execution_count": 27,
   "id": "0788abb9-b0db-49ef-b7db-3ff0012d719a",
   "metadata": {
    "execution": {
     "iopub.execute_input": "2024-07-05T16:46:07.347846Z",
     "iopub.status.busy": "2024-07-05T16:46:07.347727Z",
     "iopub.status.idle": "2024-07-05T16:46:07.364063Z",
     "shell.execute_reply": "2024-07-05T16:46:07.363777Z",
     "shell.execute_reply.started": "2024-07-05T16:46:07.347835Z"
    }
   },
   "outputs": [
    {
     "data": {
      "text/html": [
       "<div>\n",
       "<style scoped>\n",
       "    .dataframe tbody tr th:only-of-type {\n",
       "        vertical-align: middle;\n",
       "    }\n",
       "\n",
       "    .dataframe tbody tr th {\n",
       "        vertical-align: top;\n",
       "    }\n",
       "\n",
       "    .dataframe thead th {\n",
       "        text-align: right;\n",
       "    }\n",
       "</style>\n",
       "<table border=\"1\" class=\"dataframe\">\n",
       "  <thead>\n",
       "    <tr style=\"text-align: right;\">\n",
       "      <th></th>\n",
       "      <th>MAE</th>\n",
       "      <th>RMSE</th>\n",
       "      <th>R2</th>\n",
       "    </tr>\n",
       "    <tr>\n",
       "      <th>Variable</th>\n",
       "      <th></th>\n",
       "      <th></th>\n",
       "      <th></th>\n",
       "    </tr>\n",
       "  </thead>\n",
       "  <tbody>\n",
       "    <tr>\n",
       "      <th>ptend_t</th>\n",
       "      <td>5.181367</td>\n",
       "      <td>7.796997</td>\n",
       "      <td>-1.523601e+00</td>\n",
       "    </tr>\n",
       "    <tr>\n",
       "      <th>ptend_q0001</th>\n",
       "      <td>6.467561</td>\n",
       "      <td>10.088961</td>\n",
       "      <td>-inf</td>\n",
       "    </tr>\n",
       "    <tr>\n",
       "      <th>cam_out_NETSW</th>\n",
       "      <td>210.098460</td>\n",
       "      <td>289.294881</td>\n",
       "      <td>-2.171482e+00</td>\n",
       "    </tr>\n",
       "    <tr>\n",
       "      <th>cam_out_FLWDS</th>\n",
       "      <td>72.622530</td>\n",
       "      <td>89.508222</td>\n",
       "      <td>-1.929367e+01</td>\n",
       "    </tr>\n",
       "    <tr>\n",
       "      <th>cam_out_PRECSC</th>\n",
       "      <td>12.319480</td>\n",
       "      <td>20.420864</td>\n",
       "      <td>-inf</td>\n",
       "    </tr>\n",
       "    <tr>\n",
       "      <th>cam_out_PRECC</th>\n",
       "      <td>105.247975</td>\n",
       "      <td>190.575349</td>\n",
       "      <td>-3.791112e+04</td>\n",
       "    </tr>\n",
       "    <tr>\n",
       "      <th>cam_out_SOLS</th>\n",
       "      <td>84.553360</td>\n",
       "      <td>124.277941</td>\n",
       "      <td>-1.075538e+00</td>\n",
       "    </tr>\n",
       "    <tr>\n",
       "      <th>cam_out_SOLL</th>\n",
       "      <td>91.078930</td>\n",
       "      <td>131.609267</td>\n",
       "      <td>-8.168577e-01</td>\n",
       "    </tr>\n",
       "    <tr>\n",
       "      <th>cam_out_SOLSD</th>\n",
       "      <td>44.781987</td>\n",
       "      <td>59.285840</td>\n",
       "      <td>-7.340468e-01</td>\n",
       "    </tr>\n",
       "    <tr>\n",
       "      <th>cam_out_SOLLD</th>\n",
       "      <td>26.567221</td>\n",
       "      <td>37.382332</td>\n",
       "      <td>-7.618007e-01</td>\n",
       "    </tr>\n",
       "  </tbody>\n",
       "</table>\n",
       "</div>"
      ],
      "text/plain": [
       "                       MAE        RMSE            R2\n",
       "Variable                                            \n",
       "ptend_t           5.181367    7.796997 -1.523601e+00\n",
       "ptend_q0001       6.467561   10.088961          -inf\n",
       "cam_out_NETSW   210.098460  289.294881 -2.171482e+00\n",
       "cam_out_FLWDS    72.622530   89.508222 -1.929367e+01\n",
       "cam_out_PRECSC   12.319480   20.420864          -inf\n",
       "cam_out_PRECC   105.247975  190.575349 -3.791112e+04\n",
       "cam_out_SOLS     84.553360  124.277941 -1.075538e+00\n",
       "cam_out_SOLL     91.078930  131.609267 -8.168577e-01\n",
       "cam_out_SOLSD    44.781987   59.285840 -7.340468e-01\n",
       "cam_out_SOLLD    26.567221   37.382332 -7.618007e-01"
      ]
     },
     "execution_count": 27,
     "metadata": {},
     "output_type": "execute_result"
    }
   ],
   "source": [
    "# C-2. Save the result after vertical averaging.\n",
    "# After this step,\n",
    "# ptend_{t,q0001} also have zero dimensions, i.e., scalars;\n",
    "\n",
    "# Then, the results are saved to a csv file.\n",
    "# This csv file will be used for generating plots.\n",
    "\n",
    "Metrics_vert_avg = {}\n",
    "for kmetric in all_metrics:\n",
    "    Metrics_vert_avg[kmetric] = Metrics[kmetric].mean('lev')\n",
    "    Metrics_vert_avg[kmetric] = Metrics_vert_avg[kmetric].mean('ilev') # remove dummy dim\n",
    "\n",
    "# save the output\n",
    "work = pd.DataFrame({'MAE':  Metrics_vert_avg['MAE'].to_pandas(),\n",
    "                     'RMSE': Metrics_vert_avg['RMSE'].to_pandas(),\n",
    "                     'R2':   Metrics_vert_avg['R2'].to_pandas()}\n",
    "                    )\n",
    "work.index.name = 'Variable'\n",
    "\n",
    "# save to the metrics folder\n",
    "fn_save_metrics_avg = f'./metrics/{model_name}.metrics.lev-avg.csv'\n",
    "work.to_csv(fn_save_metrics_avg)\n",
    "work"
   ]
  },
  {
   "cell_type": "code",
   "execution_count": null,
   "id": "d9a1c817-83c0-4450-9a2c-d97390614cb8",
   "metadata": {},
   "outputs": [],
   "source": []
  }
 ],
 "metadata": {
  "kernelspec": {
   "display_name": "Python 3 (ipykernel)",
   "language": "python",
   "name": "python3"
  },
  "language_info": {
   "codemirror_mode": {
    "name": "ipython",
    "version": 3
   },
   "file_extension": ".py",
   "mimetype": "text/x-python",
   "name": "python",
   "nbconvert_exporter": "python",
   "pygments_lexer": "ipython3",
   "version": "3.11.9"
  }
 },
 "nbformat": 4,
 "nbformat_minor": 5
}
