{
 "cells": [
  {
   "cell_type": "code",
   "execution_count": 1,
   "id": "2112cbc5-e7b9-4611-a9a2-a51339a99537",
   "metadata": {
    "execution": {
     "iopub.execute_input": "2024-03-19T18:49:04.438850Z",
     "iopub.status.busy": "2024-03-19T18:49:04.325142Z",
     "iopub.status.idle": "2024-03-19T18:49:24.275940Z",
     "shell.execute_reply": "2024-03-19T18:49:24.275002Z",
     "shell.execute_reply.started": "2024-03-19T18:49:04.438770Z"
    }
   },
   "outputs": [],
   "source": [
    "import xarray as xr\n",
    "import os\n",
    "import netCDF4\n",
    "import numpy as np\n",
    "import torch\n",
    "from torch import nn\n",
    "import matplotlib.pyplot as plt\n",
    "from sklearn.model_selection import train_test_split\n",
    "from sklearn.metrics import mean_absolute_error\n",
    "from torch.utils.data import DataLoader\n",
    "from torch.utils.data import random_split\n",
    "import random\n",
    "import pandas as pd\n",
    "from torch.utils.data import DataLoader, TensorDataset\n",
    "from sklearn.preprocessing import StandardScaler\n",
    "from torch.optim.lr_scheduler import ReduceLROnPlateau"
   ]
  },
  {
   "cell_type": "code",
   "execution_count": 2,
   "id": "a6546634-6ae1-4d03-be3a-ce4e75add6ef",
   "metadata": {
    "execution": {
     "iopub.execute_input": "2024-03-14T01:09:33.724692Z",
     "iopub.status.busy": "2024-03-14T01:09:33.724327Z",
     "iopub.status.idle": "2024-03-14T01:09:36.342665Z",
     "shell.execute_reply": "2024-03-14T01:09:36.341877Z",
     "shell.execute_reply.started": "2024-03-14T01:09:33.724659Z"
    }
   },
   "outputs": [
    {
     "name": "stdout",
     "output_type": "stream",
     "text": [
      "Using device: cuda\n"
     ]
    }
   ],
   "source": [
    "has_mps = torch.backends.mps.is_built()\n",
    "device = \"mps\" if has_mps else \"cuda\" if torch.cuda.is_available() else \"cpu\"\n",
    "print(f\"Using device: {device}\")"
   ]
  },
  {
   "cell_type": "code",
   "execution_count": 3,
   "id": "25e9d69b-ac49-4e00-88d2-a0b7451f637b",
   "metadata": {
    "execution": {
     "iopub.execute_input": "2024-03-14T01:09:36.349818Z",
     "iopub.status.busy": "2024-03-14T01:09:36.349168Z",
     "iopub.status.idle": "2024-03-14T01:09:36.466181Z",
     "shell.execute_reply": "2024-03-14T01:09:36.465104Z",
     "shell.execute_reply.started": "2024-03-14T01:09:36.349787Z"
    }
   },
   "outputs": [],
   "source": [
    "LEARNING_RATE = 0.01\n",
    "IN_FEATURES = 124\n",
    "OUT_FEATURES = 128\n",
    "RANDOM_SEED = 42\n",
    "BATCH_SIZE = 32\n",
    "hidden_dim = 10"
   ]
  },
  {
   "cell_type": "code",
   "execution_count": 4,
   "id": "163de63f-eaea-417e-a8cf-d665c1171f81",
   "metadata": {
    "execution": {
     "iopub.execute_input": "2024-03-14T01:09:36.471446Z",
     "iopub.status.busy": "2024-03-14T01:09:36.470714Z",
     "iopub.status.idle": "2024-03-14T01:09:38.467660Z",
     "shell.execute_reply": "2024-03-14T01:09:38.466608Z",
     "shell.execute_reply.started": "2024-03-14T01:09:36.471410Z"
    }
   },
   "outputs": [],
   "source": [
    "# use validation year: change path\n",
    "X=np.load('/work/sds-lab/Shuochen/climsim/val_input.npy')\n",
    "y=np.load('/work/sds-lab/Shuochen/climsim/val_target.npy')\n",
    "\n",
    "X = torch.from_numpy(X).type(torch.float).to(device)\n",
    "y = torch.from_numpy(y).type(torch.float).to(device)\n",
    "\n",
    "# # use all 8 years: change path\n",
    "# X_train=np.load('/work/sds-lab/Shuochen/climsim/train_input.npy')\n",
    "# y_train=np.load('/work/sds-lab/Shuochen/climsim/train_target.npy')\n",
    "# X_test=np.load('/work/sds-lab/Shuochen/climsim/val_input.npy')\n",
    "# y_test=np.load('/work/sds-lab/Shuochen/climsim/val_target.npy')\n",
    "\n",
    "# X_train = torch.from_numpy(X_train).type(torch.float).to(device)\n",
    "# y_train = torch.from_numpy(y_train).type(torch.float).to(device)\n",
    "# X_test = torch.from_numpy(X_test).type(torch.float).to(device)\n",
    "# y_test = torch.from_numpy(y_test).type(torch.float).to(device)\n",
    "\n",
    "# add channel shape\n",
    "X = X.unsqueeze(1)\n",
    "y = y.unsqueeze(1)\n",
    "\n",
    "# split datasets to training and testing\n",
    "X_train, X_test, y_train, y_test = train_test_split(X, y, test_size=0.2, random_state=RANDOM_SEED)\n",
    "# create datasets\n",
    "training_set = TensorDataset(X_train, y_train)\n",
    "testing_set = TensorDataset(X_test, y_test)\n",
    "# create dataloaders\n",
    "train_dataloader = DataLoader(training_set, # dataset to turn into iterable\n",
    "    batch_size=BATCH_SIZE, # how many samples per batch? \n",
    "    shuffle=True # shuffle data every epoch?\n",
    ")\n",
    "test_dataloader = DataLoader(testing_set,\n",
    "    batch_size=BATCH_SIZE,\n",
    "    shuffle=False # don't necessarily have to shuffle the testing data\n",
    ")"
   ]
  },
  {
   "cell_type": "code",
   "execution_count": 5,
   "id": "96d89284-94a0-4764-90ac-d2b3dce6a48b",
   "metadata": {
    "execution": {
     "iopub.execute_input": "2024-03-14T01:09:38.472550Z",
     "iopub.status.busy": "2024-03-14T01:09:38.472124Z",
     "iopub.status.idle": "2024-03-14T01:09:38.482464Z",
     "shell.execute_reply": "2024-03-14T01:09:38.481613Z",
     "shell.execute_reply.started": "2024-03-14T01:09:38.472498Z"
    }
   },
   "outputs": [
    {
     "data": {
      "text/plain": [
       "torch.Size([1441920, 1, 124])"
      ]
     },
     "execution_count": 5,
     "metadata": {},
     "output_type": "execute_result"
    }
   ],
   "source": [
    "X.shape"
   ]
  },
  {
   "cell_type": "code",
   "execution_count": 6,
   "id": "a800881d-e8db-42f9-8335-f55c903be7b8",
   "metadata": {
    "execution": {
     "iopub.execute_input": "2024-03-14T01:09:38.487021Z",
     "iopub.status.busy": "2024-03-14T01:09:38.486598Z",
     "iopub.status.idle": "2024-03-14T01:09:38.592692Z",
     "shell.execute_reply": "2024-03-14T01:09:38.591659Z",
     "shell.execute_reply.started": "2024-03-14T01:09:38.486989Z"
    }
   },
   "outputs": [],
   "source": [
    "class CNN(nn.Module):\n",
    "    def __init__(self):\n",
    "        super().__init__()\n",
    "        self.cnn_block1 = nn.Sequential(nn.Conv1d(1, 6, 3, 1, 0),\n",
    "                                    nn.ReLU(),\n",
    "                                    nn.Dropout(0.175),\n",
    "                                    nn.Conv1d(6, 6, 3, 1, 0),\n",
    "                                    nn.ReLU(),\n",
    "                                    nn.Dropout(0.175),\n",
    "                                    nn.MaxPool1d(2, 1, 0))\n",
    "        \n",
    "        # self.cnn_block2 = nn.Sequential(nn.Conv1d(6, 6, 3, 1, 0),\n",
    "        #                             nn.ReLU(),\n",
    "        #                             nn.Conv1d(6, 16, 3, 1, 0),\n",
    "        #                             nn.ReLU(),\n",
    "        #                             nn.MaxPool1d(2, 1, 0))\n",
    "        \n",
    "        self.linear = nn.Sequential(nn.Flatten(),\n",
    "                                    nn.Linear(714, 32),\n",
    "                                    nn.Linear(32, 128))\n",
    "        \n",
    "    def forward(self, x):\n",
    "        x = self.linear(self.cnn_block1(x))\n",
    "        x = x.unsqueeze(1)\n",
    "        return x\n",
    "        \n",
    "\n",
    "model_0 = CNN().to(device)"
   ]
  },
  {
   "cell_type": "code",
   "execution_count": 7,
   "id": "af128888-4b63-4efd-811c-0d838c3ea141",
   "metadata": {
    "execution": {
     "iopub.execute_input": "2024-03-14T01:09:38.597963Z",
     "iopub.status.busy": "2024-03-14T01:09:38.597384Z",
     "iopub.status.idle": "2024-03-14T01:09:43.093819Z",
     "shell.execute_reply": "2024-03-14T01:09:43.092840Z",
     "shell.execute_reply.started": "2024-03-14T01:09:38.597926Z"
    }
   },
   "outputs": [],
   "source": [
    "loss_fn = nn.MSELoss()\n",
    "optimizer = torch.optim.Adam(params=model_0.parameters(), lr=1e-4)"
   ]
  },
  {
   "cell_type": "code",
   "execution_count": 8,
   "id": "5e696d6a-552b-4b35-a9bf-e3573c0cc126",
   "metadata": {
    "execution": {
     "iopub.execute_input": "2024-03-14T01:09:43.097670Z",
     "iopub.status.busy": "2024-03-14T01:09:43.097459Z",
     "iopub.status.idle": "2024-03-14T01:13:26.500748Z",
     "shell.execute_reply": "2024-03-14T01:13:26.499306Z",
     "shell.execute_reply.started": "2024-03-14T01:09:43.097652Z"
    }
   },
   "outputs": [
    {
     "name": "stdout",
     "output_type": "stream",
     "text": [
      "Epoch: 0\n",
      "Train loss: 0.00846 | Test loss: 0.00660\n",
      "------\n",
      "Epoch: 1\n",
      "Train loss: 0.00651 | Test loss: 0.00642\n",
      "------\n",
      "Epoch: 2\n",
      "Train loss: 0.00636 | Test loss: 0.00631\n",
      "------\n"
     ]
    }
   ],
   "source": [
    "torch.manual_seed(42)\n",
    "epochs = 3\n",
    "\n",
    "for epoch in range(epochs):\n",
    "    print(f\"Epoch: {epoch}\")\n",
    "    train_loss = 0\n",
    "    for batch, (X, y) in enumerate(train_dataloader):\n",
    "        model_0.train()\n",
    "        y_pred = model_0(X)\n",
    "        loss = loss_fn(y_pred, y)\n",
    "        train_loss += loss # accumulatively add up the loss per epoch \n",
    "        optimizer.zero_grad()\n",
    "        loss.backward()\n",
    "        optimizer.step()\n",
    "\n",
    "    # Divide total train loss by length of train dataloader (average loss per batch per epoch)\n",
    "    train_loss /= len(train_dataloader)\n",
    "    \n",
    "    with torch.inference_mode():\n",
    "        test_loss = 0\n",
    "        model_0.eval()\n",
    "        for X, y in test_dataloader:\n",
    "            test_pred = model_0(X)\n",
    "            test_loss += loss_fn(test_pred, y) # accumulatively add up the loss per epoch\n",
    "        \n",
    "        # Divide total test loss by length of test dataloader (per batch)\n",
    "        test_loss /= len(test_dataloader)\n",
    "\n",
    "    print(f\"Train loss: {train_loss:.5f} | Test loss: {test_loss:.5f}\\n------\")"
   ]
  },
  {
   "cell_type": "code",
   "execution_count": 9,
   "id": "7c2733a2-c0a1-4226-998c-72ff2a5b5200",
   "metadata": {
    "execution": {
     "iopub.execute_input": "2024-03-14T01:13:26.506422Z",
     "iopub.status.busy": "2024-03-14T01:13:26.506066Z",
     "iopub.status.idle": "2024-03-14T01:13:26.851629Z",
     "shell.execute_reply": "2024-03-14T01:13:26.850704Z",
     "shell.execute_reply.started": "2024-03-14T01:13:26.506388Z"
    }
   },
   "outputs": [
    {
     "data": {
      "text/plain": [
       "[<matplotlib.lines.Line2D at 0x2b013bfe86d0>]"
      ]
     },
     "execution_count": 9,
     "metadata": {},
     "output_type": "execute_result"
    },
    {
     "data": {
      "image/png": "[encoded data removed]",
      "text/plain": [
       "<Figure size 640x480 with 1 Axes>"
      ]
     },
     "metadata": {},
     "output_type": "display_data"
    }
   ],
   "source": [
    "plt.plot(test_pred.cpu().detach().numpy()[0,0,:])"
   ]
  },
  {
   "cell_type": "code",
   "execution_count": null,
   "id": "16391ec1-4d62-4ae8-b5c1-c58ca86415ba",
   "metadata": {},
   "outputs": [],
   "source": []
  }
 ],
 "metadata": {
  "kernelspec": {
   "display_name": "Python 3 (ipykernel)",
   "language": "python",
   "name": "python3"
  },
  "language_info": {
   "codemirror_mode": {
    "name": "ipython",
    "version": 3
   },
   "file_extension": ".py",
   "mimetype": "text/x-python",
   "name": "python",
   "nbconvert_exporter": "python",
   "pygments_lexer": "ipython3",
   "version": "3.11.8"
  }
 },
 "nbformat": 4,
 "nbformat_minor": 5
}
