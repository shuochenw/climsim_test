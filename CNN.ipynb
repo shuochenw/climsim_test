{
 "cells": [
  {
   "cell_type": "code",
   "execution_count": 10,
   "id": "2112cbc5-e7b9-4611-a9a2-a51339a99537",
   "metadata": {
    "execution": {
     "iopub.execute_input": "2024-03-19T21:35:48.995612Z",
     "iopub.status.busy": "2024-03-19T21:35:48.995132Z",
     "iopub.status.idle": "2024-03-19T21:35:48.998552Z",
     "shell.execute_reply": "2024-03-19T21:35:48.998246Z",
     "shell.execute_reply.started": "2024-03-19T21:35:48.995599Z"
    }
   },
   "outputs": [],
   "source": [
    "import xarray as xr\n",
    "import os\n",
    "import netCDF4\n",
    "import numpy as np\n",
    "import torch\n",
    "from torch import nn\n",
    "import matplotlib.pyplot as plt\n",
    "from sklearn.model_selection import train_test_split\n",
    "from sklearn.metrics import mean_absolute_error\n",
    "from torch.utils.data import DataLoader\n",
    "from torch.utils.data import random_split\n",
    "import random\n",
    "import pandas as pd\n",
    "from torch.utils.data import DataLoader, TensorDataset\n",
    "from sklearn.preprocessing import StandardScaler\n",
    "from torch.optim.lr_scheduler import ReduceLROnPlateau"
   ]
  },
  {
   "cell_type": "code",
   "execution_count": 11,
   "id": "a6546634-6ae1-4d03-be3a-ce4e75add6ef",
   "metadata": {
    "execution": {
     "iopub.execute_input": "2024-03-19T21:35:48.999362Z",
     "iopub.status.busy": "2024-03-19T21:35:48.999167Z",
     "iopub.status.idle": "2024-03-19T21:35:49.134510Z",
     "shell.execute_reply": "2024-03-19T21:35:49.134206Z",
     "shell.execute_reply.started": "2024-03-19T21:35:48.999352Z"
    }
   },
   "outputs": [
    {
     "name": "stdout",
     "output_type": "stream",
     "text": [
      "Using device: cuda\n",
      "NVIDIA A100-SXM4-40GB\n",
      "Memory Usage:\n",
      "Allocated: 1.4 GB\n",
      "Cached:    2.7 GB\n"
     ]
    }
   ],
   "source": [
    "# setting device on GPU if available, else CPU\n",
    "device = torch.device('cuda' if torch.cuda.is_available() else 'cpu')\n",
    "print('Using device:', device)\n",
    "#Additional Info when using cuda\n",
    "if device.type == 'cuda':\n",
    "    print(torch.cuda.get_device_name(0))\n",
    "    print('Memory Usage:')\n",
    "    print('Allocated:', round(torch.cuda.memory_allocated(0)/1024**3,1), 'GB')\n",
    "    print('Cached:   ', round(torch.cuda.memory_reserved(0)/1024**3,1), 'GB')"
   ]
  },
  {
   "cell_type": "code",
   "execution_count": 12,
   "id": "25e9d69b-ac49-4e00-88d2-a0b7451f637b",
   "metadata": {
    "execution": {
     "iopub.execute_input": "2024-03-19T21:35:49.135188Z",
     "iopub.status.busy": "2024-03-19T21:35:49.134991Z",
     "iopub.status.idle": "2024-03-19T21:35:49.272363Z",
     "shell.execute_reply": "2024-03-19T21:35:49.272055Z",
     "shell.execute_reply.started": "2024-03-19T21:35:49.135177Z"
    }
   },
   "outputs": [],
   "source": [
    "LEARNING_RATE = 0.01\n",
    "IN_FEATURES = 124\n",
    "OUT_FEATURES = 128\n",
    "RANDOM_SEED = 42\n",
    "BATCH_SIZE = 320\n",
    "hidden_dim = 10"
   ]
  },
  {
   "cell_type": "code",
   "execution_count": 13,
   "id": "163de63f-eaea-417e-a8cf-d665c1171f81",
   "metadata": {
    "execution": {
     "iopub.execute_input": "2024-03-19T21:35:49.273265Z",
     "iopub.status.busy": "2024-03-19T21:35:49.273108Z",
     "iopub.status.idle": "2024-03-19T21:35:50.778348Z",
     "shell.execute_reply": "2024-03-19T21:35:50.777932Z",
     "shell.execute_reply.started": "2024-03-19T21:35:49.273255Z"
    }
   },
   "outputs": [],
   "source": [
    "# use validation year: change path\n",
    "X=np.load('/work/sds-lab/Shuochen/climsim/val_input.npy')\n",
    "y=np.load('/work/sds-lab/Shuochen/climsim/val_target.npy')\n",
    "\n",
    "X = torch.from_numpy(X).type(torch.float)\n",
    "y = torch.from_numpy(y).type(torch.float)\n",
    "\n",
    "# # use all 8 years: change path\n",
    "# X_train=np.load('/work/sds-lab/Shuochen/climsim/train_input.npy')\n",
    "# y_train=np.load('/work/sds-lab/Shuochen/climsim/train_target.npy')\n",
    "# X_test=np.load('/work/sds-lab/Shuochen/climsim/val_input.npy')\n",
    "# y_test=np.load('/work/sds-lab/Shuochen/climsim/val_target.npy')\n",
    "\n",
    "# X_train = torch.from_numpy(X_train).type(torch.float)\n",
    "# y_train = torch.from_numpy(y_train).type(torch.float)\n",
    "# X_test = torch.from_numpy(X_test).type(torch.float)\n",
    "# y_test = torch.from_numpy(y_test).type(torch.float)\n",
    "\n",
    "# add channel shape\n",
    "X = X.unsqueeze(1)\n",
    "y = y.unsqueeze(1)\n",
    "\n",
    "# split datasets to training and testing\n",
    "X_train, X_test, y_train, y_test = train_test_split(X, y, test_size=0.2, random_state=RANDOM_SEED)\n",
    "# create datasets\n",
    "training_set = TensorDataset(X_train, y_train)\n",
    "testing_set = TensorDataset(X_test, y_test)\n",
    "# create dataloaders\n",
    "train_dataloader = DataLoader(training_set, # dataset to turn into iterable\n",
    "    batch_size=BATCH_SIZE, # how many samples per batch? \n",
    "    shuffle=True # shuffle data every epoch?\n",
    ")\n",
    "test_dataloader = DataLoader(testing_set,\n",
    "    batch_size=BATCH_SIZE,\n",
    "    shuffle=False # don't necessarily have to shuffle the testing data\n",
    ")"
   ]
  },
  {
   "cell_type": "code",
   "execution_count": 14,
   "id": "96d89284-94a0-4764-90ac-d2b3dce6a48b",
   "metadata": {
    "execution": {
     "iopub.execute_input": "2024-03-19T21:35:50.778979Z",
     "iopub.status.busy": "2024-03-19T21:35:50.778841Z",
     "iopub.status.idle": "2024-03-19T21:35:50.783646Z",
     "shell.execute_reply": "2024-03-19T21:35:50.783348Z",
     "shell.execute_reply.started": "2024-03-19T21:35:50.778969Z"
    }
   },
   "outputs": [
    {
     "data": {
      "text/plain": [
       "torch.Size([1441920, 1, 124])"
      ]
     },
     "execution_count": 14,
     "metadata": {},
     "output_type": "execute_result"
    }
   ],
   "source": [
    "X.shape"
   ]
  },
  {
   "cell_type": "code",
   "execution_count": 15,
   "id": "a800881d-e8db-42f9-8335-f55c903be7b8",
   "metadata": {
    "execution": {
     "iopub.execute_input": "2024-03-19T21:35:50.784269Z",
     "iopub.status.busy": "2024-03-19T21:35:50.784075Z",
     "iopub.status.idle": "2024-03-19T21:35:50.893310Z",
     "shell.execute_reply": "2024-03-19T21:35:50.892922Z",
     "shell.execute_reply.started": "2024-03-19T21:35:50.784257Z"
    }
   },
   "outputs": [],
   "source": [
    "class CNN(nn.Module):\n",
    "    def __init__(self):\n",
    "        super().__init__()\n",
    "        self.cnn_block1 = nn.Sequential(nn.Conv1d(1, 6, 3, 1, 0),\n",
    "                                    nn.ReLU(),\n",
    "                                    nn.Dropout(0.175),\n",
    "                                    nn.Conv1d(6, 6, 3, 1, 0),\n",
    "                                    nn.ReLU(),\n",
    "                                    nn.Dropout(0.175),\n",
    "                                    nn.MaxPool1d(2, 1, 0))\n",
    "        \n",
    "        # self.cnn_block2 = nn.Sequential(nn.Conv1d(6, 6, 3, 1, 0),\n",
    "        #                             nn.ReLU(),\n",
    "        #                             nn.Conv1d(6, 16, 3, 1, 0),\n",
    "        #                             nn.ReLU(),\n",
    "        #                             nn.MaxPool1d(2, 1, 0))\n",
    "        \n",
    "        self.linear = nn.Sequential(nn.Flatten(),\n",
    "                                    nn.Linear(714, 32),\n",
    "                                    nn.Linear(32, 128))\n",
    "        \n",
    "    def forward(self, x):\n",
    "        x = self.linear(self.cnn_block1(x))\n",
    "        x = x.unsqueeze(1)\n",
    "        return x\n",
    "        \n",
    "model = CNN().to(device)\n",
    "loss_fn = nn.MSELoss()\n",
    "optimizer = torch.optim.Adam(params=model.parameters(), lr=1e-4)"
   ]
  },
  {
   "cell_type": "code",
   "execution_count": 16,
   "id": "5e696d6a-552b-4b35-a9bf-e3573c0cc126",
   "metadata": {
    "execution": {
     "iopub.execute_input": "2024-03-19T21:35:50.894059Z",
     "iopub.status.busy": "2024-03-19T21:35:50.893929Z",
     "iopub.status.idle": "2024-03-19T21:37:09.723386Z",
     "shell.execute_reply": "2024-03-19T21:37:09.723028Z",
     "shell.execute_reply.started": "2024-03-19T21:35:50.894049Z"
    }
   },
   "outputs": [
    {
     "name": "stdout",
     "output_type": "stream",
     "text": [
      "Epoch: 0 | Train loss: 0.01088 | Test loss: 0.00859\n",
      "Epoch: 1 | Train loss: 0.00708 | Test loss: 0.00826\n",
      "Epoch: 2 | Train loss: 0.00685 | Test loss: 0.00815\n",
      "Epoch: 3 | Train loss: 0.00675 | Test loss: 0.00807\n",
      "Epoch: 4 | Train loss: 0.00669 | Test loss: 0.00809\n"
     ]
    }
   ],
   "source": [
    "torch.manual_seed(42)\n",
    "epochs = 5\n",
    "\n",
    "for epoch in range(epochs):\n",
    "    train_loss = 0\n",
    "    for batch, (X, y) in enumerate(train_dataloader):\n",
    "        model.train()\n",
    "        y_pred = model(X.to(device))\n",
    "        loss = loss_fn(y_pred, y.to(device))\n",
    "        train_loss += loss # accumulatively add up the loss per epoch \n",
    "        optimizer.zero_grad()\n",
    "        loss.backward()\n",
    "        optimizer.step()\n",
    "\n",
    "    # Divide total train loss by length of train dataloader (average loss per batch per epoch)\n",
    "    train_loss /= len(train_dataloader)\n",
    "    \n",
    "    with torch.inference_mode():\n",
    "        test_loss = 0\n",
    "        model.eval()\n",
    "        for X, y in test_dataloader:\n",
    "            test_pred = model(X.to(device))\n",
    "            test_loss += loss_fn(test_pred, y.to(device)) # accumulatively add up the loss per epoch\n",
    "        \n",
    "        # Divide total test loss by length of test dataloader (per batch)\n",
    "        test_loss /= len(test_dataloader)\n",
    "\n",
    "    print(f\"Epoch: {epoch} | Train loss: {train_loss:.5f} | Test loss: {test_loss:.5f}\")"
   ]
  },
  {
   "cell_type": "code",
   "execution_count": 20,
   "id": "7c2733a2-c0a1-4226-998c-72ff2a5b5200",
   "metadata": {
    "execution": {
     "iopub.execute_input": "2024-03-19T21:37:52.124229Z",
     "iopub.status.busy": "2024-03-19T21:37:52.123894Z",
     "iopub.status.idle": "2024-03-19T21:37:54.998682Z",
     "shell.execute_reply": "2024-03-19T21:37:54.997935Z",
     "shell.execute_reply.started": "2024-03-19T21:37:52.124214Z"
    }
   },
   "outputs": [],
   "source": [
    "# combine batches\n",
    "model = model.to('cpu')\n",
    "test_pred = model(X_test)\n",
    "test_pred = test_pred.detach().numpy()\n",
    "y_test = y_test.detach().numpy()"
   ]
  },
  {
   "cell_type": "code",
   "execution_count": 25,
   "id": "72273a3b-481b-479b-820f-933622423cf6",
   "metadata": {
    "execution": {
     "iopub.execute_input": "2024-03-19T21:38:37.173562Z",
     "iopub.status.busy": "2024-03-19T21:38:37.173301Z",
     "iopub.status.idle": "2024-03-19T21:38:37.860188Z",
     "shell.execute_reply": "2024-03-19T21:38:37.859821Z",
     "shell.execute_reply.started": "2024-03-19T21:38:37.173550Z"
    }
   },
   "outputs": [
    {
     "data": {
      "text/plain": [
       "[<matplotlib.lines.Line2D at 0x2acf98a8d390>]"
      ]
     },
     "execution_count": 25,
     "metadata": {},
     "output_type": "execute_result"
    },
    {
     "data": {
      "image/png": "[encoded data removed]",
      "text/plain": [
       "<Figure size 640x480 with 1 Axes>"
      ]
     },
     "metadata": {},
     "output_type": "display_data"
    }
   ],
   "source": [
    "plt.plot(test_pred[0,0,:])\n",
    "plt.plot(y_test[0,0,:])"
   ]
  },
  {
   "cell_type": "markdown",
   "id": "ac43a717-bca2-47ea-abcc-3d63482f8578",
   "metadata": {},
   "source": [
    "# to do: post-processing (metric files)"
   ]
  },
  {
   "cell_type": "code",
   "execution_count": null,
   "id": "9d76393a-d841-4c12-80e8-4d477aba582b",
   "metadata": {},
   "outputs": [],
   "source": []
  },
  {
   "cell_type": "code",
   "execution_count": null,
   "id": "834d2e39-fdc8-4f5a-b06d-aab5b17b9b3c",
   "metadata": {},
   "outputs": [],
   "source": []
  },
  {
   "cell_type": "code",
   "execution_count": null,
   "id": "30a8f137-4190-480b-a27b-18f11711b34a",
   "metadata": {},
   "outputs": [],
   "source": []
  }
 ],
 "metadata": {
  "kernelspec": {
   "display_name": "Python 3 (ipykernel)",
   "language": "python",
   "name": "python3"
  },
  "language_info": {
   "codemirror_mode": {
    "name": "ipython",
    "version": 3
   },
   "file_extension": ".py",
   "mimetype": "text/x-python",
   "name": "python",
   "nbconvert_exporter": "python",
   "pygments_lexer": "ipython3",
   "version": "3.11.8"
  }
 },
 "nbformat": 4,
 "nbformat_minor": 5
}
