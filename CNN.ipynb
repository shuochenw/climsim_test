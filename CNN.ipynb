{
 "cells": [
  {
   "cell_type": "code",
   "execution_count": 1,
   "id": "2112cbc5-e7b9-4611-a9a2-a51339a99537",
   "metadata": {
    "execution": {
     "iopub.execute_input": "2024-03-23T21:07:11.990825Z",
     "iopub.status.busy": "2024-03-23T21:07:11.990359Z",
     "iopub.status.idle": "2024-03-23T21:07:34.313113Z",
     "shell.execute_reply": "2024-03-23T21:07:34.312187Z",
     "shell.execute_reply.started": "2024-03-23T21:07:11.990787Z"
    }
   },
   "outputs": [],
   "source": [
    "import xarray as xr\n",
    "import os\n",
    "import netCDF4\n",
    "import numpy as np\n",
    "import torch\n",
    "from torch import nn\n",
    "import matplotlib.pyplot as plt\n",
    "from sklearn.model_selection import train_test_split\n",
    "from sklearn.metrics import mean_absolute_error\n",
    "from torch.utils.data import DataLoader\n",
    "from torch.utils.data import random_split\n",
    "import random\n",
    "import pandas as pd\n",
    "from torch.utils.data import DataLoader, TensorDataset\n",
    "from sklearn.preprocessing import StandardScaler\n",
    "from torch.optim.lr_scheduler import ReduceLROnPlateau"
   ]
  },
  {
   "cell_type": "code",
   "execution_count": 2,
   "id": "a6546634-6ae1-4d03-be3a-ce4e75add6ef",
   "metadata": {
    "execution": {
     "iopub.execute_input": "2024-03-23T21:07:34.316659Z",
     "iopub.status.busy": "2024-03-23T21:07:34.316470Z",
     "iopub.status.idle": "2024-03-23T21:07:35.119543Z",
     "shell.execute_reply": "2024-03-23T21:07:35.118636Z",
     "shell.execute_reply.started": "2024-03-23T21:07:34.316641Z"
    }
   },
   "outputs": [
    {
     "name": "stdout",
     "output_type": "stream",
     "text": [
      "Using device: cuda\n",
      "Tesla P100-PCIE-12GB\n",
      "Memory Usage:\n",
      "Allocated: 0.0 GB\n",
      "Cached:    0.0 GB\n"
     ]
    }
   ],
   "source": [
    "# setting device on GPU if available, else CPU\n",
    "device = torch.device('cuda' if torch.cuda.is_available() else 'cpu')\n",
    "print('Using device:', device)\n",
    "#Additional Info when using cuda\n",
    "if device.type == 'cuda':\n",
    "    print(torch.cuda.get_device_name(0))\n",
    "    print('Memory Usage:')\n",
    "    print('Allocated:', round(torch.cuda.memory_allocated(0)/1024**3,1), 'GB')\n",
    "    print('Cached:   ', round(torch.cuda.memory_reserved(0)/1024**3,1), 'GB')"
   ]
  },
  {
   "cell_type": "code",
   "execution_count": 3,
   "id": "25e9d69b-ac49-4e00-88d2-a0b7451f637b",
   "metadata": {
    "execution": {
     "iopub.execute_input": "2024-03-23T21:07:35.127988Z",
     "iopub.status.busy": "2024-03-23T21:07:35.127788Z",
     "iopub.status.idle": "2024-03-23T21:07:35.647278Z",
     "shell.execute_reply": "2024-03-23T21:07:35.646129Z",
     "shell.execute_reply.started": "2024-03-23T21:07:35.127968Z"
    }
   },
   "outputs": [],
   "source": [
    "LEARNING_RATE = 0.01\n",
    "IN_FEATURES = 124\n",
    "OUT_FEATURES = 128\n",
    "RANDOM_SEED = 42\n",
    "BATCH_SIZE = 320\n",
    "hidden_dim = 10"
   ]
  },
  {
   "cell_type": "code",
   "execution_count": 4,
   "id": "163de63f-eaea-417e-a8cf-d665c1171f81",
   "metadata": {
    "execution": {
     "iopub.execute_input": "2024-03-23T21:07:35.652437Z",
     "iopub.status.busy": "2024-03-23T21:07:35.652063Z",
     "iopub.status.idle": "2024-03-23T21:07:37.959917Z",
     "shell.execute_reply": "2024-03-23T21:07:37.959379Z",
     "shell.execute_reply.started": "2024-03-23T21:07:35.652402Z"
    }
   },
   "outputs": [],
   "source": [
    "# use validation year: change path\n",
    "X=np.load('/work/sds-lab/Shuochen/climsim/val_input.npy')\n",
    "y=np.load('/work/sds-lab/Shuochen/climsim/val_target.npy')\n",
    "\n",
    "X = torch.from_numpy(X).type(torch.float)\n",
    "y = torch.from_numpy(y).type(torch.float)\n",
    "\n",
    "# # use all 8 years: change path\n",
    "# X_train=np.load('/work/sds-lab/Shuochen/climsim/train_input.npy')\n",
    "# y_train=np.load('/work/sds-lab/Shuochen/climsim/train_target.npy')\n",
    "# X_test=np.load('/work/sds-lab/Shuochen/climsim/val_input.npy')\n",
    "# y_test=np.load('/work/sds-lab/Shuochen/climsim/val_target.npy')\n",
    "\n",
    "# X_train = torch.from_numpy(X_train).type(torch.float)\n",
    "# y_train = torch.from_numpy(y_train).type(torch.float)\n",
    "# X_test = torch.from_numpy(X_test).type(torch.float)\n",
    "# y_test = torch.from_numpy(y_test).type(torch.float)\n",
    "\n",
    "# add channel shape\n",
    "X = X.unsqueeze(1)\n",
    "y = y.unsqueeze(1)\n",
    "\n",
    "# split datasets to training and testing\n",
    "X_train, X_test, y_train, y_test = train_test_split(X, y, test_size=0.2, random_state=RANDOM_SEED)\n",
    "# create datasets\n",
    "training_set = TensorDataset(X_train, y_train)\n",
    "testing_set = TensorDataset(X_test, y_test)\n",
    "# create dataloaders\n",
    "train_dataloader = DataLoader(training_set, # dataset to turn into iterable\n",
    "    batch_size=BATCH_SIZE, # how many samples per batch? \n",
    "    shuffle=True # shuffle data every epoch?\n",
    ")\n",
    "test_dataloader = DataLoader(testing_set,\n",
    "    batch_size=BATCH_SIZE,\n",
    "    shuffle=False # don't necessarily have to shuffle the testing data\n",
    ")"
   ]
  },
  {
   "cell_type": "code",
   "execution_count": 5,
   "id": "a32656ef-8f32-43b5-b8a5-0fbe5f892bc3",
   "metadata": {
    "execution": {
     "iopub.execute_input": "2024-03-23T21:07:37.962246Z",
     "iopub.status.busy": "2024-03-23T21:07:37.962063Z",
     "iopub.status.idle": "2024-03-23T21:07:37.968175Z",
     "shell.execute_reply": "2024-03-23T21:07:37.967739Z",
     "shell.execute_reply.started": "2024-03-23T21:07:37.962227Z"
    }
   },
   "outputs": [
    {
     "data": {
      "text/plain": [
       "torch.Size([1441920, 1, 124])"
      ]
     },
     "execution_count": 5,
     "metadata": {},
     "output_type": "execute_result"
    }
   ],
   "source": [
    "X.shape"
   ]
  },
  {
   "cell_type": "code",
   "execution_count": 6,
   "id": "a800881d-e8db-42f9-8335-f55c903be7b8",
   "metadata": {
    "execution": {
     "iopub.execute_input": "2024-03-23T21:07:37.970551Z",
     "iopub.status.busy": "2024-03-23T21:07:37.970214Z",
     "iopub.status.idle": "2024-03-23T21:07:46.059651Z",
     "shell.execute_reply": "2024-03-23T21:07:46.058714Z",
     "shell.execute_reply.started": "2024-03-23T21:07:37.970533Z"
    }
   },
   "outputs": [],
   "source": [
    "class CNN(nn.Module):\n",
    "    def __init__(self):\n",
    "        super().__init__()\n",
    "        self.cnn_block1 = nn.Sequential(nn.Conv1d(1, 6, 3, 1, 'same'),\n",
    "                                    nn.ReLU(),\n",
    "                                    nn.Dropout(0.175),\n",
    "                                    nn.Conv1d(6, 6, 3, 1, 'same'),\n",
    "                                    nn.ReLU(),\n",
    "                                    nn.Dropout(0.175),\n",
    "                                    nn.MaxPool1d(2, 1, 0))\n",
    "        \n",
    "        # self.cnn_block2 = nn.Sequential(nn.Conv1d(6, 6, 3, 1, 0),\n",
    "        #                             nn.ReLU(),\n",
    "        #                             nn.Conv1d(6, 16, 3, 1, 0),\n",
    "        #                             nn.ReLU(),\n",
    "        #                             nn.MaxPool1d(2, 1, 0))\n",
    "        \n",
    "        self.linear = nn.Sequential(nn.Flatten(),\n",
    "                                    nn.Linear(738, 32),\n",
    "                                    nn.Linear(32, 128))\n",
    "        \n",
    "    def forward(self, x):\n",
    "        x = self.cnn_block1(x)\n",
    "        # print(x.shape)\n",
    "        x = self.linear(x)\n",
    "        x = x.unsqueeze(1)\n",
    "        return x\n",
    "        \n",
    "model = CNN().to(device)\n",
    "loss_fn = nn.MSELoss()\n",
    "optimizer = torch.optim.Adam(params=model.parameters(), betas=(0.9, 0.999), eps=1e-7, lr=1e-3)\n",
    "scheduler = torch.optim.lr_scheduler.CyclicLR(optimizer, 1e-4, 1e-3, step_size_up = 2 * X.shape[0] / 12, \n",
    "                                              cycle_momentum=False, \n",
    "                                              scale_fn=lambda x: 1/(2.**(x-1))\n",
    "                                             )"
   ]
  },
  {
   "cell_type": "code",
   "execution_count": 7,
   "id": "5e696d6a-552b-4b35-a9bf-e3573c0cc126",
   "metadata": {
    "execution": {
     "iopub.execute_input": "2024-03-23T21:07:46.063027Z",
     "iopub.status.busy": "2024-03-23T21:07:46.062834Z",
     "iopub.status.idle": "2024-03-23T21:09:22.088089Z",
     "shell.execute_reply": "2024-03-23T21:09:22.087317Z",
     "shell.execute_reply.started": "2024-03-23T21:07:46.063010Z"
    }
   },
   "outputs": [
    {
     "name": "stdout",
     "output_type": "stream",
     "text": [
      "Epoch: 0 | Train loss: 0.01009 | Test loss: 0.00898\n",
      "Epoch: 1 | Train loss: 0.00692 | Test loss: 0.00816\n",
      "Epoch: 2 | Train loss: 0.00663 | Test loss: 0.00769\n",
      "Epoch: 3 | Train loss: 0.00651 | Test loss: 0.00729\n",
      "Epoch: 4 | Train loss: 0.00643 | Test loss: 0.00707\n"
     ]
    }
   ],
   "source": [
    "torch.manual_seed(42)\n",
    "epochs = 5\n",
    "\n",
    "for epoch in range(epochs):\n",
    "    train_loss = 0\n",
    "    for batch, (X, y) in enumerate(train_dataloader):\n",
    "        model.train()\n",
    "        y_pred = model(X.to(device))\n",
    "        loss = loss_fn(y_pred, y.to(device))\n",
    "        train_loss += loss # accumulatively add up the loss per epoch  \n",
    "        optimizer.zero_grad()\n",
    "        loss.backward()\n",
    "        optimizer.step()\n",
    "        \n",
    "    # before_lr = optimizer.param_groups[0][\"lr\"]\n",
    "    scheduler.step()\n",
    "    # after_lr = optimizer.param_groups[0][\"lr\"]\n",
    "    # print(\"Epoch %d: SGD lr %.4f -> %.4f\" % (epoch, before_lr, after_lr))\n",
    "    \n",
    "    # Divide total train loss by length of train dataloader (average loss per batch per epoch)\n",
    "    train_loss /= len(train_dataloader)\n",
    "    \n",
    "    with torch.inference_mode():\n",
    "        test_loss = 0\n",
    "        model.eval()\n",
    "        for X, y in test_dataloader:\n",
    "            test_pred = model(X.to(device))\n",
    "            test_loss += loss_fn(test_pred, y.to(device)) # accumulatively add up the loss per epoch\n",
    "        \n",
    "        # Divide total test loss by length of test dataloader (per batch)\n",
    "        test_loss /= len(test_dataloader)\n",
    "    \n",
    "    print(f\"Epoch: {epoch} | Train loss: {train_loss:.5f} | Test loss: {test_loss:.5f}\")"
   ]
  },
  {
   "cell_type": "code",
   "execution_count": 8,
   "id": "7c2733a2-c0a1-4226-998c-72ff2a5b5200",
   "metadata": {
    "execution": {
     "iopub.execute_input": "2024-03-23T21:09:22.092707Z",
     "iopub.status.busy": "2024-03-23T21:09:22.092323Z",
     "iopub.status.idle": "2024-03-23T21:09:25.209442Z",
     "shell.execute_reply": "2024-03-23T21:09:25.208610Z",
     "shell.execute_reply.started": "2024-03-23T21:09:22.092671Z"
    }
   },
   "outputs": [],
   "source": [
    "# combine batches\n",
    "model = model.to('cpu')\n",
    "test_pred = model(X_test)\n",
    "test_pred = test_pred.detach().numpy()\n",
    "y_test = y_test.detach().numpy()"
   ]
  },
  {
   "cell_type": "code",
   "execution_count": 9,
   "id": "72273a3b-481b-479b-820f-933622423cf6",
   "metadata": {
    "execution": {
     "iopub.execute_input": "2024-03-23T21:09:25.214675Z",
     "iopub.status.busy": "2024-03-23T21:09:25.214266Z",
     "iopub.status.idle": "2024-03-23T21:09:25.575817Z",
     "shell.execute_reply": "2024-03-23T21:09:25.574832Z",
     "shell.execute_reply.started": "2024-03-23T21:09:25.214637Z"
    }
   },
   "outputs": [
    {
     "data": {
      "text/plain": [
       "[<matplotlib.lines.Line2D at 0x2aaf53ca2910>]"
      ]
     },
     "execution_count": 9,
     "metadata": {},
     "output_type": "execute_result"
    },
    {
     "data": {
      "image/png": "[encoded data removed]",
      "text/plain": [
       "<Figure size 640x480 with 1 Axes>"
      ]
     },
     "metadata": {},
     "output_type": "display_data"
    }
   ],
   "source": [
    "plt.plot(test_pred[0,0,:])\n",
    "plt.plot(y_test[0,0,:])"
   ]
  },
  {
   "cell_type": "markdown",
   "id": "ac43a717-bca2-47ea-abcc-3d63482f8578",
   "metadata": {},
   "source": [
    "# to do: post-processing (metric files)"
   ]
  },
  {
   "cell_type": "code",
   "execution_count": null,
   "id": "834d2e39-fdc8-4f5a-b06d-aab5b17b9b3c",
   "metadata": {},
   "outputs": [],
   "source": []
  },
  {
   "cell_type": "code",
   "execution_count": null,
   "id": "30a8f137-4190-480b-a27b-18f11711b34a",
   "metadata": {},
   "outputs": [],
   "source": []
  }
 ],
 "metadata": {
  "kernelspec": {
   "display_name": "Python 3 (ipykernel)",
   "language": "python",
   "name": "python3"
  },
  "language_info": {
   "codemirror_mode": {
    "name": "ipython",
    "version": 3
   },
   "file_extension": ".py",
   "mimetype": "text/x-python",
   "name": "python",
   "nbconvert_exporter": "python",
   "pygments_lexer": "ipython3",
   "version": "3.11.8"
  }
 },
 "nbformat": 4,
 "nbformat_minor": 5
}
