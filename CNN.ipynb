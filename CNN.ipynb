{
 "cells": [
  {
   "cell_type": "code",
   "execution_count": 1,
   "id": "2112cbc5-e7b9-4611-a9a2-a51339a99537",
   "metadata": {
    "execution": {
     "iopub.execute_input": "2024-03-26T17:57:11.815232Z",
     "iopub.status.busy": "2024-03-26T17:57:11.815132Z",
     "iopub.status.idle": "2024-03-26T17:57:15.317686Z",
     "shell.execute_reply": "2024-03-26T17:57:15.317350Z",
     "shell.execute_reply.started": "2024-03-26T17:57:11.815223Z"
    }
   },
   "outputs": [],
   "source": [
    "import xarray as xr\n",
    "import os\n",
    "import netCDF4\n",
    "import numpy as np\n",
    "import torch\n",
    "from torch import nn\n",
    "import matplotlib.pyplot as plt\n",
    "from sklearn.model_selection import train_test_split\n",
    "from sklearn.metrics import mean_absolute_error\n",
    "from torch.utils.data import DataLoader\n",
    "from torch.utils.data import random_split\n",
    "import random\n",
    "import pandas as pd\n",
    "from torch.utils.data import DataLoader, TensorDataset\n",
    "from sklearn.preprocessing import StandardScaler\n",
    "from torch.optim.lr_scheduler import ReduceLROnPlateau"
   ]
  },
  {
   "cell_type": "code",
   "execution_count": 2,
   "id": "a6546634-6ae1-4d03-be3a-ce4e75add6ef",
   "metadata": {
    "execution": {
     "iopub.execute_input": "2024-03-26T17:57:15.318367Z",
     "iopub.status.busy": "2024-03-26T17:57:15.318154Z",
     "iopub.status.idle": "2024-03-26T17:57:15.505979Z",
     "shell.execute_reply": "2024-03-26T17:57:15.505600Z",
     "shell.execute_reply.started": "2024-03-26T17:57:15.318355Z"
    }
   },
   "outputs": [
    {
     "name": "stdout",
     "output_type": "stream",
     "text": [
      "Using device: cuda\n",
      "NVIDIA A100-SXM4-80GB\n",
      "Memory Usage:\n",
      "Allocated: 0.0 GB\n",
      "Cached:    0.0 GB\n"
     ]
    }
   ],
   "source": [
    "# setting device on GPU if available, else CPU\n",
    "device = torch.device('cuda' if torch.cuda.is_available() else 'cpu')\n",
    "print('Using device:', device)\n",
    "#Additional Info when using cuda\n",
    "if device.type == 'cuda':\n",
    "    print(torch.cuda.get_device_name(0))\n",
    "    print('Memory Usage:')\n",
    "    print('Allocated:', round(torch.cuda.memory_allocated(0)/1024**3,1), 'GB')\n",
    "    print('Cached:   ', round(torch.cuda.memory_reserved(0)/1024**3,1), 'GB')"
   ]
  },
  {
   "cell_type": "code",
   "execution_count": 3,
   "id": "25e9d69b-ac49-4e00-88d2-a0b7451f637b",
   "metadata": {
    "execution": {
     "iopub.execute_input": "2024-03-26T17:57:15.507306Z",
     "iopub.status.busy": "2024-03-26T17:57:15.507018Z",
     "iopub.status.idle": "2024-03-26T17:57:15.509191Z",
     "shell.execute_reply": "2024-03-26T17:57:15.508922Z",
     "shell.execute_reply.started": "2024-03-26T17:57:15.507293Z"
    }
   },
   "outputs": [],
   "source": [
    "LEARNING_RATE = 0.01\n",
    "IN_FEATURES = 124\n",
    "OUT_FEATURES = 128\n",
    "RANDOM_SEED = 42\n",
    "BATCH_SIZE = 320"
   ]
  },
  {
   "cell_type": "code",
   "execution_count": 4,
   "id": "163de63f-eaea-417e-a8cf-d665c1171f81",
   "metadata": {
    "execution": {
     "iopub.execute_input": "2024-03-26T17:57:15.509679Z",
     "iopub.status.busy": "2024-03-26T17:57:15.509570Z",
     "iopub.status.idle": "2024-03-26T17:57:18.902280Z",
     "shell.execute_reply": "2024-03-26T17:57:18.901793Z",
     "shell.execute_reply.started": "2024-03-26T17:57:15.509669Z"
    }
   },
   "outputs": [],
   "source": [
    "# # use validation year: change path\n",
    "# X=np.load('/work/sds-lab/Shuochen/climsim/val_input.npy')\n",
    "# y=np.load('/work/sds-lab/Shuochen/climsim/val_target.npy')\n",
    "\n",
    "# X = torch.from_numpy(X).type(torch.float)\n",
    "# y = torch.from_numpy(y).type(torch.float)\n",
    "\n",
    "# use all 8 years: change path\n",
    "X_train=np.load('/work/sds-lab/Shuochen/climsim/train_input.npy')\n",
    "y_train=np.load('/work/sds-lab/Shuochen/climsim/train_target.npy')\n",
    "X_test=np.load('/work/sds-lab/Shuochen/climsim/val_input.npy')\n",
    "y_test=np.load('/work/sds-lab/Shuochen/climsim/val_target.npy')\n",
    "\n",
    "X_train = torch.from_numpy(X_train).type(torch.float)\n",
    "y_train = torch.from_numpy(y_train).type(torch.float)\n",
    "X_test = torch.from_numpy(X_test).type(torch.float)\n",
    "y_test = torch.from_numpy(y_test).type(torch.float)\n",
    "\n",
    "# add channel shape\n",
    "X_train = X_train.unsqueeze(1)\n",
    "y_train = y_train.unsqueeze(1)\n",
    "X_test = X_test.unsqueeze(1)\n",
    "y_test = y_test.unsqueeze(1)\n",
    "\n",
    "# # split datasets to training and testing\n",
    "# X_train, X_test, y_train, y_test = train_test_split(X, y, test_size=0.2, random_state=RANDOM_SEED)\n",
    "# create datasets\n",
    "training_set = TensorDataset(X_train, y_train)\n",
    "testing_set = TensorDataset(X_test, y_test)\n",
    "# create dataloaders\n",
    "train_dataloader = DataLoader(training_set, # dataset to turn into iterable\n",
    "    batch_size=BATCH_SIZE, # how many samples per batch? \n",
    "    shuffle=True # shuffle data every epoch?\n",
    ")\n",
    "test_dataloader = DataLoader(testing_set,\n",
    "    batch_size=BATCH_SIZE,\n",
    "    shuffle=False # don't necessarily have to shuffle the testing data\n",
    ")"
   ]
  },
  {
   "cell_type": "code",
   "execution_count": 5,
   "id": "a32656ef-8f32-43b5-b8a5-0fbe5f892bc3",
   "metadata": {
    "execution": {
     "iopub.execute_input": "2024-03-26T17:57:18.903120Z",
     "iopub.status.busy": "2024-03-26T17:57:18.902932Z",
     "iopub.status.idle": "2024-03-26T17:57:18.907661Z",
     "shell.execute_reply": "2024-03-26T17:57:18.907389Z",
     "shell.execute_reply.started": "2024-03-26T17:57:18.903108Z"
    }
   },
   "outputs": [
    {
     "data": {
      "text/plain": [
       "torch.Size([10091520, 1, 124])"
      ]
     },
     "execution_count": 5,
     "metadata": {},
     "output_type": "execute_result"
    }
   ],
   "source": [
    "X_train.shape"
   ]
  },
  {
   "cell_type": "code",
   "execution_count": 6,
   "id": "a800881d-e8db-42f9-8335-f55c903be7b8",
   "metadata": {
    "execution": {
     "iopub.execute_input": "2024-03-26T17:57:18.908259Z",
     "iopub.status.busy": "2024-03-26T17:57:18.908084Z",
     "iopub.status.idle": "2024-03-26T17:57:20.167176Z",
     "shell.execute_reply": "2024-03-26T17:57:20.166856Z",
     "shell.execute_reply.started": "2024-03-26T17:57:18.908248Z"
    }
   },
   "outputs": [],
   "source": [
    "class CNN(nn.Module):\n",
    "    def __init__(self):\n",
    "        super().__init__()\n",
    "        self.cnn_block1 = nn.Sequential(nn.Conv1d(1, 6, 3, 1, 'same'),\n",
    "                                    nn.ReLU(),\n",
    "                                    nn.Dropout(0.175),\n",
    "                                    nn.Conv1d(6, 6, 3, 1, 'same'),\n",
    "                                    nn.ReLU(),\n",
    "                                    nn.Dropout(0.175),\n",
    "                                    nn.MaxPool1d(2, 1, 0))\n",
    "        \n",
    "        # self.cnn_block2 = nn.Sequential(nn.Conv1d(6, 6, 3, 1, 0),\n",
    "        #                             nn.ReLU(),\n",
    "        #                             nn.Conv1d(6, 16, 3, 1, 0),\n",
    "        #                             nn.ReLU(),\n",
    "        #                             nn.MaxPool1d(2, 1, 0))\n",
    "        \n",
    "        self.linear = nn.Sequential(nn.Flatten(),\n",
    "                                    nn.Linear(738, 32),\n",
    "                                    nn.ReLU()\n",
    "                                    nn.Linear(32, 128))\n",
    "        \n",
    "    def forward(self, x):\n",
    "        x = self.cnn_block1(x)\n",
    "        # print(x.shape)\n",
    "        x = self.linear(x)\n",
    "        x = x.unsqueeze(1)\n",
    "        return x\n",
    "        \n",
    "model = CNN().to(device)\n",
    "loss_fn = nn.MSELoss()\n",
    "optimizer = torch.optim.Adam(params=model.parameters(), betas=(0.9, 0.999), eps=1e-7, lr=1e-3)\n",
    "scheduler = torch.optim.lr_scheduler.CyclicLR(optimizer, 1e-4, 1e-3, step_size_up = 2 * X_train.shape[0] / 12, \n",
    "                                              cycle_momentum=False, \n",
    "                                              scale_fn=lambda x: 1/(2.**(x-1))\n",
    "                                             )"
   ]
  },
  {
   "cell_type": "code",
   "execution_count": 7,
   "id": "5e696d6a-552b-4b35-a9bf-e3573c0cc126",
   "metadata": {
    "execution": {
     "iopub.execute_input": "2024-03-26T17:57:20.167770Z",
     "iopub.status.busy": "2024-03-26T17:57:20.167608Z",
     "iopub.status.idle": "2024-03-26T18:14:07.087028Z",
     "shell.execute_reply": "2024-03-26T18:14:07.086659Z",
     "shell.execute_reply.started": "2024-03-26T17:57:20.167759Z"
    }
   },
   "outputs": [
    {
     "name": "stdout",
     "output_type": "stream",
     "text": [
      "Epoch: 0 | Train loss: 0.00676 | Test loss: 0.00663\n",
      "Epoch: 1 | Train loss: 0.00618 | Test loss: 0.00633\n",
      "Epoch: 2 | Train loss: 0.00613 | Test loss: 0.00627\n",
      "Epoch: 3 | Train loss: 0.00611 | Test loss: 0.00626\n",
      "Epoch: 4 | Train loss: 0.00610 | Test loss: 0.00620\n",
      "Epoch: 5 | Train loss: 0.00609 | Test loss: 0.00618\n",
      "Epoch: 6 | Train loss: 0.00608 | Test loss: 0.00619\n",
      "Epoch: 7 | Train loss: 0.00607 | Test loss: 0.00623\n",
      "Epoch: 8 | Train loss: 0.00607 | Test loss: 0.00623\n",
      "Epoch: 9 | Train loss: 0.00606 | Test loss: 0.00625\n"
     ]
    }
   ],
   "source": [
    "torch.manual_seed(42)\n",
    "epochs = 10\n",
    "\n",
    "for epoch in range(epochs):\n",
    "    train_loss = 0\n",
    "    for batch, (X, y) in enumerate(train_dataloader):\n",
    "        model.train()\n",
    "        y_pred = model(X.to(device))\n",
    "        loss = loss_fn(y_pred, y.to(device))\n",
    "        train_loss += loss # accumulatively add up the loss per epoch  \n",
    "        optimizer.zero_grad()\n",
    "        loss.backward()\n",
    "        optimizer.step()\n",
    "        \n",
    "    # before_lr = optimizer.param_groups[0][\"lr\"]\n",
    "    scheduler.step()\n",
    "    # after_lr = optimizer.param_groups[0][\"lr\"]\n",
    "    # print(\"Epoch %d: SGD lr %.4f -> %.4f\" % (epoch, before_lr, after_lr))\n",
    "    \n",
    "    # Divide total train loss by length of train dataloader (average loss per batch per epoch)\n",
    "    train_loss /= len(train_dataloader)\n",
    "    \n",
    "    with torch.inference_mode():\n",
    "        test_loss = 0\n",
    "        model.eval()\n",
    "        for X, y in test_dataloader:\n",
    "            test_pred = model(X.to(device))\n",
    "            test_loss += loss_fn(test_pred, y.to(device)) # accumulatively add up the loss per epoch\n",
    "        \n",
    "        # Divide total test loss by length of test dataloader (per batch)\n",
    "        test_loss /= len(test_dataloader)\n",
    "    \n",
    "    print(f\"Epoch: {epoch} | Train loss: {train_loss:.5f} | Test loss: {test_loss:.5f}\")"
   ]
  },
  {
   "cell_type": "code",
   "execution_count": 8,
   "id": "7c2733a2-c0a1-4226-998c-72ff2a5b5200",
   "metadata": {
    "execution": {
     "iopub.execute_input": "2024-03-26T18:14:07.087668Z",
     "iopub.status.busy": "2024-03-26T18:14:07.087525Z",
     "iopub.status.idle": "2024-03-26T18:14:18.675846Z",
     "shell.execute_reply": "2024-03-26T18:14:18.675499Z",
     "shell.execute_reply.started": "2024-03-26T18:14:07.087657Z"
    }
   },
   "outputs": [],
   "source": [
    "# combine batches\n",
    "model = model.to('cpu')\n",
    "test_pred = model(X_test)\n",
    "test_pred = test_pred.detach().numpy()\n",
    "y_test = y_test.detach().numpy()"
   ]
  },
  {
   "cell_type": "code",
   "execution_count": 9,
   "id": "72273a3b-481b-479b-820f-933622423cf6",
   "metadata": {
    "execution": {
     "iopub.execute_input": "2024-03-26T18:14:18.676604Z",
     "iopub.status.busy": "2024-03-26T18:14:18.676317Z",
     "iopub.status.idle": "2024-03-26T18:14:18.797143Z",
     "shell.execute_reply": "2024-03-26T18:14:18.796831Z",
     "shell.execute_reply.started": "2024-03-26T18:14:18.676593Z"
    }
   },
   "outputs": [
    {
     "data": {
      "text/plain": [
       "[<matplotlib.lines.Line2D at 0x2aaf9d7903d0>]"
      ]
     },
     "execution_count": 9,
     "metadata": {},
     "output_type": "execute_result"
    },
    {
     "data": {
      "image/png": "[encoded data removed]",
      "text/plain": [
       "<Figure size 640x480 with 1 Axes>"
      ]
     },
     "metadata": {},
     "output_type": "display_data"
    }
   ],
   "source": [
    "plt.plot(test_pred[0,0,:])\n",
    "plt.plot(y_test[0,0,:])"
   ]
  },
  {
   "cell_type": "code",
   "execution_count": 18,
   "id": "65765c57-ac14-4143-9e99-7ed43f120633",
   "metadata": {
    "execution": {
     "iopub.execute_input": "2024-03-26T18:21:26.104358Z",
     "iopub.status.busy": "2024-03-26T18:21:26.103981Z",
     "iopub.status.idle": "2024-03-26T18:21:26.107019Z",
     "shell.execute_reply": "2024-03-26T18:21:26.106708Z",
     "shell.execute_reply.started": "2024-03-26T18:21:26.104345Z"
    }
   },
   "outputs": [
    {
     "data": {
      "text/plain": [
       "(1441920, 128)"
      ]
     },
     "execution_count": 18,
     "metadata": {},
     "output_type": "execute_result"
    }
   ],
   "source": [
    "# remove the additional dim\n",
    "test_pred = test_pred.squeeze(1)\n",
    "test_pred.shape"
   ]
  },
  {
   "cell_type": "markdown",
   "id": "ac43a717-bca2-47ea-abcc-3d63482f8578",
   "metadata": {},
   "source": [
    "# Post-processing (metric files)"
   ]
  },
  {
   "cell_type": "code",
   "execution_count": 19,
   "id": "834d2e39-fdc8-4f5a-b06d-aab5b17b9b3c",
   "metadata": {
    "execution": {
     "iopub.execute_input": "2024-03-26T18:21:33.928747Z",
     "iopub.status.busy": "2024-03-26T18:21:33.928373Z",
     "iopub.status.idle": "2024-03-26T18:21:33.931119Z",
     "shell.execute_reply": "2024-03-26T18:21:33.930782Z",
     "shell.execute_reply.started": "2024-03-26T18:21:33.928730Z"
    }
   },
   "outputs": [],
   "source": [
    "# model name\n",
    "# (model name is used for the output)\n",
    "model_name = 'CNN'\n",
    "# input of validation dataset (npy)\n",
    "fn_x_true = '/work/sds-lab/Shuochen/climsim/val_input.npy'\n",
    "# true output of validation dataset (npy)\n",
    "fn_y_true = '/work/sds-lab/Shuochen/climsim/val_target.npy'\n",
    "# Model predicted output of varlidation dataset (npy)\n",
    "fn_y_pred = test_pred\n",
    "# model grid information (nc)\n",
    "fn_grid = '/work/sds-lab/Shuochen/climsim/normalizations_git/ClimSim_low-res_grid-info.nc'\n",
    "\n",
    "# normalization and scale factors (nc)\n",
    "fn_mli_mean  = '/work/sds-lab/Shuochen/climsim/normalizations_git/inputs/input_mean.nc'\n",
    "fn_mli_min   = '/work/sds-lab/Shuochen/climsim/normalizations_git/inputs/input_min.nc'\n",
    "fn_mli_max   = '/work/sds-lab/Shuochen/climsim/normalizations_git/inputs/input_max.nc'\n",
    "fn_mlo_scale = '/work/sds-lab/Shuochen/climsim/normalizations_git/outputs/output_scale.nc'\n"
   ]
  },
  {
   "cell_type": "code",
   "execution_count": 20,
   "id": "30a8f137-4190-480b-a27b-18f11711b34a",
   "metadata": {
    "execution": {
     "iopub.execute_input": "2024-03-26T18:21:33.931983Z",
     "iopub.status.busy": "2024-03-26T18:21:33.931710Z",
     "iopub.status.idle": "2024-03-26T18:21:33.972302Z",
     "shell.execute_reply": "2024-03-26T18:21:33.972025Z",
     "shell.execute_reply.started": "2024-03-26T18:21:33.931972Z"
    }
   },
   "outputs": [],
   "source": [
    "# physical constatns from (E3SM_ROOT/share/util/shr_const_mod.F90)\n",
    "grav    = 9.80616    # acceleration of gravity ~ m/s^2\n",
    "cp      = 1.00464e3  # specific heat of dry air   ~ J/kg/K\n",
    "lv      = 2.501e6    # latent heat of evaporation ~ J/kg\n",
    "lf      = 3.337e5    # latent heat of fusion      ~ J/kg\n",
    "ls      = lv + lf    # latent heat of sublimation ~ J/kg\n",
    "rho_air = 101325./ (6.02214e26*1.38065e-23/28.966) / 273.15 # density of dry air at STP  ~ kg/m^3\n",
    "                                                            # ~ 1.2923182846924677\n",
    "                                                            # SHR_CONST_PSTD/(SHR_CONST_RDAIR*SHR_CONST_TKFRZ)\n",
    "                                                            # SHR_CONST_RDAIR   = SHR_CONST_RGAS/SHR_CONST_MWDAIR\n",
    "                                                            # SHR_CONST_RGAS    = SHR_CONST_AVOGAD*SHR_CONST_BOLTZ\n",
    "rho_h20 = 1.e3       # density of fresh water     ~ kg/m^ 3\n",
    "\n",
    "vars_mlo_energy_conv = {'ptend_t':cp,\n",
    "                        'ptend_q0001':lv,\n",
    "                        'cam_out_NETSW':1.,\n",
    "                        'cam_out_FLWDS':1.,\n",
    "                        'cam_out_PRECSC':lv*rho_h20,\n",
    "                        'cam_out_PRECC':lv*rho_h20,\n",
    "                        'cam_out_SOLS':1.,\n",
    "                        'cam_out_SOLL':1.,\n",
    "                        'cam_out_SOLSD':1.,\n",
    "                        'cam_out_SOLLD':1.\n",
    "                       }\n",
    "vars_longname=\\\n",
    "{'ptend_t':'Heating tendency, ∂T/∂t',\n",
    " 'ptend_q0001':'Moistening tendency, ∂q/∂t',\n",
    " 'cam_out_NETSW':'Net surface shortwave flux, NETSW',\n",
    " 'cam_out_FLWDS':'Downward surface longwave flux, FLWDS',\n",
    " 'cam_out_PRECSC':'Snow rate, PRECSC',\n",
    " 'cam_out_PRECC':'Rain rate, PRECC',\n",
    " 'cam_out_SOLS':'Visible direct solar flux, SOLS',\n",
    " 'cam_out_SOLL':'Near-IR direct solar flux, SOLL',\n",
    " 'cam_out_SOLSD':'Visible diffused solar flux, SOLSD',\n",
    " 'cam_out_SOLLD':'Near-IR diffused solar flux, SOLLD'}"
   ]
  },
  {
   "cell_type": "code",
   "execution_count": 21,
   "id": "396c35ff-95ff-49fb-a6ab-e7aaf1ee620e",
   "metadata": {
    "execution": {
     "iopub.execute_input": "2024-03-26T18:21:33.973002Z",
     "iopub.status.busy": "2024-03-26T18:21:33.972727Z",
     "iopub.status.idle": "2024-03-26T18:21:34.649103Z",
     "shell.execute_reply": "2024-03-26T18:21:34.648787Z",
     "shell.execute_reply.started": "2024-03-26T18:21:33.972990Z"
    }
   },
   "outputs": [],
   "source": [
    "# set dimemsion names for xarray datasets\n",
    "dim_name_level  = 'lev'\n",
    "dim_name_sample = 'sample'\n",
    "\n",
    "# load input dataset\n",
    "x_true = np.load(fn_x_true)\n",
    "y_true = np.load(fn_y_true)\n",
    "y_pred = fn_y_pred\n",
    "N_samples = y_pred.shape[0]\n",
    "\n",
    "# load norm/scale factors\n",
    "mlo_scale = xr.open_dataset(fn_mlo_scale)\n",
    "mli_mean  = xr.open_dataset(fn_mli_mean)\n",
    "mli_min   = xr.open_dataset(fn_mli_min)\n",
    "mli_max   = xr.open_dataset(fn_mli_max)"
   ]
  },
  {
   "cell_type": "code",
   "execution_count": 22,
   "id": "fd23d731-2db7-4c63-97c0-9081c810d577",
   "metadata": {
    "execution": {
     "iopub.execute_input": "2024-03-26T18:21:34.649993Z",
     "iopub.status.busy": "2024-03-26T18:21:34.649872Z",
     "iopub.status.idle": "2024-03-26T18:21:34.666633Z",
     "shell.execute_reply": "2024-03-26T18:21:34.666360Z",
     "shell.execute_reply.started": "2024-03-26T18:21:34.649983Z"
    }
   },
   "outputs": [],
   "source": [
    "# load grid information\n",
    "ds_grid = xr.open_dataset(fn_grid) # has ncol:384\n",
    "N_ncol = len(ds_grid['ncol']) # length of ncol dimension (nlat * nlon)\n",
    "\n",
    "# make area-weights\n",
    "ds_grid['area_wgt'] = ds_grid['area'] / ds_grid['area'].mean('ncol')\n",
    "\n",
    "# map ds_grid's ncol dimension -> the N_samples dimension of npy-loayd arrays (e.g., y_pred)\n",
    "to_xarray = {'area_wgt': (dim_name_sample,np.tile(ds_grid['area_wgt'], int(N_samples/len(ds_grid['ncol'])))),\n",
    "            }\n",
    "to_xarray = xr.Dataset(to_xarray)\n",
    "\n",
    "# add nsample-mapped grid variables back to ds_grid\n",
    "ds_grid = xr.merge([ds_grid  [['P0', 'hyai', 'hyam','hybi','hybm','lat','lon','area']],\n",
    "                    to_xarray[['area_wgt']]])"
   ]
  },
  {
   "cell_type": "code",
   "execution_count": 23,
   "id": "11044318-5d9d-4a63-af77-701b4562470f",
   "metadata": {
    "execution": {
     "iopub.execute_input": "2024-03-26T18:21:34.667184Z",
     "iopub.status.busy": "2024-03-26T18:21:34.667018Z",
     "iopub.status.idle": "2024-03-26T18:21:34.680580Z",
     "shell.execute_reply": "2024-03-26T18:21:34.680316Z",
     "shell.execute_reply.started": "2024-03-26T18:21:34.667174Z"
    }
   },
   "outputs": [],
   "source": [
    "# list of ML output variables\n",
    "vars_mlo = ['ptend_t','ptend_q0001','cam_out_NETSW','cam_out_FLWDS','cam_out_PRECSC',\n",
    "            'cam_out_PRECC','cam_out_SOLS','cam_out_SOLL','cam_out_SOLSD','cam_out_SOLLD'] # mlo mean ML output.\n",
    "\n",
    "# length of each variable\n",
    "# (make sure that the order of variables are correct)\n",
    "vars_mlo_len = {'ptend_t':60,\n",
    "                'ptend_q0001':60,\n",
    "                'cam_out_NETSW':1,\n",
    "                'cam_out_FLWDS':1,\n",
    "                'cam_out_PRECSC':1,\n",
    "                'cam_out_PRECC':1,\n",
    "                'cam_out_SOLS':1,\n",
    "                'cam_out_SOLL':1,\n",
    "                'cam_out_SOLSD':1,\n",
    "                'cam_out_SOLLD':1\n",
    "               }\n",
    "\n",
    "# map the length of dimension to the name of dimension\n",
    "len_to_dim = {60:dim_name_level,\n",
    "              N_samples: dim_name_sample}"
   ]
  },
  {
   "cell_type": "code",
   "execution_count": 24,
   "id": "949448e4-17a5-4218-a95c-f2517de3772b",
   "metadata": {
    "execution": {
     "iopub.execute_input": "2024-03-26T18:21:34.681119Z",
     "iopub.status.busy": "2024-03-26T18:21:34.680948Z",
     "iopub.status.idle": "2024-03-26T18:21:41.503058Z",
     "shell.execute_reply": "2024-03-26T18:21:41.502652Z",
     "shell.execute_reply.started": "2024-03-26T18:21:34.681109Z"
    }
   },
   "outputs": [],
   "source": [
    "# Here, we first construct a dictionary of {var name: (dimension name, array-like)},\n",
    "# then, map the dictionary to an Xarray Dataset.\n",
    "# (ref: https://docs.xarray.dev/en/stable/generated/xarray.Dataset.html)\n",
    "\n",
    "DS = {}\n",
    "\n",
    "for kds in ['true', 'pred']:\n",
    "    if kds=='true':\n",
    "        work = y_true\n",
    "    elif kds=='pred':\n",
    "        work = y_pred\n",
    "\n",
    "    # [1] Construct dictionary for xarray dataset\n",
    "    #     format is key for variable name /\n",
    "    #               value for a turple of (dimension names, data).\n",
    "    to_xarray = {}\n",
    "    for k, kvar in enumerate(vars_mlo):\n",
    "\n",
    "        # length of variable (ie, number of levels)\n",
    "        kvar_len = vars_mlo_len[kvar]\n",
    "\n",
    "        # set dimensions of variable\n",
    "        if kvar_len == 60:\n",
    "            kvar_dims = (dim_name_sample, dim_name_level)\n",
    "        elif kvar_len == 1:\n",
    "            kvar_dims = dim_name_sample\n",
    "\n",
    "        # set start and end indices of variable in the loaded numpy array\n",
    "        # then, add 'kvar':(kvar_dims, <np_array>) to dictionary\n",
    "        if k==0: ind1=0\n",
    "        ind2 = ind1 + kvar_len\n",
    "\n",
    "        # scaled output\n",
    "        kvar_data = np.squeeze(work[:,ind1:ind2])\n",
    "        # unscaled output\n",
    "        kvar_data = kvar_data / mlo_scale[kvar].values\n",
    "\n",
    "        to_xarray[kvar] = (kvar_dims, kvar_data)\n",
    "\n",
    "        ind1 = ind2\n",
    "\n",
    "    # [2] convert dict to xarray dataset\n",
    "    DS[kds] = xr.Dataset(to_xarray)\n",
    "\n",
    "    # [3] add surface pressure ('state_ps') from ml input\n",
    "    # normalized ps\n",
    "    state_ps =  xr.DataArray(x_true[:,120], dims=('sample'), name='state_ps')\n",
    "    # denormalized ps\n",
    "    state_ps = state_ps * (mli_max['state_ps'] - mli_min['state_ps']) + mli_mean['state_ps']\n",
    "    DS[kds]['state_ps'] = state_ps\n",
    "\n",
    "    # [4] add grid information\n",
    "    DS[kds] = xr.merge([DS[kds], ds_grid])\n",
    "\n",
    "    # [5] add pressure thickness of each level, dp\n",
    "    # FYI, in a hybrid sigma vertical coordinate system, pressure at level z is\n",
    "    # P[x,z] = hyam[z]*P0 + hybm[z]*PS[x,z],\n",
    "    # where, hyam and hybm are \n",
    "    tmp = DS[kds]['P0']*DS[kds]['hyai'] + DS[kds]['state_ps']*DS[kds]['hybi']\n",
    "    tmp = tmp.isel(ilev=slice(1,61)).values - tmp.isel(ilev=slice(0,60)).values\n",
    "    tmp = tmp.transpose()\n",
    "    DS[kds]['dp'] = xr.DataArray(tmp, dims=('sample', 'lev'))\n",
    "\n",
    "    # [6] break (sample) to (ncol,time)\n",
    "    N_timestep = int(N_samples/N_ncol)\n",
    "    dim_ncol     = np.arange(N_ncol)\n",
    "    dim_timestep = np.arange(N_timestep)\n",
    "    new_ind = pd.MultiIndex.from_product([dim_timestep, dim_ncol],\n",
    "                                         names=['time', 'ncol'])\n",
    "    DS[kds] = DS[kds].assign_coords(sample=new_ind).unstack('sample')\n",
    "\n",
    "del work, to_xarray, y_true, y_pred, x_true, state_ps, tmp"
   ]
  },
  {
   "cell_type": "code",
   "execution_count": 25,
   "id": "8d049cbe-5ea7-4b43-8b07-36a9272dacd1",
   "metadata": {
    "execution": {
     "iopub.execute_input": "2024-03-26T18:21:41.503710Z",
     "iopub.status.busy": "2024-03-26T18:21:41.503546Z",
     "iopub.status.idle": "2024-03-26T18:21:49.533799Z",
     "shell.execute_reply": "2024-03-26T18:21:49.533432Z",
     "shell.execute_reply.started": "2024-03-26T18:21:41.503700Z"
    }
   },
   "outputs": [],
   "source": [
    "# [1] Weight vertical levels by dp/g that is equivalent to a mass of air within a grid cell per unit area [kg/m2]\n",
    "# [2] Weight horizontal area of each grid cell by a[x]/mean(a[x]).\n",
    "# [3] Unit conversion to a common energy unit\n",
    "\n",
    "DS_ENERGY = {}\n",
    "for kds in ['true','pred']:\n",
    "    # Make a copy to keep original dataset\n",
    "    DS_ENERGY[kds] = DS[kds].copy(deep=True)\n",
    "\n",
    "    # vertical weighting / area weighting / unit conversion\n",
    "    for kvar in vars_mlo:\n",
    "\n",
    "        # [1] weight vertical levels by dp/g\n",
    "        #     ONLY for vertically-resolved variables, e.g., ptend_{t,q0001}\n",
    "        # dp/g = - \\rho * dz\n",
    "        if vars_mlo_len[kvar] == 60:\n",
    "            DS_ENERGY[kds][kvar] = DS_ENERGY[kds][kvar] * DS_ENERGY[kds]['dp']/grav\n",
    "\n",
    "        # [2] weight area\n",
    "        #     for ALL variables\n",
    "        DS_ENERGY[kds][kvar] = DS_ENERGY[kds]['area_wgt'] * DS_ENERGY[kds][kvar]\n",
    "\n",
    "        # [3] convert units to W/m2\n",
    "        #     for variables with different units, e.g., ptend_{t,q0001}, precsc, precc\n",
    "        DS_ENERGY[kds][kvar] =  vars_mlo_energy_conv[kvar] * DS_ENERGY[kds][kvar]"
   ]
  },
  {
   "cell_type": "code",
   "execution_count": 26,
   "id": "f28138b5-e992-4f77-9c38-918e3ce30d0c",
   "metadata": {
    "execution": {
     "iopub.execute_input": "2024-03-26T18:21:49.534461Z",
     "iopub.status.busy": "2024-03-26T18:21:49.534281Z",
     "iopub.status.idle": "2024-03-26T18:22:04.444389Z",
     "shell.execute_reply": "2024-03-26T18:22:04.444058Z",
     "shell.execute_reply.started": "2024-03-26T18:21:49.534450Z"
    }
   },
   "outputs": [],
   "source": [
    "all_metrics = ['MAE','RMSE','R2']\n",
    "\n",
    "# A. Calculate metrics\n",
    "# After this step,\n",
    "# ptend_{t,q0001} have [ncol, lev] dimension;\n",
    "# and the rest variables have [ncol] dimension.\n",
    "\n",
    "# if spatial analysis is desired (e.g., R2 distribution on global map or on latitude-level plane),\n",
    "# the metrics at this step should be used.\n",
    "\n",
    "\n",
    "# Select only ML output varibles\n",
    "DS_ENERGY[kds] = DS_ENERGY[kds][vars_mlo]\n",
    "\n",
    "# Caclulate 3 metrics\n",
    "Metrics = {}\n",
    "Metrics['MAE']  = (np.abs(DS_ENERGY['true']   - DS_ENERGY['pred'])).mean('time')\n",
    "Metrics['RMSE'] = np.sqrt(((DS_ENERGY['true'] - DS_ENERGY['pred'])**2.).mean('time'))\n",
    "Metrics['R2'] = 1 - ((DS_ENERGY['true'] - DS_ENERGY['pred']                    )**2.).sum('time')/\\\n",
    "                    ((DS_ENERGY['true'] - DS_ENERGY['true'].mean('time'))**2.).sum('time')\n",
    "\n",
    "# Save grid-wise metric files in netcdf format\n",
    "if True:\n",
    "    for kmetric in ['MAE', 'RMSE', 'R2']:\n",
    "        fn_save = f'./metrics_netcdf/{model_name}_{kmetric}.nc'\n",
    "        Metrics[kmetric].to_netcdf(fn_save)"
   ]
  },
  {
   "cell_type": "code",
   "execution_count": 27,
   "id": "c71c04a5-24f5-467b-8b34-88f164762ae2",
   "metadata": {
    "execution": {
     "iopub.execute_input": "2024-03-26T18:22:04.444976Z",
     "iopub.status.busy": "2024-03-26T18:22:04.444852Z",
     "iopub.status.idle": "2024-03-26T18:22:04.449503Z",
     "shell.execute_reply": "2024-03-26T18:22:04.449243Z",
     "shell.execute_reply.started": "2024-03-26T18:22:04.444966Z"
    }
   },
   "outputs": [],
   "source": [
    "# B. Make horizontal mean.\n",
    "# After this step,\n",
    "# ptend_{t,q0001} have [lev] dimension;\n",
    "# and the rest variables have zero dimensions, i.e., scalars.\n",
    "\n",
    "for kmetric in all_metrics:\n",
    "    Metrics[kmetric] = Metrics[kmetric].mean('ncol') # simple mean"
   ]
  },
  {
   "cell_type": "code",
   "execution_count": 28,
   "id": "b5a5630c-89cd-44ef-9f82-68e73441c524",
   "metadata": {
    "execution": {
     "iopub.execute_input": "2024-03-26T18:22:04.450613Z",
     "iopub.status.busy": "2024-03-26T18:22:04.450413Z",
     "iopub.status.idle": "2024-03-26T18:22:04.556632Z",
     "shell.execute_reply": "2024-03-26T18:22:04.556312Z",
     "shell.execute_reply.started": "2024-03-26T18:22:04.450604Z"
    }
   },
   "outputs": [
    {
     "data": {
      "text/html": [
       "<div>\n",
       "<style scoped>\n",
       "    .dataframe tbody tr th:only-of-type {\n",
       "        vertical-align: middle;\n",
       "    }\n",
       "\n",
       "    .dataframe tbody tr th {\n",
       "        vertical-align: top;\n",
       "    }\n",
       "\n",
       "    .dataframe thead th {\n",
       "        text-align: right;\n",
       "    }\n",
       "</style>\n",
       "<table border=\"1\" class=\"dataframe\">\n",
       "  <thead>\n",
       "    <tr style=\"text-align: right;\">\n",
       "      <th></th>\n",
       "      <th>MAE</th>\n",
       "      <th>RMSE</th>\n",
       "      <th>R2</th>\n",
       "    </tr>\n",
       "    <tr>\n",
       "      <th>output_idx</th>\n",
       "      <th></th>\n",
       "      <th></th>\n",
       "      <th></th>\n",
       "    </tr>\n",
       "  </thead>\n",
       "  <tbody>\n",
       "    <tr>\n",
       "      <th>0</th>\n",
       "      <td>0.005301</td>\n",
       "      <td>0.010320</td>\n",
       "      <td>0.632423</td>\n",
       "    </tr>\n",
       "    <tr>\n",
       "      <th>1</th>\n",
       "      <td>0.012398</td>\n",
       "      <td>0.019572</td>\n",
       "      <td>0.745839</td>\n",
       "    </tr>\n",
       "    <tr>\n",
       "      <th>2</th>\n",
       "      <td>0.023159</td>\n",
       "      <td>0.032208</td>\n",
       "      <td>0.823061</td>\n",
       "    </tr>\n",
       "    <tr>\n",
       "      <th>3</th>\n",
       "      <td>0.049924</td>\n",
       "      <td>0.063555</td>\n",
       "      <td>0.859664</td>\n",
       "    </tr>\n",
       "    <tr>\n",
       "      <th>4</th>\n",
       "      <td>0.098661</td>\n",
       "      <td>0.115924</td>\n",
       "      <td>0.902521</td>\n",
       "    </tr>\n",
       "    <tr>\n",
       "      <th>...</th>\n",
       "      <td>...</td>\n",
       "      <td>...</td>\n",
       "      <td>...</td>\n",
       "    </tr>\n",
       "    <tr>\n",
       "      <th>123</th>\n",
       "      <td>71.252773</td>\n",
       "      <td>130.708866</td>\n",
       "      <td>-4107.105394</td>\n",
       "    </tr>\n",
       "    <tr>\n",
       "      <th>124</th>\n",
       "      <td>34.148641</td>\n",
       "      <td>51.507351</td>\n",
       "      <td>0.694841</td>\n",
       "    </tr>\n",
       "    <tr>\n",
       "      <th>125</th>\n",
       "      <td>38.000044</td>\n",
       "      <td>56.413838</td>\n",
       "      <td>0.684442</td>\n",
       "    </tr>\n",
       "    <tr>\n",
       "      <th>126</th>\n",
       "      <td>13.862918</td>\n",
       "      <td>21.482695</td>\n",
       "      <td>0.776543</td>\n",
       "    </tr>\n",
       "    <tr>\n",
       "      <th>127</th>\n",
       "      <td>12.212487</td>\n",
       "      <td>18.950043</td>\n",
       "      <td>0.538298</td>\n",
       "    </tr>\n",
       "  </tbody>\n",
       "</table>\n",
       "<p>128 rows × 3 columns</p>\n",
       "</div>"
      ],
      "text/plain": [
       "                  MAE        RMSE           R2\n",
       "output_idx                                    \n",
       "0            0.005301    0.010320     0.632423\n",
       "1            0.012398    0.019572     0.745839\n",
       "2            0.023159    0.032208     0.823061\n",
       "3            0.049924    0.063555     0.859664\n",
       "4            0.098661    0.115924     0.902521\n",
       "...               ...         ...          ...\n",
       "123         71.252773  130.708866 -4107.105394\n",
       "124         34.148641   51.507351     0.694841\n",
       "125         38.000044   56.413838     0.684442\n",
       "126         13.862918   21.482695     0.776543\n",
       "127         12.212487   18.950043     0.538298\n",
       "\n",
       "[128 rows x 3 columns]"
      ]
     },
     "execution_count": 28,
     "metadata": {},
     "output_type": "execute_result"
    }
   ],
   "source": [
    "# C-1. Save the result after B.\n",
    "# to save in a table format as a csv file, the level dimensions are flattened.\n",
    "\n",
    "Metrics_stacked = {}\n",
    "for kmetric in all_metrics:\n",
    "    Metrics_stacked[kmetric] = Metrics[kmetric].to_stacked_array('ml_out_idx', sample_dims='', name=kmetric)\n",
    "\n",
    "\n",
    "# save the output\n",
    "work = pd.DataFrame({'MAE':  Metrics_stacked['MAE'].values,\n",
    "                     'RMSE': Metrics_stacked['RMSE'].values,\n",
    "                     'R2':   Metrics_stacked['R2'].values}\n",
    "                    )\n",
    "work.index.name = 'output_idx'\n",
    "\n",
    "# save to the metrics folder\n",
    "fn_save_metrics = f'./metrics/{model_name}.metrics.csv'\n",
    "work.to_csv(fn_save_metrics)\n",
    "work"
   ]
  },
  {
   "cell_type": "code",
   "execution_count": 29,
   "id": "5377bfba-a795-4bae-88de-6c688a77fe9f",
   "metadata": {
    "execution": {
     "iopub.execute_input": "2024-03-26T18:22:04.557139Z",
     "iopub.status.busy": "2024-03-26T18:22:04.557027Z",
     "iopub.status.idle": "2024-03-26T18:22:04.673550Z",
     "shell.execute_reply": "2024-03-26T18:22:04.673251Z",
     "shell.execute_reply.started": "2024-03-26T18:22:04.557129Z"
    }
   },
   "outputs": [
    {
     "data": {
      "text/plain": [
       "<Axes: xlabel='output_idx'>"
      ]
     },
     "execution_count": 29,
     "metadata": {},
     "output_type": "execute_result"
    },
    {
     "data": {
      "image/png": "[encoded data removed]",
      "text/plain": [
       "<Figure size 640x480 with 1 Axes>"
      ]
     },
     "metadata": {},
     "output_type": "display_data"
    }
   ],
   "source": [
    "# try to reproduce their plot 2\n",
    "work['MAE'][:60].plot()"
   ]
  },
  {
   "cell_type": "code",
   "execution_count": 30,
   "id": "caca4c0d-f9d3-48bc-80ae-dd8dd636c245",
   "metadata": {
    "execution": {
     "iopub.execute_input": "2024-03-26T18:22:04.674256Z",
     "iopub.status.busy": "2024-03-26T18:22:04.673981Z",
     "iopub.status.idle": "2024-03-26T18:22:04.688196Z",
     "shell.execute_reply": "2024-03-26T18:22:04.687926Z",
     "shell.execute_reply.started": "2024-03-26T18:22:04.674245Z"
    }
   },
   "outputs": [
    {
     "data": {
      "text/html": [
       "<div>\n",
       "<style scoped>\n",
       "    .dataframe tbody tr th:only-of-type {\n",
       "        vertical-align: middle;\n",
       "    }\n",
       "\n",
       "    .dataframe tbody tr th {\n",
       "        vertical-align: top;\n",
       "    }\n",
       "\n",
       "    .dataframe thead th {\n",
       "        text-align: right;\n",
       "    }\n",
       "</style>\n",
       "<table border=\"1\" class=\"dataframe\">\n",
       "  <thead>\n",
       "    <tr style=\"text-align: right;\">\n",
       "      <th></th>\n",
       "      <th>MAE</th>\n",
       "      <th>RMSE</th>\n",
       "      <th>R2</th>\n",
       "    </tr>\n",
       "    <tr>\n",
       "      <th>Variable</th>\n",
       "      <th></th>\n",
       "      <th></th>\n",
       "      <th></th>\n",
       "    </tr>\n",
       "  </thead>\n",
       "  <tbody>\n",
       "    <tr>\n",
       "      <th>ptend_t</th>\n",
       "      <td>3.681261</td>\n",
       "      <td>5.880526</td>\n",
       "      <td>0.337754</td>\n",
       "    </tr>\n",
       "    <tr>\n",
       "      <th>ptend_q0001</th>\n",
       "      <td>5.418130</td>\n",
       "      <td>8.618388</td>\n",
       "      <td>-inf</td>\n",
       "    </tr>\n",
       "    <tr>\n",
       "      <th>cam_out_NETSW</th>\n",
       "      <td>61.715536</td>\n",
       "      <td>91.795169</td>\n",
       "      <td>0.785000</td>\n",
       "    </tr>\n",
       "    <tr>\n",
       "      <th>cam_out_FLWDS</th>\n",
       "      <td>16.697277</td>\n",
       "      <td>19.844679</td>\n",
       "      <td>0.115700</td>\n",
       "    </tr>\n",
       "    <tr>\n",
       "      <th>cam_out_PRECSC</th>\n",
       "      <td>10.108490</td>\n",
       "      <td>12.571717</td>\n",
       "      <td>-inf</td>\n",
       "    </tr>\n",
       "    <tr>\n",
       "      <th>cam_out_PRECC</th>\n",
       "      <td>71.252773</td>\n",
       "      <td>130.708866</td>\n",
       "      <td>-4107.105394</td>\n",
       "    </tr>\n",
       "    <tr>\n",
       "      <th>cam_out_SOLS</th>\n",
       "      <td>34.148641</td>\n",
       "      <td>51.507351</td>\n",
       "      <td>0.694841</td>\n",
       "    </tr>\n",
       "    <tr>\n",
       "      <th>cam_out_SOLL</th>\n",
       "      <td>38.000044</td>\n",
       "      <td>56.413838</td>\n",
       "      <td>0.684442</td>\n",
       "    </tr>\n",
       "    <tr>\n",
       "      <th>cam_out_SOLSD</th>\n",
       "      <td>13.862918</td>\n",
       "      <td>21.482695</td>\n",
       "      <td>0.776543</td>\n",
       "    </tr>\n",
       "    <tr>\n",
       "      <th>cam_out_SOLLD</th>\n",
       "      <td>12.212487</td>\n",
       "      <td>18.950043</td>\n",
       "      <td>0.538298</td>\n",
       "    </tr>\n",
       "  </tbody>\n",
       "</table>\n",
       "</div>"
      ],
      "text/plain": [
       "                      MAE        RMSE           R2\n",
       "Variable                                          \n",
       "ptend_t          3.681261    5.880526     0.337754\n",
       "ptend_q0001      5.418130    8.618388         -inf\n",
       "cam_out_NETSW   61.715536   91.795169     0.785000\n",
       "cam_out_FLWDS   16.697277   19.844679     0.115700\n",
       "cam_out_PRECSC  10.108490   12.571717         -inf\n",
       "cam_out_PRECC   71.252773  130.708866 -4107.105394\n",
       "cam_out_SOLS    34.148641   51.507351     0.694841\n",
       "cam_out_SOLL    38.000044   56.413838     0.684442\n",
       "cam_out_SOLSD   13.862918   21.482695     0.776543\n",
       "cam_out_SOLLD   12.212487   18.950043     0.538298"
      ]
     },
     "execution_count": 30,
     "metadata": {},
     "output_type": "execute_result"
    }
   ],
   "source": [
    "# C-2. Save the result after vertical averaging.\n",
    "# After this step,\n",
    "# ptend_{t,q0001} also have zero dimensions, i.e., scalars;\n",
    "\n",
    "# Then, the results are saved to a csv file.\n",
    "# This csv file will be used for generating plots.\n",
    "\n",
    "Metrics_vert_avg = {}\n",
    "for kmetric in all_metrics:\n",
    "    Metrics_vert_avg[kmetric] = Metrics[kmetric].mean('lev')\n",
    "    Metrics_vert_avg[kmetric] = Metrics_vert_avg[kmetric].mean('ilev') # remove dummy dim\n",
    "\n",
    "# save the output\n",
    "work = pd.DataFrame({'MAE':  Metrics_vert_avg['MAE'].to_pandas(),\n",
    "                     'RMSE': Metrics_vert_avg['RMSE'].to_pandas(),\n",
    "                     'R2':   Metrics_vert_avg['R2'].to_pandas()}\n",
    "                    )\n",
    "work.index.name = 'Variable'\n",
    "\n",
    "# save to the metrics folder\n",
    "fn_save_metrics_avg = f'./metrics/{model_name}.metrics.lev-avg.csv'\n",
    "work.to_csv(fn_save_metrics_avg)\n",
    "work"
   ]
  },
  {
   "cell_type": "code",
   "execution_count": null,
   "id": "3868777b-00e8-4f89-a5c9-bdda9096f40e",
   "metadata": {},
   "outputs": [],
   "source": []
  },
  {
   "cell_type": "code",
   "execution_count": null,
   "id": "bcf25098-e307-4d5b-b01e-560535e9392a",
   "metadata": {},
   "outputs": [],
   "source": []
  }
 ],
 "metadata": {
  "kernelspec": {
   "display_name": "Python 3 (ipykernel)",
   "language": "python",
   "name": "python3"
  },
  "language_info": {
   "codemirror_mode": {
    "name": "ipython",
    "version": 3
   },
   "file_extension": ".py",
   "mimetype": "text/x-python",
   "name": "python",
   "nbconvert_exporter": "python",
   "pygments_lexer": "ipython3",
   "version": "3.11.8"
  }
 },
 "nbformat": 4,
 "nbformat_minor": 5
}
