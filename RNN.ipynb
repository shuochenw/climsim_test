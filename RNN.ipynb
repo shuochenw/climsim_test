{
 "cells": [
  {
   "cell_type": "code",
   "execution_count": 1,
   "id": "c5b3e756-abeb-42c8-886b-d0b4efa88137",
   "metadata": {
    "execution": {
     "iopub.execute_input": "2024-07-13T02:01:59.008950Z",
     "iopub.status.busy": "2024-07-13T02:01:59.008262Z",
     "iopub.status.idle": "2024-07-13T02:02:03.211802Z",
     "shell.execute_reply": "2024-07-13T02:02:03.210977Z",
     "shell.execute_reply.started": "2024-07-13T02:01:59.008903Z"
    }
   },
   "outputs": [],
   "source": [
    "import xarray as xr\n",
    "import os\n",
    "import netCDF4\n",
    "import numpy as np\n",
    "import torch\n",
    "from torch import nn\n",
    "import matplotlib.pyplot as plt\n",
    "from sklearn.model_selection import train_test_split\n",
    "from sklearn.metrics import mean_absolute_error\n",
    "from torch.utils.data import random_split\n",
    "import random\n",
    "import pandas as pd\n",
    "from torch.utils.data import DataLoader, TensorDataset\n",
    "from sklearn.preprocessing import StandardScaler\n",
    "from torch.optim.lr_scheduler import ReduceLROnPlateau\n",
    "import torch.nn.functional as F"
   ]
  },
  {
   "cell_type": "code",
   "execution_count": 2,
   "id": "2a13791c-442e-4fdb-b572-9cd58eb8c39f",
   "metadata": {
    "execution": {
     "iopub.execute_input": "2024-07-13T02:02:03.214197Z",
     "iopub.status.busy": "2024-07-13T02:02:03.213712Z",
     "iopub.status.idle": "2024-07-13T02:02:04.442320Z",
     "shell.execute_reply": "2024-07-13T02:02:04.441655Z",
     "shell.execute_reply.started": "2024-07-13T02:02:03.214179Z"
    }
   },
   "outputs": [
    {
     "name": "stdout",
     "output_type": "stream",
     "text": [
      "Using device: cuda\n",
      "Tesla V100-SXM2-32GB\n",
      "Memory Usage:\n",
      "Allocated: 0.0 GB\n",
      "Cached:    0.0 GB\n"
     ]
    }
   ],
   "source": [
    "# setting device on GPU if available, else CPU\n",
    "device = torch.device('cuda' if torch.cuda.is_available() else 'cpu')\n",
    "print('Using device:', device)\n",
    "#Additional Info when using cuda\n",
    "if device.type == 'cuda':\n",
    "    print(torch.cuda.get_device_name(0))\n",
    "    print('Memory Usage:')\n",
    "    print('Allocated:', round(torch.cuda.memory_allocated(0)/1024**3,1), 'GB')\n",
    "    print('Cached:   ', round(torch.cuda.memory_reserved(0)/1024**3,1), 'GB')"
   ]
  },
  {
   "cell_type": "code",
   "execution_count": 7,
   "id": "1321b7ef-3e8c-42b6-9f40-3c172c13d909",
   "metadata": {
    "execution": {
     "iopub.execute_input": "2024-07-13T02:02:13.089204Z",
     "iopub.status.busy": "2024-07-13T02:02:13.088556Z",
     "iopub.status.idle": "2024-07-13T02:02:13.096132Z",
     "shell.execute_reply": "2024-07-13T02:02:13.094920Z",
     "shell.execute_reply.started": "2024-07-13T02:02:13.089157Z"
    }
   },
   "outputs": [],
   "source": [
    "# SEQUENCE_SIZE = 3\n",
    "LEARNING_RATE = 0.0005\n",
    "BATCH_SIZE = 8\n",
    "EPOCHS = 30\n",
    "IN_FEATURES = 124\n",
    "OUT_FEATURES = 128\n",
    "# RANDOM_SEED = 42\n",
    "HIDDEN_STATE = 256\n",
    "# DROPOUT = 0.2\n",
    "# N_HEAD = 4\n",
    "N_LAYER = 4\n",
    "# MAX_LEN = 5000"
   ]
  },
  {
   "cell_type": "code",
   "execution_count": 8,
   "id": "445afed7-9139-4acb-a5b0-e670b576955b",
   "metadata": {
    "execution": {
     "iopub.execute_input": "2024-07-13T02:02:17.679432Z",
     "iopub.status.busy": "2024-07-13T02:02:17.678788Z",
     "iopub.status.idle": "2024-07-13T02:02:24.983346Z",
     "shell.execute_reply": "2024-07-13T02:02:24.982699Z",
     "shell.execute_reply.started": "2024-07-13T02:02:17.679367Z"
    }
   },
   "outputs": [],
   "source": [
    "# # use one yaer\n",
    "# X=np.load('/work/sds-lab/Shuochen/climsim/val_input.npy')\n",
    "# y=np.load('/work/sds-lab/Shuochen/climsim/val_target.npy')\n",
    "\n",
    "# use all 8 years: change path\n",
    "X_train=np.load('/work/sds-lab/Shuochen/climsim/train_input.npy')\n",
    "y_train=np.load('/work/sds-lab/Shuochen/climsim/train_target.npy')\n",
    "X_test=np.load('/work/sds-lab/Shuochen/climsim/val_input.npy')\n",
    "y_test=np.load('/work/sds-lab/Shuochen/climsim/val_target.npy')\n",
    "\n",
    "X_train = torch.from_numpy(X_train).type(torch.float)\n",
    "y_train = torch.from_numpy(y_train).type(torch.float)\n",
    "X_test = torch.from_numpy(X_test).type(torch.float)\n",
    "y_test = torch.from_numpy(y_test).type(torch.float)"
   ]
  },
  {
   "cell_type": "code",
   "execution_count": 9,
   "id": "69b66d64-5155-4e90-90d5-866bfbc1fd9c",
   "metadata": {
    "execution": {
     "iopub.execute_input": "2024-07-13T02:02:24.986486Z",
     "iopub.status.busy": "2024-07-13T02:02:24.985868Z",
     "iopub.status.idle": "2024-07-13T02:02:24.996029Z",
     "shell.execute_reply": "2024-07-13T02:02:24.995516Z",
     "shell.execute_reply.started": "2024-07-13T02:02:24.986440Z"
    }
   },
   "outputs": [
    {
     "name": "stdout",
     "output_type": "stream",
     "text": [
      "torch.Size([384, 26280, 124]) torch.Size([384, 26280, 128])\n",
      "torch.Size([384, 3755, 124]) torch.Size([384, 3755, 128])\n"
     ]
    }
   ],
   "source": [
    "def create_sliding_window(X, y):\n",
    "    # to tensor, reshape, transpose (time * space, 124 or 128) > (space, time, 124 or 128)\n",
    "    X=torch.Tensor(X).reshape(int(X.shape[0]/384),384,124).permute(1,0,2)\n",
    "    y=torch.Tensor(y).reshape(int(y.shape[0]/384),384,128).permute(1,0,2)\n",
    "    print(X.shape,y.shape)\n",
    "    # # create sliding window (space, time, 124 or 128) > (space, num_window, 124 or 128, seq_size)\n",
    "    # X = X.unfold(1,SEQUENCE_SIZE,1)\n",
    "    # y = y.unfold(1,SEQUENCE_SIZE,1)\n",
    "    # print(X.shape,y.shape)\n",
    "    # # transpose (space, num_window, 124 or 128, seq_size) > (space, num_window, seq_size, 124 or 128)\n",
    "    # X = X.permute(0,1,3,2)\n",
    "    # y = y.permute(0,1,3,2)\n",
    "    # print(X.shape,y.shape)\n",
    "    # # combine dimension (space, num_window, seq_size, 124 or 128) > (space * num_window, seq_size, 124 or 128)\n",
    "    # X = X.reshape(384 * X.shape[1],SEQUENCE_SIZE,124)\n",
    "    # y = y.reshape(384 * y.shape[1],SEQUENCE_SIZE,128)\n",
    "    # print(X.shape,y.shape)\n",
    "    return X, y\n",
    "\n",
    "# X, y = create_sliding_window(X, y)\n",
    "X_train, y_train = create_sliding_window(X_train, y_train)\n",
    "X_test, y_test = create_sliding_window(X_test, y_test)"
   ]
  },
  {
   "cell_type": "code",
   "execution_count": 10,
   "id": "f3bcec92-0e9b-4e42-8db5-cb1fa78131c8",
   "metadata": {
    "execution": {
     "iopub.execute_input": "2024-07-13T02:02:24.996882Z",
     "iopub.status.busy": "2024-07-13T02:02:24.996724Z",
     "iopub.status.idle": "2024-07-13T02:02:26.091361Z",
     "shell.execute_reply": "2024-07-13T02:02:26.090717Z",
     "shell.execute_reply.started": "2024-07-13T02:02:24.996869Z"
    }
   },
   "outputs": [],
   "source": [
    "# # # split datasets to training and testing\n",
    "# X_train, X_test, y_train, y_test = train_test_split(X, y, test_size=0.2, random_state=RANDOM_SEED)\n",
    "# print(y_test.shape)\n",
    "\n",
    "# create datasets\n",
    "training_set = TensorDataset(X_train, y_train)\n",
    "testing_set = TensorDataset(X_test, y_test)\n",
    "# create dataloaders\n",
    "train_dataloader = DataLoader(training_set, # dataset to turn into iterable\n",
    "    batch_size=BATCH_SIZE, # how many samples per batch? \n",
    "    shuffle=True # shuffle data every epoch?\n",
    ")\n",
    "test_dataloader = DataLoader(testing_set,\n",
    "    batch_size=BATCH_SIZE,\n",
    "    shuffle=False # don't necessarily have to shuffle the testing data\n",
    ")"
   ]
  },
  {
   "cell_type": "code",
   "execution_count": 42,
   "id": "64ae8ce1-135d-4429-ab34-e646b44fbc3b",
   "metadata": {
    "execution": {
     "iopub.execute_input": "2024-07-13T02:14:49.095778Z",
     "iopub.status.busy": "2024-07-13T02:14:49.095172Z",
     "iopub.status.idle": "2024-07-13T02:14:49.108271Z",
     "shell.execute_reply": "2024-07-13T02:14:49.107188Z",
     "shell.execute_reply.started": "2024-07-13T02:14:49.095732Z"
    }
   },
   "outputs": [],
   "source": [
    "class RNN(nn.Module):\n",
    "    def __init__(self, input_feature=IN_FEATURES, hidden_state=HIDDEN_STATE, num_layer=N_LAYER,\n",
    "                output_feature=OUT_FEATURES):\n",
    "        super(RNN, self).__init__()\n",
    "        self.rnn = nn.RNN(input_feature, hidden_state, num_layer, batch_first=True, nonlinearity='relu')\n",
    "        self.fc = nn.Linear(hidden_state, output_feature)\n",
    "    \n",
    "    def forward(self, x):\n",
    "        h0 = torch.zeros(N_LAYER, x.shape[0], HIDDEN_STATE).to(device)\n",
    "        x, hn = self.rnn(x, h0)\n",
    "        # print(x.shape)\n",
    "        x = self.fc(x)\n",
    "        return x"
   ]
  },
  {
   "cell_type": "code",
   "execution_count": 43,
   "id": "6a4491af-6117-4843-824e-69979c5a6e0e",
   "metadata": {
    "execution": {
     "iopub.execute_input": "2024-07-13T02:14:50.596059Z",
     "iopub.status.busy": "2024-07-13T02:14:50.594980Z",
     "iopub.status.idle": "2024-07-13T02:14:50.619270Z",
     "shell.execute_reply": "2024-07-13T02:14:50.618207Z",
     "shell.execute_reply.started": "2024-07-13T02:14:50.596013Z"
    }
   },
   "outputs": [],
   "source": [
    "model = RNN().to(device)\n",
    "loss_fn = nn.MSELoss()\n",
    "optimizer = torch.optim.AdamW(model.parameters(),lr=LEARNING_RATE)"
   ]
  },
  {
   "cell_type": "code",
   "execution_count": 44,
   "id": "33f1ed8f-185f-4b52-9c6c-2344ea7ee49d",
   "metadata": {
    "execution": {
     "iopub.execute_input": "2024-07-13T02:14:51.844346Z",
     "iopub.status.busy": "2024-07-13T02:14:51.843757Z",
     "iopub.status.idle": "2024-07-13T02:16:02.207263Z",
     "shell.execute_reply": "2024-07-13T02:16:02.206613Z",
     "shell.execute_reply.started": "2024-07-13T02:14:51.844301Z"
    }
   },
   "outputs": [
    {
     "name": "stdout",
     "output_type": "stream",
     "text": [
      "Epoch: 0 | Train loss: 0.01858 | Test loss: 0.01360\n",
      "Epoch: 1 | Train loss: 0.01101 | Test loss: 0.00715\n"
     ]
    }
   ],
   "source": [
    "torch.manual_seed(42)\n",
    "epochs = 2\n",
    "train_loss_list = []\n",
    "test_loss_list = []\n",
    "\n",
    "for epoch in range(epochs):\n",
    "    train_loss = 0\n",
    "    for batch, (X, y) in enumerate(train_dataloader):\n",
    "        model.train()\n",
    "        y_pred = model(X.to(device))\n",
    "        loss = loss_fn(y_pred, y.to(device))\n",
    "        train_loss += loss # accumulatively add up the loss per epoch\n",
    "        optimizer.zero_grad()\n",
    "        loss.backward()\n",
    "        optimizer.step()\n",
    "\n",
    "    # Divide total train loss by length of train dataloader (average loss per batch per epoch)\n",
    "    train_loss /= len(train_dataloader)\n",
    "    train_loss_list.append(train_loss.detach().cpu().numpy())\n",
    "    \n",
    "    with torch.inference_mode():\n",
    "        test_loss = 0\n",
    "        model.eval()\n",
    "        for X, y in test_dataloader:\n",
    "            test_pred = model(X.to(device))\n",
    "            test_loss += loss_fn(test_pred, y.to(device)) # accumulatively add up the loss per epoch\n",
    "        \n",
    "        # Divide total test loss by length of test dataloader (per batch)\n",
    "        test_loss /= len(test_dataloader)\n",
    "        test_loss_list.append(test_loss.detach().cpu().numpy())\n",
    "        \n",
    "    print(f\"Epoch: {epoch} | Train loss: {train_loss:.5f} | Test loss: {test_loss:.5f}\")"
   ]
  },
  {
   "cell_type": "code",
   "execution_count": 45,
   "id": "b17facf0-692a-48f5-bdfd-fdf33cb63d5d",
   "metadata": {
    "execution": {
     "iopub.execute_input": "2024-07-13T02:16:33.409342Z",
     "iopub.status.busy": "2024-07-13T02:16:33.408542Z",
     "iopub.status.idle": "2024-07-13T02:16:36.614950Z",
     "shell.execute_reply": "2024-07-13T02:16:36.614281Z",
     "shell.execute_reply.started": "2024-07-13T02:16:33.409296Z"
    }
   },
   "outputs": [],
   "source": [
    "# combine batches\n",
    "test_pred = []\n",
    "with torch.inference_mode():\n",
    "    test_loss = 0\n",
    "    model.eval()\n",
    "    for X, y in test_dataloader:\n",
    "        test_pred_batch = model(X.to(device))\n",
    "        test_pred.append(test_pred_batch)\n",
    "\n",
    "test_pred = torch.cat(tuple(test_pred), dim=0)\n",
    "test_pred = test_pred.reshape(test_pred.shape[0] * test_pred.shape[1], test_pred.shape[2])\n",
    "y_test = y_test.reshape(y_test.shape[0] * y_test.shape[1], y_test.shape[2])\n",
    "\n",
    "# to cpu\n",
    "test_pred = test_pred.detach().cpu().numpy()"
   ]
  },
  {
   "cell_type": "code",
   "execution_count": 51,
   "id": "fd005f79-0591-4261-9015-7526eea88983",
   "metadata": {
    "execution": {
     "iopub.execute_input": "2024-07-13T02:18:23.504033Z",
     "iopub.status.busy": "2024-07-13T02:18:23.503364Z",
     "iopub.status.idle": "2024-07-13T02:18:23.684793Z",
     "shell.execute_reply": "2024-07-13T02:18:23.683578Z",
     "shell.execute_reply.started": "2024-07-13T02:18:23.503987Z"
    }
   },
   "outputs": [
    {
     "data": {
      "text/plain": [
       "[<matplotlib.lines.Line2D at 0x2b200d4ffc10>]"
      ]
     },
     "execution_count": 51,
     "metadata": {},
     "output_type": "execute_result"
    },
    {
     "data": {
      "image/png": "[encoded data removed]",
      "text/plain": [
       "<Figure size 640x480 with 1 Axes>"
      ]
     },
     "metadata": {},
     "output_type": "display_data"
    }
   ],
   "source": [
    "# plot the first sample. Delete this if not necessary.\n",
    "plt.plot(test_pred[5000,:])\n",
    "plt.plot(y_test[5000,:])"
   ]
  },
  {
   "cell_type": "code",
   "execution_count": null,
   "id": "aa587035-fff8-4fbf-bd39-1bf21e9c9460",
   "metadata": {},
   "outputs": [],
   "source": []
  },
  {
   "cell_type": "code",
   "execution_count": null,
   "id": "c60af9cd-7616-49a3-8eaf-ba124016a987",
   "metadata": {},
   "outputs": [],
   "source": []
  },
  {
   "cell_type": "code",
   "execution_count": null,
   "id": "17613e49-58cf-4ff1-a79a-b5430e9ea166",
   "metadata": {},
   "outputs": [],
   "source": []
  },
  {
   "cell_type": "code",
   "execution_count": 30,
   "id": "c3ec0c9f-9301-46a1-8dd1-c6dbd055e794",
   "metadata": {
    "execution": {
     "iopub.execute_input": "2024-07-13T02:11:13.011995Z",
     "iopub.status.busy": "2024-07-13T02:11:13.011300Z",
     "iopub.status.idle": "2024-07-13T02:11:13.019918Z",
     "shell.execute_reply": "2024-07-13T02:11:13.018665Z",
     "shell.execute_reply.started": "2024-07-13T02:11:13.011947Z"
    }
   },
   "outputs": [],
   "source": [
    "# model name\n",
    "# (model name is used for the output)\n",
    "model_name = 'RNN'\n",
    "# input of validation dataset (npy)\n",
    "fn_x_true = '/work/sds-lab/Shuochen/climsim/val_input.npy'\n",
    "# true output of validation dataset (npy)\n",
    "fn_y_true = '/work/sds-lab/Shuochen/climsim/val_target.npy'\n",
    "# Model predicted output of varlidation dataset (npy)\n",
    "fn_y_pred = test_pred\n",
    "# model grid information (nc)\n",
    "fn_grid = '/work/sds-lab/Shuochen/climsim/normalizations_git/ClimSim_low-res_grid-info.nc'\n",
    "\n",
    "# normalization and scale factors (nc), fn_mli files are not necessary\n",
    "fn_mli_mean  = '/work/sds-lab/Shuochen/climsim/normalizations_git/inputs/input_mean.nc'\n",
    "fn_mli_min   = '/work/sds-lab/Shuochen/climsim/normalizations_git/inputs/input_min.nc'\n",
    "fn_mli_max   = '/work/sds-lab/Shuochen/climsim/normalizations_git/inputs/input_max.nc'\n",
    "fn_mlo_scale = '/work/sds-lab/Shuochen/climsim/normalizations_git/outputs/output_scale.nc'\n"
   ]
  },
  {
   "cell_type": "code",
   "execution_count": 31,
   "id": "83f7496f-5ace-4cdd-816d-ae0f4450c45f",
   "metadata": {
    "execution": {
     "iopub.execute_input": "2024-07-13T02:11:13.291793Z",
     "iopub.status.busy": "2024-07-13T02:11:13.291172Z",
     "iopub.status.idle": "2024-07-13T02:11:13.303518Z",
     "shell.execute_reply": "2024-07-13T02:11:13.302385Z",
     "shell.execute_reply.started": "2024-07-13T02:11:13.291748Z"
    }
   },
   "outputs": [],
   "source": [
    "# physical constatns from (E3SM_ROOT/share/util/shr_const_mod.F90)\n",
    "grav    = 9.80616    # acceleration of gravity ~ m/s^2\n",
    "cp      = 1.00464e3  # specific heat of dry air   ~ J/kg/K\n",
    "lv      = 2.501e6    # latent heat of evaporation ~ J/kg\n",
    "lf      = 3.337e5    # latent heat of fusion      ~ J/kg\n",
    "ls      = lv + lf    # latent heat of sublimation ~ J/kg\n",
    "rho_air = 101325./ (6.02214e26*1.38065e-23/28.966) / 273.15 # density of dry air at STP  ~ kg/m^3\n",
    "                                                            # ~ 1.2923182846924677\n",
    "                                                            # SHR_CONST_PSTD/(SHR_CONST_RDAIR*SHR_CONST_TKFRZ)\n",
    "                                                            # SHR_CONST_RDAIR   = SHR_CONST_RGAS/SHR_CONST_MWDAIR\n",
    "                                                            # SHR_CONST_RGAS    = SHR_CONST_AVOGAD*SHR_CONST_BOLTZ\n",
    "rho_h20 = 1.e3       # density of fresh water     ~ kg/m^ 3\n",
    "\n",
    "vars_mlo_energy_conv = {'ptend_t':cp,\n",
    "                        'ptend_q0001':lv,\n",
    "                        'cam_out_NETSW':1.,\n",
    "                        'cam_out_FLWDS':1.,\n",
    "                        'cam_out_PRECSC':lv*rho_h20,\n",
    "                        'cam_out_PRECC':lv*rho_h20,\n",
    "                        'cam_out_SOLS':1.,\n",
    "                        'cam_out_SOLL':1.,\n",
    "                        'cam_out_SOLSD':1.,\n",
    "                        'cam_out_SOLLD':1.\n",
    "                       }\n",
    "vars_longname=\\\n",
    "{'ptend_t':'Heating tendency, ∂T/∂t',\n",
    " 'ptend_q0001':'Moistening tendency, ∂q/∂t',\n",
    " 'cam_out_NETSW':'Net surface shortwave flux, NETSW',\n",
    " 'cam_out_FLWDS':'Downward surface longwave flux, FLWDS',\n",
    " 'cam_out_PRECSC':'Snow rate, PRECSC',\n",
    " 'cam_out_PRECC':'Rain rate, PRECC',\n",
    " 'cam_out_SOLS':'Visible direct solar flux, SOLS',\n",
    " 'cam_out_SOLL':'Near-IR direct solar flux, SOLL',\n",
    " 'cam_out_SOLSD':'Visible diffused solar flux, SOLSD',\n",
    " 'cam_out_SOLLD':'Near-IR diffused solar flux, SOLLD'}"
   ]
  },
  {
   "cell_type": "code",
   "execution_count": 32,
   "id": "ef89b4e3-304c-4777-adc5-7b0bd17570ab",
   "metadata": {
    "execution": {
     "iopub.execute_input": "2024-07-13T02:11:13.623033Z",
     "iopub.status.busy": "2024-07-13T02:11:13.622510Z",
     "iopub.status.idle": "2024-07-13T02:11:14.864158Z",
     "shell.execute_reply": "2024-07-13T02:11:14.863248Z",
     "shell.execute_reply.started": "2024-07-13T02:11:13.622998Z"
    }
   },
   "outputs": [],
   "source": [
    "# set dimemsion names for xarray datasets\n",
    "dim_name_level  = 'lev'\n",
    "dim_name_sample = 'sample'\n",
    "\n",
    "# load input dataset\n",
    "x_true = np.load(fn_x_true)\n",
    "y_true = np.load(fn_y_true)\n",
    "y_pred = fn_y_pred\n",
    "N_samples = y_pred.shape[0]\n",
    "\n",
    "# load norm/scale factors\n",
    "mlo_scale = xr.open_dataset(fn_mlo_scale)\n",
    "mli_mean  = xr.open_dataset(fn_mli_mean)\n",
    "mli_min   = xr.open_dataset(fn_mli_min)\n",
    "mli_max   = xr.open_dataset(fn_mli_max)"
   ]
  },
  {
   "cell_type": "code",
   "execution_count": 33,
   "id": "0ea7966b-d31f-41bf-8ccc-16e0856becf1",
   "metadata": {
    "execution": {
     "iopub.execute_input": "2024-07-13T02:11:14.866120Z",
     "iopub.status.busy": "2024-07-13T02:11:14.865845Z",
     "iopub.status.idle": "2024-07-13T02:11:14.906286Z",
     "shell.execute_reply": "2024-07-13T02:11:14.905469Z",
     "shell.execute_reply.started": "2024-07-13T02:11:14.866097Z"
    }
   },
   "outputs": [],
   "source": [
    "# load grid information\n",
    "ds_grid = xr.open_dataset(fn_grid) # has ncol:384\n",
    "N_ncol = len(ds_grid['ncol']) # length of ncol dimension (nlat * nlon)\n",
    "\n",
    "# make area-weights\n",
    "ds_grid['area_wgt'] = ds_grid['area'] / ds_grid['area'].mean('ncol')\n",
    "\n",
    "# map ds_grid's ncol dimension -> the N_samples dimension of npy-loayd arrays (e.g., y_pred)\n",
    "to_xarray = {'area_wgt': (dim_name_sample,np.tile(ds_grid['area_wgt'], int(N_samples/len(ds_grid['ncol'])))),\n",
    "            }\n",
    "to_xarray = xr.Dataset(to_xarray)\n",
    "\n",
    "# add nsample-mapped grid variables back to ds_grid\n",
    "ds_grid = xr.merge([ds_grid  [['P0', 'hyai', 'hyam','hybi','hybm','lat','lon','area']],\n",
    "                    to_xarray[['area_wgt']]])"
   ]
  },
  {
   "cell_type": "code",
   "execution_count": 34,
   "id": "1e82ff7d-81b5-4e30-823f-59e049a12b20",
   "metadata": {
    "execution": {
     "iopub.execute_input": "2024-07-13T02:11:14.907672Z",
     "iopub.status.busy": "2024-07-13T02:11:14.907234Z",
     "iopub.status.idle": "2024-07-13T02:11:14.912916Z",
     "shell.execute_reply": "2024-07-13T02:11:14.911857Z",
     "shell.execute_reply.started": "2024-07-13T02:11:14.907652Z"
    }
   },
   "outputs": [],
   "source": [
    "# list of ML output variables\n",
    "vars_mlo = ['ptend_t','ptend_q0001','cam_out_NETSW','cam_out_FLWDS','cam_out_PRECSC',\n",
    "            'cam_out_PRECC','cam_out_SOLS','cam_out_SOLL','cam_out_SOLSD','cam_out_SOLLD'] # mlo mean ML output.\n",
    "\n",
    "# length of each variable\n",
    "# (make sure that the order of variables are correct)\n",
    "vars_mlo_len = {'ptend_t':60,\n",
    "                'ptend_q0001':60,\n",
    "                'cam_out_NETSW':1,\n",
    "                'cam_out_FLWDS':1,\n",
    "                'cam_out_PRECSC':1,\n",
    "                'cam_out_PRECC':1,\n",
    "                'cam_out_SOLS':1,\n",
    "                'cam_out_SOLL':1,\n",
    "                'cam_out_SOLSD':1,\n",
    "                'cam_out_SOLLD':1\n",
    "               }\n",
    "\n",
    "# map the length of dimension to the name of dimension\n",
    "len_to_dim = {60:dim_name_level,\n",
    "              N_samples: dim_name_sample}"
   ]
  },
  {
   "cell_type": "code",
   "execution_count": 35,
   "id": "703551d1-0b3a-479a-86d4-babc4af25076",
   "metadata": {
    "execution": {
     "iopub.execute_input": "2024-07-13T02:11:14.915457Z",
     "iopub.status.busy": "2024-07-13T02:11:14.914984Z",
     "iopub.status.idle": "2024-07-13T02:11:25.255309Z",
     "shell.execute_reply": "2024-07-13T02:11:25.254640Z",
     "shell.execute_reply.started": "2024-07-13T02:11:14.915425Z"
    }
   },
   "outputs": [
    {
     "name": "stderr",
     "output_type": "stream",
     "text": [
      "/tmp/ipykernel_192939/1724888985.py:70: FutureWarning: the `pandas.MultiIndex` object(s) passed as 'sample' coordinate(s) or data variable(s) will no longer be implicitly promoted and wrapped into multiple indexed coordinates in the future (i.e., one coordinate for each multi-index level + one dimension coordinate). If you want to keep this behavior, you need to first wrap it explicitly using `mindex_coords = xarray.Coordinates.from_pandas_multiindex(mindex_obj, 'dim')` and pass it as coordinates, e.g., `xarray.Dataset(coords=mindex_coords)`, `dataset.assign_coords(mindex_coords)` or `dataarray.assign_coords(mindex_coords)`.\n",
      "  DS[kds] = DS[kds].assign_coords(sample=new_ind).unstack('sample')\n"
     ]
    }
   ],
   "source": [
    "# Here, we first construct a dictionary of {var name: (dimension name, array-like)},\n",
    "# then, map the dictionary to an Xarray Dataset.\n",
    "# (ref: https://docs.xarray.dev/en/stable/generated/xarray.Dataset.html)\n",
    "\n",
    "DS = {}\n",
    "\n",
    "for kds in ['true', 'pred']:\n",
    "    if kds=='true':\n",
    "        work = y_true\n",
    "    elif kds=='pred':\n",
    "        work = y_pred\n",
    "\n",
    "    # [1] Construct dictionary for xarray dataset\n",
    "    #     format is key for variable name /\n",
    "    #               value for a turple of (dimension names, data).\n",
    "    to_xarray = {}\n",
    "    for k, kvar in enumerate(vars_mlo):\n",
    "\n",
    "        # length of variable (ie, number of levels)\n",
    "        kvar_len = vars_mlo_len[kvar]\n",
    "\n",
    "        # set dimensions of variable\n",
    "        if kvar_len == 60:\n",
    "            kvar_dims = (dim_name_sample, dim_name_level)\n",
    "        elif kvar_len == 1:\n",
    "            kvar_dims = dim_name_sample\n",
    "\n",
    "        # set start and end indices of variable in the loaded numpy array\n",
    "        # then, add 'kvar':(kvar_dims, <np_array>) to dictionary\n",
    "        if k==0: ind1=0\n",
    "        ind2 = ind1 + kvar_len\n",
    "\n",
    "        # scaled output\n",
    "        kvar_data = np.squeeze(work[:,ind1:ind2])\n",
    "        # unscaled output\n",
    "        kvar_data = kvar_data / mlo_scale[kvar].values\n",
    "\n",
    "        to_xarray[kvar] = (kvar_dims, kvar_data)\n",
    "\n",
    "        ind1 = ind2\n",
    "\n",
    "    # [2] convert dict to xarray dataset\n",
    "    DS[kds] = xr.Dataset(to_xarray)\n",
    "\n",
    "    # [3] add surface pressure ('state_ps') from ml input\n",
    "    # normalized ps\n",
    "    state_ps =  xr.DataArray(x_true[:,120], dims=('sample'), name='state_ps')\n",
    "    # denormalized ps\n",
    "    state_ps = state_ps * (mli_max['state_ps'] - mli_min['state_ps']) + mli_mean['state_ps']\n",
    "    DS[kds]['state_ps'] = state_ps\n",
    "\n",
    "    # [4] add grid information\n",
    "    DS[kds] = xr.merge([DS[kds], ds_grid])\n",
    "\n",
    "    # [5] add pressure thickness of each level, dp\n",
    "    # FYI, in a hybrid sigma vertical coordinate system, pressure at level z is\n",
    "    # P[x,z] = hyam[z]*P0 + hybm[z]*PS[x,z],\n",
    "    # where, hyam and hybm are \n",
    "    tmp = DS[kds]['P0']*DS[kds]['hyai'] + DS[kds]['state_ps']*DS[kds]['hybi']\n",
    "    tmp = tmp.isel(ilev=slice(1,61)).values - tmp.isel(ilev=slice(0,60)).values\n",
    "    tmp = tmp.transpose()\n",
    "    DS[kds]['dp'] = xr.DataArray(tmp, dims=('sample', 'lev'))\n",
    "\n",
    "    # [6] break (sample) to (ncol,time)\n",
    "    N_timestep = int(N_samples/N_ncol)\n",
    "    dim_ncol     = np.arange(N_ncol)\n",
    "    dim_timestep = np.arange(N_timestep)\n",
    "    new_ind = pd.MultiIndex.from_product([dim_timestep, dim_ncol],\n",
    "                                         names=['time', 'ncol'])\n",
    "    DS[kds] = DS[kds].assign_coords(sample=new_ind).unstack('sample')\n",
    "\n",
    "del work, to_xarray, y_true, y_pred, x_true, state_ps, tmp"
   ]
  },
  {
   "cell_type": "code",
   "execution_count": 36,
   "id": "23071f4a-bf3c-4d43-a485-ed316f235e8f",
   "metadata": {
    "execution": {
     "iopub.execute_input": "2024-07-13T02:11:25.256865Z",
     "iopub.status.busy": "2024-07-13T02:11:25.256547Z",
     "iopub.status.idle": "2024-07-13T02:11:37.518006Z",
     "shell.execute_reply": "2024-07-13T02:11:37.517407Z",
     "shell.execute_reply.started": "2024-07-13T02:11:25.256850Z"
    }
   },
   "outputs": [],
   "source": [
    "# [1] Weight vertical levels by dp/g that is equivalent to a mass of air within a grid cell per unit area [kg/m2]\n",
    "# [2] Weight horizontal area of each grid cell by a[x]/mean(a[x]).\n",
    "# [3] Unit conversion to a common energy unit\n",
    "\n",
    "DS_ENERGY = {}\n",
    "for kds in ['true','pred']:\n",
    "    # Make a copy to keep original dataset\n",
    "    DS_ENERGY[kds] = DS[kds].copy(deep=True)\n",
    "\n",
    "    # vertical weighting / area weighting / unit conversion\n",
    "    for kvar in vars_mlo:\n",
    "\n",
    "        # [1] weight vertical levels by dp/g\n",
    "        #     ONLY for vertically-resolved variables, e.g., ptend_{t,q0001}\n",
    "        # dp/g = - \\rho * dz\n",
    "        if vars_mlo_len[kvar] == 60:\n",
    "            DS_ENERGY[kds][kvar] = DS_ENERGY[kds][kvar] * DS_ENERGY[kds]['dp']/grav\n",
    "\n",
    "        # [2] weight area\n",
    "        #     for ALL variables\n",
    "        DS_ENERGY[kds][kvar] = DS_ENERGY[kds]['area_wgt'] * DS_ENERGY[kds][kvar]\n",
    "\n",
    "        # [3] convert units to W/m2\n",
    "        #     for variables with different units, e.g., ptend_{t,q0001}, precsc, precc\n",
    "        DS_ENERGY[kds][kvar] =  vars_mlo_energy_conv[kvar] * DS_ENERGY[kds][kvar]"
   ]
  },
  {
   "cell_type": "code",
   "execution_count": 37,
   "id": "1561ac4c-f1e0-4d45-88f6-2b59bc59a73f",
   "metadata": {
    "execution": {
     "iopub.execute_input": "2024-07-13T02:11:37.518883Z",
     "iopub.status.busy": "2024-07-13T02:11:37.518695Z",
     "iopub.status.idle": "2024-07-13T02:12:05.280402Z",
     "shell.execute_reply": "2024-07-13T02:12:05.279677Z",
     "shell.execute_reply.started": "2024-07-13T02:11:37.518859Z"
    }
   },
   "outputs": [],
   "source": [
    "all_metrics = ['MAE','RMSE','R2']\n",
    "\n",
    "# A. Calculate metrics\n",
    "# After this step,\n",
    "# ptend_{t,q0001} have [ncol, lev] dimension;\n",
    "# and the rest variables have [ncol] dimension.\n",
    "\n",
    "# if spatial analysis is desired (e.g., R2 distribution on global map or on latitude-level plane),\n",
    "# the metrics at this step should be used.\n",
    "\n",
    "\n",
    "# Select only ML output varibles\n",
    "DS_ENERGY[kds] = DS_ENERGY[kds][vars_mlo]\n",
    "\n",
    "# Caclulate 3 metrics\n",
    "Metrics = {}\n",
    "Metrics['MAE']  = (np.abs(DS_ENERGY['true']   - DS_ENERGY['pred'])).mean('time')\n",
    "Metrics['RMSE'] = np.sqrt(((DS_ENERGY['true'] - DS_ENERGY['pred'])**2.).mean('time'))\n",
    "Metrics['R2'] = 1 - ((DS_ENERGY['true'] - DS_ENERGY['pred']                    )**2.).sum('time')/\\\n",
    "                    ((DS_ENERGY['true'] - DS_ENERGY['true'].mean('time'))**2.).sum('time')\n",
    "\n",
    "# Save grid-wise metric files in netcdf format\n",
    "if True:\n",
    "    for kmetric in ['MAE', 'RMSE', 'R2']:\n",
    "        fn_save = f'./metrics_netcdf/{model_name}_{kmetric}.nc'\n",
    "        Metrics[kmetric].to_netcdf(fn_save)"
   ]
  },
  {
   "cell_type": "code",
   "execution_count": 38,
   "id": "d9385540-e787-4ba6-a24a-ac12ccda992d",
   "metadata": {
    "execution": {
     "iopub.execute_input": "2024-07-13T02:12:05.282315Z",
     "iopub.status.busy": "2024-07-13T02:12:05.282086Z",
     "iopub.status.idle": "2024-07-13T02:12:05.299466Z",
     "shell.execute_reply": "2024-07-13T02:12:05.298662Z",
     "shell.execute_reply.started": "2024-07-13T02:12:05.282295Z"
    }
   },
   "outputs": [],
   "source": [
    "# B. Make horizontal mean.\n",
    "# After this step,\n",
    "# ptend_{t,q0001} have [lev] dimension;\n",
    "# and the rest variables have zero dimensions, i.e., scalars.\n",
    "\n",
    "for kmetric in all_metrics:\n",
    "    Metrics[kmetric] = Metrics[kmetric].mean('ncol') # simple mean"
   ]
  },
  {
   "cell_type": "code",
   "execution_count": 39,
   "id": "5eac3a44-36cf-4edc-a0c0-ec765bf10d86",
   "metadata": {
    "execution": {
     "iopub.execute_input": "2024-07-13T02:12:05.301008Z",
     "iopub.status.busy": "2024-07-13T02:12:05.300558Z",
     "iopub.status.idle": "2024-07-13T02:12:05.481520Z",
     "shell.execute_reply": "2024-07-13T02:12:05.480508Z",
     "shell.execute_reply.started": "2024-07-13T02:12:05.300977Z"
    }
   },
   "outputs": [
    {
     "data": {
      "text/html": [
       "<div>\n",
       "<style scoped>\n",
       "    .dataframe tbody tr th:only-of-type {\n",
       "        vertical-align: middle;\n",
       "    }\n",
       "\n",
       "    .dataframe tbody tr th {\n",
       "        vertical-align: top;\n",
       "    }\n",
       "\n",
       "    .dataframe thead th {\n",
       "        text-align: right;\n",
       "    }\n",
       "</style>\n",
       "<table border=\"1\" class=\"dataframe\">\n",
       "  <thead>\n",
       "    <tr style=\"text-align: right;\">\n",
       "      <th></th>\n",
       "      <th>MAE</th>\n",
       "      <th>RMSE</th>\n",
       "      <th>R2</th>\n",
       "    </tr>\n",
       "    <tr>\n",
       "      <th>output_idx</th>\n",
       "      <th></th>\n",
       "      <th></th>\n",
       "      <th></th>\n",
       "    </tr>\n",
       "  </thead>\n",
       "  <tbody>\n",
       "    <tr>\n",
       "      <th>0</th>\n",
       "      <td>0.013120</td>\n",
       "      <td>0.018529</td>\n",
       "      <td>-0.494468</td>\n",
       "    </tr>\n",
       "    <tr>\n",
       "      <th>1</th>\n",
       "      <td>0.035350</td>\n",
       "      <td>0.046201</td>\n",
       "      <td>-0.677162</td>\n",
       "    </tr>\n",
       "    <tr>\n",
       "      <th>2</th>\n",
       "      <td>0.075968</td>\n",
       "      <td>0.093886</td>\n",
       "      <td>-0.559775</td>\n",
       "    </tr>\n",
       "    <tr>\n",
       "      <th>3</th>\n",
       "      <td>0.184988</td>\n",
       "      <td>0.228052</td>\n",
       "      <td>-0.761608</td>\n",
       "    </tr>\n",
       "    <tr>\n",
       "      <th>4</th>\n",
       "      <td>0.418375</td>\n",
       "      <td>0.522259</td>\n",
       "      <td>-0.830754</td>\n",
       "    </tr>\n",
       "    <tr>\n",
       "      <th>...</th>\n",
       "      <td>...</td>\n",
       "      <td>...</td>\n",
       "      <td>...</td>\n",
       "    </tr>\n",
       "    <tr>\n",
       "      <th>123</th>\n",
       "      <td>122.656013</td>\n",
       "      <td>205.329326</td>\n",
       "      <td>-59194.222037</td>\n",
       "    </tr>\n",
       "    <tr>\n",
       "      <th>124</th>\n",
       "      <td>104.088657</td>\n",
       "      <td>149.910889</td>\n",
       "      <td>-2.654943</td>\n",
       "    </tr>\n",
       "    <tr>\n",
       "      <th>125</th>\n",
       "      <td>110.510588</td>\n",
       "      <td>157.707862</td>\n",
       "      <td>-1.966286</td>\n",
       "    </tr>\n",
       "    <tr>\n",
       "      <th>126</th>\n",
       "      <td>44.185413</td>\n",
       "      <td>58.519269</td>\n",
       "      <td>-0.683274</td>\n",
       "    </tr>\n",
       "    <tr>\n",
       "      <th>127</th>\n",
       "      <td>25.360351</td>\n",
       "      <td>34.860564</td>\n",
       "      <td>-0.509123</td>\n",
       "    </tr>\n",
       "  </tbody>\n",
       "</table>\n",
       "<p>128 rows × 3 columns</p>\n",
       "</div>"
      ],
      "text/plain": [
       "                   MAE        RMSE            R2\n",
       "output_idx                                      \n",
       "0             0.013120    0.018529     -0.494468\n",
       "1             0.035350    0.046201     -0.677162\n",
       "2             0.075968    0.093886     -0.559775\n",
       "3             0.184988    0.228052     -0.761608\n",
       "4             0.418375    0.522259     -0.830754\n",
       "...                ...         ...           ...\n",
       "123         122.656013  205.329326 -59194.222037\n",
       "124         104.088657  149.910889     -2.654943\n",
       "125         110.510588  157.707862     -1.966286\n",
       "126          44.185413   58.519269     -0.683274\n",
       "127          25.360351   34.860564     -0.509123\n",
       "\n",
       "[128 rows x 3 columns]"
      ]
     },
     "execution_count": 39,
     "metadata": {},
     "output_type": "execute_result"
    }
   ],
   "source": [
    "# C-1. Save the result after B.\n",
    "# to save in a table format as a csv file, the level dimensions are flattened.\n",
    "\n",
    "Metrics_stacked = {}\n",
    "for kmetric in all_metrics:\n",
    "    Metrics_stacked[kmetric] = Metrics[kmetric].to_stacked_array('ml_out_idx', sample_dims='', name=kmetric)\n",
    "\n",
    "\n",
    "# save the output\n",
    "work = pd.DataFrame({'MAE':  Metrics_stacked['MAE'].values,\n",
    "                     'RMSE': Metrics_stacked['RMSE'].values,\n",
    "                     'R2':   Metrics_stacked['R2'].values}\n",
    "                    )\n",
    "work.index.name = 'output_idx'\n",
    "\n",
    "# save to the metrics folder\n",
    "fn_save_metrics = f'./metrics/{model_name}.metrics.csv'\n",
    "work.to_csv(fn_save_metrics)\n",
    "work"
   ]
  },
  {
   "cell_type": "code",
   "execution_count": 40,
   "id": "b1cacfe7-695d-4356-9aba-52c6048cb6eb",
   "metadata": {
    "execution": {
     "iopub.execute_input": "2024-07-13T02:12:05.483442Z",
     "iopub.status.busy": "2024-07-13T02:12:05.482904Z",
     "iopub.status.idle": "2024-07-13T02:12:05.690327Z",
     "shell.execute_reply": "2024-07-13T02:12:05.689824Z",
     "shell.execute_reply.started": "2024-07-13T02:12:05.483407Z"
    }
   },
   "outputs": [
    {
     "data": {
      "text/plain": [
       "<Axes: xlabel='output_idx'>"
      ]
     },
     "execution_count": 40,
     "metadata": {},
     "output_type": "execute_result"
    },
    {
     "data": {
      "image/png": "[encoded data removed]",
      "text/plain": [
       "<Figure size 640x480 with 1 Axes>"
      ]
     },
     "metadata": {},
     "output_type": "display_data"
    }
   ],
   "source": [
    "# try to reproduce their plot 2\n",
    "work['MAE'][:60].plot()"
   ]
  },
  {
   "cell_type": "code",
   "execution_count": 41,
   "id": "ee889f24-cb27-450f-94f6-71689060612c",
   "metadata": {
    "execution": {
     "iopub.execute_input": "2024-07-13T02:12:05.691331Z",
     "iopub.status.busy": "2024-07-13T02:12:05.691162Z",
     "iopub.status.idle": "2024-07-13T02:12:05.714152Z",
     "shell.execute_reply": "2024-07-13T02:12:05.713213Z",
     "shell.execute_reply.started": "2024-07-13T02:12:05.691317Z"
    }
   },
   "outputs": [
    {
     "data": {
      "text/html": [
       "<div>\n",
       "<style scoped>\n",
       "    .dataframe tbody tr th:only-of-type {\n",
       "        vertical-align: middle;\n",
       "    }\n",
       "\n",
       "    .dataframe tbody tr th {\n",
       "        vertical-align: top;\n",
       "    }\n",
       "\n",
       "    .dataframe thead th {\n",
       "        text-align: right;\n",
       "    }\n",
       "</style>\n",
       "<table border=\"1\" class=\"dataframe\">\n",
       "  <thead>\n",
       "    <tr style=\"text-align: right;\">\n",
       "      <th></th>\n",
       "      <th>MAE</th>\n",
       "      <th>RMSE</th>\n",
       "      <th>R2</th>\n",
       "    </tr>\n",
       "    <tr>\n",
       "      <th>Variable</th>\n",
       "      <th></th>\n",
       "      <th></th>\n",
       "      <th></th>\n",
       "    </tr>\n",
       "  </thead>\n",
       "  <tbody>\n",
       "    <tr>\n",
       "      <th>ptend_t</th>\n",
       "      <td>5.556603</td>\n",
       "      <td>8.114462</td>\n",
       "      <td>-2.692554e+00</td>\n",
       "    </tr>\n",
       "    <tr>\n",
       "      <th>ptend_q0001</th>\n",
       "      <td>6.677182</td>\n",
       "      <td>10.192154</td>\n",
       "      <td>-inf</td>\n",
       "    </tr>\n",
       "    <tr>\n",
       "      <th>cam_out_NETSW</th>\n",
       "      <td>241.956704</td>\n",
       "      <td>339.158021</td>\n",
       "      <td>-4.183002e+00</td>\n",
       "    </tr>\n",
       "    <tr>\n",
       "      <th>cam_out_FLWDS</th>\n",
       "      <td>77.660412</td>\n",
       "      <td>95.752943</td>\n",
       "      <td>-1.947831e+01</td>\n",
       "    </tr>\n",
       "    <tr>\n",
       "      <th>cam_out_PRECSC</th>\n",
       "      <td>12.095349</td>\n",
       "      <td>17.637648</td>\n",
       "      <td>-inf</td>\n",
       "    </tr>\n",
       "    <tr>\n",
       "      <th>cam_out_PRECC</th>\n",
       "      <td>122.656013</td>\n",
       "      <td>205.329326</td>\n",
       "      <td>-5.919422e+04</td>\n",
       "    </tr>\n",
       "    <tr>\n",
       "      <th>cam_out_SOLS</th>\n",
       "      <td>104.088657</td>\n",
       "      <td>149.910889</td>\n",
       "      <td>-2.654943e+00</td>\n",
       "    </tr>\n",
       "    <tr>\n",
       "      <th>cam_out_SOLL</th>\n",
       "      <td>110.510588</td>\n",
       "      <td>157.707862</td>\n",
       "      <td>-1.966286e+00</td>\n",
       "    </tr>\n",
       "    <tr>\n",
       "      <th>cam_out_SOLSD</th>\n",
       "      <td>44.185413</td>\n",
       "      <td>58.519269</td>\n",
       "      <td>-6.832741e-01</td>\n",
       "    </tr>\n",
       "    <tr>\n",
       "      <th>cam_out_SOLLD</th>\n",
       "      <td>25.360351</td>\n",
       "      <td>34.860564</td>\n",
       "      <td>-5.091233e-01</td>\n",
       "    </tr>\n",
       "  </tbody>\n",
       "</table>\n",
       "</div>"
      ],
      "text/plain": [
       "                       MAE        RMSE            R2\n",
       "Variable                                            \n",
       "ptend_t           5.556603    8.114462 -2.692554e+00\n",
       "ptend_q0001       6.677182   10.192154          -inf\n",
       "cam_out_NETSW   241.956704  339.158021 -4.183002e+00\n",
       "cam_out_FLWDS    77.660412   95.752943 -1.947831e+01\n",
       "cam_out_PRECSC   12.095349   17.637648          -inf\n",
       "cam_out_PRECC   122.656013  205.329326 -5.919422e+04\n",
       "cam_out_SOLS    104.088657  149.910889 -2.654943e+00\n",
       "cam_out_SOLL    110.510588  157.707862 -1.966286e+00\n",
       "cam_out_SOLSD    44.185413   58.519269 -6.832741e-01\n",
       "cam_out_SOLLD    25.360351   34.860564 -5.091233e-01"
      ]
     },
     "execution_count": 41,
     "metadata": {},
     "output_type": "execute_result"
    }
   ],
   "source": [
    "# C-2. Save the result after vertical averaging.\n",
    "# After this step,\n",
    "# ptend_{t,q0001} also have zero dimensions, i.e., scalars;\n",
    "\n",
    "# Then, the results are saved to a csv file.\n",
    "# This csv file will be used for generating plots.\n",
    "\n",
    "Metrics_vert_avg = {}\n",
    "for kmetric in all_metrics:\n",
    "    Metrics_vert_avg[kmetric] = Metrics[kmetric].mean('lev')\n",
    "    Metrics_vert_avg[kmetric] = Metrics_vert_avg[kmetric].mean('ilev') # remove dummy dim\n",
    "\n",
    "# save the output\n",
    "work = pd.DataFrame({'MAE':  Metrics_vert_avg['MAE'].to_pandas(),\n",
    "                     'RMSE': Metrics_vert_avg['RMSE'].to_pandas(),\n",
    "                     'R2':   Metrics_vert_avg['R2'].to_pandas()}\n",
    "                    )\n",
    "work.index.name = 'Variable'\n",
    "\n",
    "# save to the metrics folder\n",
    "fn_save_metrics_avg = f'./metrics/{model_name}.metrics.lev-avg.csv'\n",
    "work.to_csv(fn_save_metrics_avg)\n",
    "work"
   ]
  },
  {
   "cell_type": "code",
   "execution_count": null,
   "id": "598811b1-cd01-407f-9f1c-75193b89ffad",
   "metadata": {},
   "outputs": [],
   "source": []
  },
  {
   "cell_type": "code",
   "execution_count": null,
   "id": "5eed363b-d053-4f83-b4d3-3a5423f45c78",
   "metadata": {},
   "outputs": [],
   "source": []
  },
  {
   "cell_type": "code",
   "execution_count": null,
   "id": "b25b1928-687e-42a9-a7b5-4f69d4816079",
   "metadata": {},
   "outputs": [],
   "source": []
  },
  {
   "cell_type": "code",
   "execution_count": null,
   "id": "8b7de57c-9677-4ecc-a095-0239129e9fc4",
   "metadata": {},
   "outputs": [],
   "source": []
  },
  {
   "cell_type": "code",
   "execution_count": null,
   "id": "a35b5562-5c4f-42dc-8b53-ff6b3d72316e",
   "metadata": {},
   "outputs": [],
   "source": []
  },
  {
   "cell_type": "code",
   "execution_count": 12,
   "id": "1cd0f59f-0f1e-45c0-9b55-70cbfcbb403c",
   "metadata": {
    "execution": {
     "iopub.execute_input": "2024-07-13T01:56:46.243975Z",
     "iopub.status.busy": "2024-07-13T01:56:46.243345Z",
     "iopub.status.idle": "2024-07-13T01:56:47.004272Z",
     "shell.execute_reply": "2024-07-13T01:56:47.003785Z",
     "shell.execute_reply.started": "2024-07-13T01:56:46.243930Z"
    }
   },
   "outputs": [],
   "source": [
    "rnn = nn.RNN(124, 128, 2, batch_first=True)\n",
    "input = torch.randn(32, 3755, 124)\n",
    "h0 = torch.randn(2, 32, 128)\n",
    "output, hn = rnn(input,h0)"
   ]
  },
  {
   "cell_type": "code",
   "execution_count": null,
   "id": "9b7e32fd-2d53-4765-b648-4d4a76812753",
   "metadata": {},
   "outputs": [],
   "source": []
  },
  {
   "cell_type": "code",
   "execution_count": null,
   "id": "2b544256-3e6b-45f2-be7e-5cbd85ad292b",
   "metadata": {},
   "outputs": [],
   "source": []
  },
  {
   "cell_type": "code",
   "execution_count": null,
   "id": "062445d7-8707-46b1-b1e3-966c452918d6",
   "metadata": {},
   "outputs": [],
   "source": []
  },
  {
   "cell_type": "code",
   "execution_count": null,
   "id": "36201120-40a6-4982-a92c-75240bce44ac",
   "metadata": {},
   "outputs": [],
   "source": []
  }
 ],
 "metadata": {
  "kernelspec": {
   "display_name": "Python 3 (ipykernel)",
   "language": "python",
   "name": "python3"
  },
  "language_info": {
   "codemirror_mode": {
    "name": "ipython",
    "version": 3
   },
   "file_extension": ".py",
   "mimetype": "text/x-python",
   "name": "python",
   "nbconvert_exporter": "python",
   "pygments_lexer": "ipython3",
   "version": "3.11.9"
  }
 },
 "nbformat": 4,
 "nbformat_minor": 5
}
