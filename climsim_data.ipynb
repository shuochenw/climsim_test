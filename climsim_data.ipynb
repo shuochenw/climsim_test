{
 "cells": [
  {
   "cell_type": "code",
<<<<<<< HEAD
   "execution_count": 16,
   "id": "d499c3ed-39cc-40df-a867-815079bea2d2",
   "metadata": {
    "execution": {
     "iopub.execute_input": "2024-03-01T22:59:47.346232Z",
     "iopub.status.busy": "2024-03-01T22:59:47.345989Z",
     "iopub.status.idle": "2024-03-01T22:59:47.349952Z",
     "shell.execute_reply": "2024-03-01T22:59:47.349667Z",
     "shell.execute_reply.started": "2024-03-01T22:59:47.346213Z"
=======
   "execution_count": 1,
   "id": "d499c3ed-39cc-40df-a867-815079bea2d2",
   "metadata": {
    "execution": {
     "iopub.execute_input": "2024-03-01T04:17:49.534406Z",
     "iopub.status.busy": "2024-03-01T04:17:49.534172Z",
     "iopub.status.idle": "2024-03-01T04:17:53.789092Z",
     "shell.execute_reply": "2024-03-01T04:17:53.788617Z",
     "shell.execute_reply.started": "2024-03-01T04:17:49.534394Z"
>>>>>>> ec49ef87b662ef3d8959828ca9d26cb027028e01
    }
   },
   "outputs": [],
   "source": [
    "import xarray as xr\n",
    "import os\n",
    "import netCDF4\n",
    "import numpy as np\n",
    "import torch\n",
    "from torch import nn\n",
    "import matplotlib.pyplot as plt\n",
    "from sklearn.model_selection import train_test_split\n",
    "from torch.utils.data import DataLoader\n",
    "from torch.utils.data import random_split\n",
    "import random\n",
    "import pandas as pd\n",
    "from torch.utils.data import DataLoader, TensorDataset\n",
    "from sklearn.preprocessing import StandardScaler\n",
    "from torch.optim.lr_scheduler import ReduceLROnPlateau"
   ]
  },
  {
   "cell_type": "markdown",
   "id": "251b9b56-d167-4fa4-8644-e1aa94d74d64",
   "metadata": {},
   "source": [
<<<<<<< HEAD
    "# combine mli/mlo data to one nc file"
=======
    "# combine mli (mlo) data to one nc file\n",
    "## 0001-02 one month data"
>>>>>>> ec49ef87b662ef3d8959828ca9d26cb027028e01
   ]
  },
  {
   "cell_type": "code",
   "execution_count": 2,
   "id": "476eeade-f5bd-4a59-8b6e-acbdfed79307",
   "metadata": {
    "execution": {
<<<<<<< HEAD
     "iopub.execute_input": "2024-03-01T04:40:10.823706Z",
     "iopub.status.busy": "2024-03-01T04:40:10.823412Z",
     "iopub.status.idle": "2024-03-01T04:40:10.826314Z",
     "shell.execute_reply": "2024-03-01T04:40:10.825854Z",
     "shell.execute_reply.started": "2024-03-01T04:40:10.823693Z"
=======
     "iopub.execute_input": "2024-03-01T04:17:53.790343Z",
     "iopub.status.busy": "2024-03-01T04:17:53.790051Z",
     "iopub.status.idle": "2024-03-01T04:17:53.793318Z",
     "shell.execute_reply": "2024-03-01T04:17:53.792775Z",
     "shell.execute_reply.started": "2024-03-01T04:17:53.790328Z"
>>>>>>> ec49ef87b662ef3d8959828ca9d26cb027028e01
    }
   },
   "outputs": [],
   "source": [
    "# from os import listdir\n",
    "# from os.path import isfile, join\n",
    "\n",
    "# mypath = '/work/sds-lab/Shuochen/climsim/train'\n",
    "# # allfiles = [f for f in listdir(mypath) if isfile(join(mypath, f))]\n",
    "# allfiles = []\n",
    "# for path, subdirs, files in os.walk(mypath):\n",
    "#     for name in files:\n",
    "#        allfiles.append(os.path.join(path, name))\n",
    "# print(len(allfiles))\n",
    "\n",
    "# mli_files = []\n",
    "# mlo_files = []\n",
    "\n",
    "# for i in range(len(allfiles)):\n",
    "#     if 'mli' in allfiles[i]:\n",
    "#         mli_files.append(allfiles[i])\n",
    "#     if 'mlo' in allfiles[i]:\n",
    "#         mlo_files.append(allfiles[i])\n",
    "\n",
    "# ds_mli = []\n",
    "# ds_mlo = []\n",
    "\n",
    "# for i in range(len(mli_files)):\n",
    "#     ds_mli.append(xr.open_dataset(mli_files[i]).expand_dims('time'))\n",
    "# for i in range(len(mlo_files)):\n",
    "#     ds_mlo.append(xr.open_dataset(mlo_files[i]).expand_dims('time'))\n",
    "\n",
    "# combined_mli = xr.concat(ds_mli, dim='time').to_netcdf(/work/sds-lab/Shuochen/climsim/ + 'val_mli.nc')\n",
    "# combined_mlo = xr.concat(ds_mlo, dim='time').to_netcdf('/work/sds-lab/Shuochen/climsim/' + 'val_mlo.nc')"
   ]
  },
  {
   "cell_type": "code",
   "execution_count": null,
   "id": "7ede7d3b-856e-49f7-9f92-31d23d54d8a8",
   "metadata": {},
   "outputs": [],
   "source": []
  },
  {
   "cell_type": "code",
   "execution_count": null,
   "id": "17dde1ae-06c7-41d4-91cf-d6e9efc4c274",
   "metadata": {},
   "outputs": [],
   "source": []
  },
  {
   "cell_type": "markdown",
   "id": "b808c850-b4dc-4985-99d9-adeb6eb94dea",
   "metadata": {},
   "source": [
    "# preprocessing"
   ]
  },
  {
   "cell_type": "code",
<<<<<<< HEAD
   "execution_count": 17,
   "id": "462fcd93-5d14-415f-b382-2c4dced7978c",
   "metadata": {
    "execution": {
     "iopub.execute_input": "2024-03-01T22:59:57.967755Z",
     "iopub.status.busy": "2024-03-01T22:59:57.967491Z",
     "iopub.status.idle": "2024-03-01T22:59:58.083145Z",
     "shell.execute_reply": "2024-03-01T22:59:58.082259Z",
     "shell.execute_reply.started": "2024-03-01T22:59:57.967745Z"
=======
   "execution_count": 3,
   "id": "462fcd93-5d14-415f-b382-2c4dced7978c",
   "metadata": {
    "execution": {
     "iopub.execute_input": "2024-03-01T04:17:53.794312Z",
     "iopub.status.busy": "2024-03-01T04:17:53.794010Z",
     "iopub.status.idle": "2024-03-01T04:17:54.251049Z",
     "shell.execute_reply": "2024-03-01T04:17:54.250518Z",
     "shell.execute_reply.started": "2024-03-01T04:17:53.794297Z"
>>>>>>> ec49ef87b662ef3d8959828ca9d26cb027028e01
    }
   },
   "outputs": [],
   "source": [
    "mli = xr.open_dataset('/work/sds-lab/Shuochen/climsim/val_mli.nc')\n",
    "mlo = xr.open_dataset('/work/sds-lab/Shuochen/climsim/val_mlo.nc')"
   ]
  },
  {
   "cell_type": "code",
<<<<<<< HEAD
   "execution_count": 18,
   "id": "db8a7a85-05da-4f3c-9e30-31f71d25fa33",
   "metadata": {
    "execution": {
     "iopub.execute_input": "2024-03-01T22:59:58.662419Z",
     "iopub.status.busy": "2024-03-01T22:59:58.661909Z",
     "iopub.status.idle": "2024-03-01T22:59:59.040172Z",
     "shell.execute_reply": "2024-03-01T22:59:59.039659Z",
     "shell.execute_reply.started": "2024-03-01T22:59:58.662409Z"
=======
   "execution_count": 4,
   "id": "db8a7a85-05da-4f3c-9e30-31f71d25fa33",
   "metadata": {
    "execution": {
     "iopub.execute_input": "2024-03-01T04:17:54.252429Z",
     "iopub.status.busy": "2024-03-01T04:17:54.252291Z",
     "iopub.status.idle": "2024-03-01T04:17:54.644533Z",
     "shell.execute_reply": "2024-03-01T04:17:54.644192Z",
     "shell.execute_reply.started": "2024-03-01T04:17:54.252416Z"
>>>>>>> ec49ef87b662ef3d8959828ca9d26cb027028e01
    }
   },
   "outputs": [],
   "source": [
    "# fix time index\n",
<<<<<<< HEAD
=======
    "\n",
>>>>>>> ec49ef87b662ef3d8959828ca9d26cb027028e01
    "date = []\n",
    "for i in range(len(mli.ymd.values)):\n",
    "    my_str=str(mli.ymd.values[i])\n",
    "    date.append(my_str[:0] + '200' + my_str[0:])\n",
    "\n",
    "mli['time'] = pd.to_datetime(date) + pd.to_timedelta(mli.tod.values, unit='s')\n",
    "mlo['time'] = pd.to_datetime(date) + pd.to_timedelta(mlo.tod.values, unit='s')"
   ]
  },
  {
   "cell_type": "code",
<<<<<<< HEAD
   "execution_count": 19,
   "id": "9ce5c565-deaa-4d52-8a48-2a6081992bf0",
   "metadata": {
    "execution": {
     "iopub.execute_input": "2024-03-01T23:00:00.783694Z",
     "iopub.status.busy": "2024-03-01T23:00:00.783548Z",
     "iopub.status.idle": "2024-03-01T23:00:00.789457Z",
     "shell.execute_reply": "2024-03-01T23:00:00.789138Z",
     "shell.execute_reply.started": "2024-03-01T23:00:00.783683Z"
=======
   "execution_count": 5,
   "id": "9ce5c565-deaa-4d52-8a48-2a6081992bf0",
   "metadata": {
    "execution": {
     "iopub.execute_input": "2024-03-01T04:17:54.645131Z",
     "iopub.status.busy": "2024-03-01T04:17:54.645003Z",
     "iopub.status.idle": "2024-03-01T04:17:54.649863Z",
     "shell.execute_reply": "2024-03-01T04:17:54.649478Z",
     "shell.execute_reply.started": "2024-03-01T04:17:54.645118Z"
>>>>>>> ec49ef87b662ef3d8959828ca9d26cb027028e01
    }
   },
   "outputs": [],
   "source": [
<<<<<<< HEAD
    "# downsample data every 7 samples (select 1 every 7 samples), data frequency is 1200s.\n",
=======
    "# downsample data every 7 samples, data frequency is 1200s.\n",
    "# mli = mli.resample(time='8400S').mean()\n",
    "# mlo = mlo.resample(time='8400S').mean()\n",
>>>>>>> ec49ef87b662ef3d8959828ca9d26cb027028e01
    "mli = mli.isel(time=slice(None,None,7))\n",
    "mlo = mlo.isel(time=slice(None,None,7))"
   ]
  },
  {
   "cell_type": "code",
<<<<<<< HEAD
   "execution_count": 23,
   "id": "11ee74af-d642-44ec-a278-855fa5a959a8",
   "metadata": {
    "execution": {
     "iopub.execute_input": "2024-03-01T23:00:54.845432Z",
     "iopub.status.busy": "2024-03-01T23:00:54.845055Z",
     "iopub.status.idle": "2024-03-01T23:00:59.338576Z",
     "shell.execute_reply": "2024-03-01T23:00:59.338051Z",
     "shell.execute_reply.started": "2024-03-01T23:00:54.845419Z"
=======
   "execution_count": 6,
   "id": "592bf4d6-1077-46b0-bd3d-49d81a89111c",
   "metadata": {
    "execution": {
     "iopub.execute_input": "2024-03-01T04:17:54.650341Z",
     "iopub.status.busy": "2024-03-01T04:17:54.650228Z",
     "iopub.status.idle": "2024-03-01T04:17:54.681212Z",
     "shell.execute_reply": "2024-03-01T04:17:54.680927Z",
     "shell.execute_reply.started": "2024-03-01T04:17:54.650330Z"
    }
   },
   "outputs": [
    {
     "name": "stdout",
     "output_type": "stream",
     "text": [
      "tensor([[1., 2.],\n",
      "        [3., 4.],\n",
      "        [5., 6.]])\n",
      "tensor([[1., 4.],\n",
      "        [2., 5.],\n",
      "        [3., 6.]])\n"
     ]
    }
   ],
   "source": [
    "a=torch.Tensor([[1,2,3],[4,5,6]])\n",
    "print(a.reshape(3,2))\n",
    "print(a.T)"
   ]
  },
  {
   "cell_type": "code",
   "execution_count": 7,
   "id": "11ee74af-d642-44ec-a278-855fa5a959a8",
   "metadata": {
    "execution": {
     "iopub.execute_input": "2024-03-01T04:17:54.681805Z",
     "iopub.status.busy": "2024-03-01T04:17:54.681688Z",
     "iopub.status.idle": "2024-03-01T04:18:34.040588Z",
     "shell.execute_reply": "2024-03-01T04:18:34.040085Z",
     "shell.execute_reply.started": "2024-03-01T04:17:54.681795Z"
>>>>>>> ec49ef87b662ef3d8959828ca9d26cb027028e01
    }
   },
   "outputs": [],
   "source": [
    "# in/out variable lists (6:10)\n",
    "vars_mli = ['state_t','state_q0001','state_ps','pbuf_SOLIN', 'pbuf_LHFLX', 'pbuf_SHFLX']\n",
    "vars_mlo = ['ptend_t','ptend_q0001','cam_out_NETSW','cam_out_FLWDS','cam_out_PRECSC','cam_out_PRECC','cam_out_SOLS','cam_out_SOLL','cam_out_SOLSD','cam_out_SOLLD']\n",
    "\n",
    "# nc to numpy to tensor, then reshape\n",
    "input_list = []\n",
    "output_list = []\n",
    "\n",
    "for i in range(len(vars_mli)):\n",
    "    if i < 2:\n",
    "        temp=torch.Tensor(mli[vars_mli[i]].to_numpy())\n",
<<<<<<< HEAD
=======
    "        # new_var=temp.reshape(temp.shape[0] * temp.shape[2], temp.shape[1])\n",
>>>>>>> ec49ef87b662ef3d8959828ca9d26cb027028e01
    "        new_var=temp.permute(0,2,1)\n",
    "        new_var=new_var.reshape(new_var.shape[0] * new_var.shape[1], new_var.shape[2])\n",
    "        input_list.append(new_var)\n",
    "    else:\n",
    "        temp=torch.Tensor(mli[vars_mli[i]].to_numpy())\n",
    "        new_var=temp.reshape(temp.shape[0] * temp.shape[1], 1)\n",
    "        input_list.append(new_var)\n",
    "\n",
    "# calculate heating and moistening tendency.\n",
    "ptend_t = (mlo['state_t'] - mli['state_t']) / 1200\n",
    "ptend_q0001 = (mlo['state_q0001'] - mli['state_q0001']) / 1200\n",
    "\n",
    "ptend_t = torch.Tensor(ptend_t.to_numpy()).permute(0,2,1)\n",
    "ptend_t = ptend_t.reshape(ptend_t.shape[0] * ptend_t.shape[1], ptend_t.shape[2])\n",
    "\n",
    "ptend_q0001 = torch.Tensor(ptend_q0001.to_numpy()).permute(0,2,1)\n",
    "ptend_q0001 = ptend_q0001.reshape(ptend_q0001.shape[0] * ptend_q0001.shape[1], ptend_q0001.shape[2])\n",
    "\n",
    "# add to output list\n",
    "output_list.extend([ptend_t,ptend_q0001])\n",
    "\n",
    "for i in range(len(vars_mlo)):\n",
    "    if i >= 2:\n",
    "        temp=torch.Tensor(mlo[vars_mlo[i]].to_numpy())\n",
    "        new_var=temp.reshape(temp.shape[0] * temp.shape[1], 1)\n",
    "        output_list.append(new_var)"
   ]
  },
  {
   "cell_type": "code",
<<<<<<< HEAD
   "execution_count": 28,
   "id": "b420b5f6-1665-4707-b02b-06b0023678ca",
   "metadata": {
    "execution": {
     "iopub.execute_input": "2024-03-01T23:02:29.478072Z",
     "iopub.status.busy": "2024-03-01T23:02:29.477184Z",
     "iopub.status.idle": "2024-03-01T23:02:29.516140Z",
     "shell.execute_reply": "2024-03-01T23:02:29.515758Z",
     "shell.execute_reply.started": "2024-03-01T23:02:29.478060Z"
=======
   "execution_count": 9,
   "id": "b420b5f6-1665-4707-b02b-06b0023678ca",
   "metadata": {
    "execution": {
     "iopub.execute_input": "2024-03-01T04:18:34.046753Z",
     "iopub.status.busy": "2024-03-01T04:18:34.046580Z",
     "iopub.status.idle": "2024-03-01T04:18:34.137685Z",
     "shell.execute_reply": "2024-03-01T04:18:34.137281Z",
     "shell.execute_reply.started": "2024-03-01T04:18:34.046742Z"
>>>>>>> ec49ef87b662ef3d8959828ca9d26cb027028e01
    }
   },
   "outputs": [],
   "source": [
<<<<<<< HEAD
    "# normalization and scaling\n",
    "norm_mean = xr.open_dataset('/work/sds-lab/Shuochen/climsim/normalizations_git/inputs/input_mean.nc')\n",
    "norm_max = xr.open_dataset('/work/sds-lab/Shuochen/climsim/normalizations_git/inputs/input_max.nc')\n",
    "norm_min = xr.open_dataset('/work/sds-lab/Shuochen/climsim/normalizations_git/inputs/input_min.nc')\n",
    "scale = xr.open_dataset('/work/sds-lab/Shuochen/climsim/normalizations_git/outputs/output_scale.nc')\n",
=======
    "norm_mean = xr.open_dataset('/home/wang.shuoc/climsim/ClimSim_git/preprocessing/normalizations/inputs/input_mean.nc')\n",
    "norm_max = xr.open_dataset('/home/wang.shuoc/climsim/ClimSim_git/preprocessing/normalizations/inputs/input_max.nc')\n",
    "norm_min = xr.open_dataset('/home/wang.shuoc/climsim/ClimSim_git/preprocessing/normalizations/inputs/input_min.nc')\n",
>>>>>>> ec49ef87b662ef3d8959828ca9d26cb027028e01
    "\n",
    "norm_mean_list = []\n",
    "for i in range(len(vars_mli)):\n",
    "    temp=torch.Tensor(norm_mean[vars_mli[i]].values)\n",
    "    norm_mean_list.append(temp)\n",
    "\n",
    "norm_max_list = []\n",
    "for i in range(len(vars_mli)):\n",
    "    temp=torch.Tensor(norm_max[vars_mli[i]].values)\n",
    "    norm_max_list.append(temp)\n",
    "\n",
    "norm_min_list = []\n",
    "for i in range(len(vars_mli)):\n",
    "    temp=torch.Tensor(norm_min[vars_mli[i]].values)\n",
<<<<<<< HEAD
    "    norm_min_list.append(temp)\n",
    "\n",
    "scale_list = []\n",
    "for i in range(len(vars_mlo)):\n",
    "    temp=torch.Tensor(scale[vars_mlo[i]].values)\n",
    "    scale_list.append(temp)"
=======
    "    norm_min_list.append(temp)\n"
>>>>>>> ec49ef87b662ef3d8959828ca9d26cb027028e01
   ]
  },
  {
   "cell_type": "code",
<<<<<<< HEAD
   "execution_count": 31,
   "id": "9eb62779-28f5-4ba0-a2d9-bf488659c013",
   "metadata": {
    "execution": {
     "iopub.execute_input": "2024-03-01T23:03:53.447021Z",
     "iopub.status.busy": "2024-03-01T23:03:53.446761Z",
     "iopub.status.idle": "2024-03-01T23:03:53.840376Z",
     "shell.execute_reply": "2024-03-01T23:03:53.839842Z",
     "shell.execute_reply.started": "2024-03-01T23:03:53.447000Z"
=======
   "execution_count": 10,
   "id": "9eb62779-28f5-4ba0-a2d9-bf488659c013",
   "metadata": {
    "execution": {
     "iopub.execute_input": "2024-03-01T04:18:34.139108Z",
     "iopub.status.busy": "2024-03-01T04:18:34.138911Z",
     "iopub.status.idle": "2024-03-01T04:18:34.226962Z",
     "shell.execute_reply": "2024-03-01T04:18:34.226539Z",
     "shell.execute_reply.started": "2024-03-01T04:18:34.139096Z"
>>>>>>> ec49ef87b662ef3d8959828ca9d26cb027028e01
    }
   },
   "outputs": [],
   "source": [
<<<<<<< HEAD
    "for i in range(len(input_list)):\n",
    "    input_list[i] = (input_list[i] - norm_mean_list[i]) / (norm_max_list[i] - norm_min_list[i])  \n",
    "\n",
    "for i in range(len(output_list)):\n",
    "    output_list[i] = output_list[i] * scale_list[i]"
=======
    "# calc normalization\n",
    "\n",
    "# for i in range(len(input_list)):\n",
    "#     if i < 2:\n",
    "#         input_list[i] = (input_list[i] - input_list[i].mean(dim=0)) / (input_list[i].max(dim=0)[0] - input_list[i].min(dim=0)[0])  \n",
    "#     else:\n",
    "#         input_list[i] = (input_list[i] - input_list[i].mean()) / (input_list[i].max() - input_list[i].min())  \n",
    "\n",
    "## no normalization for y\n",
    "# for i in range(len(output_list)):\n",
    "#     if i < 2:\n",
    "#         output_list[i] = (output_list[i] - output_list[i].mean(dim=0)) / (output_list[i].max(dim=0)[0] - output_list[i].min(dim=0)[0])  \n",
    "#     else:\n",
    "#         output_list[i] = (output_list[i] - output_list[i].mean()) / (output_list[i].max() - output_list[i].min())  \n",
    "\n",
    "for i in range(len(input_list)):\n",
    "    \n",
    "    input_list[i] = (input_list[i] - norm_mean_list[i]) / (norm_max_list[i] - norm_min_list[i])  \n",
    "\n",
    "\n",
    "\n"
>>>>>>> ec49ef87b662ef3d8959828ca9d26cb027028e01
   ]
  },
  {
   "cell_type": "code",
<<<<<<< HEAD
   "execution_count": 33,
   "id": "1cdd7f35-1368-4a3c-9215-1bc1141b506f",
   "metadata": {
    "execution": {
     "iopub.execute_input": "2024-03-01T23:04:08.125539Z",
     "iopub.status.busy": "2024-03-01T23:04:08.124974Z",
     "iopub.status.idle": "2024-03-01T23:04:08.575046Z",
     "shell.execute_reply": "2024-03-01T23:04:08.574686Z",
     "shell.execute_reply.started": "2024-03-01T23:04:08.125529Z"
=======
   "execution_count": 12,
   "id": "1cdd7f35-1368-4a3c-9215-1bc1141b506f",
   "metadata": {
    "execution": {
     "iopub.execute_input": "2024-03-01T04:18:34.235006Z",
     "iopub.status.busy": "2024-03-01T04:18:34.234823Z",
     "iopub.status.idle": "2024-03-01T04:18:34.397786Z",
     "shell.execute_reply": "2024-03-01T04:18:34.397376Z",
     "shell.execute_reply.started": "2024-03-01T04:18:34.234995Z"
>>>>>>> ec49ef87b662ef3d8959828ca9d26cb027028e01
    }
   },
   "outputs": [
    {
     "name": "stdout",
     "output_type": "stream",
     "text": [
      "torch.Size([1441920, 124]) torch.Size([1441920, 128])\n"
     ]
    }
   ],
   "source": [
    "# concat\n",
    "input = torch.cat((input_list[0],input_list[1],input_list[2],input_list[3],input_list[4],input_list[5]), dim=1)\n",
    "output = torch.cat((output_list[0],output_list[1],output_list[2],output_list[3],output_list[4],output_list[5],output_list[6],output_list[7],output_list[8],output_list[9]), dim=1)\n",
    "\n",
    "print(input.shape,output.shape)"
   ]
  },
  {
   "cell_type": "markdown",
   "id": "1d487b12-e4f6-474e-aade-09b2d3753029",
   "metadata": {},
   "source": [
<<<<<<< HEAD
    "# test input/output data with theirs (val:0008-02 to 0009-01)"
=======
    "# test input data with theirs (val:0008-02 to 0009-01)"
>>>>>>> ec49ef87b662ef3d8959828ca9d26cb027028e01
   ]
  },
  {
   "cell_type": "code",
<<<<<<< HEAD
   "execution_count": 34,
   "id": "b0bbca38-516c-4540-ad71-358d63a45c38",
   "metadata": {
    "execution": {
     "iopub.execute_input": "2024-03-01T23:04:10.610273Z",
     "iopub.status.busy": "2024-03-01T23:04:10.609955Z",
     "iopub.status.idle": "2024-03-01T23:04:11.659953Z",
     "shell.execute_reply": "2024-03-01T23:04:11.659438Z",
     "shell.execute_reply.started": "2024-03-01T23:04:10.610260Z"
=======
   "execution_count": 13,
   "id": "b0bbca38-516c-4540-ad71-358d63a45c38",
   "metadata": {
    "execution": {
     "iopub.execute_input": "2024-03-01T04:18:34.398601Z",
     "iopub.status.busy": "2024-03-01T04:18:34.398443Z",
     "iopub.status.idle": "2024-03-01T04:18:34.688473Z",
     "shell.execute_reply": "2024-03-01T04:18:34.688009Z",
     "shell.execute_reply.started": "2024-03-01T04:18:34.398588Z"
>>>>>>> ec49ef87b662ef3d8959828ca9d26cb027028e01
    }
   },
   "outputs": [],
   "source": [
    "X=np.load('/work/sds-lab/Shuochen/climsim/val_input.npy')\n",
    "y=np.load('/work/sds-lab/Shuochen/climsim/val_target.npy')"
   ]
  },
  {
   "cell_type": "code",
<<<<<<< HEAD
   "execution_count": 35,
   "id": "13fd84d0-3330-4f4e-8969-3c0d29a4f8d3",
   "metadata": {
    "execution": {
     "iopub.execute_input": "2024-03-01T23:04:11.661211Z",
     "iopub.status.busy": "2024-03-01T23:04:11.660849Z",
     "iopub.status.idle": "2024-03-01T23:04:11.664385Z",
     "shell.execute_reply": "2024-03-01T23:04:11.664111Z",
     "shell.execute_reply.started": "2024-03-01T23:04:11.661199Z"
=======
   "execution_count": 14,
   "id": "13fd84d0-3330-4f4e-8969-3c0d29a4f8d3",
   "metadata": {
    "execution": {
     "iopub.execute_input": "2024-03-01T04:18:34.689258Z",
     "iopub.status.busy": "2024-03-01T04:18:34.689019Z",
     "iopub.status.idle": "2024-03-01T04:18:34.691926Z",
     "shell.execute_reply": "2024-03-01T04:18:34.691649Z",
     "shell.execute_reply.started": "2024-03-01T04:18:34.689247Z"
>>>>>>> ec49ef87b662ef3d8959828ca9d26cb027028e01
    }
   },
   "outputs": [
    {
     "data": {
      "text/plain": [
       "(1441920, 124)"
      ]
     },
<<<<<<< HEAD
     "execution_count": 35,
=======
     "execution_count": 14,
>>>>>>> ec49ef87b662ef3d8959828ca9d26cb027028e01
     "metadata": {},
     "output_type": "execute_result"
    }
   ],
   "source": [
    "X.shape"
   ]
  },
  {
   "cell_type": "code",
<<<<<<< HEAD
   "execution_count": 36,
   "id": "46b7a845-ee67-4e6e-b00f-72ee581d3deb",
   "metadata": {
    "execution": {
     "iopub.execute_input": "2024-03-01T23:04:11.664994Z",
     "iopub.status.busy": "2024-03-01T23:04:11.664761Z",
     "iopub.status.idle": "2024-03-01T23:04:11.683961Z",
     "shell.execute_reply": "2024-03-01T23:04:11.683675Z",
     "shell.execute_reply.started": "2024-03-01T23:04:11.664984Z"
=======
   "execution_count": 19,
   "id": "46b7a845-ee67-4e6e-b00f-72ee581d3deb",
   "metadata": {
    "execution": {
     "iopub.execute_input": "2024-03-01T04:19:21.689764Z",
     "iopub.status.busy": "2024-03-01T04:19:21.689485Z",
     "iopub.status.idle": "2024-03-01T04:19:21.692762Z",
     "shell.execute_reply": "2024-03-01T04:19:21.692471Z",
     "shell.execute_reply.started": "2024-03-01T04:19:21.689753Z"
>>>>>>> ec49ef87b662ef3d8959828ca9d26cb027028e01
    }
   },
   "outputs": [
    {
     "data": {
      "text/plain": [
       "array([-2.1913459e-03, -1.7944887e-02, -4.5234229e-02, -1.8812425e-02,\n",
       "        1.2241836e-03,  5.4736424e-02,  7.9991966e-02,  6.6402398e-02,\n",
       "        6.1990730e-02,  6.2253091e-02,  5.1185194e-02,  4.6816483e-02,\n",
       "        4.8013736e-02,  4.2244118e-02,  1.9963728e-02, -1.1743228e-02,\n",
       "       -1.6514115e-02, -3.1537268e-02, -7.3459931e-02, -8.7187998e-02,\n",
       "       -9.5602296e-02, -6.7409396e-02, -2.5630416e-02,  1.4921249e-02,\n",
       "        4.1257340e-02,  5.6141108e-02,  6.2658504e-02,  6.4611822e-02,\n",
       "        6.6882201e-02,  6.7682333e-02,  6.9309019e-02,  7.5467244e-02,\n",
       "        8.1024468e-02,  8.4922343e-02,  8.7200657e-02,  8.7108433e-02,\n",
       "        8.9283474e-02,  9.1625057e-02,  9.4715320e-02,  9.5724754e-02,\n",
       "        9.7043157e-02,  9.8063178e-02,  9.7116463e-02,  9.8507255e-02,\n",
       "        9.8593235e-02,  9.7905174e-02,  9.5312789e-02,  9.1622062e-02,\n",
       "        8.7270044e-02,  8.4584579e-02,  8.3577700e-02,  8.3638921e-02,\n",
       "        8.3342053e-02,  8.2297072e-02,  8.0700077e-02,  7.8771718e-02,\n",
       "        7.5981848e-02,  7.3352575e-02,  6.9022804e-02,  6.4707078e-02,\n",
       "        3.3672214e-01,  3.2874569e-01,  3.1960866e-01,  3.0868849e-01,\n",
       "        2.9163235e-01,  2.7642745e-01,  2.5445870e-01,  2.2797626e-01,\n",
       "        1.8212554e-01,  1.3042332e-01,  2.5901362e-02, -2.9179493e-02,\n",
       "        3.7853643e-02,  2.3989554e-02,  2.4458179e-03,  5.3384842e-04,\n",
       "        8.9451922e-03,  5.8164049e-02,  3.0278182e-02,  5.9754187e-03,\n",
       "        3.9874315e-03, -1.5989189e-03,  7.4654846e-03, -6.3409680e-04,\n",
       "        3.0957346e-03,  7.0639262e-03, -2.1029327e-03, -4.5005484e-03,\n",
       "       -1.9405346e-03, -3.1085180e-03, -5.0605014e-03, -1.3096047e-03,\n",
       "       -1.0433240e-02, -1.0909027e-02, -1.4341436e-02,  1.8285159e-03,\n",
       "       -4.0173903e-03,  1.0447657e-04,  6.4235250e-03,  2.1204596e-02,\n",
       "        3.3712905e-02,  3.9661575e-02,  4.2949710e-02,  4.4095214e-02,\n",
       "        5.1215895e-02,  5.7267368e-02,  6.8674378e-02,  9.0688892e-02,\n",
       "        1.2142843e-01,  1.4473808e-01,  1.5877807e-01,  1.6263393e-01,\n",
       "        1.6743723e-01,  1.6802353e-01,  1.6677719e-01,  1.6847360e-01,\n",
       "        1.6805115e-01,  1.9258523e-01,  2.1652752e-01,  2.4245039e-01,\n",
       "        6.5571800e-02, -2.4221587e-01, -5.4852698e-02, -2.6518755e-02],\n",
       "      dtype=float32)"
      ]
     },
<<<<<<< HEAD
     "execution_count": 36,
=======
     "execution_count": 19,
>>>>>>> ec49ef87b662ef3d8959828ca9d26cb027028e01
     "metadata": {},
     "output_type": "execute_result"
    }
   ],
   "source": [
    "X[0,:]"
   ]
  },
  {
   "cell_type": "code",
<<<<<<< HEAD
   "execution_count": 37,
   "id": "f1a642e1-d81f-4bc2-bc84-c525abc999d9",
   "metadata": {
    "execution": {
     "iopub.execute_input": "2024-03-01T23:04:12.045860Z",
     "iopub.status.busy": "2024-03-01T23:04:12.045343Z",
     "iopub.status.idle": "2024-03-01T23:04:12.049591Z",
     "shell.execute_reply": "2024-03-01T23:04:12.049309Z",
     "shell.execute_reply.started": "2024-03-01T23:04:12.045850Z"
=======
   "execution_count": 20,
   "id": "f1a642e1-d81f-4bc2-bc84-c525abc999d9",
   "metadata": {
    "execution": {
     "iopub.execute_input": "2024-03-01T04:19:21.894705Z",
     "iopub.status.busy": "2024-03-01T04:19:21.894460Z",
     "iopub.status.idle": "2024-03-01T04:19:21.897844Z",
     "shell.execute_reply": "2024-03-01T04:19:21.897558Z",
     "shell.execute_reply.started": "2024-03-01T04:19:21.894695Z"
>>>>>>> ec49ef87b662ef3d8959828ca9d26cb027028e01
    }
   },
   "outputs": [
    {
     "data": {
      "text/plain": [
       "tensor([-2.1913e-03, -1.7945e-02, -4.5234e-02, -1.8812e-02,  1.2242e-03,\n",
       "         5.4736e-02,  7.9992e-02,  6.6402e-02,  6.1991e-02,  6.2253e-02,\n",
       "         5.1185e-02,  4.6817e-02,  4.8014e-02,  4.2244e-02,  1.9964e-02,\n",
       "        -1.1743e-02, -1.6514e-02, -3.1537e-02, -7.3460e-02, -8.7188e-02,\n",
       "        -9.5602e-02, -6.7410e-02, -2.5630e-02,  1.4921e-02,  4.1257e-02,\n",
       "         5.6141e-02,  6.2659e-02,  6.4612e-02,  6.6882e-02,  6.7682e-02,\n",
       "         6.9309e-02,  7.5467e-02,  8.1025e-02,  8.4922e-02,  8.7201e-02,\n",
       "         8.7108e-02,  8.9283e-02,  9.1625e-02,  9.4715e-02,  9.5725e-02,\n",
       "         9.7043e-02,  9.8063e-02,  9.7116e-02,  9.8507e-02,  9.8593e-02,\n",
       "         9.7905e-02,  9.5313e-02,  9.1622e-02,  8.7270e-02,  8.4585e-02,\n",
       "         8.3578e-02,  8.3639e-02,  8.3342e-02,  8.2297e-02,  8.0700e-02,\n",
       "         7.8772e-02,  7.5982e-02,  7.3353e-02,  6.9023e-02,  6.4707e-02,\n",
       "         3.3672e-01,  3.2875e-01,  3.1961e-01,  3.0869e-01,  2.9163e-01,\n",
       "         2.7643e-01,  2.5446e-01,  2.2798e-01,  1.8213e-01,  1.3042e-01,\n",
       "         2.5901e-02, -2.9180e-02,  3.7854e-02,  2.3990e-02,  2.4458e-03,\n",
       "         5.3385e-04,  8.9452e-03,  5.8164e-02,  3.0278e-02,  5.9754e-03,\n",
       "         3.9874e-03, -1.5989e-03,  7.4655e-03, -6.3409e-04,  3.0957e-03,\n",
       "         7.0639e-03, -2.1029e-03, -4.5005e-03, -1.9405e-03, -3.1085e-03,\n",
       "        -5.0605e-03, -1.3096e-03, -1.0433e-02, -1.0909e-02, -1.4341e-02,\n",
       "         1.8285e-03, -4.0174e-03,  1.0447e-04,  6.4235e-03,  2.1205e-02,\n",
       "         3.3713e-02,  3.9662e-02,  4.2950e-02,  4.4095e-02,  5.1216e-02,\n",
       "         5.7267e-02,  6.8674e-02,  9.0689e-02,  1.2143e-01,  1.4474e-01,\n",
       "         1.5878e-01,  1.6263e-01,  1.6744e-01,  1.6802e-01,  1.6678e-01,\n",
       "         1.6847e-01,  1.6805e-01,  1.9259e-01,  2.1653e-01,  2.4245e-01,\n",
       "         6.5572e-02, -2.4222e-01, -5.4853e-02, -2.6519e-02])"
      ]
     },
<<<<<<< HEAD
     "execution_count": 37,
=======
     "execution_count": 20,
>>>>>>> ec49ef87b662ef3d8959828ca9d26cb027028e01
     "metadata": {},
     "output_type": "execute_result"
    }
   ],
   "source": [
    "input[0,:]"
   ]
  },
  {
   "cell_type": "code",
<<<<<<< HEAD
   "execution_count": 38,
   "id": "b91571e6-6214-4359-9aed-b8be2049cfcb",
   "metadata": {
    "execution": {
     "iopub.execute_input": "2024-03-01T23:04:22.417584Z",
     "iopub.status.busy": "2024-03-01T23:04:22.417215Z",
     "iopub.status.idle": "2024-03-01T23:04:22.422340Z",
     "shell.execute_reply": "2024-03-01T23:04:22.422055Z",
     "shell.execute_reply.started": "2024-03-01T23:04:22.417574Z"
=======
   "execution_count": null,
   "id": "b91571e6-6214-4359-9aed-b8be2049cfcb",
   "metadata": {},
   "outputs": [],
   "source": []
  },
  {
   "cell_type": "code",
   "execution_count": null,
   "id": "e119b841-7261-45a8-ac0c-2875547a4835",
   "metadata": {},
   "outputs": [],
   "source": []
  },
  {
   "cell_type": "code",
   "execution_count": null,
   "id": "fa76e55d-ab88-4f1c-b43f-31fe766b6ef5",
   "metadata": {},
   "outputs": [],
   "source": []
  },
  {
   "cell_type": "code",
   "execution_count": null,
   "id": "fac37fc6-2b6f-464a-a7a6-34e21915faf1",
   "metadata": {},
   "outputs": [],
   "source": []
  },
  {
   "cell_type": "code",
   "execution_count": null,
   "id": "0beab4b5-7f64-4308-813a-8da3dfc30f0a",
   "metadata": {},
   "outputs": [],
   "source": []
  },
  {
   "cell_type": "markdown",
   "id": "c8326720-e360-4a40-aa5a-2c27de426384",
   "metadata": {},
   "source": [
    "# .npy data: NN\n",
    "## to test an ML model, using the prepared train_input and train_target datasets is an easier way, I choose val instead due to the size of data."
   ]
  },
  {
   "cell_type": "code",
   "execution_count": 127,
   "id": "6189b77a-7235-4430-89ef-a892a6bef8d5",
   "metadata": {
    "execution": {
     "iopub.execute_input": "2024-03-01T02:01:11.091963Z",
     "iopub.status.busy": "2024-03-01T02:01:11.091755Z",
     "iopub.status.idle": "2024-03-01T02:01:11.527071Z",
     "shell.execute_reply": "2024-03-01T02:01:11.526538Z",
     "shell.execute_reply.started": "2024-03-01T02:01:11.091950Z"
    }
   },
   "outputs": [],
   "source": [
    "X=np.load('/work/sds-lab/Shuochen/climsim/val_input.npy')\n",
    "y=np.load('/work/sds-lab/Shuochen/climsim/val_target.npy')\n",
    "\n",
    "X = torch.from_numpy(X).type(torch.float)\n",
    "y = torch.from_numpy(y).type(torch.float)"
   ]
  },
  {
   "cell_type": "code",
   "execution_count": 128,
   "id": "f3fe9595-a641-4014-a644-218c0b56246f",
   "metadata": {
    "execution": {
     "iopub.execute_input": "2024-03-01T02:01:11.527830Z",
     "iopub.status.busy": "2024-03-01T02:01:11.527588Z",
     "iopub.status.idle": "2024-03-01T02:01:11.530044Z",
     "shell.execute_reply": "2024-03-01T02:01:11.529766Z",
     "shell.execute_reply.started": "2024-03-01T02:01:11.527819Z"
>>>>>>> ec49ef87b662ef3d8959828ca9d26cb027028e01
    }
   },
   "outputs": [
    {
     "data": {
      "text/plain": [
<<<<<<< HEAD
       "array([-1.36620812e-02, -2.80409772e-02, -2.15656627e-02, -5.23943938e-02,\n",
       "       -8.13384652e-02, -1.10813349e-01, -1.06115066e-01, -7.64378756e-02,\n",
       "       -4.98877764e-02, -3.91743705e-02, -2.72510257e-02, -1.97552871e-02,\n",
       "       -1.45448223e-02, -1.03805251e-02, -5.29604033e-03, -7.86766876e-04,\n",
       "        1.00812223e-03,  1.03712187e-03,  2.60534324e-03,  6.22053689e-04,\n",
       "       -9.80621320e-04, -4.21181973e-03, -8.36136844e-03, -1.23731298e-02,\n",
       "       -1.74749307e-02, -2.14770287e-02, -2.19386593e-02, -2.27263030e-02,\n",
       "       -2.29678582e-02, -2.25563366e-02, -2.36029029e-02, -2.46444885e-02,\n",
       "       -2.34153941e-02, -2.36174222e-02, -2.38939375e-02, -2.45916806e-02,\n",
       "       -2.31757555e-02, -2.32806299e-02, -2.33938787e-02, -2.34074965e-02,\n",
       "       -2.29851063e-02, -2.21269783e-02, -2.35317610e-02, -2.45282371e-02,\n",
       "       -2.89273020e-02, -2.49604452e-02, -2.53472887e-02, -2.64138561e-02,\n",
       "       -2.98754536e-02, -2.96021532e-02, -3.14517878e-02, -3.01577393e-02,\n",
       "       -2.94105019e-02, -2.99727600e-02, -3.16987038e-02, -3.28741930e-02,\n",
       "       -3.26753929e-02, -3.43012623e-02, -3.88841406e-02, -4.04074602e-02,\n",
       "        0.00000000e+00,  0.00000000e+00,  0.00000000e+00,  0.00000000e+00,\n",
       "        0.00000000e+00,  0.00000000e+00,  0.00000000e+00,  0.00000000e+00,\n",
       "        0.00000000e+00,  0.00000000e+00,  0.00000000e+00,  0.00000000e+00,\n",
       "        3.70537467e-09, -1.26136470e-07, -5.29042481e-08,  4.35243521e-07,\n",
       "       -2.74643639e-07, -8.42945891e-09,  9.58428586e-07,  1.40001873e-06,\n",
       "        3.49225811e-05,  1.14947215e-04,  3.68661313e-05, -5.32873037e-06,\n",
       "        3.37762904e-04,  1.19399035e-03,  1.88273331e-03,  2.11684452e-03,\n",
       "        1.63405237e-03,  1.50448841e-03,  1.62621739e-03,  1.91894150e-03,\n",
       "        1.65961892e-03,  6.67089655e-04,  6.69167552e-04,  9.06903078e-05,\n",
       "       -7.59519971e-05,  3.91338370e-04,  2.66952964e-04,  8.91742879e-04,\n",
       "        1.99435675e-03,  1.25542423e-03,  4.66053793e-03,  6.23115897e-03,\n",
       "        9.84290987e-03,  6.97690574e-03,  5.32314461e-03,  4.46528615e-03,\n",
       "        7.21014431e-03,  7.57683627e-03,  9.60355625e-03,  3.92224872e-03,\n",
       "       -6.97092677e-04,  2.04425701e-03,  4.55192802e-03,  2.63783406e-03,\n",
       "        4.53118980e-03,  2.57316418e-03,  5.79871656e-03, -3.92367039e-03,\n",
       "        0.00000000e+00,  1.87163055e+00,  0.00000000e+00,  0.00000000e+00,\n",
       "        0.00000000e+00,  0.00000000e+00,  0.00000000e+00,  0.00000000e+00],\n",
       "      dtype=float32)"
      ]
     },
     "execution_count": 38,
=======
       "torch.Size([1441920, 124])"
      ]
     },
     "execution_count": 128,
>>>>>>> ec49ef87b662ef3d8959828ca9d26cb027028e01
     "metadata": {},
     "output_type": "execute_result"
    }
   ],
   "source": [
<<<<<<< HEAD
    "y[0,:]"
=======
    "X.shape\n",
    "# 365 * 72 * 384 / 7 = 1441645.7"
>>>>>>> ec49ef87b662ef3d8959828ca9d26cb027028e01
   ]
  },
  {
   "cell_type": "code",
<<<<<<< HEAD
   "execution_count": 39,
   "id": "e119b841-7261-45a8-ac0c-2875547a4835",
   "metadata": {
    "execution": {
     "iopub.execute_input": "2024-03-01T23:04:30.460563Z",
     "iopub.status.busy": "2024-03-01T23:04:30.460443Z",
     "iopub.status.idle": "2024-03-01T23:04:30.465658Z",
     "shell.execute_reply": "2024-03-01T23:04:30.465380Z",
     "shell.execute_reply.started": "2024-03-01T23:04:30.460551Z"
=======
   "execution_count": 129,
   "id": "d60a06a6-de70-4b5b-944a-58cde0b36644",
   "metadata": {
    "execution": {
     "iopub.execute_input": "2024-03-01T02:01:12.138602Z",
     "iopub.status.busy": "2024-03-01T02:01:12.138445Z",
     "iopub.status.idle": "2024-03-01T02:01:12.373272Z",
     "shell.execute_reply": "2024-03-01T02:01:12.372515Z",
     "shell.execute_reply.started": "2024-03-01T02:01:12.138593Z"
    }
   },
   "outputs": [],
   "source": [
    "LEARNING_RATE = 0.01\n",
    "IN_FEATURES = 124\n",
    "OUT_FEATURES = 128\n",
    "RANDOM_SEED = 42\n",
    "\n",
    "X_train, X_test, y_train, y_test = train_test_split(X,\n",
    "    y,\n",
    "    test_size=0.2,\n",
    "    random_state=RANDOM_SEED\n",
    ")"
   ]
  },
  {
   "cell_type": "code",
   "execution_count": 130,
   "id": "8d0d6fac-4591-4bef-a5e4-3f1dc6f3b4b1",
   "metadata": {
    "execution": {
     "iopub.execute_input": "2024-03-01T02:01:12.468028Z",
     "iopub.status.busy": "2024-03-01T02:01:12.467900Z",
     "iopub.status.idle": "2024-03-01T02:01:12.472004Z",
     "shell.execute_reply": "2024-03-01T02:01:12.471654Z",
     "shell.execute_reply.started": "2024-03-01T02:01:12.468016Z"
>>>>>>> ec49ef87b662ef3d8959828ca9d26cb027028e01
    }
   },
   "outputs": [
    {
     "data": {
      "text/plain": [
<<<<<<< HEAD
       "tensor([-1.3662e-02, -2.8041e-02, -2.1566e-02, -5.2394e-02, -8.1338e-02,\n",
       "        -1.1081e-01, -1.0612e-01, -7.6438e-02, -4.9888e-02, -3.9174e-02,\n",
       "        -2.7251e-02, -1.9755e-02, -1.4545e-02, -1.0381e-02, -5.2960e-03,\n",
       "        -7.8677e-04,  1.0081e-03,  1.0371e-03,  2.6053e-03,  6.2205e-04,\n",
       "        -9.8062e-04, -4.2118e-03, -8.3614e-03, -1.2373e-02, -1.7475e-02,\n",
       "        -2.1477e-02, -2.1939e-02, -2.2726e-02, -2.2968e-02, -2.2556e-02,\n",
       "        -2.3603e-02, -2.4644e-02, -2.3415e-02, -2.3617e-02, -2.3894e-02,\n",
       "        -2.4592e-02, -2.3176e-02, -2.3281e-02, -2.3394e-02, -2.3407e-02,\n",
       "        -2.2985e-02, -2.2127e-02, -2.3532e-02, -2.4528e-02, -2.8927e-02,\n",
       "        -2.4960e-02, -2.5347e-02, -2.6414e-02, -2.9875e-02, -2.9602e-02,\n",
       "        -3.1452e-02, -3.0158e-02, -2.9411e-02, -2.9973e-02, -3.1699e-02,\n",
       "        -3.2874e-02, -3.2675e-02, -3.4301e-02, -3.8884e-02, -4.0407e-02,\n",
       "         0.0000e+00,  0.0000e+00,  0.0000e+00,  0.0000e+00,  0.0000e+00,\n",
       "         0.0000e+00,  0.0000e+00,  0.0000e+00,  0.0000e+00,  0.0000e+00,\n",
       "         0.0000e+00,  0.0000e+00,  3.7054e-09, -1.2614e-07, -5.2904e-08,\n",
       "         4.3524e-07, -2.7464e-07, -8.4295e-09,  9.5843e-07,  1.4000e-06,\n",
       "         3.4923e-05,  1.1495e-04,  3.6866e-05, -5.3287e-06,  3.3776e-04,\n",
       "         1.1940e-03,  1.8827e-03,  2.1168e-03,  1.6341e-03,  1.5045e-03,\n",
       "         1.6262e-03,  1.9189e-03,  1.6596e-03,  6.6709e-04,  6.6917e-04,\n",
       "         9.0690e-05, -7.5952e-05,  3.9134e-04,  2.6695e-04,  8.9174e-04,\n",
       "         1.9944e-03,  1.2554e-03,  4.6605e-03,  6.2312e-03,  9.8429e-03,\n",
       "         6.9769e-03,  5.3231e-03,  4.4653e-03,  7.2101e-03,  7.5768e-03,\n",
       "         9.6036e-03,  3.9222e-03, -6.9709e-04,  2.0443e-03,  4.5519e-03,\n",
       "         2.6378e-03,  4.5312e-03,  2.5732e-03,  5.7987e-03, -3.9237e-03,\n",
       "         0.0000e+00,  1.8716e+00,  0.0000e+00,  0.0000e+00,  0.0000e+00,\n",
       "         0.0000e+00,  0.0000e+00,  0.0000e+00])"
      ]
     },
     "execution_count": 39,
=======
       "torch.Size([1153536, 128])"
      ]
     },
     "execution_count": 130,
>>>>>>> ec49ef87b662ef3d8959828ca9d26cb027028e01
     "metadata": {},
     "output_type": "execute_result"
    }
   ],
   "source": [
<<<<<<< HEAD
    "output[0,:]"
=======
    "y_train.shape"
   ]
  },
  {
   "cell_type": "code",
   "execution_count": 131,
   "id": "cdf3ed94-4198-4ab1-a672-f2393f4f48b1",
   "metadata": {
    "execution": {
     "iopub.execute_input": "2024-03-01T02:01:12.832575Z",
     "iopub.status.busy": "2024-03-01T02:01:12.832113Z",
     "iopub.status.idle": "2024-03-01T02:01:15.082529Z",
     "shell.execute_reply": "2024-03-01T02:01:15.082112Z",
     "shell.execute_reply.started": "2024-03-01T02:01:12.832561Z"
    }
   },
   "outputs": [],
   "source": [
    "class FCNN(nn.Module):\n",
    "    def __init__(self, IN_FEATURES, hidden_dim, OUT_FEATURES):\n",
    "        super().__init__()\n",
    "        self.linear1 = nn.Linear(IN_FEATURES, hidden_dim)\n",
    "        self.relu = nn.ReLU()\n",
    "        self.linear2 = nn.Linear(hidden_dim, OUT_FEATURES)\n",
    "    def forward(self,x):\n",
    "        return self.linear2(self.relu(self.linear1(x)))\n",
    "        \n",
    "model = FCNN(IN_FEATURES,64,OUT_FEATURES)\n",
    "loss_fn = nn.MSELoss()\n",
    "optimizer = torch.optim.Adam(model.parameters(),lr=LEARNING_RATE)"
>>>>>>> ec49ef87b662ef3d8959828ca9d26cb027028e01
   ]
  },
  {
   "cell_type": "code",
   "execution_count": null,
<<<<<<< HEAD
   "id": "fa76e55d-ab88-4f1c-b43f-31fe766b6ef5",
=======
   "id": "a573e096-533b-47f3-b64a-9d4b3069491e",
   "metadata": {
    "execution": {
     "execution_failed": "2024-03-01T02:02:44.175Z",
     "iopub.execute_input": "2024-03-01T02:01:15.083746Z",
     "iopub.status.busy": "2024-03-01T02:01:15.083267Z"
    }
   },
   "outputs": [
    {
     "name": "stdout",
     "output_type": "stream",
     "text": [
      "Epoch: 0 | Train loss: 0.04747162014245987 | Test loss: 0.03862046077847481\n"
     ]
    }
   ],
   "source": [
    "torch.manual_seed(42)\n",
    "epochs = 1000\n",
    "\n",
    "for epoch in range(epochs):\n",
    "\n",
    "    model.train()\n",
    "    y_pred = model(X_train)\n",
    "    loss = loss_fn(y_pred, y_train)\n",
    "    optimizer.zero_grad()\n",
    "    loss.backward()\n",
    "    optimizer.step()\n",
    "\n",
    "    model.eval()\n",
    "    with torch.inference_mode():\n",
    "        test_pred = model(X_test)\n",
    "        test_loss = loss_fn(test_pred, y_test)\n",
    "\n",
    "    if epoch % 50 == 0:\n",
    "        print(f\"Epoch: {epoch} | Train loss: {loss} | Test loss: {test_loss}\")"
   ]
  },
  {
   "cell_type": "code",
   "execution_count": null,
   "id": "8074e14e-10eb-4ce8-be27-527cbe47eceb",
   "metadata": {
    "execution": {
     "execution_failed": "2024-03-01T02:02:44.175Z"
    }
   },
   "outputs": [],
   "source": [
    "plt.plot(test_pred[0,:])\n",
    "plt.plot(y_test[0,:])"
   ]
  },
  {
   "cell_type": "code",
   "execution_count": null,
   "id": "422072d1-b085-4590-a176-490edcb80ca3",
   "metadata": {
    "execution": {
     "execution_failed": "2024-03-01T02:02:44.175Z"
    }
   },
   "outputs": [],
   "source": [
    "# Figure 2 in paper: error for different variables example: heating tendency\n",
    "\n",
    "y_test = y_test.detach().numpy()\n",
    "test_pred = test_pred.detach().numpy()\n",
    "\n",
    "test_ptend_t = y_test[:,:60]\n",
    "pred_ptend_t = test_pred[:,:60]\n",
    "\n",
    "plt.plot(np.mean(np.abs(test_ptend_t - pred_ptend_t), axis=0))\n"
   ]
  },
  {
   "cell_type": "code",
   "execution_count": null,
   "id": "2ef91724-eb1f-4e4d-a83e-d482fd2d747a",
>>>>>>> ec49ef87b662ef3d8959828ca9d26cb027028e01
   "metadata": {},
   "outputs": [],
   "source": []
  },
  {
   "cell_type": "code",
   "execution_count": null,
<<<<<<< HEAD
   "id": "fac37fc6-2b6f-464a-a7a6-34e21915faf1",
=======
   "id": "6d974fe8-c0b6-4528-959f-52ba41f2a43e",
>>>>>>> ec49ef87b662ef3d8959828ca9d26cb027028e01
   "metadata": {},
   "outputs": [],
   "source": []
  },
  {
<<<<<<< HEAD
   "cell_type": "code",
   "execution_count": null,
   "id": "0beab4b5-7f64-4308-813a-8da3dfc30f0a",
=======
   "cell_type": "markdown",
   "id": "0c98c407-f489-48f4-9988-8eeff36cc2ff",
   "metadata": {
    "execution": {
     "iopub.execute_input": "2024-02-25T01:02:20.404751Z",
     "iopub.status.busy": "2024-02-25T01:02:20.403753Z",
     "iopub.status.idle": "2024-02-25T01:02:20.422751Z",
     "shell.execute_reply": "2024-02-25T01:02:20.421755Z",
     "shell.execute_reply.started": "2024-02-25T01:02:20.404751Z"
    }
   },
   "source": [
    "# .npy data Transformer"
   ]
  },
  {
   "cell_type": "code",
   "execution_count": 2,
   "id": "2b64e37c-002d-4b1b-97d8-d4f39d360ca1",
   "metadata": {
    "execution": {
     "iopub.execute_input": "2024-02-25T22:17:31.207826Z",
     "iopub.status.busy": "2024-02-25T22:17:31.206814Z",
     "iopub.status.idle": "2024-02-25T22:17:31.656811Z",
     "shell.execute_reply": "2024-02-25T22:17:31.656811Z",
     "shell.execute_reply.started": "2024-02-25T22:17:31.207826Z"
    }
   },
   "outputs": [],
   "source": [
    "X=np.load('climsim_data/val_input.npy')\n",
    "y=np.load('climsim_data/val_target.npy')\n",
    "\n",
    "X = torch.from_numpy(X).type(torch.float)\n",
    "y = torch.from_numpy(y).type(torch.float)"
   ]
  },
  {
   "cell_type": "code",
   "execution_count": 3,
   "id": "75bb596b-3d44-4819-9e94-0b36c311371e",
   "metadata": {
    "execution": {
     "iopub.execute_input": "2024-02-25T22:17:32.360394Z",
     "iopub.status.busy": "2024-02-25T22:17:32.360394Z",
     "iopub.status.idle": "2024-02-25T22:17:32.841381Z",
     "shell.execute_reply": "2024-02-25T22:17:32.840380Z",
     "shell.execute_reply.started": "2024-02-25T22:17:32.360394Z"
    }
   },
   "outputs": [],
   "source": [
    "LEARNING_RATE = 0.01\n",
    "IN_FEATURES = 124\n",
    "OUT_FEATURES = 128\n",
    "RANDOM_SEED = 42\n",
    "\n",
    "X_train, X_test, y_train, y_test = train_test_split(X,y,test_size=0.2,random_state=RANDOM_SEED)"
   ]
  },
  {
   "cell_type": "code",
   "execution_count": 4,
   "id": "255b1ee2-bf5b-4728-845b-8905c45d5cfb",
   "metadata": {
    "execution": {
     "iopub.execute_input": "2024-02-25T22:17:33.010379Z",
     "iopub.status.busy": "2024-02-25T22:17:33.010379Z",
     "iopub.status.idle": "2024-02-25T22:17:33.030382Z",
     "shell.execute_reply": "2024-02-25T22:17:33.029381Z",
     "shell.execute_reply.started": "2024-02-25T22:17:33.010379Z"
    }
   },
   "outputs": [],
   "source": [
    "# Setup data loaders for batch\n",
    "train_dataset = TensorDataset(X_train, y_train)\n",
    "train_loader = DataLoader(train_dataset, batch_size=32, shuffle=True)\n",
    "\n",
    "test_dataset = TensorDataset(X_test, y_test)\n",
    "test_loader = DataLoader(test_dataset, batch_size=32, shuffle=False)"
   ]
  },
  {
   "cell_type": "code",
   "execution_count": 5,
   "id": "fb4c1b51-5229-4b41-9b26-96abb37252b0",
   "metadata": {
    "execution": {
     "iopub.execute_input": "2024-02-25T22:17:33.220383Z",
     "iopub.status.busy": "2024-02-25T22:17:33.220383Z",
     "iopub.status.idle": "2024-02-25T22:17:33.229387Z",
     "shell.execute_reply": "2024-02-25T22:17:33.229387Z",
     "shell.execute_reply.started": "2024-02-25T22:17:33.220383Z"
    }
   },
   "outputs": [],
   "source": [
    "# Positional Encoding for Transformer\n",
    "class PositionalEncoding(nn.Module):\n",
    "    def __init__(self, d_model, dropout=0.1, max_len=5000):\n",
    "        super(PositionalEncoding, self).__init__()\n",
    "        self.dropout = nn.Dropout(p=dropout)\n",
    "\n",
    "        pe = torch.zeros(max_len, d_model)\n",
    "        position = torch.arange(0, max_len, dtype=torch.float).unsqueeze(1)\n",
    "        div_term = torch.exp(torch.arange(0, d_model, 2).float() * (-np.log(10000.0) / d_model))\n",
    "        pe[:, 0::2] = torch.sin(position * div_term)\n",
    "        pe[:, 1::2] = torch.cos(position * div_term)\n",
    "        pe = pe.unsqueeze(0).transpose(0, 1)\n",
    "        self.register_buffer('pe', pe)\n",
    "\n",
    "    def forward(self, x):\n",
    "        x = x + self.pe[:x.size(0), :]\n",
    "        return self.dropout(x)"
   ]
  },
  {
   "cell_type": "code",
   "execution_count": 6,
   "id": "21a8b4f1-0c1e-431c-84cb-b8d692560303",
   "metadata": {
    "execution": {
     "iopub.execute_input": "2024-02-25T22:17:33.691391Z",
     "iopub.status.busy": "2024-02-25T22:17:33.691391Z",
     "iopub.status.idle": "2024-02-25T22:17:33.705379Z",
     "shell.execute_reply": "2024-02-25T22:17:33.705379Z",
     "shell.execute_reply.started": "2024-02-25T22:17:33.691391Z"
    }
   },
   "outputs": [
    {
     "name": "stderr",
     "output_type": "stream",
     "text": [
      "D:\\Anaconda3\\envs\\L96\\lib\\site-packages\\torch\\nn\\modules\\transformer.py:282: UserWarning: enable_nested_tensor is True, but self.use_nested_tensor is False because encoder_layer.self_attn.batch_first was not True(use batch_first for better inference performance)\n",
      "  warnings.warn(f\"enable_nested_tensor is True, but self.use_nested_tensor is False because {why_not_sparsity_fast_path}\")\n"
     ]
    }
   ],
   "source": [
    "# Model definition using Transformer\n",
    "class TransformerModel(nn.Module):\n",
    "    def __init__(self, input_dim=124, d_model=64, nhead=4, num_layers=2, dropout=0.2):\n",
    "        super(TransformerModel, self).__init__()\n",
    "\n",
    "        self.encoder = nn.Linear(input_dim, d_model)\n",
    "        self.pos_encoder = PositionalEncoding(d_model, dropout)\n",
    "        encoder_layers = nn.TransformerEncoderLayer(d_model, nhead)\n",
    "        self.transformer_encoder = nn.TransformerEncoder(encoder_layers, num_layers)\n",
    "        self.decoder = nn.Linear(d_model, 128)\n",
    "\n",
    "    def forward(self, x):\n",
    "        x = self.encoder(x)\n",
    "        x = self.pos_encoder(x)\n",
    "        x = self.transformer_encoder(x)\n",
    "        x = self.decoder(x[:, -1, :])\n",
    "        return x\n",
    "\n",
    "model = TransformerModel()"
   ]
  },
  {
   "cell_type": "code",
   "execution_count": 7,
   "id": "919e6669-bb5e-43fe-97ff-8c1da5c32106",
   "metadata": {
    "execution": {
     "iopub.execute_input": "2024-02-25T22:17:34.155316Z",
     "iopub.status.busy": "2024-02-25T22:17:34.155316Z",
     "iopub.status.idle": "2024-02-25T22:54:58.360293Z",
     "shell.execute_reply": "2024-02-25T22:54:58.359292Z",
     "shell.execute_reply.started": "2024-02-25T22:17:34.155316Z"
    }
   },
   "outputs": [
    {
     "name": "stdout",
     "output_type": "stream",
     "text": [
      "Epoch: 0 Test loss: 0.013408709317445755\n"
     ]
    },
    {
     "ename": "KeyboardInterrupt",
     "evalue": "",
     "output_type": "error",
     "traceback": [
      "\u001b[1;31m---------------------------------------------------------------------------\u001b[0m",
      "\u001b[1;31mKeyboardInterrupt\u001b[0m                         Traceback (most recent call last)",
      "Cell \u001b[1;32mIn[7], line 19\u001b[0m\n\u001b[0;32m     16\u001b[0m     outputs \u001b[38;5;241m=\u001b[39m model(x_batch)\n\u001b[0;32m     18\u001b[0m     loss \u001b[38;5;241m=\u001b[39m criterion(outputs, y_batch)\n\u001b[1;32m---> 19\u001b[0m     \u001b[43mloss\u001b[49m\u001b[38;5;241;43m.\u001b[39;49m\u001b[43mbackward\u001b[49m\u001b[43m(\u001b[49m\u001b[43m)\u001b[49m\n\u001b[0;32m     20\u001b[0m     optimizer\u001b[38;5;241m.\u001b[39mstep()\n\u001b[0;32m     22\u001b[0m \u001b[38;5;66;03m# Validation\u001b[39;00m\n",
      "File \u001b[1;32mD:\\Anaconda3\\envs\\L96\\lib\\site-packages\\torch\\_tensor.py:492\u001b[0m, in \u001b[0;36mTensor.backward\u001b[1;34m(self, gradient, retain_graph, create_graph, inputs)\u001b[0m\n\u001b[0;32m    482\u001b[0m \u001b[38;5;28;01mif\u001b[39;00m has_torch_function_unary(\u001b[38;5;28mself\u001b[39m):\n\u001b[0;32m    483\u001b[0m     \u001b[38;5;28;01mreturn\u001b[39;00m handle_torch_function(\n\u001b[0;32m    484\u001b[0m         Tensor\u001b[38;5;241m.\u001b[39mbackward,\n\u001b[0;32m    485\u001b[0m         (\u001b[38;5;28mself\u001b[39m,),\n\u001b[1;32m   (...)\u001b[0m\n\u001b[0;32m    490\u001b[0m         inputs\u001b[38;5;241m=\u001b[39minputs,\n\u001b[0;32m    491\u001b[0m     )\n\u001b[1;32m--> 492\u001b[0m \u001b[43mtorch\u001b[49m\u001b[38;5;241;43m.\u001b[39;49m\u001b[43mautograd\u001b[49m\u001b[38;5;241;43m.\u001b[39;49m\u001b[43mbackward\u001b[49m\u001b[43m(\u001b[49m\n\u001b[0;32m    493\u001b[0m \u001b[43m    \u001b[49m\u001b[38;5;28;43mself\u001b[39;49m\u001b[43m,\u001b[49m\u001b[43m \u001b[49m\u001b[43mgradient\u001b[49m\u001b[43m,\u001b[49m\u001b[43m \u001b[49m\u001b[43mretain_graph\u001b[49m\u001b[43m,\u001b[49m\u001b[43m \u001b[49m\u001b[43mcreate_graph\u001b[49m\u001b[43m,\u001b[49m\u001b[43m \u001b[49m\u001b[43minputs\u001b[49m\u001b[38;5;241;43m=\u001b[39;49m\u001b[43minputs\u001b[49m\n\u001b[0;32m    494\u001b[0m \u001b[43m\u001b[49m\u001b[43m)\u001b[49m\n",
      "File \u001b[1;32mD:\\Anaconda3\\envs\\L96\\lib\\site-packages\\torch\\autograd\\__init__.py:251\u001b[0m, in \u001b[0;36mbackward\u001b[1;34m(tensors, grad_tensors, retain_graph, create_graph, grad_variables, inputs)\u001b[0m\n\u001b[0;32m    246\u001b[0m     retain_graph \u001b[38;5;241m=\u001b[39m create_graph\n\u001b[0;32m    248\u001b[0m \u001b[38;5;66;03m# The reason we repeat the same comment below is that\u001b[39;00m\n\u001b[0;32m    249\u001b[0m \u001b[38;5;66;03m# some Python versions print out the first line of a multi-line function\u001b[39;00m\n\u001b[0;32m    250\u001b[0m \u001b[38;5;66;03m# calls in the traceback and some print out the last line\u001b[39;00m\n\u001b[1;32m--> 251\u001b[0m \u001b[43mVariable\u001b[49m\u001b[38;5;241;43m.\u001b[39;49m\u001b[43m_execution_engine\u001b[49m\u001b[38;5;241;43m.\u001b[39;49m\u001b[43mrun_backward\u001b[49m\u001b[43m(\u001b[49m\u001b[43m  \u001b[49m\u001b[38;5;66;43;03m# Calls into the C++ engine to run the backward pass\u001b[39;49;00m\n\u001b[0;32m    252\u001b[0m \u001b[43m    \u001b[49m\u001b[43mtensors\u001b[49m\u001b[43m,\u001b[49m\n\u001b[0;32m    253\u001b[0m \u001b[43m    \u001b[49m\u001b[43mgrad_tensors_\u001b[49m\u001b[43m,\u001b[49m\n\u001b[0;32m    254\u001b[0m \u001b[43m    \u001b[49m\u001b[43mretain_graph\u001b[49m\u001b[43m,\u001b[49m\n\u001b[0;32m    255\u001b[0m \u001b[43m    \u001b[49m\u001b[43mcreate_graph\u001b[49m\u001b[43m,\u001b[49m\n\u001b[0;32m    256\u001b[0m \u001b[43m    \u001b[49m\u001b[43minputs\u001b[49m\u001b[43m,\u001b[49m\n\u001b[0;32m    257\u001b[0m \u001b[43m    \u001b[49m\u001b[43mallow_unreachable\u001b[49m\u001b[38;5;241;43m=\u001b[39;49m\u001b[38;5;28;43;01mTrue\u001b[39;49;00m\u001b[43m,\u001b[49m\n\u001b[0;32m    258\u001b[0m \u001b[43m    \u001b[49m\u001b[43maccumulate_grad\u001b[49m\u001b[38;5;241;43m=\u001b[39;49m\u001b[38;5;28;43;01mTrue\u001b[39;49;00m\u001b[43m,\u001b[49m\n\u001b[0;32m    259\u001b[0m \u001b[43m\u001b[49m\u001b[43m)\u001b[49m\n",
      "\u001b[1;31mKeyboardInterrupt\u001b[0m: "
     ]
    }
   ],
   "source": [
    "# Train the model\n",
    "criterion = nn.MSELoss()\n",
    "optimizer = torch.optim.Adam(model.parameters(), lr=0.01)\n",
    "scheduler = ReduceLROnPlateau(optimizer, 'min', factor=0.5, patience=3, verbose=True)\n",
    "\n",
    "epochs = 10\n",
    "early_stop_count = 0\n",
    "min_val_loss = float('inf')\n",
    "\n",
    "for epoch in range(epochs):\n",
    "    model.train()\n",
    "    for batch in train_loader:\n",
    "        x_batch, y_batch = batch   \n",
    "        x_batch, y_batch = x_batch, y_batch\n",
    "        optimizer.zero_grad()\n",
    "        outputs = model(x_batch)\n",
    "        \n",
    "        loss = criterion(outputs, y_batch)\n",
    "        loss.backward()\n",
    "        optimizer.step()\n",
    "\n",
    "    # Validation\n",
    "    model.eval()\n",
    "    val_losses = []\n",
    "    with torch.no_grad():\n",
    "        for batch in test_loader:\n",
    "            x_batch, y_batch = batch\n",
    "            x_batch, y_batch = x_batch, y_batch\n",
    "            outputs = model(x_batch)\n",
    "            loss = criterion(outputs, y_batch)\n",
    "            val_losses.append(loss.item())\n",
    "\n",
    "    val_loss = np.mean(val_losses)\n",
    "    scheduler.step(val_loss)\n",
    "    if epoch % 1 == 0:\n",
    "        print(f\"Epoch: {epoch} Test loss: {val_losses[0]}\")\n",
    "    # model.eval()\n",
    "    # with torch.inference_mode():\n",
    "    #     test_pred = model(X_test)\n",
    "    #     test_loss = loss_fn(test_pred, y_test)\n",
    "\n",
    "\n"
   ]
  },
  {
   "cell_type": "code",
   "execution_count": 8,
   "id": "8ffd2b94-74ed-489e-993f-2bb2e720f210",
   "metadata": {
    "execution": {
     "iopub.execute_input": "2024-02-25T23:24:07.868266Z",
     "iopub.status.busy": "2024-02-25T23:24:07.867273Z",
     "iopub.status.idle": "2024-02-25T23:24:07.894603Z",
     "shell.execute_reply": "2024-02-25T23:24:07.892441Z",
     "shell.execute_reply.started": "2024-02-25T23:24:07.868266Z"
    }
   },
   "outputs": [
    {
     "data": {
      "text/plain": [
       "9012"
      ]
     },
     "execution_count": 8,
     "metadata": {},
     "output_type": "execute_result"
    }
   ],
   "source": [
    "len(val_losses)\n",
    "# 288384 / 32 = 9012"
   ]
  },
  {
   "cell_type": "code",
   "execution_count": 9,
   "id": "aef10b5e-3c2f-418b-8edd-7f8ea925ece6",
   "metadata": {
    "execution": {
     "iopub.execute_input": "2024-02-25T23:24:08.464249Z",
     "iopub.status.busy": "2024-02-25T23:24:08.463251Z",
     "iopub.status.idle": "2024-02-25T23:24:08.489242Z",
     "shell.execute_reply": "2024-02-25T23:24:08.486298Z",
     "shell.execute_reply.started": "2024-02-25T23:24:08.463251Z"
    }
   },
   "outputs": [
    {
     "data": {
      "text/plain": [
       "0.013408709317445755"
      ]
     },
     "execution_count": 9,
     "metadata": {},
     "output_type": "execute_result"
    }
   ],
   "source": [
    "val_losses[0]"
   ]
  },
  {
   "cell_type": "code",
   "execution_count": null,
   "id": "cc27cb28-ad87-4189-9678-feae25004880",
>>>>>>> ec49ef87b662ef3d8959828ca9d26cb027028e01
   "metadata": {},
   "outputs": [],
   "source": []
  }
 ],
 "metadata": {
  "kernelspec": {
   "display_name": "Python 3 (ipykernel)",
   "language": "python",
   "name": "python3"
  },
  "language_info": {
   "codemirror_mode": {
    "name": "ipython",
    "version": 3
   },
   "file_extension": ".py",
   "mimetype": "text/x-python",
   "name": "python",
   "nbconvert_exporter": "python",
   "pygments_lexer": "ipython3",
   "version": "3.11.8"
  }
 },
 "nbformat": 4,
 "nbformat_minor": 5
}
