{
 "cells": [
  {
   "cell_type": "code",
   "execution_count": 1,
   "id": "d499c3ed-39cc-40df-a867-815079bea2d2",
   "metadata": {
    "execution": {
     "iopub.execute_input": "2024-02-25T23:46:45.572643Z",
     "iopub.status.busy": "2024-02-25T23:46:45.572643Z",
     "iopub.status.idle": "2024-02-25T23:46:48.778997Z",
     "shell.execute_reply": "2024-02-25T23:46:48.778997Z",
     "shell.execute_reply.started": "2024-02-25T23:46:45.572643Z"
    }
   },
   "outputs": [],
   "source": [
    "import xarray as xr\n",
    "import os\n",
    "import netCDF4\n",
    "import numpy as np\n",
    "import torch\n",
    "from torch import nn\n",
    "import matplotlib.pyplot as plt\n",
    "from sklearn.model_selection import train_test_split\n",
    "from torch.utils.data import DataLoader\n",
    "from torch.utils.data import random_split\n",
    "import random\n",
    "import pandas as pd\n",
    "from torch.utils.data import DataLoader, TensorDataset\n",
    "from sklearn.preprocessing import StandardScaler\n",
    "from torch.optim.lr_scheduler import ReduceLROnPlateau\n",
    "\n",
    "# # download data from huggingface\n",
    "# from huggingface_hub import hf_hub_download\n",
    "# from huggingface_hub import snapshot_download\n",
    "# from huggingface_hub import hf_hub_url\n",
    "# snapshot_download(repo_id=\"LEAP/ClimSim_low-res\",\n",
    "#                   repo_type=\"dataset\",\n",
    "#                local_dir=\"F:/phd/L96_demo-main/notebooks/climsim_data/train\",\n",
    "#                   allow_patterns='train/0009-01/*.nc',\n",
    "#                  local_dir_use_symlinks=False)"
   ]
  },
  {
   "cell_type": "markdown",
   "id": "251b9b56-d167-4fa4-8644-e1aa94d74d64",
   "metadata": {},
   "source": [
    "# combine mli (mlo) data to one nc file\n",
    "## 0001-02 one month data"
   ]
  },
  {
   "cell_type": "code",
   "execution_count": 2,
   "id": "7ede7d3b-856e-49f7-9f92-31d23d54d8a8",
   "metadata": {
    "execution": {
     "iopub.execute_input": "2024-02-25T23:46:48.780921Z",
     "iopub.status.busy": "2024-02-25T23:46:48.780921Z",
     "iopub.status.idle": "2024-02-25T23:46:48.795920Z",
     "shell.execute_reply": "2024-02-25T23:46:48.794928Z",
     "shell.execute_reply.started": "2024-02-25T23:46:48.780921Z"
    }
   },
   "outputs": [],
   "source": [
    "# from os import listdir\n",
    "# from os.path import isfile, join\n",
    "\n",
    "# mypath = r'F:\\phd\\L96_demo-main\\notebooks\\climsim_data\\train\\0008-02'\n",
    "# # allfiles = [f for f in listdir(mypath) if isfile(join(mypath, f))]\n",
    "# allfiles = []\n",
    "# for path, subdirs, files in os.walk(mypath):\n",
    "#     for name in files:\n",
    "#        allfiles.append(os.path.join(path, name))\n",
    "# print(len(allfiles))\n",
    "\n",
    "# mli_files = []\n",
    "# mlo_files = []\n",
    "\n",
    "# for i in range(len(allfiles)):\n",
    "#     if 'mli' in allfiles[i]:\n",
    "#         mli_files.append(allfiles[i])\n",
    "#     if 'mlo' in allfiles[i]:\n",
    "#         mlo_files.append(allfiles[i])\n",
    "\n",
    "# ds_mli = []\n",
    "# ds_mlo = []\n",
    "\n",
    "# for i in range(len(mli_files)):\n",
    "#     ds_mli.append(xr.open_dataset(mli_files[i]).expand_dims('time'))\n",
    "# for i in range(len(mlo_files)):\n",
    "#     ds_mlo.append(xr.open_dataset(mlo_files[i]).expand_dims('time'))\n",
    "\n",
    "# combined_mli = xr.concat(ds_mli, dim='time').to_netcdf(mypath + '0008-02_mli.nc')\n",
    "# combined_mlo = xr.concat(ds_mlo, dim='time').to_netcdf(mypath + '0008-02_mlo.nc')"
   ]
  },
  {
   "cell_type": "code",
   "execution_count": null,
   "id": "adcdaf2b-12a1-4de3-901c-7c5ba878f1f9",
   "metadata": {},
   "outputs": [],
   "source": []
  },
  {
   "cell_type": "code",
   "execution_count": null,
   "id": "682c65fe-474a-4415-ad01-0cad0a7ebaa1",
   "metadata": {},
   "outputs": [],
   "source": []
  },
  {
   "cell_type": "code",
   "execution_count": null,
   "id": "a17f462d-04dc-48f1-9af6-c25e5571b201",
   "metadata": {},
   "outputs": [],
   "source": []
  },
  {
   "cell_type": "markdown",
   "id": "b808c850-b4dc-4985-99d9-adeb6eb94dea",
   "metadata": {},
   "source": [
    "# preprocessing"
   ]
  },
  {
   "cell_type": "code",
   "execution_count": 3,
   "id": "462fcd93-5d14-415f-b382-2c4dced7978c",
   "metadata": {
    "execution": {
     "iopub.execute_input": "2024-02-25T23:46:49.515905Z",
     "iopub.status.busy": "2024-02-25T23:46:49.515905Z",
     "iopub.status.idle": "2024-02-25T23:46:50.124766Z",
     "shell.execute_reply": "2024-02-25T23:46:50.124766Z",
     "shell.execute_reply.started": "2024-02-25T23:46:49.515905Z"
    }
   },
   "outputs": [],
   "source": [
    "mli = xr.open_dataset('F:/phd/L96_demo-main/notebooks/climsim_data/train/0008-02/0008-02_mli.nc')\n",
    "mlo = xr.open_dataset('F:/phd/L96_demo-main/notebooks/climsim_data/train/0008-02/0008-02_mlo.nc')"
   ]
  },
  {
   "cell_type": "code",
   "execution_count": 4,
   "id": "51b2c355-a43f-47c6-a49a-3f3eb8fb0d02",
   "metadata": {
    "execution": {
     "iopub.execute_input": "2024-02-25T23:46:50.306239Z",
     "iopub.status.busy": "2024-02-25T23:46:50.306239Z",
     "iopub.status.idle": "2024-02-25T23:46:50.437236Z",
     "shell.execute_reply": "2024-02-25T23:46:50.437236Z",
     "shell.execute_reply.started": "2024-02-25T23:46:50.306239Z"
    }
   },
   "outputs": [
    {
     "data": {
      "text/html": [
       "<div><svg style=\"position: absolute; width: 0; height: 0; overflow: hidden\">\n",
       "<defs>\n",
       "<symbol id=\"icon-database\" viewBox=\"0 0 32 32\">\n",
       "<path d=\"M16 0c-8.837 0-16 2.239-16 5v4c0 2.761 7.163 5 16 5s16-2.239 16-5v-4c0-2.761-7.163-5-16-5z\"></path>\n",
       "<path d=\"M16 17c-8.837 0-16-2.239-16-5v6c0 2.761 7.163 5 16 5s16-2.239 16-5v-6c0 2.761-7.163 5-16 5z\"></path>\n",
       "<path d=\"M16 26c-8.837 0-16-2.239-16-5v6c0 2.761 7.163 5 16 5s16-2.239 16-5v-6c0 2.761-7.163 5-16 5z\"></path>\n",
       "</symbol>\n",
       "<symbol id=\"icon-file-text2\" viewBox=\"0 0 32 32\">\n",
       "<path d=\"M28.681 7.159c-0.694-0.947-1.662-2.053-2.724-3.116s-2.169-2.030-3.116-2.724c-1.612-1.182-2.393-1.319-2.841-1.319h-15.5c-1.378 0-2.5 1.121-2.5 2.5v27c0 1.378 1.122 2.5 2.5 2.5h23c1.378 0 2.5-1.122 2.5-2.5v-19.5c0-0.448-0.137-1.23-1.319-2.841zM24.543 5.457c0.959 0.959 1.712 1.825 2.268 2.543h-4.811v-4.811c0.718 0.556 1.584 1.309 2.543 2.268zM28 29.5c0 0.271-0.229 0.5-0.5 0.5h-23c-0.271 0-0.5-0.229-0.5-0.5v-27c0-0.271 0.229-0.5 0.5-0.5 0 0 15.499-0 15.5 0v7c0 0.552 0.448 1 1 1h7v19.5z\"></path>\n",
       "<path d=\"M23 26h-14c-0.552 0-1-0.448-1-1s0.448-1 1-1h14c0.552 0 1 0.448 1 1s-0.448 1-1 1z\"></path>\n",
       "<path d=\"M23 22h-14c-0.552 0-1-0.448-1-1s0.448-1 1-1h14c0.552 0 1 0.448 1 1s-0.448 1-1 1z\"></path>\n",
       "<path d=\"M23 18h-14c-0.552 0-1-0.448-1-1s0.448-1 1-1h14c0.552 0 1 0.448 1 1s-0.448 1-1 1z\"></path>\n",
       "</symbol>\n",
       "</defs>\n",
       "</svg>\n",
       "<style>/* CSS stylesheet for displaying xarray objects in jupyterlab.\n",
       " *\n",
       " */\n",
       "\n",
       ":root {\n",
       "  --xr-font-color0: var(--jp-content-font-color0, rgba(0, 0, 0, 1));\n",
       "  --xr-font-color2: var(--jp-content-font-color2, rgba(0, 0, 0, 0.54));\n",
       "  --xr-font-color3: var(--jp-content-font-color3, rgba(0, 0, 0, 0.38));\n",
       "  --xr-border-color: var(--jp-border-color2, #e0e0e0);\n",
       "  --xr-disabled-color: var(--jp-layout-color3, #bdbdbd);\n",
       "  --xr-background-color: var(--jp-layout-color0, white);\n",
       "  --xr-background-color-row-even: var(--jp-layout-color1, white);\n",
       "  --xr-background-color-row-odd: var(--jp-layout-color2, #eeeeee);\n",
       "}\n",
       "\n",
       "html[theme=dark],\n",
       "body[data-theme=dark],\n",
       "body.vscode-dark {\n",
       "  --xr-font-color0: rgba(255, 255, 255, 1);\n",
       "  --xr-font-color2: rgba(255, 255, 255, 0.54);\n",
       "  --xr-font-color3: rgba(255, 255, 255, 0.38);\n",
       "  --xr-border-color: #1F1F1F;\n",
       "  --xr-disabled-color: #515151;\n",
       "  --xr-background-color: #111111;\n",
       "  --xr-background-color-row-even: #111111;\n",
       "  --xr-background-color-row-odd: #313131;\n",
       "}\n",
       "\n",
       ".xr-wrap {\n",
       "  display: block !important;\n",
       "  min-width: 300px;\n",
       "  max-width: 700px;\n",
       "}\n",
       "\n",
       ".xr-text-repr-fallback {\n",
       "  /* fallback to plain text repr when CSS is not injected (untrusted notebook) */\n",
       "  display: none;\n",
       "}\n",
       "\n",
       ".xr-header {\n",
       "  padding-top: 6px;\n",
       "  padding-bottom: 6px;\n",
       "  margin-bottom: 4px;\n",
       "  border-bottom: solid 1px var(--xr-border-color);\n",
       "}\n",
       "\n",
       ".xr-header > div,\n",
       ".xr-header > ul {\n",
       "  display: inline;\n",
       "  margin-top: 0;\n",
       "  margin-bottom: 0;\n",
       "}\n",
       "\n",
       ".xr-obj-type,\n",
       ".xr-array-name {\n",
       "  margin-left: 2px;\n",
       "  margin-right: 10px;\n",
       "}\n",
       "\n",
       ".xr-obj-type {\n",
       "  color: var(--xr-font-color2);\n",
       "}\n",
       "\n",
       ".xr-sections {\n",
       "  padding-left: 0 !important;\n",
       "  display: grid;\n",
       "  grid-template-columns: 150px auto auto 1fr 20px 20px;\n",
       "}\n",
       "\n",
       ".xr-section-item {\n",
       "  display: contents;\n",
       "}\n",
       "\n",
       ".xr-section-item input {\n",
       "  display: none;\n",
       "}\n",
       "\n",
       ".xr-section-item input + label {\n",
       "  color: var(--xr-disabled-color);\n",
       "}\n",
       "\n",
       ".xr-section-item input:enabled + label {\n",
       "  cursor: pointer;\n",
       "  color: var(--xr-font-color2);\n",
       "}\n",
       "\n",
       ".xr-section-item input:enabled + label:hover {\n",
       "  color: var(--xr-font-color0);\n",
       "}\n",
       "\n",
       ".xr-section-summary {\n",
       "  grid-column: 1;\n",
       "  color: var(--xr-font-color2);\n",
       "  font-weight: 500;\n",
       "}\n",
       "\n",
       ".xr-section-summary > span {\n",
       "  display: inline-block;\n",
       "  padding-left: 0.5em;\n",
       "}\n",
       "\n",
       ".xr-section-summary-in:disabled + label {\n",
       "  color: var(--xr-font-color2);\n",
       "}\n",
       "\n",
       ".xr-section-summary-in + label:before {\n",
       "  display: inline-block;\n",
       "  content: '►';\n",
       "  font-size: 11px;\n",
       "  width: 15px;\n",
       "  text-align: center;\n",
       "}\n",
       "\n",
       ".xr-section-summary-in:disabled + label:before {\n",
       "  color: var(--xr-disabled-color);\n",
       "}\n",
       "\n",
       ".xr-section-summary-in:checked + label:before {\n",
       "  content: '▼';\n",
       "}\n",
       "\n",
       ".xr-section-summary-in:checked + label > span {\n",
       "  display: none;\n",
       "}\n",
       "\n",
       ".xr-section-summary,\n",
       ".xr-section-inline-details {\n",
       "  padding-top: 4px;\n",
       "  padding-bottom: 4px;\n",
       "}\n",
       "\n",
       ".xr-section-inline-details {\n",
       "  grid-column: 2 / -1;\n",
       "}\n",
       "\n",
       ".xr-section-details {\n",
       "  display: none;\n",
       "  grid-column: 1 / -1;\n",
       "  margin-bottom: 5px;\n",
       "}\n",
       "\n",
       ".xr-section-summary-in:checked ~ .xr-section-details {\n",
       "  display: contents;\n",
       "}\n",
       "\n",
       ".xr-array-wrap {\n",
       "  grid-column: 1 / -1;\n",
       "  display: grid;\n",
       "  grid-template-columns: 20px auto;\n",
       "}\n",
       "\n",
       ".xr-array-wrap > label {\n",
       "  grid-column: 1;\n",
       "  vertical-align: top;\n",
       "}\n",
       "\n",
       ".xr-preview {\n",
       "  color: var(--xr-font-color3);\n",
       "}\n",
       "\n",
       ".xr-array-preview,\n",
       ".xr-array-data {\n",
       "  padding: 0 5px !important;\n",
       "  grid-column: 2;\n",
       "}\n",
       "\n",
       ".xr-array-data,\n",
       ".xr-array-in:checked ~ .xr-array-preview {\n",
       "  display: none;\n",
       "}\n",
       "\n",
       ".xr-array-in:checked ~ .xr-array-data,\n",
       ".xr-array-preview {\n",
       "  display: inline-block;\n",
       "}\n",
       "\n",
       ".xr-dim-list {\n",
       "  display: inline-block !important;\n",
       "  list-style: none;\n",
       "  padding: 0 !important;\n",
       "  margin: 0;\n",
       "}\n",
       "\n",
       ".xr-dim-list li {\n",
       "  display: inline-block;\n",
       "  padding: 0;\n",
       "  margin: 0;\n",
       "}\n",
       "\n",
       ".xr-dim-list:before {\n",
       "  content: '(';\n",
       "}\n",
       "\n",
       ".xr-dim-list:after {\n",
       "  content: ')';\n",
       "}\n",
       "\n",
       ".xr-dim-list li:not(:last-child):after {\n",
       "  content: ',';\n",
       "  padding-right: 5px;\n",
       "}\n",
       "\n",
       ".xr-has-index {\n",
       "  font-weight: bold;\n",
       "}\n",
       "\n",
       ".xr-var-list,\n",
       ".xr-var-item {\n",
       "  display: contents;\n",
       "}\n",
       "\n",
       ".xr-var-item > div,\n",
       ".xr-var-item label,\n",
       ".xr-var-item > .xr-var-name span {\n",
       "  background-color: var(--xr-background-color-row-even);\n",
       "  margin-bottom: 0;\n",
       "}\n",
       "\n",
       ".xr-var-item > .xr-var-name:hover span {\n",
       "  padding-right: 5px;\n",
       "}\n",
       "\n",
       ".xr-var-list > li:nth-child(odd) > div,\n",
       ".xr-var-list > li:nth-child(odd) > label,\n",
       ".xr-var-list > li:nth-child(odd) > .xr-var-name span {\n",
       "  background-color: var(--xr-background-color-row-odd);\n",
       "}\n",
       "\n",
       ".xr-var-name {\n",
       "  grid-column: 1;\n",
       "}\n",
       "\n",
       ".xr-var-dims {\n",
       "  grid-column: 2;\n",
       "}\n",
       "\n",
       ".xr-var-dtype {\n",
       "  grid-column: 3;\n",
       "  text-align: right;\n",
       "  color: var(--xr-font-color2);\n",
       "}\n",
       "\n",
       ".xr-var-preview {\n",
       "  grid-column: 4;\n",
       "}\n",
       "\n",
       ".xr-index-preview {\n",
       "  grid-column: 2 / 5;\n",
       "  color: var(--xr-font-color2);\n",
       "}\n",
       "\n",
       ".xr-var-name,\n",
       ".xr-var-dims,\n",
       ".xr-var-dtype,\n",
       ".xr-preview,\n",
       ".xr-attrs dt {\n",
       "  white-space: nowrap;\n",
       "  overflow: hidden;\n",
       "  text-overflow: ellipsis;\n",
       "  padding-right: 10px;\n",
       "}\n",
       "\n",
       ".xr-var-name:hover,\n",
       ".xr-var-dims:hover,\n",
       ".xr-var-dtype:hover,\n",
       ".xr-attrs dt:hover {\n",
       "  overflow: visible;\n",
       "  width: auto;\n",
       "  z-index: 1;\n",
       "}\n",
       "\n",
       ".xr-var-attrs,\n",
       ".xr-var-data,\n",
       ".xr-index-data {\n",
       "  display: none;\n",
       "  background-color: var(--xr-background-color) !important;\n",
       "  padding-bottom: 5px !important;\n",
       "}\n",
       "\n",
       ".xr-var-attrs-in:checked ~ .xr-var-attrs,\n",
       ".xr-var-data-in:checked ~ .xr-var-data,\n",
       ".xr-index-data-in:checked ~ .xr-index-data {\n",
       "  display: block;\n",
       "}\n",
       "\n",
       ".xr-var-data > table {\n",
       "  float: right;\n",
       "}\n",
       "\n",
       ".xr-var-name span,\n",
       ".xr-var-data,\n",
       ".xr-index-name div,\n",
       ".xr-index-data,\n",
       ".xr-attrs {\n",
       "  padding-left: 25px !important;\n",
       "}\n",
       "\n",
       ".xr-attrs,\n",
       ".xr-var-attrs,\n",
       ".xr-var-data,\n",
       ".xr-index-data {\n",
       "  grid-column: 1 / -1;\n",
       "}\n",
       "\n",
       "dl.xr-attrs {\n",
       "  padding: 0;\n",
       "  margin: 0;\n",
       "  display: grid;\n",
       "  grid-template-columns: 125px auto;\n",
       "}\n",
       "\n",
       ".xr-attrs dt,\n",
       ".xr-attrs dd {\n",
       "  padding: 0;\n",
       "  margin: 0;\n",
       "  float: left;\n",
       "  padding-right: 10px;\n",
       "  width: auto;\n",
       "}\n",
       "\n",
       ".xr-attrs dt {\n",
       "  font-weight: normal;\n",
       "  grid-column: 1;\n",
       "}\n",
       "\n",
       ".xr-attrs dt:hover span {\n",
       "  display: inline-block;\n",
       "  background: var(--xr-background-color);\n",
       "  padding-right: 10px;\n",
       "}\n",
       "\n",
       ".xr-attrs dd {\n",
       "  grid-column: 2;\n",
       "  white-space: pre-wrap;\n",
       "  word-break: break-all;\n",
       "}\n",
       "\n",
       ".xr-icon-database,\n",
       ".xr-icon-file-text2,\n",
       ".xr-no-icon {\n",
       "  display: inline-block;\n",
       "  vertical-align: middle;\n",
       "  width: 1em;\n",
       "  height: 1.5em !important;\n",
       "  stroke-width: 0;\n",
       "  stroke: currentColor;\n",
       "  fill: currentColor;\n",
       "}\n",
       "</style><pre class='xr-text-repr-fallback'>&lt;xarray.Dataset&gt;\n",
       "Dimensions:           (time: 2016, ncol: 384, lev: 60)\n",
       "Dimensions without coordinates: time, ncol, lev\n",
       "Data variables: (12/29)\n",
       "    ymd               (time) int32 ...\n",
       "    tod               (time) int32 ...\n",
       "    cam_in_ALDIF      (time, ncol) float64 ...\n",
       "    cam_in_ALDIR      (time, ncol) float64 ...\n",
       "    cam_in_ASDIF      (time, ncol) float64 ...\n",
       "    cam_in_ASDIR      (time, ncol) float64 ...\n",
       "    ...                ...\n",
       "    state_t           (time, lev, ncol) float64 ...\n",
       "    state_u           (time, lev, ncol) float64 ...\n",
       "    state_v           (time, lev, ncol) float64 ...\n",
       "    pbuf_CH4          (time, lev, ncol) float64 ...\n",
       "    pbuf_N2O          (time, lev, ncol) float64 ...\n",
       "    pbuf_ozone        (time, lev, ncol) float64 ...\n",
       "Attributes:\n",
       "    ne:        4\n",
       "    fv_nphys:  2\n",
       "    calendar:  NO_LEAP</pre><div class='xr-wrap' style='display:none'><div class='xr-header'><div class='xr-obj-type'>xarray.Dataset</div></div><ul class='xr-sections'><li class='xr-section-item'><input id='section-ba4a1c72-67b4-4977-8436-5bc23fd26c9b' class='xr-section-summary-in' type='checkbox' disabled ><label for='section-ba4a1c72-67b4-4977-8436-5bc23fd26c9b' class='xr-section-summary'  title='Expand/collapse section'>Dimensions:</label><div class='xr-section-inline-details'><ul class='xr-dim-list'><li><span>time</span>: 2016</li><li><span>ncol</span>: 384</li><li><span>lev</span>: 60</li></ul></div><div class='xr-section-details'></div></li><li class='xr-section-item'><input id='section-96ea817c-d1b9-4c08-8914-c39f9059dd96' class='xr-section-summary-in' type='checkbox' disabled ><label for='section-96ea817c-d1b9-4c08-8914-c39f9059dd96' class='xr-section-summary'  title='Expand/collapse section'>Coordinates: <span>(0)</span></label><div class='xr-section-inline-details'></div><div class='xr-section-details'><ul class='xr-var-list'></ul></div></li><li class='xr-section-item'><input id='section-21cab2fc-4c94-45d4-8930-24eed69a8bd5' class='xr-section-summary-in' type='checkbox'  ><label for='section-21cab2fc-4c94-45d4-8930-24eed69a8bd5' class='xr-section-summary' >Data variables: <span>(29)</span></label><div class='xr-section-inline-details'></div><div class='xr-section-details'><ul class='xr-var-list'><li class='xr-var-item'><div class='xr-var-name'><span>ymd</span></div><div class='xr-var-dims'>(time)</div><div class='xr-var-dtype'>int32</div><div class='xr-var-preview xr-preview'>...</div><input id='attrs-878b857e-039e-4c5f-8bc0-83c543e65c0d' class='xr-var-attrs-in' type='checkbox' disabled><label for='attrs-878b857e-039e-4c5f-8bc0-83c543e65c0d' title='Show/Hide attributes'><svg class='icon xr-icon-file-text2'><use xlink:href='#icon-file-text2'></use></svg></label><input id='data-aead1ada-6d43-4b58-899b-518628debc0c' class='xr-var-data-in' type='checkbox'><label for='data-aead1ada-6d43-4b58-899b-518628debc0c' title='Show/Hide data repr'><svg class='icon xr-icon-database'><use xlink:href='#icon-database'></use></svg></label><div class='xr-var-attrs'><dl class='xr-attrs'></dl></div><div class='xr-var-data'><pre>[2016 values with dtype=int32]</pre></div></li><li class='xr-var-item'><div class='xr-var-name'><span>tod</span></div><div class='xr-var-dims'>(time)</div><div class='xr-var-dtype'>int32</div><div class='xr-var-preview xr-preview'>...</div><input id='attrs-a558a9eb-bb64-4905-a88d-5f6c34172e0b' class='xr-var-attrs-in' type='checkbox' disabled><label for='attrs-a558a9eb-bb64-4905-a88d-5f6c34172e0b' title='Show/Hide attributes'><svg class='icon xr-icon-file-text2'><use xlink:href='#icon-file-text2'></use></svg></label><input id='data-4caa29d7-268d-453e-ba78-70e2df712b3c' class='xr-var-data-in' type='checkbox'><label for='data-4caa29d7-268d-453e-ba78-70e2df712b3c' title='Show/Hide data repr'><svg class='icon xr-icon-database'><use xlink:href='#icon-database'></use></svg></label><div class='xr-var-attrs'><dl class='xr-attrs'></dl></div><div class='xr-var-data'><pre>[2016 values with dtype=int32]</pre></div></li><li class='xr-var-item'><div class='xr-var-name'><span>cam_in_ALDIF</span></div><div class='xr-var-dims'>(time, ncol)</div><div class='xr-var-dtype'>float64</div><div class='xr-var-preview xr-preview'>...</div><input id='attrs-6b64a1d0-d2d8-46f3-b578-abe0e9ba1492' class='xr-var-attrs-in' type='checkbox' disabled><label for='attrs-6b64a1d0-d2d8-46f3-b578-abe0e9ba1492' title='Show/Hide attributes'><svg class='icon xr-icon-file-text2'><use xlink:href='#icon-file-text2'></use></svg></label><input id='data-c701f658-6c46-497a-a550-24e364d867be' class='xr-var-data-in' type='checkbox'><label for='data-c701f658-6c46-497a-a550-24e364d867be' title='Show/Hide data repr'><svg class='icon xr-icon-database'><use xlink:href='#icon-database'></use></svg></label><div class='xr-var-attrs'><dl class='xr-attrs'></dl></div><div class='xr-var-data'><pre>[774144 values with dtype=float64]</pre></div></li><li class='xr-var-item'><div class='xr-var-name'><span>cam_in_ALDIR</span></div><div class='xr-var-dims'>(time, ncol)</div><div class='xr-var-dtype'>float64</div><div class='xr-var-preview xr-preview'>...</div><input id='attrs-1fd654bd-2646-4fe9-9fe3-766b906cf341' class='xr-var-attrs-in' type='checkbox' disabled><label for='attrs-1fd654bd-2646-4fe9-9fe3-766b906cf341' title='Show/Hide attributes'><svg class='icon xr-icon-file-text2'><use xlink:href='#icon-file-text2'></use></svg></label><input id='data-7cae54c4-d8bf-42c2-a4aa-1edf63aa8f8a' class='xr-var-data-in' type='checkbox'><label for='data-7cae54c4-d8bf-42c2-a4aa-1edf63aa8f8a' title='Show/Hide data repr'><svg class='icon xr-icon-database'><use xlink:href='#icon-database'></use></svg></label><div class='xr-var-attrs'><dl class='xr-attrs'></dl></div><div class='xr-var-data'><pre>[774144 values with dtype=float64]</pre></div></li><li class='xr-var-item'><div class='xr-var-name'><span>cam_in_ASDIF</span></div><div class='xr-var-dims'>(time, ncol)</div><div class='xr-var-dtype'>float64</div><div class='xr-var-preview xr-preview'>...</div><input id='attrs-e7cf572f-0462-4c11-b453-6aaa34c7d7de' class='xr-var-attrs-in' type='checkbox' disabled><label for='attrs-e7cf572f-0462-4c11-b453-6aaa34c7d7de' title='Show/Hide attributes'><svg class='icon xr-icon-file-text2'><use xlink:href='#icon-file-text2'></use></svg></label><input id='data-3f4c8511-bf5a-481b-a09f-28a2c39d4d77' class='xr-var-data-in' type='checkbox'><label for='data-3f4c8511-bf5a-481b-a09f-28a2c39d4d77' title='Show/Hide data repr'><svg class='icon xr-icon-database'><use xlink:href='#icon-database'></use></svg></label><div class='xr-var-attrs'><dl class='xr-attrs'></dl></div><div class='xr-var-data'><pre>[774144 values with dtype=float64]</pre></div></li><li class='xr-var-item'><div class='xr-var-name'><span>cam_in_ASDIR</span></div><div class='xr-var-dims'>(time, ncol)</div><div class='xr-var-dtype'>float64</div><div class='xr-var-preview xr-preview'>...</div><input id='attrs-b061a066-dc0e-4daf-a4ee-dd5f7cb07b2e' class='xr-var-attrs-in' type='checkbox' disabled><label for='attrs-b061a066-dc0e-4daf-a4ee-dd5f7cb07b2e' title='Show/Hide attributes'><svg class='icon xr-icon-file-text2'><use xlink:href='#icon-file-text2'></use></svg></label><input id='data-a49ea0f3-0f9d-4e79-b5ad-c4b3daf6a1f7' class='xr-var-data-in' type='checkbox'><label for='data-a49ea0f3-0f9d-4e79-b5ad-c4b3daf6a1f7' title='Show/Hide data repr'><svg class='icon xr-icon-database'><use xlink:href='#icon-database'></use></svg></label><div class='xr-var-attrs'><dl class='xr-attrs'></dl></div><div class='xr-var-data'><pre>[774144 values with dtype=float64]</pre></div></li><li class='xr-var-item'><div class='xr-var-name'><span>cam_in_ICEFRAC</span></div><div class='xr-var-dims'>(time, ncol)</div><div class='xr-var-dtype'>float64</div><div class='xr-var-preview xr-preview'>...</div><input id='attrs-130b4690-e59e-4b1a-b015-f568cecfca66' class='xr-var-attrs-in' type='checkbox' disabled><label for='attrs-130b4690-e59e-4b1a-b015-f568cecfca66' title='Show/Hide attributes'><svg class='icon xr-icon-file-text2'><use xlink:href='#icon-file-text2'></use></svg></label><input id='data-e94c0413-56c3-477e-9549-af68d8a1e6fb' class='xr-var-data-in' type='checkbox'><label for='data-e94c0413-56c3-477e-9549-af68d8a1e6fb' title='Show/Hide data repr'><svg class='icon xr-icon-database'><use xlink:href='#icon-database'></use></svg></label><div class='xr-var-attrs'><dl class='xr-attrs'></dl></div><div class='xr-var-data'><pre>[774144 values with dtype=float64]</pre></div></li><li class='xr-var-item'><div class='xr-var-name'><span>cam_in_LANDFRAC</span></div><div class='xr-var-dims'>(time, ncol)</div><div class='xr-var-dtype'>float64</div><div class='xr-var-preview xr-preview'>...</div><input id='attrs-1414693c-735b-4c87-986f-951b6c87a953' class='xr-var-attrs-in' type='checkbox' disabled><label for='attrs-1414693c-735b-4c87-986f-951b6c87a953' title='Show/Hide attributes'><svg class='icon xr-icon-file-text2'><use xlink:href='#icon-file-text2'></use></svg></label><input id='data-4f2fe824-82c1-4c87-82f7-8f8093c2043e' class='xr-var-data-in' type='checkbox'><label for='data-4f2fe824-82c1-4c87-82f7-8f8093c2043e' title='Show/Hide data repr'><svg class='icon xr-icon-database'><use xlink:href='#icon-database'></use></svg></label><div class='xr-var-attrs'><dl class='xr-attrs'></dl></div><div class='xr-var-data'><pre>[774144 values with dtype=float64]</pre></div></li><li class='xr-var-item'><div class='xr-var-name'><span>cam_in_LWUP</span></div><div class='xr-var-dims'>(time, ncol)</div><div class='xr-var-dtype'>float64</div><div class='xr-var-preview xr-preview'>...</div><input id='attrs-6edacfa5-efce-4223-82c3-adb16e4d0cf6' class='xr-var-attrs-in' type='checkbox' disabled><label for='attrs-6edacfa5-efce-4223-82c3-adb16e4d0cf6' title='Show/Hide attributes'><svg class='icon xr-icon-file-text2'><use xlink:href='#icon-file-text2'></use></svg></label><input id='data-321c84ab-60ed-47fb-b9e2-fac4bdedc7cb' class='xr-var-data-in' type='checkbox'><label for='data-321c84ab-60ed-47fb-b9e2-fac4bdedc7cb' title='Show/Hide data repr'><svg class='icon xr-icon-database'><use xlink:href='#icon-database'></use></svg></label><div class='xr-var-attrs'><dl class='xr-attrs'></dl></div><div class='xr-var-data'><pre>[774144 values with dtype=float64]</pre></div></li><li class='xr-var-item'><div class='xr-var-name'><span>cam_in_OCNFRAC</span></div><div class='xr-var-dims'>(time, ncol)</div><div class='xr-var-dtype'>float64</div><div class='xr-var-preview xr-preview'>...</div><input id='attrs-517cc31e-c4df-4a5f-a62e-18eabbc91d8d' class='xr-var-attrs-in' type='checkbox' disabled><label for='attrs-517cc31e-c4df-4a5f-a62e-18eabbc91d8d' title='Show/Hide attributes'><svg class='icon xr-icon-file-text2'><use xlink:href='#icon-file-text2'></use></svg></label><input id='data-828934a7-784b-4c3a-8233-9932947ef5f2' class='xr-var-data-in' type='checkbox'><label for='data-828934a7-784b-4c3a-8233-9932947ef5f2' title='Show/Hide data repr'><svg class='icon xr-icon-database'><use xlink:href='#icon-database'></use></svg></label><div class='xr-var-attrs'><dl class='xr-attrs'></dl></div><div class='xr-var-data'><pre>[774144 values with dtype=float64]</pre></div></li><li class='xr-var-item'><div class='xr-var-name'><span>cam_in_SNOWHICE</span></div><div class='xr-var-dims'>(time, ncol)</div><div class='xr-var-dtype'>float64</div><div class='xr-var-preview xr-preview'>...</div><input id='attrs-5e792d8e-2b5a-4b67-98a7-3c5f65a2502f' class='xr-var-attrs-in' type='checkbox' disabled><label for='attrs-5e792d8e-2b5a-4b67-98a7-3c5f65a2502f' title='Show/Hide attributes'><svg class='icon xr-icon-file-text2'><use xlink:href='#icon-file-text2'></use></svg></label><input id='data-3435b1f6-74a1-4739-9abe-24de03e18db7' class='xr-var-data-in' type='checkbox'><label for='data-3435b1f6-74a1-4739-9abe-24de03e18db7' title='Show/Hide data repr'><svg class='icon xr-icon-database'><use xlink:href='#icon-database'></use></svg></label><div class='xr-var-attrs'><dl class='xr-attrs'></dl></div><div class='xr-var-data'><pre>[774144 values with dtype=float64]</pre></div></li><li class='xr-var-item'><div class='xr-var-name'><span>cam_in_SNOWHLAND</span></div><div class='xr-var-dims'>(time, ncol)</div><div class='xr-var-dtype'>float64</div><div class='xr-var-preview xr-preview'>...</div><input id='attrs-0817e30e-d7d2-4950-ad51-a7596c224546' class='xr-var-attrs-in' type='checkbox' disabled><label for='attrs-0817e30e-d7d2-4950-ad51-a7596c224546' title='Show/Hide attributes'><svg class='icon xr-icon-file-text2'><use xlink:href='#icon-file-text2'></use></svg></label><input id='data-9ace2810-2f8a-4da4-b23e-e340bb7fdde4' class='xr-var-data-in' type='checkbox'><label for='data-9ace2810-2f8a-4da4-b23e-e340bb7fdde4' title='Show/Hide data repr'><svg class='icon xr-icon-database'><use xlink:href='#icon-database'></use></svg></label><div class='xr-var-attrs'><dl class='xr-attrs'></dl></div><div class='xr-var-data'><pre>[774144 values with dtype=float64]</pre></div></li><li class='xr-var-item'><div class='xr-var-name'><span>pbuf_COSZRS</span></div><div class='xr-var-dims'>(time, ncol)</div><div class='xr-var-dtype'>float64</div><div class='xr-var-preview xr-preview'>...</div><input id='attrs-8c64fca0-ce04-4492-986b-4131a4b06850' class='xr-var-attrs-in' type='checkbox' disabled><label for='attrs-8c64fca0-ce04-4492-986b-4131a4b06850' title='Show/Hide attributes'><svg class='icon xr-icon-file-text2'><use xlink:href='#icon-file-text2'></use></svg></label><input id='data-d8a40a62-1294-4aa1-894a-3cdbb15ec4b5' class='xr-var-data-in' type='checkbox'><label for='data-d8a40a62-1294-4aa1-894a-3cdbb15ec4b5' title='Show/Hide data repr'><svg class='icon xr-icon-database'><use xlink:href='#icon-database'></use></svg></label><div class='xr-var-attrs'><dl class='xr-attrs'></dl></div><div class='xr-var-data'><pre>[774144 values with dtype=float64]</pre></div></li><li class='xr-var-item'><div class='xr-var-name'><span>pbuf_LHFLX</span></div><div class='xr-var-dims'>(time, ncol)</div><div class='xr-var-dtype'>float64</div><div class='xr-var-preview xr-preview'>...</div><input id='attrs-9a5a51b3-136e-4691-b091-2f3033caaec4' class='xr-var-attrs-in' type='checkbox' disabled><label for='attrs-9a5a51b3-136e-4691-b091-2f3033caaec4' title='Show/Hide attributes'><svg class='icon xr-icon-file-text2'><use xlink:href='#icon-file-text2'></use></svg></label><input id='data-aa6ea858-7fbe-4a90-94c4-bde8c04e122c' class='xr-var-data-in' type='checkbox'><label for='data-aa6ea858-7fbe-4a90-94c4-bde8c04e122c' title='Show/Hide data repr'><svg class='icon xr-icon-database'><use xlink:href='#icon-database'></use></svg></label><div class='xr-var-attrs'><dl class='xr-attrs'></dl></div><div class='xr-var-data'><pre>[774144 values with dtype=float64]</pre></div></li><li class='xr-var-item'><div class='xr-var-name'><span>pbuf_SHFLX</span></div><div class='xr-var-dims'>(time, ncol)</div><div class='xr-var-dtype'>float64</div><div class='xr-var-preview xr-preview'>...</div><input id='attrs-49fec803-4763-4df8-819e-94723034b806' class='xr-var-attrs-in' type='checkbox' disabled><label for='attrs-49fec803-4763-4df8-819e-94723034b806' title='Show/Hide attributes'><svg class='icon xr-icon-file-text2'><use xlink:href='#icon-file-text2'></use></svg></label><input id='data-2a224eac-a04e-46bf-9812-fd9d058d061d' class='xr-var-data-in' type='checkbox'><label for='data-2a224eac-a04e-46bf-9812-fd9d058d061d' title='Show/Hide data repr'><svg class='icon xr-icon-database'><use xlink:href='#icon-database'></use></svg></label><div class='xr-var-attrs'><dl class='xr-attrs'></dl></div><div class='xr-var-data'><pre>[774144 values with dtype=float64]</pre></div></li><li class='xr-var-item'><div class='xr-var-name'><span>pbuf_SOLIN</span></div><div class='xr-var-dims'>(time, ncol)</div><div class='xr-var-dtype'>float64</div><div class='xr-var-preview xr-preview'>...</div><input id='attrs-a0607147-260b-4c10-9146-62aea622d05d' class='xr-var-attrs-in' type='checkbox' disabled><label for='attrs-a0607147-260b-4c10-9146-62aea622d05d' title='Show/Hide attributes'><svg class='icon xr-icon-file-text2'><use xlink:href='#icon-file-text2'></use></svg></label><input id='data-8a3a495c-1344-4077-9f92-5403ef2372b3' class='xr-var-data-in' type='checkbox'><label for='data-8a3a495c-1344-4077-9f92-5403ef2372b3' title='Show/Hide data repr'><svg class='icon xr-icon-database'><use xlink:href='#icon-database'></use></svg></label><div class='xr-var-attrs'><dl class='xr-attrs'></dl></div><div class='xr-var-data'><pre>[774144 values with dtype=float64]</pre></div></li><li class='xr-var-item'><div class='xr-var-name'><span>pbuf_TAUX</span></div><div class='xr-var-dims'>(time, ncol)</div><div class='xr-var-dtype'>float64</div><div class='xr-var-preview xr-preview'>...</div><input id='attrs-acdcab11-ef62-4c54-a437-262035aaf356' class='xr-var-attrs-in' type='checkbox' disabled><label for='attrs-acdcab11-ef62-4c54-a437-262035aaf356' title='Show/Hide attributes'><svg class='icon xr-icon-file-text2'><use xlink:href='#icon-file-text2'></use></svg></label><input id='data-000cd839-8f87-41a4-8151-b615bc386245' class='xr-var-data-in' type='checkbox'><label for='data-000cd839-8f87-41a4-8151-b615bc386245' title='Show/Hide data repr'><svg class='icon xr-icon-database'><use xlink:href='#icon-database'></use></svg></label><div class='xr-var-attrs'><dl class='xr-attrs'></dl></div><div class='xr-var-data'><pre>[774144 values with dtype=float64]</pre></div></li><li class='xr-var-item'><div class='xr-var-name'><span>pbuf_TAUY</span></div><div class='xr-var-dims'>(time, ncol)</div><div class='xr-var-dtype'>float64</div><div class='xr-var-preview xr-preview'>...</div><input id='attrs-99fb091a-02d5-463e-ada6-89ac015f5a90' class='xr-var-attrs-in' type='checkbox' disabled><label for='attrs-99fb091a-02d5-463e-ada6-89ac015f5a90' title='Show/Hide attributes'><svg class='icon xr-icon-file-text2'><use xlink:href='#icon-file-text2'></use></svg></label><input id='data-6af392fe-4403-4efa-9216-65d6761ae3d9' class='xr-var-data-in' type='checkbox'><label for='data-6af392fe-4403-4efa-9216-65d6761ae3d9' title='Show/Hide data repr'><svg class='icon xr-icon-database'><use xlink:href='#icon-database'></use></svg></label><div class='xr-var-attrs'><dl class='xr-attrs'></dl></div><div class='xr-var-data'><pre>[774144 values with dtype=float64]</pre></div></li><li class='xr-var-item'><div class='xr-var-name'><span>state_pmid</span></div><div class='xr-var-dims'>(time, lev, ncol)</div><div class='xr-var-dtype'>float64</div><div class='xr-var-preview xr-preview'>...</div><input id='attrs-48e07f82-e33e-4a7e-a5aa-60dab10a5a80' class='xr-var-attrs-in' type='checkbox' disabled><label for='attrs-48e07f82-e33e-4a7e-a5aa-60dab10a5a80' title='Show/Hide attributes'><svg class='icon xr-icon-file-text2'><use xlink:href='#icon-file-text2'></use></svg></label><input id='data-d044c795-6c67-4ce6-b4a0-6b6174e66cc8' class='xr-var-data-in' type='checkbox'><label for='data-d044c795-6c67-4ce6-b4a0-6b6174e66cc8' title='Show/Hide data repr'><svg class='icon xr-icon-database'><use xlink:href='#icon-database'></use></svg></label><div class='xr-var-attrs'><dl class='xr-attrs'></dl></div><div class='xr-var-data'><pre>[46448640 values with dtype=float64]</pre></div></li><li class='xr-var-item'><div class='xr-var-name'><span>state_ps</span></div><div class='xr-var-dims'>(time, ncol)</div><div class='xr-var-dtype'>float64</div><div class='xr-var-preview xr-preview'>...</div><input id='attrs-790cfc57-898a-4699-a6e6-c416e37b7cf8' class='xr-var-attrs-in' type='checkbox' disabled><label for='attrs-790cfc57-898a-4699-a6e6-c416e37b7cf8' title='Show/Hide attributes'><svg class='icon xr-icon-file-text2'><use xlink:href='#icon-file-text2'></use></svg></label><input id='data-6065919b-bb42-4363-b61c-85089c8f8dda' class='xr-var-data-in' type='checkbox'><label for='data-6065919b-bb42-4363-b61c-85089c8f8dda' title='Show/Hide data repr'><svg class='icon xr-icon-database'><use xlink:href='#icon-database'></use></svg></label><div class='xr-var-attrs'><dl class='xr-attrs'></dl></div><div class='xr-var-data'><pre>[774144 values with dtype=float64]</pre></div></li><li class='xr-var-item'><div class='xr-var-name'><span>state_q0001</span></div><div class='xr-var-dims'>(time, lev, ncol)</div><div class='xr-var-dtype'>float64</div><div class='xr-var-preview xr-preview'>...</div><input id='attrs-e0be6ed1-c97a-458f-8b77-838c2f164bd0' class='xr-var-attrs-in' type='checkbox' disabled><label for='attrs-e0be6ed1-c97a-458f-8b77-838c2f164bd0' title='Show/Hide attributes'><svg class='icon xr-icon-file-text2'><use xlink:href='#icon-file-text2'></use></svg></label><input id='data-9a1006db-f137-4718-bf7c-31c5e8bbb2c1' class='xr-var-data-in' type='checkbox'><label for='data-9a1006db-f137-4718-bf7c-31c5e8bbb2c1' title='Show/Hide data repr'><svg class='icon xr-icon-database'><use xlink:href='#icon-database'></use></svg></label><div class='xr-var-attrs'><dl class='xr-attrs'></dl></div><div class='xr-var-data'><pre>[46448640 values with dtype=float64]</pre></div></li><li class='xr-var-item'><div class='xr-var-name'><span>state_q0002</span></div><div class='xr-var-dims'>(time, lev, ncol)</div><div class='xr-var-dtype'>float64</div><div class='xr-var-preview xr-preview'>...</div><input id='attrs-a418c4ab-6981-4b26-bb1d-c0aa19e186b7' class='xr-var-attrs-in' type='checkbox' disabled><label for='attrs-a418c4ab-6981-4b26-bb1d-c0aa19e186b7' title='Show/Hide attributes'><svg class='icon xr-icon-file-text2'><use xlink:href='#icon-file-text2'></use></svg></label><input id='data-4dfc96c6-682d-4d8f-b17d-de20f01d87d8' class='xr-var-data-in' type='checkbox'><label for='data-4dfc96c6-682d-4d8f-b17d-de20f01d87d8' title='Show/Hide data repr'><svg class='icon xr-icon-database'><use xlink:href='#icon-database'></use></svg></label><div class='xr-var-attrs'><dl class='xr-attrs'></dl></div><div class='xr-var-data'><pre>[46448640 values with dtype=float64]</pre></div></li><li class='xr-var-item'><div class='xr-var-name'><span>state_q0003</span></div><div class='xr-var-dims'>(time, lev, ncol)</div><div class='xr-var-dtype'>float64</div><div class='xr-var-preview xr-preview'>...</div><input id='attrs-525987ac-9681-458d-8df3-df62d9bfee1d' class='xr-var-attrs-in' type='checkbox' disabled><label for='attrs-525987ac-9681-458d-8df3-df62d9bfee1d' title='Show/Hide attributes'><svg class='icon xr-icon-file-text2'><use xlink:href='#icon-file-text2'></use></svg></label><input id='data-c20e57f1-e469-4002-bd85-a3c2630bba43' class='xr-var-data-in' type='checkbox'><label for='data-c20e57f1-e469-4002-bd85-a3c2630bba43' title='Show/Hide data repr'><svg class='icon xr-icon-database'><use xlink:href='#icon-database'></use></svg></label><div class='xr-var-attrs'><dl class='xr-attrs'></dl></div><div class='xr-var-data'><pre>[46448640 values with dtype=float64]</pre></div></li><li class='xr-var-item'><div class='xr-var-name'><span>state_t</span></div><div class='xr-var-dims'>(time, lev, ncol)</div><div class='xr-var-dtype'>float64</div><div class='xr-var-preview xr-preview'>...</div><input id='attrs-b2e9ab8b-72d9-4e5c-838d-4d332cafb4d6' class='xr-var-attrs-in' type='checkbox' disabled><label for='attrs-b2e9ab8b-72d9-4e5c-838d-4d332cafb4d6' title='Show/Hide attributes'><svg class='icon xr-icon-file-text2'><use xlink:href='#icon-file-text2'></use></svg></label><input id='data-532426a9-0438-4a8f-81f2-bc4c85fcdfd6' class='xr-var-data-in' type='checkbox'><label for='data-532426a9-0438-4a8f-81f2-bc4c85fcdfd6' title='Show/Hide data repr'><svg class='icon xr-icon-database'><use xlink:href='#icon-database'></use></svg></label><div class='xr-var-attrs'><dl class='xr-attrs'></dl></div><div class='xr-var-data'><pre>[46448640 values with dtype=float64]</pre></div></li><li class='xr-var-item'><div class='xr-var-name'><span>state_u</span></div><div class='xr-var-dims'>(time, lev, ncol)</div><div class='xr-var-dtype'>float64</div><div class='xr-var-preview xr-preview'>...</div><input id='attrs-229a095d-0e2f-4183-b3ec-860d54b9e007' class='xr-var-attrs-in' type='checkbox' disabled><label for='attrs-229a095d-0e2f-4183-b3ec-860d54b9e007' title='Show/Hide attributes'><svg class='icon xr-icon-file-text2'><use xlink:href='#icon-file-text2'></use></svg></label><input id='data-a24f2efb-f0e8-4b97-a7a8-77df80803903' class='xr-var-data-in' type='checkbox'><label for='data-a24f2efb-f0e8-4b97-a7a8-77df80803903' title='Show/Hide data repr'><svg class='icon xr-icon-database'><use xlink:href='#icon-database'></use></svg></label><div class='xr-var-attrs'><dl class='xr-attrs'></dl></div><div class='xr-var-data'><pre>[46448640 values with dtype=float64]</pre></div></li><li class='xr-var-item'><div class='xr-var-name'><span>state_v</span></div><div class='xr-var-dims'>(time, lev, ncol)</div><div class='xr-var-dtype'>float64</div><div class='xr-var-preview xr-preview'>...</div><input id='attrs-c149b854-cff8-4377-b671-e6d89aca0cf6' class='xr-var-attrs-in' type='checkbox' disabled><label for='attrs-c149b854-cff8-4377-b671-e6d89aca0cf6' title='Show/Hide attributes'><svg class='icon xr-icon-file-text2'><use xlink:href='#icon-file-text2'></use></svg></label><input id='data-eaa4b1e1-80f6-4187-b015-c93f8bd15593' class='xr-var-data-in' type='checkbox'><label for='data-eaa4b1e1-80f6-4187-b015-c93f8bd15593' title='Show/Hide data repr'><svg class='icon xr-icon-database'><use xlink:href='#icon-database'></use></svg></label><div class='xr-var-attrs'><dl class='xr-attrs'></dl></div><div class='xr-var-data'><pre>[46448640 values with dtype=float64]</pre></div></li><li class='xr-var-item'><div class='xr-var-name'><span>pbuf_CH4</span></div><div class='xr-var-dims'>(time, lev, ncol)</div><div class='xr-var-dtype'>float64</div><div class='xr-var-preview xr-preview'>...</div><input id='attrs-bf86e8d2-e2c9-4e0d-84db-53f7c9ff4557' class='xr-var-attrs-in' type='checkbox' disabled><label for='attrs-bf86e8d2-e2c9-4e0d-84db-53f7c9ff4557' title='Show/Hide attributes'><svg class='icon xr-icon-file-text2'><use xlink:href='#icon-file-text2'></use></svg></label><input id='data-c2f12a1c-41d3-4021-bb33-3f4163d78ed7' class='xr-var-data-in' type='checkbox'><label for='data-c2f12a1c-41d3-4021-bb33-3f4163d78ed7' title='Show/Hide data repr'><svg class='icon xr-icon-database'><use xlink:href='#icon-database'></use></svg></label><div class='xr-var-attrs'><dl class='xr-attrs'></dl></div><div class='xr-var-data'><pre>[46448640 values with dtype=float64]</pre></div></li><li class='xr-var-item'><div class='xr-var-name'><span>pbuf_N2O</span></div><div class='xr-var-dims'>(time, lev, ncol)</div><div class='xr-var-dtype'>float64</div><div class='xr-var-preview xr-preview'>...</div><input id='attrs-a85be4c6-5228-4640-bf5b-5674588852f0' class='xr-var-attrs-in' type='checkbox' disabled><label for='attrs-a85be4c6-5228-4640-bf5b-5674588852f0' title='Show/Hide attributes'><svg class='icon xr-icon-file-text2'><use xlink:href='#icon-file-text2'></use></svg></label><input id='data-648f2a9b-d7db-4ca2-9283-2c79deed2cb0' class='xr-var-data-in' type='checkbox'><label for='data-648f2a9b-d7db-4ca2-9283-2c79deed2cb0' title='Show/Hide data repr'><svg class='icon xr-icon-database'><use xlink:href='#icon-database'></use></svg></label><div class='xr-var-attrs'><dl class='xr-attrs'></dl></div><div class='xr-var-data'><pre>[46448640 values with dtype=float64]</pre></div></li><li class='xr-var-item'><div class='xr-var-name'><span>pbuf_ozone</span></div><div class='xr-var-dims'>(time, lev, ncol)</div><div class='xr-var-dtype'>float64</div><div class='xr-var-preview xr-preview'>...</div><input id='attrs-9b0b83fc-313d-42bf-8f81-beb3d463619c' class='xr-var-attrs-in' type='checkbox' disabled><label for='attrs-9b0b83fc-313d-42bf-8f81-beb3d463619c' title='Show/Hide attributes'><svg class='icon xr-icon-file-text2'><use xlink:href='#icon-file-text2'></use></svg></label><input id='data-d5f0ea5c-3272-4d55-b461-c2b8d68b27b5' class='xr-var-data-in' type='checkbox'><label for='data-d5f0ea5c-3272-4d55-b461-c2b8d68b27b5' title='Show/Hide data repr'><svg class='icon xr-icon-database'><use xlink:href='#icon-database'></use></svg></label><div class='xr-var-attrs'><dl class='xr-attrs'></dl></div><div class='xr-var-data'><pre>[46448640 values with dtype=float64]</pre></div></li></ul></div></li><li class='xr-section-item'><input id='section-f4977ebd-0ac4-4a10-acc3-f1b8280dc088' class='xr-section-summary-in' type='checkbox' disabled ><label for='section-f4977ebd-0ac4-4a10-acc3-f1b8280dc088' class='xr-section-summary'  title='Expand/collapse section'>Indexes: <span>(0)</span></label><div class='xr-section-inline-details'></div><div class='xr-section-details'><ul class='xr-var-list'></ul></div></li><li class='xr-section-item'><input id='section-e777d4ba-55f0-4fd7-9029-6f61425c1085' class='xr-section-summary-in' type='checkbox'  checked><label for='section-e777d4ba-55f0-4fd7-9029-6f61425c1085' class='xr-section-summary' >Attributes: <span>(3)</span></label><div class='xr-section-inline-details'></div><div class='xr-section-details'><dl class='xr-attrs'><dt><span>ne :</span></dt><dd>4</dd><dt><span>fv_nphys :</span></dt><dd>2</dd><dt><span>calendar :</span></dt><dd>NO_LEAP</dd></dl></div></li></ul></div></div>"
      ],
      "text/plain": [
       "<xarray.Dataset>\n",
       "Dimensions:           (time: 2016, ncol: 384, lev: 60)\n",
       "Dimensions without coordinates: time, ncol, lev\n",
       "Data variables: (12/29)\n",
       "    ymd               (time) int32 ...\n",
       "    tod               (time) int32 ...\n",
       "    cam_in_ALDIF      (time, ncol) float64 ...\n",
       "    cam_in_ALDIR      (time, ncol) float64 ...\n",
       "    cam_in_ASDIF      (time, ncol) float64 ...\n",
       "    cam_in_ASDIR      (time, ncol) float64 ...\n",
       "    ...                ...\n",
       "    state_t           (time, lev, ncol) float64 ...\n",
       "    state_u           (time, lev, ncol) float64 ...\n",
       "    state_v           (time, lev, ncol) float64 ...\n",
       "    pbuf_CH4          (time, lev, ncol) float64 ...\n",
       "    pbuf_N2O          (time, lev, ncol) float64 ...\n",
       "    pbuf_ozone        (time, lev, ncol) float64 ...\n",
       "Attributes:\n",
       "    ne:        4\n",
       "    fv_nphys:  2\n",
       "    calendar:  NO_LEAP"
      ]
     },
     "execution_count": 4,
     "metadata": {},
     "output_type": "execute_result"
    }
   ],
   "source": [
    "mli"
   ]
  },
  {
   "cell_type": "code",
   "execution_count": 5,
   "id": "db8a7a85-05da-4f3c-9e30-31f71d25fa33",
   "metadata": {
    "execution": {
     "iopub.execute_input": "2024-02-25T23:46:51.074011Z",
     "iopub.status.busy": "2024-02-25T23:46:51.074011Z",
     "iopub.status.idle": "2024-02-25T23:46:51.126005Z",
     "shell.execute_reply": "2024-02-25T23:46:51.125012Z",
     "shell.execute_reply.started": "2024-02-25T23:46:51.074011Z"
    }
   },
   "outputs": [],
   "source": [
    "# fix time index\n",
    "\n",
    "date = []\n",
    "for i in range(len(mli.ymd.values)):\n",
    "    my_str=str(mli.ymd.values[i])\n",
    "    date.append(my_str[:0] + '200' + my_str[0:])\n",
    "\n",
    "mli['time'] = pd.to_datetime(date) + pd.to_timedelta(mli.tod.values, unit='s')\n",
    "mlo['time'] = pd.to_datetime(date) + pd.to_timedelta(mlo.tod.values, unit='s')"
   ]
  },
  {
   "cell_type": "code",
   "execution_count": 6,
   "id": "9ce5c565-deaa-4d52-8a48-2a6081992bf0",
   "metadata": {
    "execution": {
     "iopub.execute_input": "2024-02-25T23:46:52.289762Z",
     "iopub.status.busy": "2024-02-25T23:46:52.289762Z",
     "iopub.status.idle": "2024-02-25T23:46:52.304763Z",
     "shell.execute_reply": "2024-02-25T23:46:52.303769Z",
     "shell.execute_reply.started": "2024-02-25T23:46:52.289762Z"
    }
   },
   "outputs": [],
   "source": [
    "# downsample data every 7 samples, data frequency is 1200s.\n",
    "# mli = mli.resample(time='8400S').mean()\n",
    "# mlo = mlo.resample(time='8400S').mean()\n",
    "mli = mli.isel(time=slice(None,None,7))\n",
    "mlo = mlo.isel(time=slice(None,None,7))"
   ]
  },
  {
   "cell_type": "code",
   "execution_count": 7,
   "id": "85af9279-b9f7-4482-aa4a-4b5c3e93bb80",
   "metadata": {
    "execution": {
     "iopub.execute_input": "2024-02-25T23:46:53.014217Z",
     "iopub.status.busy": "2024-02-25T23:46:53.013224Z",
     "iopub.status.idle": "2024-02-25T23:46:53.041218Z",
     "shell.execute_reply": "2024-02-25T23:46:53.040224Z",
     "shell.execute_reply.started": "2024-02-25T23:46:53.014217Z"
    }
   },
   "outputs": [
    {
     "data": {
      "text/html": [
       "<div><svg style=\"position: absolute; width: 0; height: 0; overflow: hidden\">\n",
       "<defs>\n",
       "<symbol id=\"icon-database\" viewBox=\"0 0 32 32\">\n",
       "<path d=\"M16 0c-8.837 0-16 2.239-16 5v4c0 2.761 7.163 5 16 5s16-2.239 16-5v-4c0-2.761-7.163-5-16-5z\"></path>\n",
       "<path d=\"M16 17c-8.837 0-16-2.239-16-5v6c0 2.761 7.163 5 16 5s16-2.239 16-5v-6c0 2.761-7.163 5-16 5z\"></path>\n",
       "<path d=\"M16 26c-8.837 0-16-2.239-16-5v6c0 2.761 7.163 5 16 5s16-2.239 16-5v-6c0 2.761-7.163 5-16 5z\"></path>\n",
       "</symbol>\n",
       "<symbol id=\"icon-file-text2\" viewBox=\"0 0 32 32\">\n",
       "<path d=\"M28.681 7.159c-0.694-0.947-1.662-2.053-2.724-3.116s-2.169-2.030-3.116-2.724c-1.612-1.182-2.393-1.319-2.841-1.319h-15.5c-1.378 0-2.5 1.121-2.5 2.5v27c0 1.378 1.122 2.5 2.5 2.5h23c1.378 0 2.5-1.122 2.5-2.5v-19.5c0-0.448-0.137-1.23-1.319-2.841zM24.543 5.457c0.959 0.959 1.712 1.825 2.268 2.543h-4.811v-4.811c0.718 0.556 1.584 1.309 2.543 2.268zM28 29.5c0 0.271-0.229 0.5-0.5 0.5h-23c-0.271 0-0.5-0.229-0.5-0.5v-27c0-0.271 0.229-0.5 0.5-0.5 0 0 15.499-0 15.5 0v7c0 0.552 0.448 1 1 1h7v19.5z\"></path>\n",
       "<path d=\"M23 26h-14c-0.552 0-1-0.448-1-1s0.448-1 1-1h14c0.552 0 1 0.448 1 1s-0.448 1-1 1z\"></path>\n",
       "<path d=\"M23 22h-14c-0.552 0-1-0.448-1-1s0.448-1 1-1h14c0.552 0 1 0.448 1 1s-0.448 1-1 1z\"></path>\n",
       "<path d=\"M23 18h-14c-0.552 0-1-0.448-1-1s0.448-1 1-1h14c0.552 0 1 0.448 1 1s-0.448 1-1 1z\"></path>\n",
       "</symbol>\n",
       "</defs>\n",
       "</svg>\n",
       "<style>/* CSS stylesheet for displaying xarray objects in jupyterlab.\n",
       " *\n",
       " */\n",
       "\n",
       ":root {\n",
       "  --xr-font-color0: var(--jp-content-font-color0, rgba(0, 0, 0, 1));\n",
       "  --xr-font-color2: var(--jp-content-font-color2, rgba(0, 0, 0, 0.54));\n",
       "  --xr-font-color3: var(--jp-content-font-color3, rgba(0, 0, 0, 0.38));\n",
       "  --xr-border-color: var(--jp-border-color2, #e0e0e0);\n",
       "  --xr-disabled-color: var(--jp-layout-color3, #bdbdbd);\n",
       "  --xr-background-color: var(--jp-layout-color0, white);\n",
       "  --xr-background-color-row-even: var(--jp-layout-color1, white);\n",
       "  --xr-background-color-row-odd: var(--jp-layout-color2, #eeeeee);\n",
       "}\n",
       "\n",
       "html[theme=dark],\n",
       "body[data-theme=dark],\n",
       "body.vscode-dark {\n",
       "  --xr-font-color0: rgba(255, 255, 255, 1);\n",
       "  --xr-font-color2: rgba(255, 255, 255, 0.54);\n",
       "  --xr-font-color3: rgba(255, 255, 255, 0.38);\n",
       "  --xr-border-color: #1F1F1F;\n",
       "  --xr-disabled-color: #515151;\n",
       "  --xr-background-color: #111111;\n",
       "  --xr-background-color-row-even: #111111;\n",
       "  --xr-background-color-row-odd: #313131;\n",
       "}\n",
       "\n",
       ".xr-wrap {\n",
       "  display: block !important;\n",
       "  min-width: 300px;\n",
       "  max-width: 700px;\n",
       "}\n",
       "\n",
       ".xr-text-repr-fallback {\n",
       "  /* fallback to plain text repr when CSS is not injected (untrusted notebook) */\n",
       "  display: none;\n",
       "}\n",
       "\n",
       ".xr-header {\n",
       "  padding-top: 6px;\n",
       "  padding-bottom: 6px;\n",
       "  margin-bottom: 4px;\n",
       "  border-bottom: solid 1px var(--xr-border-color);\n",
       "}\n",
       "\n",
       ".xr-header > div,\n",
       ".xr-header > ul {\n",
       "  display: inline;\n",
       "  margin-top: 0;\n",
       "  margin-bottom: 0;\n",
       "}\n",
       "\n",
       ".xr-obj-type,\n",
       ".xr-array-name {\n",
       "  margin-left: 2px;\n",
       "  margin-right: 10px;\n",
       "}\n",
       "\n",
       ".xr-obj-type {\n",
       "  color: var(--xr-font-color2);\n",
       "}\n",
       "\n",
       ".xr-sections {\n",
       "  padding-left: 0 !important;\n",
       "  display: grid;\n",
       "  grid-template-columns: 150px auto auto 1fr 20px 20px;\n",
       "}\n",
       "\n",
       ".xr-section-item {\n",
       "  display: contents;\n",
       "}\n",
       "\n",
       ".xr-section-item input {\n",
       "  display: none;\n",
       "}\n",
       "\n",
       ".xr-section-item input + label {\n",
       "  color: var(--xr-disabled-color);\n",
       "}\n",
       "\n",
       ".xr-section-item input:enabled + label {\n",
       "  cursor: pointer;\n",
       "  color: var(--xr-font-color2);\n",
       "}\n",
       "\n",
       ".xr-section-item input:enabled + label:hover {\n",
       "  color: var(--xr-font-color0);\n",
       "}\n",
       "\n",
       ".xr-section-summary {\n",
       "  grid-column: 1;\n",
       "  color: var(--xr-font-color2);\n",
       "  font-weight: 500;\n",
       "}\n",
       "\n",
       ".xr-section-summary > span {\n",
       "  display: inline-block;\n",
       "  padding-left: 0.5em;\n",
       "}\n",
       "\n",
       ".xr-section-summary-in:disabled + label {\n",
       "  color: var(--xr-font-color2);\n",
       "}\n",
       "\n",
       ".xr-section-summary-in + label:before {\n",
       "  display: inline-block;\n",
       "  content: '►';\n",
       "  font-size: 11px;\n",
       "  width: 15px;\n",
       "  text-align: center;\n",
       "}\n",
       "\n",
       ".xr-section-summary-in:disabled + label:before {\n",
       "  color: var(--xr-disabled-color);\n",
       "}\n",
       "\n",
       ".xr-section-summary-in:checked + label:before {\n",
       "  content: '▼';\n",
       "}\n",
       "\n",
       ".xr-section-summary-in:checked + label > span {\n",
       "  display: none;\n",
       "}\n",
       "\n",
       ".xr-section-summary,\n",
       ".xr-section-inline-details {\n",
       "  padding-top: 4px;\n",
       "  padding-bottom: 4px;\n",
       "}\n",
       "\n",
       ".xr-section-inline-details {\n",
       "  grid-column: 2 / -1;\n",
       "}\n",
       "\n",
       ".xr-section-details {\n",
       "  display: none;\n",
       "  grid-column: 1 / -1;\n",
       "  margin-bottom: 5px;\n",
       "}\n",
       "\n",
       ".xr-section-summary-in:checked ~ .xr-section-details {\n",
       "  display: contents;\n",
       "}\n",
       "\n",
       ".xr-array-wrap {\n",
       "  grid-column: 1 / -1;\n",
       "  display: grid;\n",
       "  grid-template-columns: 20px auto;\n",
       "}\n",
       "\n",
       ".xr-array-wrap > label {\n",
       "  grid-column: 1;\n",
       "  vertical-align: top;\n",
       "}\n",
       "\n",
       ".xr-preview {\n",
       "  color: var(--xr-font-color3);\n",
       "}\n",
       "\n",
       ".xr-array-preview,\n",
       ".xr-array-data {\n",
       "  padding: 0 5px !important;\n",
       "  grid-column: 2;\n",
       "}\n",
       "\n",
       ".xr-array-data,\n",
       ".xr-array-in:checked ~ .xr-array-preview {\n",
       "  display: none;\n",
       "}\n",
       "\n",
       ".xr-array-in:checked ~ .xr-array-data,\n",
       ".xr-array-preview {\n",
       "  display: inline-block;\n",
       "}\n",
       "\n",
       ".xr-dim-list {\n",
       "  display: inline-block !important;\n",
       "  list-style: none;\n",
       "  padding: 0 !important;\n",
       "  margin: 0;\n",
       "}\n",
       "\n",
       ".xr-dim-list li {\n",
       "  display: inline-block;\n",
       "  padding: 0;\n",
       "  margin: 0;\n",
       "}\n",
       "\n",
       ".xr-dim-list:before {\n",
       "  content: '(';\n",
       "}\n",
       "\n",
       ".xr-dim-list:after {\n",
       "  content: ')';\n",
       "}\n",
       "\n",
       ".xr-dim-list li:not(:last-child):after {\n",
       "  content: ',';\n",
       "  padding-right: 5px;\n",
       "}\n",
       "\n",
       ".xr-has-index {\n",
       "  font-weight: bold;\n",
       "}\n",
       "\n",
       ".xr-var-list,\n",
       ".xr-var-item {\n",
       "  display: contents;\n",
       "}\n",
       "\n",
       ".xr-var-item > div,\n",
       ".xr-var-item label,\n",
       ".xr-var-item > .xr-var-name span {\n",
       "  background-color: var(--xr-background-color-row-even);\n",
       "  margin-bottom: 0;\n",
       "}\n",
       "\n",
       ".xr-var-item > .xr-var-name:hover span {\n",
       "  padding-right: 5px;\n",
       "}\n",
       "\n",
       ".xr-var-list > li:nth-child(odd) > div,\n",
       ".xr-var-list > li:nth-child(odd) > label,\n",
       ".xr-var-list > li:nth-child(odd) > .xr-var-name span {\n",
       "  background-color: var(--xr-background-color-row-odd);\n",
       "}\n",
       "\n",
       ".xr-var-name {\n",
       "  grid-column: 1;\n",
       "}\n",
       "\n",
       ".xr-var-dims {\n",
       "  grid-column: 2;\n",
       "}\n",
       "\n",
       ".xr-var-dtype {\n",
       "  grid-column: 3;\n",
       "  text-align: right;\n",
       "  color: var(--xr-font-color2);\n",
       "}\n",
       "\n",
       ".xr-var-preview {\n",
       "  grid-column: 4;\n",
       "}\n",
       "\n",
       ".xr-index-preview {\n",
       "  grid-column: 2 / 5;\n",
       "  color: var(--xr-font-color2);\n",
       "}\n",
       "\n",
       ".xr-var-name,\n",
       ".xr-var-dims,\n",
       ".xr-var-dtype,\n",
       ".xr-preview,\n",
       ".xr-attrs dt {\n",
       "  white-space: nowrap;\n",
       "  overflow: hidden;\n",
       "  text-overflow: ellipsis;\n",
       "  padding-right: 10px;\n",
       "}\n",
       "\n",
       ".xr-var-name:hover,\n",
       ".xr-var-dims:hover,\n",
       ".xr-var-dtype:hover,\n",
       ".xr-attrs dt:hover {\n",
       "  overflow: visible;\n",
       "  width: auto;\n",
       "  z-index: 1;\n",
       "}\n",
       "\n",
       ".xr-var-attrs,\n",
       ".xr-var-data,\n",
       ".xr-index-data {\n",
       "  display: none;\n",
       "  background-color: var(--xr-background-color) !important;\n",
       "  padding-bottom: 5px !important;\n",
       "}\n",
       "\n",
       ".xr-var-attrs-in:checked ~ .xr-var-attrs,\n",
       ".xr-var-data-in:checked ~ .xr-var-data,\n",
       ".xr-index-data-in:checked ~ .xr-index-data {\n",
       "  display: block;\n",
       "}\n",
       "\n",
       ".xr-var-data > table {\n",
       "  float: right;\n",
       "}\n",
       "\n",
       ".xr-var-name span,\n",
       ".xr-var-data,\n",
       ".xr-index-name div,\n",
       ".xr-index-data,\n",
       ".xr-attrs {\n",
       "  padding-left: 25px !important;\n",
       "}\n",
       "\n",
       ".xr-attrs,\n",
       ".xr-var-attrs,\n",
       ".xr-var-data,\n",
       ".xr-index-data {\n",
       "  grid-column: 1 / -1;\n",
       "}\n",
       "\n",
       "dl.xr-attrs {\n",
       "  padding: 0;\n",
       "  margin: 0;\n",
       "  display: grid;\n",
       "  grid-template-columns: 125px auto;\n",
       "}\n",
       "\n",
       ".xr-attrs dt,\n",
       ".xr-attrs dd {\n",
       "  padding: 0;\n",
       "  margin: 0;\n",
       "  float: left;\n",
       "  padding-right: 10px;\n",
       "  width: auto;\n",
       "}\n",
       "\n",
       ".xr-attrs dt {\n",
       "  font-weight: normal;\n",
       "  grid-column: 1;\n",
       "}\n",
       "\n",
       ".xr-attrs dt:hover span {\n",
       "  display: inline-block;\n",
       "  background: var(--xr-background-color);\n",
       "  padding-right: 10px;\n",
       "}\n",
       "\n",
       ".xr-attrs dd {\n",
       "  grid-column: 2;\n",
       "  white-space: pre-wrap;\n",
       "  word-break: break-all;\n",
       "}\n",
       "\n",
       ".xr-icon-database,\n",
       ".xr-icon-file-text2,\n",
       ".xr-no-icon {\n",
       "  display: inline-block;\n",
       "  vertical-align: middle;\n",
       "  width: 1em;\n",
       "  height: 1.5em !important;\n",
       "  stroke-width: 0;\n",
       "  stroke: currentColor;\n",
       "  fill: currentColor;\n",
       "}\n",
       "</style><pre class='xr-text-repr-fallback'>&lt;xarray.Dataset&gt;\n",
       "Dimensions:         (time: 288, ncol: 384, lev: 60)\n",
       "Coordinates:\n",
       "  * time            (time) datetime64[ns] 2008-02-01 ... 2008-02-28T21:40:00\n",
       "Dimensions without coordinates: ncol, lev\n",
       "Data variables: (12/16)\n",
       "    ymd             (time) int32 ...\n",
       "    tod             (time) int32 0 8400 16800 25200 ... 52800 61200 69600 78000\n",
       "    cam_out_FLWDS   (time, ncol) float64 ...\n",
       "    cam_out_NETSW   (time, ncol) float64 ...\n",
       "    cam_out_PRECC   (time, ncol) float64 ...\n",
       "    cam_out_PRECSC  (time, ncol) float64 ...\n",
       "    ...              ...\n",
       "    state_q0001     (time, lev, ncol) float64 ...\n",
       "    state_q0002     (time, lev, ncol) float64 ...\n",
       "    state_q0003     (time, lev, ncol) float64 ...\n",
       "    state_t         (time, lev, ncol) float64 ...\n",
       "    state_u         (time, lev, ncol) float64 ...\n",
       "    state_v         (time, lev, ncol) float64 ...\n",
       "Attributes:\n",
       "    ne:        4\n",
       "    fv_nphys:  2\n",
       "    calendar:  NO_LEAP</pre><div class='xr-wrap' style='display:none'><div class='xr-header'><div class='xr-obj-type'>xarray.Dataset</div></div><ul class='xr-sections'><li class='xr-section-item'><input id='section-a8f5ac93-bbdd-4403-be3f-50850ab42105' class='xr-section-summary-in' type='checkbox' disabled ><label for='section-a8f5ac93-bbdd-4403-be3f-50850ab42105' class='xr-section-summary'  title='Expand/collapse section'>Dimensions:</label><div class='xr-section-inline-details'><ul class='xr-dim-list'><li><span class='xr-has-index'>time</span>: 288</li><li><span>ncol</span>: 384</li><li><span>lev</span>: 60</li></ul></div><div class='xr-section-details'></div></li><li class='xr-section-item'><input id='section-265d33d4-ebf9-45d0-90f6-c8fcaa0a99e7' class='xr-section-summary-in' type='checkbox'  checked><label for='section-265d33d4-ebf9-45d0-90f6-c8fcaa0a99e7' class='xr-section-summary' >Coordinates: <span>(1)</span></label><div class='xr-section-inline-details'></div><div class='xr-section-details'><ul class='xr-var-list'><li class='xr-var-item'><div class='xr-var-name'><span class='xr-has-index'>time</span></div><div class='xr-var-dims'>(time)</div><div class='xr-var-dtype'>datetime64[ns]</div><div class='xr-var-preview xr-preview'>2008-02-01 ... 2008-02-28T21:40:00</div><input id='attrs-3afb7117-2550-45c6-944e-c194c3822298' class='xr-var-attrs-in' type='checkbox' disabled><label for='attrs-3afb7117-2550-45c6-944e-c194c3822298' title='Show/Hide attributes'><svg class='icon xr-icon-file-text2'><use xlink:href='#icon-file-text2'></use></svg></label><input id='data-7ba9e1fd-b0ac-4b16-960b-5ac48e6ec98a' class='xr-var-data-in' type='checkbox'><label for='data-7ba9e1fd-b0ac-4b16-960b-5ac48e6ec98a' title='Show/Hide data repr'><svg class='icon xr-icon-database'><use xlink:href='#icon-database'></use></svg></label><div class='xr-var-attrs'><dl class='xr-attrs'></dl></div><div class='xr-var-data'><pre>array([&#x27;2008-02-01T00:00:00.000000000&#x27;, &#x27;2008-02-01T02:20:00.000000000&#x27;,\n",
       "       &#x27;2008-02-01T04:40:00.000000000&#x27;, ..., &#x27;2008-02-28T17:00:00.000000000&#x27;,\n",
       "       &#x27;2008-02-28T19:20:00.000000000&#x27;, &#x27;2008-02-28T21:40:00.000000000&#x27;],\n",
       "      dtype=&#x27;datetime64[ns]&#x27;)</pre></div></li></ul></div></li><li class='xr-section-item'><input id='section-69188757-ccf5-422b-aba2-f1487d406be4' class='xr-section-summary-in' type='checkbox'  ><label for='section-69188757-ccf5-422b-aba2-f1487d406be4' class='xr-section-summary' >Data variables: <span>(16)</span></label><div class='xr-section-inline-details'></div><div class='xr-section-details'><ul class='xr-var-list'><li class='xr-var-item'><div class='xr-var-name'><span>ymd</span></div><div class='xr-var-dims'>(time)</div><div class='xr-var-dtype'>int32</div><div class='xr-var-preview xr-preview'>...</div><input id='attrs-dbf1f845-a7be-458b-8bef-08a5c4fc4e54' class='xr-var-attrs-in' type='checkbox' disabled><label for='attrs-dbf1f845-a7be-458b-8bef-08a5c4fc4e54' title='Show/Hide attributes'><svg class='icon xr-icon-file-text2'><use xlink:href='#icon-file-text2'></use></svg></label><input id='data-f095e012-7e90-4f25-b056-89e07804c2fe' class='xr-var-data-in' type='checkbox'><label for='data-f095e012-7e90-4f25-b056-89e07804c2fe' title='Show/Hide data repr'><svg class='icon xr-icon-database'><use xlink:href='#icon-database'></use></svg></label><div class='xr-var-attrs'><dl class='xr-attrs'></dl></div><div class='xr-var-data'><pre>[288 values with dtype=int32]</pre></div></li><li class='xr-var-item'><div class='xr-var-name'><span>tod</span></div><div class='xr-var-dims'>(time)</div><div class='xr-var-dtype'>int32</div><div class='xr-var-preview xr-preview'>0 8400 16800 ... 61200 69600 78000</div><input id='attrs-67642435-68d7-4df0-b8f4-4ace7e433e46' class='xr-var-attrs-in' type='checkbox' disabled><label for='attrs-67642435-68d7-4df0-b8f4-4ace7e433e46' title='Show/Hide attributes'><svg class='icon xr-icon-file-text2'><use xlink:href='#icon-file-text2'></use></svg></label><input id='data-7927baa2-b5c3-4624-bc4b-1e8416af2f31' class='xr-var-data-in' type='checkbox'><label for='data-7927baa2-b5c3-4624-bc4b-1e8416af2f31' title='Show/Hide data repr'><svg class='icon xr-icon-database'><use xlink:href='#icon-database'></use></svg></label><div class='xr-var-attrs'><dl class='xr-attrs'></dl></div><div class='xr-var-data'><pre>array([    0,  8400, 16800, ..., 61200, 69600, 78000])</pre></div></li><li class='xr-var-item'><div class='xr-var-name'><span>cam_out_FLWDS</span></div><div class='xr-var-dims'>(time, ncol)</div><div class='xr-var-dtype'>float64</div><div class='xr-var-preview xr-preview'>...</div><input id='attrs-6fee1887-7798-4045-af71-77baa53ed367' class='xr-var-attrs-in' type='checkbox' disabled><label for='attrs-6fee1887-7798-4045-af71-77baa53ed367' title='Show/Hide attributes'><svg class='icon xr-icon-file-text2'><use xlink:href='#icon-file-text2'></use></svg></label><input id='data-6237e567-55cb-4d4d-844c-34b261c8987e' class='xr-var-data-in' type='checkbox'><label for='data-6237e567-55cb-4d4d-844c-34b261c8987e' title='Show/Hide data repr'><svg class='icon xr-icon-database'><use xlink:href='#icon-database'></use></svg></label><div class='xr-var-attrs'><dl class='xr-attrs'></dl></div><div class='xr-var-data'><pre>[110592 values with dtype=float64]</pre></div></li><li class='xr-var-item'><div class='xr-var-name'><span>cam_out_NETSW</span></div><div class='xr-var-dims'>(time, ncol)</div><div class='xr-var-dtype'>float64</div><div class='xr-var-preview xr-preview'>...</div><input id='attrs-aff90de2-a546-4ad6-9d79-eca3cf93d65b' class='xr-var-attrs-in' type='checkbox' disabled><label for='attrs-aff90de2-a546-4ad6-9d79-eca3cf93d65b' title='Show/Hide attributes'><svg class='icon xr-icon-file-text2'><use xlink:href='#icon-file-text2'></use></svg></label><input id='data-de7b6062-f699-4ea3-9096-2d72e92c8502' class='xr-var-data-in' type='checkbox'><label for='data-de7b6062-f699-4ea3-9096-2d72e92c8502' title='Show/Hide data repr'><svg class='icon xr-icon-database'><use xlink:href='#icon-database'></use></svg></label><div class='xr-var-attrs'><dl class='xr-attrs'></dl></div><div class='xr-var-data'><pre>[110592 values with dtype=float64]</pre></div></li><li class='xr-var-item'><div class='xr-var-name'><span>cam_out_PRECC</span></div><div class='xr-var-dims'>(time, ncol)</div><div class='xr-var-dtype'>float64</div><div class='xr-var-preview xr-preview'>...</div><input id='attrs-89409f65-6889-47e7-9103-d6fa64379856' class='xr-var-attrs-in' type='checkbox' disabled><label for='attrs-89409f65-6889-47e7-9103-d6fa64379856' title='Show/Hide attributes'><svg class='icon xr-icon-file-text2'><use xlink:href='#icon-file-text2'></use></svg></label><input id='data-2f45bb41-8616-45af-9867-037d243d92d0' class='xr-var-data-in' type='checkbox'><label for='data-2f45bb41-8616-45af-9867-037d243d92d0' title='Show/Hide data repr'><svg class='icon xr-icon-database'><use xlink:href='#icon-database'></use></svg></label><div class='xr-var-attrs'><dl class='xr-attrs'></dl></div><div class='xr-var-data'><pre>[110592 values with dtype=float64]</pre></div></li><li class='xr-var-item'><div class='xr-var-name'><span>cam_out_PRECSC</span></div><div class='xr-var-dims'>(time, ncol)</div><div class='xr-var-dtype'>float64</div><div class='xr-var-preview xr-preview'>...</div><input id='attrs-add807cb-28f0-4d13-a1cf-7bd2ab957caa' class='xr-var-attrs-in' type='checkbox' disabled><label for='attrs-add807cb-28f0-4d13-a1cf-7bd2ab957caa' title='Show/Hide attributes'><svg class='icon xr-icon-file-text2'><use xlink:href='#icon-file-text2'></use></svg></label><input id='data-38b3263f-05fb-4d35-a462-1ba8896d2590' class='xr-var-data-in' type='checkbox'><label for='data-38b3263f-05fb-4d35-a462-1ba8896d2590' title='Show/Hide data repr'><svg class='icon xr-icon-database'><use xlink:href='#icon-database'></use></svg></label><div class='xr-var-attrs'><dl class='xr-attrs'></dl></div><div class='xr-var-data'><pre>[110592 values with dtype=float64]</pre></div></li><li class='xr-var-item'><div class='xr-var-name'><span>cam_out_SOLL</span></div><div class='xr-var-dims'>(time, ncol)</div><div class='xr-var-dtype'>float64</div><div class='xr-var-preview xr-preview'>...</div><input id='attrs-c255c87c-ebac-4c78-b6a7-e6795ee4735b' class='xr-var-attrs-in' type='checkbox' disabled><label for='attrs-c255c87c-ebac-4c78-b6a7-e6795ee4735b' title='Show/Hide attributes'><svg class='icon xr-icon-file-text2'><use xlink:href='#icon-file-text2'></use></svg></label><input id='data-2cb14397-74e3-4d66-97b4-931e87d5ead1' class='xr-var-data-in' type='checkbox'><label for='data-2cb14397-74e3-4d66-97b4-931e87d5ead1' title='Show/Hide data repr'><svg class='icon xr-icon-database'><use xlink:href='#icon-database'></use></svg></label><div class='xr-var-attrs'><dl class='xr-attrs'></dl></div><div class='xr-var-data'><pre>[110592 values with dtype=float64]</pre></div></li><li class='xr-var-item'><div class='xr-var-name'><span>cam_out_SOLLD</span></div><div class='xr-var-dims'>(time, ncol)</div><div class='xr-var-dtype'>float64</div><div class='xr-var-preview xr-preview'>...</div><input id='attrs-d1558883-639b-42a4-a940-9e694d7e351d' class='xr-var-attrs-in' type='checkbox' disabled><label for='attrs-d1558883-639b-42a4-a940-9e694d7e351d' title='Show/Hide attributes'><svg class='icon xr-icon-file-text2'><use xlink:href='#icon-file-text2'></use></svg></label><input id='data-7a42a1b4-546b-4acb-a9d7-6d15d7eabe3f' class='xr-var-data-in' type='checkbox'><label for='data-7a42a1b4-546b-4acb-a9d7-6d15d7eabe3f' title='Show/Hide data repr'><svg class='icon xr-icon-database'><use xlink:href='#icon-database'></use></svg></label><div class='xr-var-attrs'><dl class='xr-attrs'></dl></div><div class='xr-var-data'><pre>[110592 values with dtype=float64]</pre></div></li><li class='xr-var-item'><div class='xr-var-name'><span>cam_out_SOLS</span></div><div class='xr-var-dims'>(time, ncol)</div><div class='xr-var-dtype'>float64</div><div class='xr-var-preview xr-preview'>...</div><input id='attrs-5e3ef02a-9802-4cd2-b060-5a2799463ee0' class='xr-var-attrs-in' type='checkbox' disabled><label for='attrs-5e3ef02a-9802-4cd2-b060-5a2799463ee0' title='Show/Hide attributes'><svg class='icon xr-icon-file-text2'><use xlink:href='#icon-file-text2'></use></svg></label><input id='data-a70726fd-0af3-4c24-8d5c-6404e5bd5475' class='xr-var-data-in' type='checkbox'><label for='data-a70726fd-0af3-4c24-8d5c-6404e5bd5475' title='Show/Hide data repr'><svg class='icon xr-icon-database'><use xlink:href='#icon-database'></use></svg></label><div class='xr-var-attrs'><dl class='xr-attrs'></dl></div><div class='xr-var-data'><pre>[110592 values with dtype=float64]</pre></div></li><li class='xr-var-item'><div class='xr-var-name'><span>cam_out_SOLSD</span></div><div class='xr-var-dims'>(time, ncol)</div><div class='xr-var-dtype'>float64</div><div class='xr-var-preview xr-preview'>...</div><input id='attrs-0bb86c96-ca11-4c72-8de6-f62f0c01a3bc' class='xr-var-attrs-in' type='checkbox' disabled><label for='attrs-0bb86c96-ca11-4c72-8de6-f62f0c01a3bc' title='Show/Hide attributes'><svg class='icon xr-icon-file-text2'><use xlink:href='#icon-file-text2'></use></svg></label><input id='data-07a3ea2c-cc78-4627-8329-4dc837a69886' class='xr-var-data-in' type='checkbox'><label for='data-07a3ea2c-cc78-4627-8329-4dc837a69886' title='Show/Hide data repr'><svg class='icon xr-icon-database'><use xlink:href='#icon-database'></use></svg></label><div class='xr-var-attrs'><dl class='xr-attrs'></dl></div><div class='xr-var-data'><pre>[110592 values with dtype=float64]</pre></div></li><li class='xr-var-item'><div class='xr-var-name'><span>state_q0001</span></div><div class='xr-var-dims'>(time, lev, ncol)</div><div class='xr-var-dtype'>float64</div><div class='xr-var-preview xr-preview'>...</div><input id='attrs-ab47ef82-d5a5-4c51-8c93-1815e3a2cc46' class='xr-var-attrs-in' type='checkbox' disabled><label for='attrs-ab47ef82-d5a5-4c51-8c93-1815e3a2cc46' title='Show/Hide attributes'><svg class='icon xr-icon-file-text2'><use xlink:href='#icon-file-text2'></use></svg></label><input id='data-a92e1b62-0af5-4cf7-b47b-101ab8d501a0' class='xr-var-data-in' type='checkbox'><label for='data-a92e1b62-0af5-4cf7-b47b-101ab8d501a0' title='Show/Hide data repr'><svg class='icon xr-icon-database'><use xlink:href='#icon-database'></use></svg></label><div class='xr-var-attrs'><dl class='xr-attrs'></dl></div><div class='xr-var-data'><pre>[6635520 values with dtype=float64]</pre></div></li><li class='xr-var-item'><div class='xr-var-name'><span>state_q0002</span></div><div class='xr-var-dims'>(time, lev, ncol)</div><div class='xr-var-dtype'>float64</div><div class='xr-var-preview xr-preview'>...</div><input id='attrs-c28dbddf-dfaa-4b00-9a30-45a77cd0c6d6' class='xr-var-attrs-in' type='checkbox' disabled><label for='attrs-c28dbddf-dfaa-4b00-9a30-45a77cd0c6d6' title='Show/Hide attributes'><svg class='icon xr-icon-file-text2'><use xlink:href='#icon-file-text2'></use></svg></label><input id='data-7bd40555-9505-4aba-a12f-98cdd91a3dba' class='xr-var-data-in' type='checkbox'><label for='data-7bd40555-9505-4aba-a12f-98cdd91a3dba' title='Show/Hide data repr'><svg class='icon xr-icon-database'><use xlink:href='#icon-database'></use></svg></label><div class='xr-var-attrs'><dl class='xr-attrs'></dl></div><div class='xr-var-data'><pre>[6635520 values with dtype=float64]</pre></div></li><li class='xr-var-item'><div class='xr-var-name'><span>state_q0003</span></div><div class='xr-var-dims'>(time, lev, ncol)</div><div class='xr-var-dtype'>float64</div><div class='xr-var-preview xr-preview'>...</div><input id='attrs-eff8eee0-d9e0-4e36-8550-be8b33360461' class='xr-var-attrs-in' type='checkbox' disabled><label for='attrs-eff8eee0-d9e0-4e36-8550-be8b33360461' title='Show/Hide attributes'><svg class='icon xr-icon-file-text2'><use xlink:href='#icon-file-text2'></use></svg></label><input id='data-33bffc32-3ebb-4ac0-978d-f423f3401d8b' class='xr-var-data-in' type='checkbox'><label for='data-33bffc32-3ebb-4ac0-978d-f423f3401d8b' title='Show/Hide data repr'><svg class='icon xr-icon-database'><use xlink:href='#icon-database'></use></svg></label><div class='xr-var-attrs'><dl class='xr-attrs'></dl></div><div class='xr-var-data'><pre>[6635520 values with dtype=float64]</pre></div></li><li class='xr-var-item'><div class='xr-var-name'><span>state_t</span></div><div class='xr-var-dims'>(time, lev, ncol)</div><div class='xr-var-dtype'>float64</div><div class='xr-var-preview xr-preview'>...</div><input id='attrs-fcda1b36-aeaa-41dd-9f4f-4e4d3e1e7f76' class='xr-var-attrs-in' type='checkbox' disabled><label for='attrs-fcda1b36-aeaa-41dd-9f4f-4e4d3e1e7f76' title='Show/Hide attributes'><svg class='icon xr-icon-file-text2'><use xlink:href='#icon-file-text2'></use></svg></label><input id='data-e455f1fb-8c71-459c-93ed-e10612fa3dda' class='xr-var-data-in' type='checkbox'><label for='data-e455f1fb-8c71-459c-93ed-e10612fa3dda' title='Show/Hide data repr'><svg class='icon xr-icon-database'><use xlink:href='#icon-database'></use></svg></label><div class='xr-var-attrs'><dl class='xr-attrs'></dl></div><div class='xr-var-data'><pre>[6635520 values with dtype=float64]</pre></div></li><li class='xr-var-item'><div class='xr-var-name'><span>state_u</span></div><div class='xr-var-dims'>(time, lev, ncol)</div><div class='xr-var-dtype'>float64</div><div class='xr-var-preview xr-preview'>...</div><input id='attrs-08e00c97-aeb9-4cae-ab17-f9016c3797c7' class='xr-var-attrs-in' type='checkbox' disabled><label for='attrs-08e00c97-aeb9-4cae-ab17-f9016c3797c7' title='Show/Hide attributes'><svg class='icon xr-icon-file-text2'><use xlink:href='#icon-file-text2'></use></svg></label><input id='data-3e1375c2-b26d-439a-b140-a498f31db8e7' class='xr-var-data-in' type='checkbox'><label for='data-3e1375c2-b26d-439a-b140-a498f31db8e7' title='Show/Hide data repr'><svg class='icon xr-icon-database'><use xlink:href='#icon-database'></use></svg></label><div class='xr-var-attrs'><dl class='xr-attrs'></dl></div><div class='xr-var-data'><pre>[6635520 values with dtype=float64]</pre></div></li><li class='xr-var-item'><div class='xr-var-name'><span>state_v</span></div><div class='xr-var-dims'>(time, lev, ncol)</div><div class='xr-var-dtype'>float64</div><div class='xr-var-preview xr-preview'>...</div><input id='attrs-f3c3b935-1672-466e-9328-54e3cb202557' class='xr-var-attrs-in' type='checkbox' disabled><label for='attrs-f3c3b935-1672-466e-9328-54e3cb202557' title='Show/Hide attributes'><svg class='icon xr-icon-file-text2'><use xlink:href='#icon-file-text2'></use></svg></label><input id='data-f3a055af-bac9-4b4f-b137-9906e76c9a50' class='xr-var-data-in' type='checkbox'><label for='data-f3a055af-bac9-4b4f-b137-9906e76c9a50' title='Show/Hide data repr'><svg class='icon xr-icon-database'><use xlink:href='#icon-database'></use></svg></label><div class='xr-var-attrs'><dl class='xr-attrs'></dl></div><div class='xr-var-data'><pre>[6635520 values with dtype=float64]</pre></div></li></ul></div></li><li class='xr-section-item'><input id='section-c9087c4e-14f5-45d8-b3fc-05ef3402f89a' class='xr-section-summary-in' type='checkbox'  ><label for='section-c9087c4e-14f5-45d8-b3fc-05ef3402f89a' class='xr-section-summary' >Indexes: <span>(1)</span></label><div class='xr-section-inline-details'></div><div class='xr-section-details'><ul class='xr-var-list'><li class='xr-var-item'><div class='xr-index-name'><div>time</div></div><div class='xr-index-preview'>PandasIndex</div><div></div><input id='index-d4be046c-9263-44d2-83f0-3caf9c86bb7b' class='xr-index-data-in' type='checkbox'/><label for='index-d4be046c-9263-44d2-83f0-3caf9c86bb7b' title='Show/Hide index repr'><svg class='icon xr-icon-database'><use xlink:href='#icon-database'></use></svg></label><div class='xr-index-data'><pre>PandasIndex(DatetimeIndex([&#x27;2008-02-01 00:00:00&#x27;, &#x27;2008-02-01 02:20:00&#x27;,\n",
       "               &#x27;2008-02-01 04:40:00&#x27;, &#x27;2008-02-01 07:00:00&#x27;,\n",
       "               &#x27;2008-02-01 09:20:00&#x27;, &#x27;2008-02-01 11:40:00&#x27;,\n",
       "               &#x27;2008-02-01 14:00:00&#x27;, &#x27;2008-02-01 16:20:00&#x27;,\n",
       "               &#x27;2008-02-01 18:40:00&#x27;, &#x27;2008-02-01 21:00:00&#x27;,\n",
       "               ...\n",
       "               &#x27;2008-02-28 00:40:00&#x27;, &#x27;2008-02-28 03:00:00&#x27;,\n",
       "               &#x27;2008-02-28 05:20:00&#x27;, &#x27;2008-02-28 07:40:00&#x27;,\n",
       "               &#x27;2008-02-28 10:00:00&#x27;, &#x27;2008-02-28 12:20:00&#x27;,\n",
       "               &#x27;2008-02-28 14:40:00&#x27;, &#x27;2008-02-28 17:00:00&#x27;,\n",
       "               &#x27;2008-02-28 19:20:00&#x27;, &#x27;2008-02-28 21:40:00&#x27;],\n",
       "              dtype=&#x27;datetime64[ns]&#x27;, name=&#x27;time&#x27;, length=288, freq=None))</pre></div></li></ul></div></li><li class='xr-section-item'><input id='section-abdb443e-47fd-418c-8708-b1272e6f9030' class='xr-section-summary-in' type='checkbox'  checked><label for='section-abdb443e-47fd-418c-8708-b1272e6f9030' class='xr-section-summary' >Attributes: <span>(3)</span></label><div class='xr-section-inline-details'></div><div class='xr-section-details'><dl class='xr-attrs'><dt><span>ne :</span></dt><dd>4</dd><dt><span>fv_nphys :</span></dt><dd>2</dd><dt><span>calendar :</span></dt><dd>NO_LEAP</dd></dl></div></li></ul></div></div>"
      ],
      "text/plain": [
       "<xarray.Dataset>\n",
       "Dimensions:         (time: 288, ncol: 384, lev: 60)\n",
       "Coordinates:\n",
       "  * time            (time) datetime64[ns] 2008-02-01 ... 2008-02-28T21:40:00\n",
       "Dimensions without coordinates: ncol, lev\n",
       "Data variables: (12/16)\n",
       "    ymd             (time) int32 ...\n",
       "    tod             (time) int32 0 8400 16800 25200 ... 52800 61200 69600 78000\n",
       "    cam_out_FLWDS   (time, ncol) float64 ...\n",
       "    cam_out_NETSW   (time, ncol) float64 ...\n",
       "    cam_out_PRECC   (time, ncol) float64 ...\n",
       "    cam_out_PRECSC  (time, ncol) float64 ...\n",
       "    ...              ...\n",
       "    state_q0001     (time, lev, ncol) float64 ...\n",
       "    state_q0002     (time, lev, ncol) float64 ...\n",
       "    state_q0003     (time, lev, ncol) float64 ...\n",
       "    state_t         (time, lev, ncol) float64 ...\n",
       "    state_u         (time, lev, ncol) float64 ...\n",
       "    state_v         (time, lev, ncol) float64 ...\n",
       "Attributes:\n",
       "    ne:        4\n",
       "    fv_nphys:  2\n",
       "    calendar:  NO_LEAP"
      ]
     },
     "execution_count": 7,
     "metadata": {},
     "output_type": "execute_result"
    }
   ],
   "source": [
    "mlo"
   ]
  },
  {
   "cell_type": "code",
   "execution_count": 8,
   "id": "11ee74af-d642-44ec-a278-855fa5a959a8",
   "metadata": {
    "execution": {
     "iopub.execute_input": "2024-02-25T23:46:56.433655Z",
     "iopub.status.busy": "2024-02-25T23:46:56.433655Z",
     "iopub.status.idle": "2024-02-25T23:47:10.624655Z",
     "shell.execute_reply": "2024-02-25T23:47:10.623655Z",
     "shell.execute_reply.started": "2024-02-25T23:46:56.433655Z"
    }
   },
   "outputs": [],
   "source": [
    "# in/out variable lists (6:10)\n",
    "vars_mli = ['state_t','state_q0001','state_ps','pbuf_SOLIN', 'pbuf_LHFLX', 'pbuf_SHFLX']\n",
    "vars_mlo = ['ptend_t','ptend_q0001','cam_out_NETSW','cam_out_FLWDS','cam_out_PRECSC','cam_out_PRECC','cam_out_SOLS','cam_out_SOLL','cam_out_SOLSD','cam_out_SOLLD']\n",
    "\n",
    "# nc to numpy to tensor, then reshape\n",
    "input_list = []\n",
    "output_list = []\n",
    "\n",
    "for i in range(len(vars_mli)):\n",
    "    if i < 2:\n",
    "        temp=torch.Tensor(mli[vars_mli[i]].to_numpy())\n",
    "        new_var=temp.reshape(temp.shape[0] * temp.shape[2], temp.shape[1])\n",
    "        input_list.append(new_var)\n",
    "    else:\n",
    "        temp=torch.Tensor(mli[vars_mli[i]].to_numpy())\n",
    "        new_var=temp.reshape(temp.shape[0] * temp.shape[1], 1)\n",
    "        input_list.append(new_var)\n",
    "\n",
    "# calculate heating and moistening tendency.\n",
    "ptend_t = (mlo['state_t'] - mli['state_t']) / 1200\n",
    "ptend_q0001 = (mlo['state_q0001'] - mli['state_q0001']) / 1200\n",
    "# add to output list\n",
    "output_list.extend([ptend_t,ptend_q0001])\n",
    "\n",
    "for i in range(len(vars_mlo)):\n",
    "    if i < 2:\n",
    "        temp=torch.Tensor(output_list[i].to_numpy())\n",
    "        new_var=temp.reshape(temp.shape[0] * temp.shape[2], temp.shape[1])\n",
    "        output_list[i] = new_var\n",
    "    if i >= 2:\n",
    "        temp=torch.Tensor(mlo[vars_mlo[i]].to_numpy())\n",
    "        new_var=temp.reshape(temp.shape[0] * temp.shape[1], 1)\n",
    "        output_list.append(new_var)"
   ]
  },
  {
   "cell_type": "code",
   "execution_count": 9,
   "id": "9eb62779-28f5-4ba0-a2d9-bf488659c013",
   "metadata": {
    "execution": {
     "iopub.execute_input": "2024-02-25T23:47:11.918911Z",
     "iopub.status.busy": "2024-02-25T23:47:11.917912Z",
     "iopub.status.idle": "2024-02-25T23:47:12.016911Z",
     "shell.execute_reply": "2024-02-25T23:47:12.016911Z",
     "shell.execute_reply.started": "2024-02-25T23:47:11.918911Z"
    }
   },
   "outputs": [],
   "source": [
    "# calc normalization\n",
    "\n",
    "for i in range(len(input_list)):\n",
    "    if i < 2:\n",
    "        input_list[i] = (input_list[i] - input_list[i].mean(dim=0)) / (input_list[i].max(dim=0)[0] - input_list[i].min(dim=0)[0])  \n",
    "    else:\n",
    "        input_list[i] = (input_list[i] - input_list[i].mean()) / (input_list[i].max() - input_list[i].min())  \n",
    "\n",
    "## no normalization for y\n",
    "# for i in range(len(output_list)):\n",
    "#     if i < 2:\n",
    "#         output_list[i] = (output_list[i] - output_list[i].mean(dim=0)) / (output_list[i].max(dim=0)[0] - output_list[i].min(dim=0)[0])  \n",
    "#     else:\n",
    "#         output_list[i] = (output_list[i] - output_list[i].mean()) / (output_list[i].max() - output_list[i].min())  \n"
   ]
  },
  {
   "cell_type": "code",
   "execution_count": 10,
   "id": "1cdd7f35-1368-4a3c-9215-1bc1141b506f",
   "metadata": {
    "execution": {
     "iopub.execute_input": "2024-02-25T23:47:12.018912Z",
     "iopub.status.busy": "2024-02-25T23:47:12.017911Z",
     "iopub.status.idle": "2024-02-25T23:47:12.063957Z",
     "shell.execute_reply": "2024-02-25T23:47:12.062952Z",
     "shell.execute_reply.started": "2024-02-25T23:47:12.018912Z"
    }
   },
   "outputs": [
    {
     "name": "stdout",
     "output_type": "stream",
     "text": [
      "torch.Size([110592, 124]) torch.Size([110592, 128])\n"
     ]
    }
   ],
   "source": [
    "# concat\n",
    "input = torch.cat((input_list[0],input_list[1],input_list[2],input_list[3],input_list[4],input_list[5]), dim=1)\n",
    "output = torch.cat((output_list[0],output_list[1],output_list[2],output_list[3],output_list[4],output_list[5],output_list[6],output_list[7],output_list[8],output_list[9]), dim=1)\n",
    "\n",
    "print(input.shape,output.shape)\n",
    "# unsample data: 774144 = 28 * 72 * 384"
   ]
  },
  {
   "cell_type": "markdown",
   "id": "1d487b12-e4f6-474e-aade-09b2d3753029",
   "metadata": {},
   "source": [
    "# test input data with theirs (val:0008-02 to 0009-01)"
   ]
  },
  {
   "cell_type": "code",
   "execution_count": 11,
   "id": "b0bbca38-516c-4540-ad71-358d63a45c38",
   "metadata": {
    "execution": {
     "iopub.execute_input": "2024-02-25T22:09:10.000579Z",
     "iopub.status.busy": "2024-02-25T22:09:10.000579Z",
     "iopub.status.idle": "2024-02-25T22:09:10.234568Z",
     "shell.execute_reply": "2024-02-25T22:09:10.234568Z",
     "shell.execute_reply.started": "2024-02-25T22:09:10.000579Z"
    }
   },
   "outputs": [],
   "source": [
    "X=np.load('climsim_data/val_input.npy')"
   ]
  },
  {
   "cell_type": "code",
   "execution_count": 12,
   "id": "13fd84d0-3330-4f4e-8969-3c0d29a4f8d3",
   "metadata": {
    "execution": {
     "iopub.execute_input": "2024-02-25T22:09:10.236577Z",
     "iopub.status.busy": "2024-02-25T22:09:10.235576Z",
     "iopub.status.idle": "2024-02-25T22:09:10.251576Z",
     "shell.execute_reply": "2024-02-25T22:09:10.250575Z",
     "shell.execute_reply.started": "2024-02-25T22:09:10.235576Z"
    }
   },
   "outputs": [
    {
     "data": {
      "text/plain": [
       "array([-2.1913459e-03, -1.7944887e-02, -4.5234229e-02, -1.8812425e-02,\n",
       "        1.2241836e-03,  5.4736424e-02,  7.9991966e-02,  6.6402398e-02,\n",
       "        6.1990730e-02,  6.2253091e-02,  5.1185194e-02,  4.6816483e-02,\n",
       "        4.8013736e-02,  4.2244118e-02,  1.9963728e-02, -1.1743228e-02,\n",
       "       -1.6514115e-02, -3.1537268e-02, -7.3459931e-02, -8.7187998e-02,\n",
       "       -9.5602296e-02, -6.7409396e-02, -2.5630416e-02,  1.4921249e-02,\n",
       "        4.1257340e-02,  5.6141108e-02,  6.2658504e-02,  6.4611822e-02,\n",
       "        6.6882201e-02,  6.7682333e-02,  6.9309019e-02,  7.5467244e-02,\n",
       "        8.1024468e-02,  8.4922343e-02,  8.7200657e-02,  8.7108433e-02,\n",
       "        8.9283474e-02,  9.1625057e-02,  9.4715320e-02,  9.5724754e-02,\n",
       "        9.7043157e-02,  9.8063178e-02,  9.7116463e-02,  9.8507255e-02,\n",
       "        9.8593235e-02,  9.7905174e-02,  9.5312789e-02,  9.1622062e-02,\n",
       "        8.7270044e-02,  8.4584579e-02,  8.3577700e-02,  8.3638921e-02,\n",
       "        8.3342053e-02,  8.2297072e-02,  8.0700077e-02,  7.8771718e-02,\n",
       "        7.5981848e-02,  7.3352575e-02,  6.9022804e-02,  6.4707078e-02,\n",
       "        3.3672214e-01,  3.2874569e-01,  3.1960866e-01,  3.0868849e-01,\n",
       "        2.9163235e-01,  2.7642745e-01,  2.5445870e-01,  2.2797626e-01,\n",
       "        1.8212554e-01,  1.3042332e-01,  2.5901362e-02, -2.9179493e-02,\n",
       "        3.7853643e-02,  2.3989554e-02,  2.4458179e-03,  5.3384842e-04,\n",
       "        8.9451922e-03,  5.8164049e-02,  3.0278182e-02,  5.9754187e-03,\n",
       "        3.9874315e-03, -1.5989189e-03,  7.4654846e-03, -6.3409680e-04,\n",
       "        3.0957346e-03,  7.0639262e-03, -2.1029327e-03, -4.5005484e-03,\n",
       "       -1.9405346e-03, -3.1085180e-03, -5.0605014e-03, -1.3096047e-03,\n",
       "       -1.0433240e-02, -1.0909027e-02, -1.4341436e-02,  1.8285159e-03,\n",
       "       -4.0173903e-03,  1.0447657e-04,  6.4235250e-03,  2.1204596e-02,\n",
       "        3.3712905e-02,  3.9661575e-02,  4.2949710e-02,  4.4095214e-02,\n",
       "        5.1215895e-02,  5.7267368e-02,  6.8674378e-02,  9.0688892e-02,\n",
       "        1.2142843e-01,  1.4473808e-01,  1.5877807e-01,  1.6263393e-01,\n",
       "        1.6743723e-01,  1.6802353e-01,  1.6677719e-01,  1.6847360e-01,\n",
       "        1.6805115e-01,  1.9258523e-01,  2.1652752e-01,  2.4245039e-01,\n",
       "        6.5571800e-02, -2.4221587e-01, -5.4852698e-02, -2.6518755e-02],\n",
       "      dtype=float32)"
      ]
     },
     "execution_count": 12,
     "metadata": {},
     "output_type": "execute_result"
    }
   ],
   "source": [
    "X[0,:]"
   ]
  },
  {
   "cell_type": "code",
   "execution_count": 13,
   "id": "f1a642e1-d81f-4bc2-bc84-c525abc999d9",
   "metadata": {
    "execution": {
     "iopub.execute_input": "2024-02-25T22:09:10.252569Z",
     "iopub.status.busy": "2024-02-25T22:09:10.251576Z",
     "iopub.status.idle": "2024-02-25T22:09:10.282656Z",
     "shell.execute_reply": "2024-02-25T22:09:10.281726Z",
     "shell.execute_reply.started": "2024-02-25T22:09:10.252569Z"
    }
   },
   "outputs": [
    {
     "data": {
      "text/plain": [
       "tensor([-0.2637, -0.2625, -0.2419, -0.2554, -0.2591, -0.2390, -0.2602, -0.2596,\n",
       "        -0.2267, -0.2322, -0.2590, -0.2720, -0.2378, -0.2306, -0.2427, -0.2215,\n",
       "        -0.2075, -0.2185, -0.1864, -0.2060, -0.2334, -0.2482, -0.2200, -0.2220,\n",
       "        -0.2662, -0.2627, -0.2398, -0.2456, -0.2419, -0.2259, -0.2423, -0.2251,\n",
       "        -0.2161, -0.2480, -0.2164, -0.2353, -0.2450, -0.2291, -0.2508, -0.2391,\n",
       "        -0.2417, -0.2382, -0.2342, -0.2265, -0.2462, -0.2439, -0.2218, -0.2302,\n",
       "        -0.2311, -0.2326, -0.2213, -0.2099, -0.2349, -0.2349, -0.1971, -0.2088,\n",
       "        -0.2302, -0.2248, -0.2290, -0.2196, -0.1274, -0.1278, -0.1239, -0.1268,\n",
       "        -0.1302, -0.1290, -0.1259, -0.1240, -0.1234, -0.1218, -0.1197, -0.1169,\n",
       "        -0.1315, -0.1278, -0.1248, -0.1242, -0.1310, -0.1313, -0.1253, -0.1240,\n",
       "        -0.1284, -0.1274, -0.1219, -0.1222, -0.1319, -0.1277, -0.1314, -0.1335,\n",
       "        -0.1333, -0.1297, -0.1325, -0.1290, -0.1265, -0.1244, -0.1188, -0.1162,\n",
       "        -0.1283, -0.1270, -0.1240, -0.1251, -0.1301, -0.1294, -0.1265, -0.1242,\n",
       "        -0.1243, -0.1229, -0.1217, -0.1208, -0.1332, -0.1290, -0.1290, -0.1306,\n",
       "        -0.1328, -0.1308, -0.1311, -0.1285, -0.1299, -0.1270, -0.1214, -0.1194,\n",
       "         0.0817, -0.2493, -0.0927, -0.0315])"
      ]
     },
     "execution_count": 13,
     "metadata": {},
     "output_type": "execute_result"
    }
   ],
   "source": [
    "input[0,:]"
   ]
  },
  {
   "cell_type": "code",
   "execution_count": null,
   "id": "b91571e6-6214-4359-9aed-b8be2049cfcb",
   "metadata": {},
   "outputs": [],
   "source": []
  },
  {
   "cell_type": "code",
   "execution_count": null,
   "id": "fac37fc6-2b6f-464a-a7a6-34e21915faf1",
   "metadata": {},
   "outputs": [],
   "source": []
  },
  {
   "cell_type": "code",
   "execution_count": null,
   "id": "0beab4b5-7f64-4308-813a-8da3dfc30f0a",
   "metadata": {},
   "outputs": [],
   "source": []
  },
  {
   "cell_type": "markdown",
   "id": "c8326720-e360-4a40-aa5a-2c27de426384",
   "metadata": {
    "jp-MarkdownHeadingCollapsed": true
   },
   "source": [
    "# .npy data: NN\n",
    "## to test an ML model, using the prepared train_input and train_target datasets is an easier way, I choose val instead due to the size of data."
   ]
  },
  {
   "cell_type": "code",
   "execution_count": 14,
   "id": "6189b77a-7235-4430-89ef-a892a6bef8d5",
   "metadata": {
    "execution": {
     "iopub.execute_input": "2024-02-25T22:09:10.283656Z",
     "iopub.status.busy": "2024-02-25T22:09:10.283656Z",
     "iopub.status.idle": "2024-02-25T22:09:10.723654Z",
     "shell.execute_reply": "2024-02-25T22:09:10.722662Z",
     "shell.execute_reply.started": "2024-02-25T22:09:10.283656Z"
    }
   },
   "outputs": [],
   "source": [
    "X=np.load('climsim_data/val_input.npy')\n",
    "y=np.load('climsim_data/val_target.npy')\n",
    "\n",
    "X = torch.from_numpy(X).type(torch.float)\n",
    "y = torch.from_numpy(y).type(torch.float)"
   ]
  },
  {
   "cell_type": "code",
   "execution_count": 15,
   "id": "f3fe9595-a641-4014-a644-218c0b56246f",
   "metadata": {
    "execution": {
     "iopub.execute_input": "2024-02-25T22:09:10.723654Z",
     "iopub.status.busy": "2024-02-25T22:09:10.723654Z",
     "iopub.status.idle": "2024-02-25T22:09:10.739655Z",
     "shell.execute_reply": "2024-02-25T22:09:10.738665Z",
     "shell.execute_reply.started": "2024-02-25T22:09:10.723654Z"
    }
   },
   "outputs": [
    {
     "data": {
      "text/plain": [
       "torch.Size([1441920, 124])"
      ]
     },
     "execution_count": 15,
     "metadata": {},
     "output_type": "execute_result"
    }
   ],
   "source": [
    "X.shape\n",
    "# 365 * 72 * 384 / 7 = 1441645.7"
   ]
  },
  {
   "cell_type": "code",
   "execution_count": 16,
   "id": "d60a06a6-de70-4b5b-944a-58cde0b36644",
   "metadata": {
    "execution": {
     "iopub.execute_input": "2024-02-25T22:09:10.740656Z",
     "iopub.status.busy": "2024-02-25T22:09:10.739655Z",
     "iopub.status.idle": "2024-02-25T22:09:11.215655Z",
     "shell.execute_reply": "2024-02-25T22:09:11.214656Z",
     "shell.execute_reply.started": "2024-02-25T22:09:10.740656Z"
    }
   },
   "outputs": [],
   "source": [
    "LEARNING_RATE = 0.01\n",
    "IN_FEATURES = 124\n",
    "OUT_FEATURES = 128\n",
    "RANDOM_SEED = 42\n",
    "\n",
    "X_train, X_test, y_train, y_test = train_test_split(X,\n",
    "    y,\n",
    "    test_size=0.2,\n",
    "    random_state=RANDOM_SEED\n",
    ")"
   ]
  },
  {
   "cell_type": "code",
   "execution_count": 17,
   "id": "8d0d6fac-4591-4bef-a5e4-3f1dc6f3b4b1",
   "metadata": {
    "execution": {
     "iopub.execute_input": "2024-02-25T22:09:11.216657Z",
     "iopub.status.busy": "2024-02-25T22:09:11.215655Z",
     "iopub.status.idle": "2024-02-25T22:09:11.231656Z",
     "shell.execute_reply": "2024-02-25T22:09:11.230664Z",
     "shell.execute_reply.started": "2024-02-25T22:09:11.216657Z"
    }
   },
   "outputs": [
    {
     "data": {
      "text/plain": [
       "torch.Size([1153536, 128])"
      ]
     },
     "execution_count": 17,
     "metadata": {},
     "output_type": "execute_result"
    }
   ],
   "source": [
    "y_train.shape"
   ]
  },
  {
   "cell_type": "code",
   "execution_count": 18,
   "id": "cdf3ed94-4198-4ab1-a672-f2393f4f48b1",
   "metadata": {
    "execution": {
     "iopub.execute_input": "2024-02-25T22:09:11.232657Z",
     "iopub.status.busy": "2024-02-25T22:09:11.232657Z",
     "iopub.status.idle": "2024-02-25T22:09:11.516693Z",
     "shell.execute_reply": "2024-02-25T22:09:11.515715Z",
     "shell.execute_reply.started": "2024-02-25T22:09:11.232657Z"
    }
   },
   "outputs": [],
   "source": [
    "class FCNN(nn.Module):\n",
    "    def __init__(self, IN_FEATURES, hidden_dim, OUT_FEATURES):\n",
    "        super().__init__()\n",
    "        self.linear1 = nn.Linear(IN_FEATURES, hidden_dim)\n",
    "        self.relu = nn.ReLU()\n",
    "        self.linear2 = nn.Linear(hidden_dim, OUT_FEATURES)\n",
    "    def forward(self,x):\n",
    "        return self.linear2(self.relu(self.linear1(x)))\n",
    "        \n",
    "model = FCNN(IN_FEATURES,64,OUT_FEATURES)\n",
    "loss_fn = nn.MSELoss()\n",
    "optimizer = torch.optim.Adam(model.parameters(),lr=LEARNING_RATE)"
   ]
  },
  {
   "cell_type": "code",
   "execution_count": 19,
   "id": "a573e096-533b-47f3-b64a-9d4b3069491e",
   "metadata": {
    "execution": {
     "iopub.execute_input": "2024-02-25T22:09:11.517656Z",
     "iopub.status.busy": "2024-02-25T22:09:11.516693Z",
     "iopub.status.idle": "2024-02-25T22:15:20.228154Z",
     "shell.execute_reply": "2024-02-25T22:15:20.227164Z",
     "shell.execute_reply.started": "2024-02-25T22:09:11.517656Z"
    }
   },
   "outputs": [
    {
     "name": "stdout",
     "output_type": "stream",
     "text": [
      "Epoch: 0 | Train loss: 0.049921225756406784 | Test loss: 0.04235820099711418\n",
      "Epoch: 50 | Train loss: 0.005977715365588665 | Test loss: 0.005957366432994604\n",
      "Epoch: 100 | Train loss: 0.005493566859513521 | Test loss: 0.005514870397746563\n",
      "Epoch: 150 | Train loss: 0.005315355956554413 | Test loss: 0.005321037489920855\n",
      "Epoch: 200 | Train loss: 0.005206403788179159 | Test loss: 0.005214393138885498\n",
      "Epoch: 250 | Train loss: 0.0051278346218168736 | Test loss: 0.005135661456733942\n"
     ]
    }
   ],
   "source": [
    "torch.manual_seed(42)\n",
    "epochs = 300\n",
    "\n",
    "for epoch in range(epochs):\n",
    "\n",
    "    model.train()\n",
    "    y_pred = model(X_train)\n",
    "    loss = loss_fn(y_pred, y_train)\n",
    "    optimizer.zero_grad()\n",
    "    loss.backward()\n",
    "    optimizer.step()\n",
    "\n",
    "    model.eval()\n",
    "    with torch.inference_mode():\n",
    "        test_pred = model(X_test)\n",
    "        test_loss = loss_fn(test_pred, y_test)\n",
    "\n",
    "    if epoch % 50 == 0:\n",
    "        print(f\"Epoch: {epoch} | Train loss: {loss} | Test loss: {test_loss}\")"
   ]
  },
  {
   "cell_type": "code",
   "execution_count": 20,
   "id": "8074e14e-10eb-4ce8-be27-527cbe47eceb",
   "metadata": {
    "execution": {
     "iopub.execute_input": "2024-02-25T22:15:20.229155Z",
     "iopub.status.busy": "2024-02-25T22:15:20.229155Z",
     "iopub.status.idle": "2024-02-25T22:15:20.387156Z",
     "shell.execute_reply": "2024-02-25T22:15:20.387156Z",
     "shell.execute_reply.started": "2024-02-25T22:15:20.229155Z"
    }
   },
   "outputs": [
    {
     "data": {
      "text/plain": [
       "[<matplotlib.lines.Line2D at 0x1db69e0f850>]"
      ]
     },
     "execution_count": 20,
     "metadata": {},
     "output_type": "execute_result"
    },
    {
     "data": {
      "image/png": "[encoded data removed]",
      "text/plain": [
       "<Figure size 640x480 with 1 Axes>"
      ]
     },
     "metadata": {},
     "output_type": "display_data"
    }
   ],
   "source": [
    "plt.plot(test_pred[0,:])\n",
    "plt.plot(y_test[0,:])"
   ]
  },
  {
   "cell_type": "code",
   "execution_count": 21,
   "id": "422072d1-b085-4590-a176-490edcb80ca3",
   "metadata": {
    "execution": {
     "iopub.execute_input": "2024-02-25T22:15:20.388155Z",
     "iopub.status.busy": "2024-02-25T22:15:20.388155Z",
     "iopub.status.idle": "2024-02-25T22:15:20.564154Z",
     "shell.execute_reply": "2024-02-25T22:15:20.563162Z",
     "shell.execute_reply.started": "2024-02-25T22:15:20.388155Z"
    }
   },
   "outputs": [
    {
     "data": {
      "text/plain": [
       "[<matplotlib.lines.Line2D at 0x1db69efe7c0>]"
      ]
     },
     "execution_count": 21,
     "metadata": {},
     "output_type": "execute_result"
    },
    {
     "data": {
      "image/png": "[encoded data removed]",
      "text/plain": [
       "<Figure size 640x480 with 1 Axes>"
      ]
     },
     "metadata": {},
     "output_type": "display_data"
    }
   ],
   "source": [
    "# Figure 2 in paper: error for different variables example: heating tendency\n",
    "\n",
    "y_test = y_test.detach().numpy()\n",
    "test_pred = test_pred.detach().numpy()\n",
    "\n",
    "test_ptend_t = y_test[:,:60]\n",
    "pred_ptend_t = test_pred[:,:60]\n",
    "\n",
    "plt.plot(np.mean(np.abs(test_ptend_t - pred_ptend_t), axis=0))\n"
   ]
  },
  {
   "cell_type": "code",
   "execution_count": null,
   "id": "2ef91724-eb1f-4e4d-a83e-d482fd2d747a",
   "metadata": {},
   "outputs": [],
   "source": []
  },
  {
   "cell_type": "code",
   "execution_count": null,
   "id": "6d974fe8-c0b6-4528-959f-52ba41f2a43e",
   "metadata": {},
   "outputs": [],
   "source": []
  },
  {
   "cell_type": "markdown",
   "id": "0c98c407-f489-48f4-9988-8eeff36cc2ff",
   "metadata": {
    "execution": {
     "iopub.execute_input": "2024-02-25T01:02:20.404751Z",
     "iopub.status.busy": "2024-02-25T01:02:20.403753Z",
     "iopub.status.idle": "2024-02-25T01:02:20.422751Z",
     "shell.execute_reply": "2024-02-25T01:02:20.421755Z",
     "shell.execute_reply.started": "2024-02-25T01:02:20.404751Z"
    }
   },
   "source": [
    "# .npy data Transformer"
   ]
  },
  {
   "cell_type": "code",
   "execution_count": 2,
   "id": "2b64e37c-002d-4b1b-97d8-d4f39d360ca1",
   "metadata": {
    "execution": {
     "iopub.execute_input": "2024-02-25T22:17:31.207826Z",
     "iopub.status.busy": "2024-02-25T22:17:31.206814Z",
     "iopub.status.idle": "2024-02-25T22:17:31.656811Z",
     "shell.execute_reply": "2024-02-25T22:17:31.656811Z",
     "shell.execute_reply.started": "2024-02-25T22:17:31.207826Z"
    }
   },
   "outputs": [],
   "source": [
    "X=np.load('climsim_data/val_input.npy')\n",
    "y=np.load('climsim_data/val_target.npy')\n",
    "\n",
    "X = torch.from_numpy(X).type(torch.float)\n",
    "y = torch.from_numpy(y).type(torch.float)"
   ]
  },
  {
   "cell_type": "code",
   "execution_count": 3,
   "id": "75bb596b-3d44-4819-9e94-0b36c311371e",
   "metadata": {
    "execution": {
     "iopub.execute_input": "2024-02-25T22:17:32.360394Z",
     "iopub.status.busy": "2024-02-25T22:17:32.360394Z",
     "iopub.status.idle": "2024-02-25T22:17:32.841381Z",
     "shell.execute_reply": "2024-02-25T22:17:32.840380Z",
     "shell.execute_reply.started": "2024-02-25T22:17:32.360394Z"
    }
   },
   "outputs": [],
   "source": [
    "LEARNING_RATE = 0.01\n",
    "IN_FEATURES = 124\n",
    "OUT_FEATURES = 128\n",
    "RANDOM_SEED = 42\n",
    "\n",
    "X_train, X_test, y_train, y_test = train_test_split(X,y,test_size=0.2,random_state=RANDOM_SEED)"
   ]
  },
  {
   "cell_type": "code",
   "execution_count": 4,
   "id": "255b1ee2-bf5b-4728-845b-8905c45d5cfb",
   "metadata": {
    "execution": {
     "iopub.execute_input": "2024-02-25T22:17:33.010379Z",
     "iopub.status.busy": "2024-02-25T22:17:33.010379Z",
     "iopub.status.idle": "2024-02-25T22:17:33.030382Z",
     "shell.execute_reply": "2024-02-25T22:17:33.029381Z",
     "shell.execute_reply.started": "2024-02-25T22:17:33.010379Z"
    }
   },
   "outputs": [],
   "source": [
    "# Setup data loaders for batch\n",
    "train_dataset = TensorDataset(X_train, y_train)\n",
    "train_loader = DataLoader(train_dataset, batch_size=32, shuffle=True)\n",
    "\n",
    "test_dataset = TensorDataset(X_test, y_test)\n",
    "test_loader = DataLoader(test_dataset, batch_size=32, shuffle=False)"
   ]
  },
  {
   "cell_type": "code",
   "execution_count": 5,
   "id": "fb4c1b51-5229-4b41-9b26-96abb37252b0",
   "metadata": {
    "execution": {
     "iopub.execute_input": "2024-02-25T22:17:33.220383Z",
     "iopub.status.busy": "2024-02-25T22:17:33.220383Z",
     "iopub.status.idle": "2024-02-25T22:17:33.229387Z",
     "shell.execute_reply": "2024-02-25T22:17:33.229387Z",
     "shell.execute_reply.started": "2024-02-25T22:17:33.220383Z"
    }
   },
   "outputs": [],
   "source": [
    "# Positional Encoding for Transformer\n",
    "class PositionalEncoding(nn.Module):\n",
    "    def __init__(self, d_model, dropout=0.1, max_len=5000):\n",
    "        super(PositionalEncoding, self).__init__()\n",
    "        self.dropout = nn.Dropout(p=dropout)\n",
    "\n",
    "        pe = torch.zeros(max_len, d_model)\n",
    "        position = torch.arange(0, max_len, dtype=torch.float).unsqueeze(1)\n",
    "        div_term = torch.exp(torch.arange(0, d_model, 2).float() * (-np.log(10000.0) / d_model))\n",
    "        pe[:, 0::2] = torch.sin(position * div_term)\n",
    "        pe[:, 1::2] = torch.cos(position * div_term)\n",
    "        pe = pe.unsqueeze(0).transpose(0, 1)\n",
    "        self.register_buffer('pe', pe)\n",
    "\n",
    "    def forward(self, x):\n",
    "        x = x + self.pe[:x.size(0), :]\n",
    "        return self.dropout(x)"
   ]
  },
  {
   "cell_type": "code",
   "execution_count": 6,
   "id": "21a8b4f1-0c1e-431c-84cb-b8d692560303",
   "metadata": {
    "execution": {
     "iopub.execute_input": "2024-02-25T22:17:33.691391Z",
     "iopub.status.busy": "2024-02-25T22:17:33.691391Z",
     "iopub.status.idle": "2024-02-25T22:17:33.705379Z",
     "shell.execute_reply": "2024-02-25T22:17:33.705379Z",
     "shell.execute_reply.started": "2024-02-25T22:17:33.691391Z"
    }
   },
   "outputs": [
    {
     "name": "stderr",
     "output_type": "stream",
     "text": [
      "D:\\Anaconda3\\envs\\L96\\lib\\site-packages\\torch\\nn\\modules\\transformer.py:282: UserWarning: enable_nested_tensor is True, but self.use_nested_tensor is False because encoder_layer.self_attn.batch_first was not True(use batch_first for better inference performance)\n",
      "  warnings.warn(f\"enable_nested_tensor is True, but self.use_nested_tensor is False because {why_not_sparsity_fast_path}\")\n"
     ]
    }
   ],
   "source": [
    "# Model definition using Transformer\n",
    "class TransformerModel(nn.Module):\n",
    "    def __init__(self, input_dim=124, d_model=64, nhead=4, num_layers=2, dropout=0.2):\n",
    "        super(TransformerModel, self).__init__()\n",
    "\n",
    "        self.encoder = nn.Linear(input_dim, d_model)\n",
    "        self.pos_encoder = PositionalEncoding(d_model, dropout)\n",
    "        encoder_layers = nn.TransformerEncoderLayer(d_model, nhead)\n",
    "        self.transformer_encoder = nn.TransformerEncoder(encoder_layers, num_layers)\n",
    "        self.decoder = nn.Linear(d_model, 128)\n",
    "\n",
    "    def forward(self, x):\n",
    "        x = self.encoder(x)\n",
    "        x = self.pos_encoder(x)\n",
    "        x = self.transformer_encoder(x)\n",
    "        x = self.decoder(x[:, -1, :])\n",
    "        return x\n",
    "\n",
    "model = TransformerModel()"
   ]
  },
  {
   "cell_type": "code",
   "execution_count": 7,
   "id": "919e6669-bb5e-43fe-97ff-8c1da5c32106",
   "metadata": {
    "execution": {
     "iopub.execute_input": "2024-02-25T22:17:34.155316Z",
     "iopub.status.busy": "2024-02-25T22:17:34.155316Z",
     "iopub.status.idle": "2024-02-25T22:54:58.360293Z",
     "shell.execute_reply": "2024-02-25T22:54:58.359292Z",
     "shell.execute_reply.started": "2024-02-25T22:17:34.155316Z"
    }
   },
   "outputs": [
    {
     "name": "stdout",
     "output_type": "stream",
     "text": [
      "Epoch: 0 Test loss: 0.013408709317445755\n"
     ]
    },
    {
     "ename": "KeyboardInterrupt",
     "evalue": "",
     "output_type": "error",
     "traceback": [
      "\u001b[1;31m---------------------------------------------------------------------------\u001b[0m",
      "\u001b[1;31mKeyboardInterrupt\u001b[0m                         Traceback (most recent call last)",
      "Cell \u001b[1;32mIn[7], line 19\u001b[0m\n\u001b[0;32m     16\u001b[0m     outputs \u001b[38;5;241m=\u001b[39m model(x_batch)\n\u001b[0;32m     18\u001b[0m     loss \u001b[38;5;241m=\u001b[39m criterion(outputs, y_batch)\n\u001b[1;32m---> 19\u001b[0m     \u001b[43mloss\u001b[49m\u001b[38;5;241;43m.\u001b[39;49m\u001b[43mbackward\u001b[49m\u001b[43m(\u001b[49m\u001b[43m)\u001b[49m\n\u001b[0;32m     20\u001b[0m     optimizer\u001b[38;5;241m.\u001b[39mstep()\n\u001b[0;32m     22\u001b[0m \u001b[38;5;66;03m# Validation\u001b[39;00m\n",
      "File \u001b[1;32mD:\\Anaconda3\\envs\\L96\\lib\\site-packages\\torch\\_tensor.py:492\u001b[0m, in \u001b[0;36mTensor.backward\u001b[1;34m(self, gradient, retain_graph, create_graph, inputs)\u001b[0m\n\u001b[0;32m    482\u001b[0m \u001b[38;5;28;01mif\u001b[39;00m has_torch_function_unary(\u001b[38;5;28mself\u001b[39m):\n\u001b[0;32m    483\u001b[0m     \u001b[38;5;28;01mreturn\u001b[39;00m handle_torch_function(\n\u001b[0;32m    484\u001b[0m         Tensor\u001b[38;5;241m.\u001b[39mbackward,\n\u001b[0;32m    485\u001b[0m         (\u001b[38;5;28mself\u001b[39m,),\n\u001b[1;32m   (...)\u001b[0m\n\u001b[0;32m    490\u001b[0m         inputs\u001b[38;5;241m=\u001b[39minputs,\n\u001b[0;32m    491\u001b[0m     )\n\u001b[1;32m--> 492\u001b[0m \u001b[43mtorch\u001b[49m\u001b[38;5;241;43m.\u001b[39;49m\u001b[43mautograd\u001b[49m\u001b[38;5;241;43m.\u001b[39;49m\u001b[43mbackward\u001b[49m\u001b[43m(\u001b[49m\n\u001b[0;32m    493\u001b[0m \u001b[43m    \u001b[49m\u001b[38;5;28;43mself\u001b[39;49m\u001b[43m,\u001b[49m\u001b[43m \u001b[49m\u001b[43mgradient\u001b[49m\u001b[43m,\u001b[49m\u001b[43m \u001b[49m\u001b[43mretain_graph\u001b[49m\u001b[43m,\u001b[49m\u001b[43m \u001b[49m\u001b[43mcreate_graph\u001b[49m\u001b[43m,\u001b[49m\u001b[43m \u001b[49m\u001b[43minputs\u001b[49m\u001b[38;5;241;43m=\u001b[39;49m\u001b[43minputs\u001b[49m\n\u001b[0;32m    494\u001b[0m \u001b[43m\u001b[49m\u001b[43m)\u001b[49m\n",
      "File \u001b[1;32mD:\\Anaconda3\\envs\\L96\\lib\\site-packages\\torch\\autograd\\__init__.py:251\u001b[0m, in \u001b[0;36mbackward\u001b[1;34m(tensors, grad_tensors, retain_graph, create_graph, grad_variables, inputs)\u001b[0m\n\u001b[0;32m    246\u001b[0m     retain_graph \u001b[38;5;241m=\u001b[39m create_graph\n\u001b[0;32m    248\u001b[0m \u001b[38;5;66;03m# The reason we repeat the same comment below is that\u001b[39;00m\n\u001b[0;32m    249\u001b[0m \u001b[38;5;66;03m# some Python versions print out the first line of a multi-line function\u001b[39;00m\n\u001b[0;32m    250\u001b[0m \u001b[38;5;66;03m# calls in the traceback and some print out the last line\u001b[39;00m\n\u001b[1;32m--> 251\u001b[0m \u001b[43mVariable\u001b[49m\u001b[38;5;241;43m.\u001b[39;49m\u001b[43m_execution_engine\u001b[49m\u001b[38;5;241;43m.\u001b[39;49m\u001b[43mrun_backward\u001b[49m\u001b[43m(\u001b[49m\u001b[43m  \u001b[49m\u001b[38;5;66;43;03m# Calls into the C++ engine to run the backward pass\u001b[39;49;00m\n\u001b[0;32m    252\u001b[0m \u001b[43m    \u001b[49m\u001b[43mtensors\u001b[49m\u001b[43m,\u001b[49m\n\u001b[0;32m    253\u001b[0m \u001b[43m    \u001b[49m\u001b[43mgrad_tensors_\u001b[49m\u001b[43m,\u001b[49m\n\u001b[0;32m    254\u001b[0m \u001b[43m    \u001b[49m\u001b[43mretain_graph\u001b[49m\u001b[43m,\u001b[49m\n\u001b[0;32m    255\u001b[0m \u001b[43m    \u001b[49m\u001b[43mcreate_graph\u001b[49m\u001b[43m,\u001b[49m\n\u001b[0;32m    256\u001b[0m \u001b[43m    \u001b[49m\u001b[43minputs\u001b[49m\u001b[43m,\u001b[49m\n\u001b[0;32m    257\u001b[0m \u001b[43m    \u001b[49m\u001b[43mallow_unreachable\u001b[49m\u001b[38;5;241;43m=\u001b[39;49m\u001b[38;5;28;43;01mTrue\u001b[39;49;00m\u001b[43m,\u001b[49m\n\u001b[0;32m    258\u001b[0m \u001b[43m    \u001b[49m\u001b[43maccumulate_grad\u001b[49m\u001b[38;5;241;43m=\u001b[39;49m\u001b[38;5;28;43;01mTrue\u001b[39;49;00m\u001b[43m,\u001b[49m\n\u001b[0;32m    259\u001b[0m \u001b[43m\u001b[49m\u001b[43m)\u001b[49m\n",
      "\u001b[1;31mKeyboardInterrupt\u001b[0m: "
     ]
    }
   ],
   "source": [
    "# Train the model\n",
    "criterion = nn.MSELoss()\n",
    "optimizer = torch.optim.Adam(model.parameters(), lr=0.01)\n",
    "scheduler = ReduceLROnPlateau(optimizer, 'min', factor=0.5, patience=3, verbose=True)\n",
    "\n",
    "epochs = 10\n",
    "early_stop_count = 0\n",
    "min_val_loss = float('inf')\n",
    "\n",
    "for epoch in range(epochs):\n",
    "    model.train()\n",
    "    for batch in train_loader:\n",
    "        x_batch, y_batch = batch   \n",
    "        x_batch, y_batch = x_batch, y_batch\n",
    "        optimizer.zero_grad()\n",
    "        outputs = model(x_batch)\n",
    "        \n",
    "        loss = criterion(outputs, y_batch)\n",
    "        loss.backward()\n",
    "        optimizer.step()\n",
    "\n",
    "    # Validation\n",
    "    model.eval()\n",
    "    val_losses = []\n",
    "    with torch.no_grad():\n",
    "        for batch in test_loader:\n",
    "            x_batch, y_batch = batch\n",
    "            x_batch, y_batch = x_batch, y_batch\n",
    "            outputs = model(x_batch)\n",
    "            loss = criterion(outputs, y_batch)\n",
    "            val_losses.append(loss.item())\n",
    "\n",
    "    val_loss = np.mean(val_losses)\n",
    "    scheduler.step(val_loss)\n",
    "    if epoch % 1 == 0:\n",
    "        print(f\"Epoch: {epoch} Test loss: {val_losses[0]}\")\n",
    "    # model.eval()\n",
    "    # with torch.inference_mode():\n",
    "    #     test_pred = model(X_test)\n",
    "    #     test_loss = loss_fn(test_pred, y_test)\n",
    "\n",
    "\n"
   ]
  },
  {
   "cell_type": "code",
   "execution_count": 8,
   "id": "8ffd2b94-74ed-489e-993f-2bb2e720f210",
   "metadata": {
    "execution": {
     "iopub.execute_input": "2024-02-25T23:24:07.868266Z",
     "iopub.status.busy": "2024-02-25T23:24:07.867273Z",
     "iopub.status.idle": "2024-02-25T23:24:07.894603Z",
     "shell.execute_reply": "2024-02-25T23:24:07.892441Z",
     "shell.execute_reply.started": "2024-02-25T23:24:07.868266Z"
    }
   },
   "outputs": [
    {
     "data": {
      "text/plain": [
       "9012"
      ]
     },
     "execution_count": 8,
     "metadata": {},
     "output_type": "execute_result"
    }
   ],
   "source": [
    "len(val_losses)\n",
    "# 288384 / 32 = 9012"
   ]
  },
  {
   "cell_type": "code",
   "execution_count": 9,
   "id": "aef10b5e-3c2f-418b-8edd-7f8ea925ece6",
   "metadata": {
    "execution": {
     "iopub.execute_input": "2024-02-25T23:24:08.464249Z",
     "iopub.status.busy": "2024-02-25T23:24:08.463251Z",
     "iopub.status.idle": "2024-02-25T23:24:08.489242Z",
     "shell.execute_reply": "2024-02-25T23:24:08.486298Z",
     "shell.execute_reply.started": "2024-02-25T23:24:08.463251Z"
    }
   },
   "outputs": [
    {
     "data": {
      "text/plain": [
       "0.013408709317445755"
      ]
     },
     "execution_count": 9,
     "metadata": {},
     "output_type": "execute_result"
    }
   ],
   "source": [
    "val_losses[0]"
   ]
  },
  {
   "cell_type": "code",
   "execution_count": null,
   "id": "8c81f690-2971-49f6-9aee-87275b648901",
   "metadata": {},
   "outputs": [],
   "source": []
  }
 ],
 "metadata": {
  "kernelspec": {
   "display_name": "Python 3 (ipykernel)",
   "language": "python",
   "name": "python3"
  },
  "language_info": {
   "codemirror_mode": {
    "name": "ipython",
    "version": 3
   },
   "file_extension": ".py",
   "mimetype": "text/x-python",
   "name": "python",
   "nbconvert_exporter": "python",
   "pygments_lexer": "ipython3",
   "version": "3.9.18"
  }
 },
 "nbformat": 4,
 "nbformat_minor": 5
}
