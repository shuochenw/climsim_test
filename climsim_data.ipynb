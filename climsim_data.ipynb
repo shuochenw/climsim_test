{
 "cells": [
  {
   "cell_type": "code",
   "execution_count": 16,
   "id": "d499c3ed-39cc-40df-a867-815079bea2d2",
   "metadata": {
    "execution": {
     "iopub.execute_input": "2024-03-01T22:59:47.346232Z",
     "iopub.status.busy": "2024-03-01T22:59:47.345989Z",
     "iopub.status.idle": "2024-03-01T22:59:47.349952Z",
     "shell.execute_reply": "2024-03-01T22:59:47.349667Z",
     "shell.execute_reply.started": "2024-03-01T22:59:47.346213Z"
    }
   },
   "outputs": [],
   "source": [
    "import xarray as xr\n",
    "import os\n",
    "import netCDF4\n",
    "import numpy as np\n",
    "import torch\n",
    "from torch import nn\n",
    "import matplotlib.pyplot as plt\n",
    "from sklearn.model_selection import train_test_split\n",
    "from torch.utils.data import DataLoader\n",
    "from torch.utils.data import random_split\n",
    "import random\n",
    "import pandas as pd\n",
    "from torch.utils.data import DataLoader, TensorDataset\n",
    "from sklearn.preprocessing import StandardScaler\n",
    "from torch.optim.lr_scheduler import ReduceLROnPlateau"
   ]
  },
  {
   "cell_type": "markdown",
   "id": "251b9b56-d167-4fa4-8644-e1aa94d74d64",
   "metadata": {},
   "source": [
    "# combine mli/mlo data to one nc file"
   ]
  },
  {
   "cell_type": "code",
   "execution_count": 2,
   "id": "476eeade-f5bd-4a59-8b6e-acbdfed79307",
   "metadata": {
    "execution": {
     "iopub.execute_input": "2024-03-01T04:40:10.823706Z",
     "iopub.status.busy": "2024-03-01T04:40:10.823412Z",
     "iopub.status.idle": "2024-03-01T04:40:10.826314Z",
     "shell.execute_reply": "2024-03-01T04:40:10.825854Z",
     "shell.execute_reply.started": "2024-03-01T04:40:10.823693Z"
    }
   },
   "outputs": [],
   "source": [
    "# from os import listdir\n",
    "# from os.path import isfile, join\n",
    "\n",
    "# mypath = '/work/sds-lab/Shuochen/climsim/train'\n",
    "# # allfiles = [f for f in listdir(mypath) if isfile(join(mypath, f))]\n",
    "# allfiles = []\n",
    "# for path, subdirs, files in os.walk(mypath):\n",
    "#     for name in files:\n",
    "#        allfiles.append(os.path.join(path, name))\n",
    "# print(len(allfiles))\n",
    "\n",
    "# mli_files = []\n",
    "# mlo_files = []\n",
    "\n",
    "# for i in range(len(allfiles)):\n",
    "#     if 'mli' in allfiles[i]:\n",
    "#         mli_files.append(allfiles[i])\n",
    "#     if 'mlo' in allfiles[i]:\n",
    "#         mlo_files.append(allfiles[i])\n",
    "\n",
    "# ds_mli = []\n",
    "# ds_mlo = []\n",
    "\n",
    "# for i in range(len(mli_files)):\n",
    "#     ds_mli.append(xr.open_dataset(mli_files[i]).expand_dims('time'))\n",
    "# for i in range(len(mlo_files)):\n",
    "#     ds_mlo.append(xr.open_dataset(mlo_files[i]).expand_dims('time'))\n",
    "\n",
    "# combined_mli = xr.concat(ds_mli, dim='time').to_netcdf(/work/sds-lab/Shuochen/climsim/ + 'val_mli.nc')\n",
    "# combined_mlo = xr.concat(ds_mlo, dim='time').to_netcdf('/work/sds-lab/Shuochen/climsim/' + 'val_mlo.nc')"
   ]
  },
  {
   "cell_type": "code",
   "execution_count": null,
   "id": "7ede7d3b-856e-49f7-9f92-31d23d54d8a8",
   "metadata": {},
   "outputs": [],
   "source": []
  },
  {
   "cell_type": "code",
   "execution_count": null,
   "id": "17dde1ae-06c7-41d4-91cf-d6e9efc4c274",
   "metadata": {},
   "outputs": [],
   "source": []
  },
  {
   "cell_type": "markdown",
   "id": "b808c850-b4dc-4985-99d9-adeb6eb94dea",
   "metadata": {},
   "source": [
    "# preprocessing"
   ]
  },
  {
   "cell_type": "code",
   "execution_count": 17,
   "id": "462fcd93-5d14-415f-b382-2c4dced7978c",
   "metadata": {
    "execution": {
     "iopub.execute_input": "2024-03-01T22:59:57.967755Z",
     "iopub.status.busy": "2024-03-01T22:59:57.967491Z",
     "iopub.status.idle": "2024-03-01T22:59:58.083145Z",
     "shell.execute_reply": "2024-03-01T22:59:58.082259Z",
     "shell.execute_reply.started": "2024-03-01T22:59:57.967745Z"
    }
   },
   "outputs": [],
   "source": [
    "mli = xr.open_dataset('/work/sds-lab/Shuochen/climsim/val_mli.nc')\n",
    "mlo = xr.open_dataset('/work/sds-lab/Shuochen/climsim/val_mlo.nc')"
   ]
  },
  {
   "cell_type": "code",
   "execution_count": 18,
   "id": "db8a7a85-05da-4f3c-9e30-31f71d25fa33",
   "metadata": {
    "execution": {
     "iopub.execute_input": "2024-03-01T22:59:58.662419Z",
     "iopub.status.busy": "2024-03-01T22:59:58.661909Z",
     "iopub.status.idle": "2024-03-01T22:59:59.040172Z",
     "shell.execute_reply": "2024-03-01T22:59:59.039659Z",
     "shell.execute_reply.started": "2024-03-01T22:59:58.662409Z"
    }
   },
   "outputs": [],
   "source": [
    "# fix time index\n",
    "date = []\n",
    "for i in range(len(mli.ymd.values)):\n",
    "    my_str=str(mli.ymd.values[i])\n",
    "    date.append(my_str[:0] + '200' + my_str[0:])\n",
    "\n",
    "mli['time'] = pd.to_datetime(date) + pd.to_timedelta(mli.tod.values, unit='s')\n",
    "mlo['time'] = pd.to_datetime(date) + pd.to_timedelta(mlo.tod.values, unit='s')"
   ]
  },
  {
   "cell_type": "code",
   "execution_count": 19,
   "id": "9ce5c565-deaa-4d52-8a48-2a6081992bf0",
   "metadata": {
    "execution": {
     "iopub.execute_input": "2024-03-01T23:00:00.783694Z",
     "iopub.status.busy": "2024-03-01T23:00:00.783548Z",
     "iopub.status.idle": "2024-03-01T23:00:00.789457Z",
     "shell.execute_reply": "2024-03-01T23:00:00.789138Z",
     "shell.execute_reply.started": "2024-03-01T23:00:00.783683Z"
    }
   },
   "outputs": [],
   "source": [
    "# downsample data every 7 samples (select 1 every 7 samples), data frequency is 1200s.\n",
    "mli = mli.isel(time=slice(None,None,7))\n",
    "mlo = mlo.isel(time=slice(None,None,7))"
   ]
  },
  {
   "cell_type": "code",
   "execution_count": 23,
   "id": "11ee74af-d642-44ec-a278-855fa5a959a8",
   "metadata": {
    "execution": {
     "iopub.execute_input": "2024-03-01T23:00:54.845432Z",
     "iopub.status.busy": "2024-03-01T23:00:54.845055Z",
     "iopub.status.idle": "2024-03-01T23:00:59.338576Z",
     "shell.execute_reply": "2024-03-01T23:00:59.338051Z",
     "shell.execute_reply.started": "2024-03-01T23:00:54.845419Z"
    }
   },
   "outputs": [],
   "source": [
    "# in/out variable lists (6:10)\n",
    "vars_mli = ['state_t','state_q0001','state_ps','pbuf_SOLIN', 'pbuf_LHFLX', 'pbuf_SHFLX']\n",
    "vars_mlo = ['ptend_t','ptend_q0001','cam_out_NETSW','cam_out_FLWDS','cam_out_PRECSC','cam_out_PRECC','cam_out_SOLS','cam_out_SOLL','cam_out_SOLSD','cam_out_SOLLD']\n",
    "\n",
    "# nc to numpy to tensor, then reshape\n",
    "input_list = []\n",
    "output_list = []\n",
    "\n",
    "for i in range(len(vars_mli)):\n",
    "    if i < 2:\n",
    "        temp=torch.Tensor(mli[vars_mli[i]].to_numpy())\n",
    "        new_var=temp.permute(0,2,1)\n",
    "        new_var=new_var.reshape(new_var.shape[0] * new_var.shape[1], new_var.shape[2])\n",
    "        input_list.append(new_var)\n",
    "    else:\n",
    "        temp=torch.Tensor(mli[vars_mli[i]].to_numpy())\n",
    "        new_var=temp.reshape(temp.shape[0] * temp.shape[1], 1)\n",
    "        input_list.append(new_var)\n",
    "\n",
    "# calculate heating and moistening tendency.\n",
    "ptend_t = (mlo['state_t'] - mli['state_t']) / 1200\n",
    "ptend_q0001 = (mlo['state_q0001'] - mli['state_q0001']) / 1200\n",
    "\n",
    "ptend_t = torch.Tensor(ptend_t.to_numpy()).permute(0,2,1)\n",
    "ptend_t = ptend_t.reshape(ptend_t.shape[0] * ptend_t.shape[1], ptend_t.shape[2])\n",
    "\n",
    "ptend_q0001 = torch.Tensor(ptend_q0001.to_numpy()).permute(0,2,1)\n",
    "ptend_q0001 = ptend_q0001.reshape(ptend_q0001.shape[0] * ptend_q0001.shape[1], ptend_q0001.shape[2])\n",
    "\n",
    "# add to output list\n",
    "output_list.extend([ptend_t,ptend_q0001])\n",
    "\n",
    "for i in range(len(vars_mlo)):\n",
    "    if i >= 2:\n",
    "        temp=torch.Tensor(mlo[vars_mlo[i]].to_numpy())\n",
    "        new_var=temp.reshape(temp.shape[0] * temp.shape[1], 1)\n",
    "        output_list.append(new_var)"
   ]
  },
  {
   "cell_type": "code",
   "execution_count": 28,
   "id": "b420b5f6-1665-4707-b02b-06b0023678ca",
   "metadata": {
    "execution": {
     "iopub.execute_input": "2024-03-01T23:02:29.478072Z",
     "iopub.status.busy": "2024-03-01T23:02:29.477184Z",
     "iopub.status.idle": "2024-03-01T23:02:29.516140Z",
     "shell.execute_reply": "2024-03-01T23:02:29.515758Z",
     "shell.execute_reply.started": "2024-03-01T23:02:29.478060Z"
    }
   },
   "outputs": [],
   "source": [
    "# normalization and scaling\n",
    "norm_mean = xr.open_dataset('/work/sds-lab/Shuochen/climsim/normalizations_git/inputs/input_mean.nc')\n",
    "norm_max = xr.open_dataset('/work/sds-lab/Shuochen/climsim/normalizations_git/inputs/input_max.nc')\n",
    "norm_min = xr.open_dataset('/work/sds-lab/Shuochen/climsim/normalizations_git/inputs/input_min.nc')\n",
    "scale = xr.open_dataset('/work/sds-lab/Shuochen/climsim/normalizations_git/outputs/output_scale.nc')\n",
    "\n",
    "norm_mean_list = []\n",
    "for i in range(len(vars_mli)):\n",
    "    temp=torch.Tensor(norm_mean[vars_mli[i]].values)\n",
    "    norm_mean_list.append(temp)\n",
    "\n",
    "norm_max_list = []\n",
    "for i in range(len(vars_mli)):\n",
    "    temp=torch.Tensor(norm_max[vars_mli[i]].values)\n",
    "    norm_max_list.append(temp)\n",
    "\n",
    "norm_min_list = []\n",
    "for i in range(len(vars_mli)):\n",
    "    temp=torch.Tensor(norm_min[vars_mli[i]].values)\n",
    "    norm_min_list.append(temp)\n",
    "\n",
    "scale_list = []\n",
    "for i in range(len(vars_mlo)):\n",
    "    temp=torch.Tensor(scale[vars_mlo[i]].values)\n",
    "    scale_list.append(temp)"
   ]
  },
  {
   "cell_type": "code",
   "execution_count": 31,
   "id": "9eb62779-28f5-4ba0-a2d9-bf488659c013",
   "metadata": {
    "execution": {
     "iopub.execute_input": "2024-03-01T23:03:53.447021Z",
     "iopub.status.busy": "2024-03-01T23:03:53.446761Z",
     "iopub.status.idle": "2024-03-01T23:03:53.840376Z",
     "shell.execute_reply": "2024-03-01T23:03:53.839842Z",
     "shell.execute_reply.started": "2024-03-01T23:03:53.447000Z"
    }
   },
   "outputs": [],
   "source": [
    "for i in range(len(input_list)):\n",
    "    input_list[i] = (input_list[i] - norm_mean_list[i]) / (norm_max_list[i] - norm_min_list[i])  \n",
    "\n",
    "for i in range(len(output_list)):\n",
    "    output_list[i] = output_list[i] * scale_list[i]"
   ]
  },
  {
   "cell_type": "code",
   "execution_count": 33,
   "id": "1cdd7f35-1368-4a3c-9215-1bc1141b506f",
   "metadata": {
    "execution": {
     "iopub.execute_input": "2024-03-01T23:04:08.125539Z",
     "iopub.status.busy": "2024-03-01T23:04:08.124974Z",
     "iopub.status.idle": "2024-03-01T23:04:08.575046Z",
     "shell.execute_reply": "2024-03-01T23:04:08.574686Z",
     "shell.execute_reply.started": "2024-03-01T23:04:08.125529Z"
    }
   },
   "outputs": [
    {
     "name": "stdout",
     "output_type": "stream",
     "text": [
      "torch.Size([1441920, 124]) torch.Size([1441920, 128])\n"
     ]
    }
   ],
   "source": [
    "# concat\n",
    "input = torch.cat((input_list[0],input_list[1],input_list[2],input_list[3],input_list[4],input_list[5]), dim=1)\n",
    "output = torch.cat((output_list[0],output_list[1],output_list[2],output_list[3],output_list[4],output_list[5],output_list[6],output_list[7],output_list[8],output_list[9]), dim=1)\n",
    "\n",
    "print(input.shape,output.shape)"
   ]
  },
  {
   "cell_type": "markdown",
   "id": "1d487b12-e4f6-474e-aade-09b2d3753029",
   "metadata": {},
   "source": [
    "# test input/output data with theirs (val:0008-02 to 0009-01)"
   ]
  },
  {
   "cell_type": "code",
   "execution_count": 34,
   "id": "b0bbca38-516c-4540-ad71-358d63a45c38",
   "metadata": {
    "execution": {
     "iopub.execute_input": "2024-03-01T23:04:10.610273Z",
     "iopub.status.busy": "2024-03-01T23:04:10.609955Z",
     "iopub.status.idle": "2024-03-01T23:04:11.659953Z",
     "shell.execute_reply": "2024-03-01T23:04:11.659438Z",
     "shell.execute_reply.started": "2024-03-01T23:04:10.610260Z"
    }
   },
   "outputs": [],
   "source": [
    "X=np.load('/work/sds-lab/Shuochen/climsim/val_input.npy')\n",
    "y=np.load('/work/sds-lab/Shuochen/climsim/val_target.npy')"
   ]
  },
  {
   "cell_type": "code",
   "execution_count": 35,
   "id": "13fd84d0-3330-4f4e-8969-3c0d29a4f8d3",
   "metadata": {
    "execution": {
     "iopub.execute_input": "2024-03-01T23:04:11.661211Z",
     "iopub.status.busy": "2024-03-01T23:04:11.660849Z",
     "iopub.status.idle": "2024-03-01T23:04:11.664385Z",
     "shell.execute_reply": "2024-03-01T23:04:11.664111Z",
     "shell.execute_reply.started": "2024-03-01T23:04:11.661199Z"
    }
   },
   "outputs": [
    {
     "data": {
      "text/plain": [
       "(1441920, 124)"
      ]
     },
     "execution_count": 35,
     "metadata": {},
     "output_type": "execute_result"
    }
   ],
   "source": [
    "X.shape"
   ]
  },
  {
   "cell_type": "code",
   "execution_count": 36,
   "id": "46b7a845-ee67-4e6e-b00f-72ee581d3deb",
   "metadata": {
    "execution": {
     "iopub.execute_input": "2024-03-01T23:04:11.664994Z",
     "iopub.status.busy": "2024-03-01T23:04:11.664761Z",
     "iopub.status.idle": "2024-03-01T23:04:11.683961Z",
     "shell.execute_reply": "2024-03-01T23:04:11.683675Z",
     "shell.execute_reply.started": "2024-03-01T23:04:11.664984Z"
    }
   },
   "outputs": [
    {
     "data": {
      "text/plain": [
       "array([-2.1913459e-03, -1.7944887e-02, -4.5234229e-02, -1.8812425e-02,\n",
       "        1.2241836e-03,  5.4736424e-02,  7.9991966e-02,  6.6402398e-02,\n",
       "        6.1990730e-02,  6.2253091e-02,  5.1185194e-02,  4.6816483e-02,\n",
       "        4.8013736e-02,  4.2244118e-02,  1.9963728e-02, -1.1743228e-02,\n",
       "       -1.6514115e-02, -3.1537268e-02, -7.3459931e-02, -8.7187998e-02,\n",
       "       -9.5602296e-02, -6.7409396e-02, -2.5630416e-02,  1.4921249e-02,\n",
       "        4.1257340e-02,  5.6141108e-02,  6.2658504e-02,  6.4611822e-02,\n",
       "        6.6882201e-02,  6.7682333e-02,  6.9309019e-02,  7.5467244e-02,\n",
       "        8.1024468e-02,  8.4922343e-02,  8.7200657e-02,  8.7108433e-02,\n",
       "        8.9283474e-02,  9.1625057e-02,  9.4715320e-02,  9.5724754e-02,\n",
       "        9.7043157e-02,  9.8063178e-02,  9.7116463e-02,  9.8507255e-02,\n",
       "        9.8593235e-02,  9.7905174e-02,  9.5312789e-02,  9.1622062e-02,\n",
       "        8.7270044e-02,  8.4584579e-02,  8.3577700e-02,  8.3638921e-02,\n",
       "        8.3342053e-02,  8.2297072e-02,  8.0700077e-02,  7.8771718e-02,\n",
       "        7.5981848e-02,  7.3352575e-02,  6.9022804e-02,  6.4707078e-02,\n",
       "        3.3672214e-01,  3.2874569e-01,  3.1960866e-01,  3.0868849e-01,\n",
       "        2.9163235e-01,  2.7642745e-01,  2.5445870e-01,  2.2797626e-01,\n",
       "        1.8212554e-01,  1.3042332e-01,  2.5901362e-02, -2.9179493e-02,\n",
       "        3.7853643e-02,  2.3989554e-02,  2.4458179e-03,  5.3384842e-04,\n",
       "        8.9451922e-03,  5.8164049e-02,  3.0278182e-02,  5.9754187e-03,\n",
       "        3.9874315e-03, -1.5989189e-03,  7.4654846e-03, -6.3409680e-04,\n",
       "        3.0957346e-03,  7.0639262e-03, -2.1029327e-03, -4.5005484e-03,\n",
       "       -1.9405346e-03, -3.1085180e-03, -5.0605014e-03, -1.3096047e-03,\n",
       "       -1.0433240e-02, -1.0909027e-02, -1.4341436e-02,  1.8285159e-03,\n",
       "       -4.0173903e-03,  1.0447657e-04,  6.4235250e-03,  2.1204596e-02,\n",
       "        3.3712905e-02,  3.9661575e-02,  4.2949710e-02,  4.4095214e-02,\n",
       "        5.1215895e-02,  5.7267368e-02,  6.8674378e-02,  9.0688892e-02,\n",
       "        1.2142843e-01,  1.4473808e-01,  1.5877807e-01,  1.6263393e-01,\n",
       "        1.6743723e-01,  1.6802353e-01,  1.6677719e-01,  1.6847360e-01,\n",
       "        1.6805115e-01,  1.9258523e-01,  2.1652752e-01,  2.4245039e-01,\n",
       "        6.5571800e-02, -2.4221587e-01, -5.4852698e-02, -2.6518755e-02],\n",
       "      dtype=float32)"
      ]
     },
     "execution_count": 36,
     "metadata": {},
     "output_type": "execute_result"
    }
   ],
   "source": [
    "X[0,:]"
   ]
  },
  {
   "cell_type": "code",
   "execution_count": 37,
   "id": "f1a642e1-d81f-4bc2-bc84-c525abc999d9",
   "metadata": {
    "execution": {
     "iopub.execute_input": "2024-03-01T23:04:12.045860Z",
     "iopub.status.busy": "2024-03-01T23:04:12.045343Z",
     "iopub.status.idle": "2024-03-01T23:04:12.049591Z",
     "shell.execute_reply": "2024-03-01T23:04:12.049309Z",
     "shell.execute_reply.started": "2024-03-01T23:04:12.045850Z"
    }
   },
   "outputs": [
    {
     "data": {
      "text/plain": [
       "tensor([-2.1913e-03, -1.7945e-02, -4.5234e-02, -1.8812e-02,  1.2242e-03,\n",
       "         5.4736e-02,  7.9992e-02,  6.6402e-02,  6.1991e-02,  6.2253e-02,\n",
       "         5.1185e-02,  4.6817e-02,  4.8014e-02,  4.2244e-02,  1.9964e-02,\n",
       "        -1.1743e-02, -1.6514e-02, -3.1537e-02, -7.3460e-02, -8.7188e-02,\n",
       "        -9.5602e-02, -6.7410e-02, -2.5630e-02,  1.4921e-02,  4.1257e-02,\n",
       "         5.6141e-02,  6.2659e-02,  6.4612e-02,  6.6882e-02,  6.7682e-02,\n",
       "         6.9309e-02,  7.5467e-02,  8.1025e-02,  8.4922e-02,  8.7201e-02,\n",
       "         8.7108e-02,  8.9283e-02,  9.1625e-02,  9.4715e-02,  9.5725e-02,\n",
       "         9.7043e-02,  9.8063e-02,  9.7116e-02,  9.8507e-02,  9.8593e-02,\n",
       "         9.7905e-02,  9.5313e-02,  9.1622e-02,  8.7270e-02,  8.4585e-02,\n",
       "         8.3578e-02,  8.3639e-02,  8.3342e-02,  8.2297e-02,  8.0700e-02,\n",
       "         7.8772e-02,  7.5982e-02,  7.3353e-02,  6.9023e-02,  6.4707e-02,\n",
       "         3.3672e-01,  3.2875e-01,  3.1961e-01,  3.0869e-01,  2.9163e-01,\n",
       "         2.7643e-01,  2.5446e-01,  2.2798e-01,  1.8213e-01,  1.3042e-01,\n",
       "         2.5901e-02, -2.9180e-02,  3.7854e-02,  2.3990e-02,  2.4458e-03,\n",
       "         5.3385e-04,  8.9452e-03,  5.8164e-02,  3.0278e-02,  5.9754e-03,\n",
       "         3.9874e-03, -1.5989e-03,  7.4655e-03, -6.3409e-04,  3.0957e-03,\n",
       "         7.0639e-03, -2.1029e-03, -4.5005e-03, -1.9405e-03, -3.1085e-03,\n",
       "        -5.0605e-03, -1.3096e-03, -1.0433e-02, -1.0909e-02, -1.4341e-02,\n",
       "         1.8285e-03, -4.0174e-03,  1.0447e-04,  6.4235e-03,  2.1205e-02,\n",
       "         3.3713e-02,  3.9662e-02,  4.2950e-02,  4.4095e-02,  5.1216e-02,\n",
       "         5.7267e-02,  6.8674e-02,  9.0689e-02,  1.2143e-01,  1.4474e-01,\n",
       "         1.5878e-01,  1.6263e-01,  1.6744e-01,  1.6802e-01,  1.6678e-01,\n",
       "         1.6847e-01,  1.6805e-01,  1.9259e-01,  2.1653e-01,  2.4245e-01,\n",
       "         6.5572e-02, -2.4222e-01, -5.4853e-02, -2.6519e-02])"
      ]
     },
     "execution_count": 37,
     "metadata": {},
     "output_type": "execute_result"
    }
   ],
   "source": [
    "input[0,:]"
   ]
  },
  {
   "cell_type": "code",
   "execution_count": 38,
   "id": "b91571e6-6214-4359-9aed-b8be2049cfcb",
   "metadata": {
    "execution": {
     "iopub.execute_input": "2024-03-01T23:04:22.417584Z",
     "iopub.status.busy": "2024-03-01T23:04:22.417215Z",
     "iopub.status.idle": "2024-03-01T23:04:22.422340Z",
     "shell.execute_reply": "2024-03-01T23:04:22.422055Z",
     "shell.execute_reply.started": "2024-03-01T23:04:22.417574Z"
    }
   },
   "outputs": [
    {
     "data": {
      "text/plain": [
       "array([-1.36620812e-02, -2.80409772e-02, -2.15656627e-02, -5.23943938e-02,\n",
       "       -8.13384652e-02, -1.10813349e-01, -1.06115066e-01, -7.64378756e-02,\n",
       "       -4.98877764e-02, -3.91743705e-02, -2.72510257e-02, -1.97552871e-02,\n",
       "       -1.45448223e-02, -1.03805251e-02, -5.29604033e-03, -7.86766876e-04,\n",
       "        1.00812223e-03,  1.03712187e-03,  2.60534324e-03,  6.22053689e-04,\n",
       "       -9.80621320e-04, -4.21181973e-03, -8.36136844e-03, -1.23731298e-02,\n",
       "       -1.74749307e-02, -2.14770287e-02, -2.19386593e-02, -2.27263030e-02,\n",
       "       -2.29678582e-02, -2.25563366e-02, -2.36029029e-02, -2.46444885e-02,\n",
       "       -2.34153941e-02, -2.36174222e-02, -2.38939375e-02, -2.45916806e-02,\n",
       "       -2.31757555e-02, -2.32806299e-02, -2.33938787e-02, -2.34074965e-02,\n",
       "       -2.29851063e-02, -2.21269783e-02, -2.35317610e-02, -2.45282371e-02,\n",
       "       -2.89273020e-02, -2.49604452e-02, -2.53472887e-02, -2.64138561e-02,\n",
       "       -2.98754536e-02, -2.96021532e-02, -3.14517878e-02, -3.01577393e-02,\n",
       "       -2.94105019e-02, -2.99727600e-02, -3.16987038e-02, -3.28741930e-02,\n",
       "       -3.26753929e-02, -3.43012623e-02, -3.88841406e-02, -4.04074602e-02,\n",
       "        0.00000000e+00,  0.00000000e+00,  0.00000000e+00,  0.00000000e+00,\n",
       "        0.00000000e+00,  0.00000000e+00,  0.00000000e+00,  0.00000000e+00,\n",
       "        0.00000000e+00,  0.00000000e+00,  0.00000000e+00,  0.00000000e+00,\n",
       "        3.70537467e-09, -1.26136470e-07, -5.29042481e-08,  4.35243521e-07,\n",
       "       -2.74643639e-07, -8.42945891e-09,  9.58428586e-07,  1.40001873e-06,\n",
       "        3.49225811e-05,  1.14947215e-04,  3.68661313e-05, -5.32873037e-06,\n",
       "        3.37762904e-04,  1.19399035e-03,  1.88273331e-03,  2.11684452e-03,\n",
       "        1.63405237e-03,  1.50448841e-03,  1.62621739e-03,  1.91894150e-03,\n",
       "        1.65961892e-03,  6.67089655e-04,  6.69167552e-04,  9.06903078e-05,\n",
       "       -7.59519971e-05,  3.91338370e-04,  2.66952964e-04,  8.91742879e-04,\n",
       "        1.99435675e-03,  1.25542423e-03,  4.66053793e-03,  6.23115897e-03,\n",
       "        9.84290987e-03,  6.97690574e-03,  5.32314461e-03,  4.46528615e-03,\n",
       "        7.21014431e-03,  7.57683627e-03,  9.60355625e-03,  3.92224872e-03,\n",
       "       -6.97092677e-04,  2.04425701e-03,  4.55192802e-03,  2.63783406e-03,\n",
       "        4.53118980e-03,  2.57316418e-03,  5.79871656e-03, -3.92367039e-03,\n",
       "        0.00000000e+00,  1.87163055e+00,  0.00000000e+00,  0.00000000e+00,\n",
       "        0.00000000e+00,  0.00000000e+00,  0.00000000e+00,  0.00000000e+00],\n",
       "      dtype=float32)"
      ]
     },
     "execution_count": 38,
     "metadata": {},
     "output_type": "execute_result"
    }
   ],
   "source": [
    "y[0,:]"
   ]
  },
  {
   "cell_type": "code",
   "execution_count": 39,
   "id": "e119b841-7261-45a8-ac0c-2875547a4835",
   "metadata": {
    "execution": {
     "iopub.execute_input": "2024-03-01T23:04:30.460563Z",
     "iopub.status.busy": "2024-03-01T23:04:30.460443Z",
     "iopub.status.idle": "2024-03-01T23:04:30.465658Z",
     "shell.execute_reply": "2024-03-01T23:04:30.465380Z",
     "shell.execute_reply.started": "2024-03-01T23:04:30.460551Z"
    }
   },
   "outputs": [
    {
     "data": {
      "text/plain": [
       "tensor([-1.3662e-02, -2.8041e-02, -2.1566e-02, -5.2394e-02, -8.1338e-02,\n",
       "        -1.1081e-01, -1.0612e-01, -7.6438e-02, -4.9888e-02, -3.9174e-02,\n",
       "        -2.7251e-02, -1.9755e-02, -1.4545e-02, -1.0381e-02, -5.2960e-03,\n",
       "        -7.8677e-04,  1.0081e-03,  1.0371e-03,  2.6053e-03,  6.2205e-04,\n",
       "        -9.8062e-04, -4.2118e-03, -8.3614e-03, -1.2373e-02, -1.7475e-02,\n",
       "        -2.1477e-02, -2.1939e-02, -2.2726e-02, -2.2968e-02, -2.2556e-02,\n",
       "        -2.3603e-02, -2.4644e-02, -2.3415e-02, -2.3617e-02, -2.3894e-02,\n",
       "        -2.4592e-02, -2.3176e-02, -2.3281e-02, -2.3394e-02, -2.3407e-02,\n",
       "        -2.2985e-02, -2.2127e-02, -2.3532e-02, -2.4528e-02, -2.8927e-02,\n",
       "        -2.4960e-02, -2.5347e-02, -2.6414e-02, -2.9875e-02, -2.9602e-02,\n",
       "        -3.1452e-02, -3.0158e-02, -2.9411e-02, -2.9973e-02, -3.1699e-02,\n",
       "        -3.2874e-02, -3.2675e-02, -3.4301e-02, -3.8884e-02, -4.0407e-02,\n",
       "         0.0000e+00,  0.0000e+00,  0.0000e+00,  0.0000e+00,  0.0000e+00,\n",
       "         0.0000e+00,  0.0000e+00,  0.0000e+00,  0.0000e+00,  0.0000e+00,\n",
       "         0.0000e+00,  0.0000e+00,  3.7054e-09, -1.2614e-07, -5.2904e-08,\n",
       "         4.3524e-07, -2.7464e-07, -8.4295e-09,  9.5843e-07,  1.4000e-06,\n",
       "         3.4923e-05,  1.1495e-04,  3.6866e-05, -5.3287e-06,  3.3776e-04,\n",
       "         1.1940e-03,  1.8827e-03,  2.1168e-03,  1.6341e-03,  1.5045e-03,\n",
       "         1.6262e-03,  1.9189e-03,  1.6596e-03,  6.6709e-04,  6.6917e-04,\n",
       "         9.0690e-05, -7.5952e-05,  3.9134e-04,  2.6695e-04,  8.9174e-04,\n",
       "         1.9944e-03,  1.2554e-03,  4.6605e-03,  6.2312e-03,  9.8429e-03,\n",
       "         6.9769e-03,  5.3231e-03,  4.4653e-03,  7.2101e-03,  7.5768e-03,\n",
       "         9.6036e-03,  3.9222e-03, -6.9709e-04,  2.0443e-03,  4.5519e-03,\n",
       "         2.6378e-03,  4.5312e-03,  2.5732e-03,  5.7987e-03, -3.9237e-03,\n",
       "         0.0000e+00,  1.8716e+00,  0.0000e+00,  0.0000e+00,  0.0000e+00,\n",
       "         0.0000e+00,  0.0000e+00,  0.0000e+00])"
      ]
     },
     "execution_count": 39,
     "metadata": {},
     "output_type": "execute_result"
    }
   ],
   "source": [
    "output[0,:]"
   ]
  },
  {
   "cell_type": "code",
   "execution_count": null,
   "id": "fa76e55d-ab88-4f1c-b43f-31fe766b6ef5",
   "metadata": {},
   "outputs": [],
   "source": []
  },
  {
   "cell_type": "code",
   "execution_count": null,
   "id": "fac37fc6-2b6f-464a-a7a6-34e21915faf1",
   "metadata": {},
   "outputs": [],
   "source": []
  },
  {
   "cell_type": "code",
   "execution_count": null,
   "id": "0beab4b5-7f64-4308-813a-8da3dfc30f0a",
   "metadata": {},
   "outputs": [],
   "source": []
  }
 ],
 "metadata": {
  "kernelspec": {
   "display_name": "Python 3 (ipykernel)",
   "language": "python",
   "name": "python3"
  },
  "language_info": {
   "codemirror_mode": {
    "name": "ipython",
    "version": 3
   },
   "file_extension": ".py",
   "mimetype": "text/x-python",
   "name": "python",
   "nbconvert_exporter": "python",
   "pygments_lexer": "ipython3",
   "version": "3.11.8"
  }
 },
 "nbformat": 4,
 "nbformat_minor": 5
}
