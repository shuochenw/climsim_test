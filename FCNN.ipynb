{
 "cells": [
  {
   "cell_type": "code",
   "execution_count": 1,
   "id": "2403c60b-a615-4eba-849c-09aeb6900c8e",
   "metadata": {
    "execution": {
     "iopub.execute_input": "2024-03-30T19:42:39.652421Z",
     "iopub.status.busy": "2024-03-30T19:42:39.652172Z",
     "iopub.status.idle": "2024-03-30T19:42:44.329498Z",
     "shell.execute_reply": "2024-03-30T19:42:44.329169Z",
     "shell.execute_reply.started": "2024-03-30T19:42:39.652409Z"
    }
   },
   "outputs": [],
   "source": [
    "import xarray as xr\n",
    "import os\n",
    "import netCDF4\n",
    "import numpy as np\n",
    "import torch\n",
    "from torch import nn\n",
    "import matplotlib.pyplot as plt\n",
    "from sklearn.model_selection import train_test_split\n",
    "from sklearn.metrics import mean_absolute_error\n",
    "from torch.utils.data import random_split\n",
    "import random\n",
    "import pandas as pd\n",
    "from torch.utils.data import DataLoader, TensorDataset\n",
    "from sklearn.preprocessing import StandardScaler\n",
    "from torch.optim.lr_scheduler import ReduceLROnPlateau"
   ]
  },
  {
   "cell_type": "code",
   "execution_count": 2,
   "id": "34d3d1df-fe8e-44c1-821f-d211343042e7",
   "metadata": {
    "execution": {
     "iopub.execute_input": "2024-03-30T19:42:44.330171Z",
     "iopub.status.busy": "2024-03-30T19:42:44.329947Z",
     "iopub.status.idle": "2024-03-30T19:42:54.541116Z",
     "shell.execute_reply": "2024-03-30T19:42:54.540775Z",
     "shell.execute_reply.started": "2024-03-30T19:42:44.330160Z"
    }
   },
   "outputs": [
    {
     "name": "stdout",
     "output_type": "stream",
     "text": [
      "Using device: cuda\n",
      "NVIDIA A100-SXM4-40GB\n",
      "Memory Usage:\n",
      "Allocated: 0.0 GB\n",
      "Cached:    0.0 GB\n"
     ]
    }
   ],
   "source": [
    "# setting device on GPU if available, else CPU\n",
    "device = torch.device('cuda' if torch.cuda.is_available() else 'cpu')\n",
    "print('Using device:', device)\n",
    "#Additional Info when using cuda\n",
    "if device.type == 'cuda':\n",
    "    print(torch.cuda.get_device_name(0))\n",
    "    print('Memory Usage:')\n",
    "    print('Allocated:', round(torch.cuda.memory_allocated(0)/1024**3,1), 'GB')\n",
    "    print('Cached:   ', round(torch.cuda.memory_reserved(0)/1024**3,1), 'GB')"
   ]
  },
  {
   "cell_type": "code",
   "execution_count": 3,
   "id": "dca68fc8-8e69-4abd-b8bb-44ba3f6b7b26",
   "metadata": {
    "execution": {
     "iopub.execute_input": "2024-03-30T19:42:54.541825Z",
     "iopub.status.busy": "2024-03-30T19:42:54.541664Z",
     "iopub.status.idle": "2024-03-30T19:42:58.615714Z",
     "shell.execute_reply": "2024-03-30T19:42:58.615370Z",
     "shell.execute_reply.started": "2024-03-30T19:42:54.541812Z"
    }
   },
   "outputs": [],
   "source": [
    "# use validation year: change path\n",
    "# X=np.load('/work/sds-lab/Shuochen/climsim/val_input.npy')\n",
    "# y=np.load('/work/sds-lab/Shuochen/climsim/val_target.npy')\n",
    "\n",
    "# X = torch.from_numpy(X).type(torch.float).to(device)\n",
    "# y = torch.from_numpy(y).type(torch.float).to(device)\n",
    "\n",
    "# X_train, X_test, y_train, y_test = train_test_split(X,\n",
    "#     y,\n",
    "#     test_size=0.2,\n",
    "#     random_state=RANDOM_SEED\n",
    "# )\n",
    "\n",
    "# use all 8 years: change path\n",
    "X_train=np.load('/work/sds-lab/Shuochen/climsim/train_input.npy')\n",
    "y_train=np.load('/work/sds-lab/Shuochen/climsim/train_target.npy')\n",
    "X_test=np.load('/work/sds-lab/Shuochen/climsim/val_input.npy')\n",
    "y_test=np.load('/work/sds-lab/Shuochen/climsim/val_target.npy')\n",
    "\n",
    "X_train = torch.from_numpy(X_train).type(torch.float)\n",
    "y_train = torch.from_numpy(y_train).type(torch.float)\n",
    "X_test = torch.from_numpy(X_test).type(torch.float)\n",
    "y_test = torch.from_numpy(y_test).type(torch.float)"
   ]
  },
  {
   "cell_type": "code",
   "execution_count": 4,
   "id": "70ff79ce-a698-4f83-bfd9-fe99af1049f1",
   "metadata": {
    "execution": {
     "iopub.execute_input": "2024-03-30T19:42:58.616327Z",
     "iopub.status.busy": "2024-03-30T19:42:58.616189Z",
     "iopub.status.idle": "2024-03-30T19:42:58.618544Z",
     "shell.execute_reply": "2024-03-30T19:42:58.618267Z",
     "shell.execute_reply.started": "2024-03-30T19:42:58.616315Z"
    }
   },
   "outputs": [],
   "source": [
    "LEARNING_RATE = 0.01\n",
    "IN_FEATURES = 124\n",
    "OUT_FEATURES = 128\n",
    "RANDOM_SEED = 42\n",
    "BATCH_SIZE = 320"
   ]
  },
  {
   "cell_type": "code",
   "execution_count": 5,
   "id": "5a15827d-6b65-4279-bc73-a7ea721f4f10",
   "metadata": {
    "execution": {
     "iopub.execute_input": "2024-03-30T19:42:58.619201Z",
     "iopub.status.busy": "2024-03-30T19:42:58.618950Z",
     "iopub.status.idle": "2024-03-30T19:42:58.713060Z",
     "shell.execute_reply": "2024-03-30T19:42:58.712762Z",
     "shell.execute_reply.started": "2024-03-30T19:42:58.619191Z"
    }
   },
   "outputs": [],
   "source": [
    "# # split datasets to training and testing\n",
    "# X_train, X_test, y_train, y_test = train_test_split(X, y, test_size=0.2, random_state=RANDOM_SEED)\n",
    "# create datasets\n",
    "training_set = TensorDataset(X_train, y_train)\n",
    "testing_set = TensorDataset(X_test, y_test)\n",
    "# create dataloaders\n",
    "train_dataloader = DataLoader(training_set, # dataset to turn into iterable\n",
    "    batch_size=BATCH_SIZE, # how many samples per batch? \n",
    "    shuffle=True # shuffle data every epoch?\n",
    ")\n",
    "test_dataloader = DataLoader(testing_set,\n",
    "    batch_size=BATCH_SIZE,\n",
    "    shuffle=False # don't necessarily have to shuffle the testing data\n",
    ")"
   ]
  },
  {
   "cell_type": "code",
   "execution_count": 6,
   "id": "0ee90dc6-23e2-4e34-9c15-d16830160817",
   "metadata": {
    "execution": {
     "iopub.execute_input": "2024-03-30T19:42:58.714715Z",
     "iopub.status.busy": "2024-03-30T19:42:58.714462Z",
     "iopub.status.idle": "2024-03-30T19:43:00.411444Z",
     "shell.execute_reply": "2024-03-30T19:43:00.411115Z",
     "shell.execute_reply.started": "2024-03-30T19:42:58.714705Z"
    }
   },
   "outputs": [],
   "source": [
    "class FCNN(nn.Module):\n",
    "    def __init__(self, IN_FEATURES, hidden_dim, OUT_FEATURES):\n",
    "        super().__init__()\n",
    "        self.linear1 = nn.Linear(IN_FEATURES, hidden_dim)\n",
    "        self.relu = nn.ReLU()\n",
    "        self.linear2 = nn.Linear(hidden_dim, OUT_FEATURES)\n",
    "    def forward(self,x):\n",
    "        return self.linear2(self.relu(self.linear1(x)))\n",
    "        \n",
    "model = FCNN(IN_FEATURES, 64, OUT_FEATURES).to(device)\n",
    "loss_fn = nn.MSELoss()\n",
    "optimizer = torch.optim.AdamW(model.parameters(),lr=LEARNING_RATE)"
   ]
  },
  {
   "cell_type": "code",
   "execution_count": 7,
   "id": "4108c6e4-e87a-4b02-840e-827c166037f7",
   "metadata": {
    "execution": {
     "iopub.execute_input": "2024-03-30T19:43:00.412051Z",
     "iopub.status.busy": "2024-03-30T19:43:00.411873Z",
     "iopub.status.idle": "2024-03-30T19:45:42.538791Z",
     "shell.execute_reply": "2024-03-30T19:45:42.538472Z",
     "shell.execute_reply.started": "2024-03-30T19:43:00.412040Z"
    }
   },
   "outputs": [
    {
     "name": "stdout",
     "output_type": "stream",
     "text": [
      "Epoch: 0 | Train loss: 0.00488 | Test loss: 0.00482\n",
      "Epoch: 1 | Train loss: 0.00483 | Test loss: 0.00483\n"
     ]
    }
   ],
   "source": [
    "torch.manual_seed(42)\n",
    "epochs = 2\n",
    "train_loss_list = []\n",
    "test_loss_list = []\n",
    "# this will write training and testing losses after each batch to a txt file. Delete this if not necessary.\n",
    "f = open(\"loss_FCNN.txt\", \"w\")\n",
    "\n",
    "for epoch in range(epochs):\n",
    "    train_loss = 0\n",
    "    for batch, (X, y) in enumerate(train_dataloader):\n",
    "        model.train()\n",
    "        y_pred = model(X.to(device))\n",
    "        loss = loss_fn(y_pred, y.to(device))\n",
    "        train_loss += loss # accumulatively add up the loss per epoch\n",
    "        optimizer.zero_grad()\n",
    "        loss.backward()\n",
    "        optimizer.step()\n",
    "\n",
    "    # Divide total train loss by length of train dataloader (average loss per batch per epoch)\n",
    "    train_loss /= len(train_dataloader)\n",
    "    train_loss_list.append(train_loss.detach().cpu().numpy())\n",
    "    \n",
    "    with torch.inference_mode():\n",
    "        test_loss = 0\n",
    "        model.eval()\n",
    "        for X, y in test_dataloader:\n",
    "            test_pred = model(X.to(device))\n",
    "            test_loss += loss_fn(test_pred, y.to(device)) # accumulatively add up the loss per epoch\n",
    "        \n",
    "        # Divide total test loss by length of test dataloader (per batch)\n",
    "        test_loss /= len(test_dataloader)\n",
    "        test_loss_list.append(test_loss.detach().cpu().numpy())\n",
    "        \n",
    "    print(f\"Epoch: {epoch} | Train loss: {train_loss:.5f} | Test loss: {test_loss:.5f}\")\n",
    "   \n",
    "    f.write(str(epoch) + '\\t' + f\"{float(train_loss):.5f}\" + '\\t' + f\"{float(test_loss):.5f}\" + '\\n')\n",
    "    \n",
    "f.close()"
   ]
  },
  {
   "cell_type": "code",
   "execution_count": 8,
   "id": "4eefb516-5153-42a0-b85e-4f4d17c95939",
   "metadata": {
    "execution": {
     "iopub.execute_input": "2024-03-30T19:45:42.540022Z",
     "iopub.status.busy": "2024-03-30T19:45:42.539857Z",
     "iopub.status.idle": "2024-03-30T19:45:48.520540Z",
     "shell.execute_reply": "2024-03-30T19:45:48.520183Z",
     "shell.execute_reply.started": "2024-03-30T19:45:42.540011Z"
    }
   },
   "outputs": [],
   "source": [
    "# combine batches\n",
    "test_pred = []\n",
    "with torch.inference_mode():\n",
    "    test_loss = 0\n",
    "    model.eval()\n",
    "    for X, y in test_dataloader:\n",
    "        test_pred_batch = model(X.to(device))\n",
    "        test_pred.append(test_pred_batch)\n",
    "\n",
    "test_pred = torch.cat(tuple(test_pred), dim=0)\n",
    "# to cpu\n",
    "test_pred = test_pred.detach().cpu().numpy()"
   ]
  },
  {
   "cell_type": "code",
   "execution_count": 9,
   "id": "5c62e1a9-966a-4c49-8517-fef97934030c",
   "metadata": {
    "execution": {
     "iopub.execute_input": "2024-03-30T19:45:48.521281Z",
     "iopub.status.busy": "2024-03-30T19:45:48.521054Z",
     "iopub.status.idle": "2024-03-30T19:45:48.655829Z",
     "shell.execute_reply": "2024-03-30T19:45:48.655530Z",
     "shell.execute_reply.started": "2024-03-30T19:45:48.521271Z"
    }
   },
   "outputs": [
    {
     "data": {
      "text/plain": [
       "[<matplotlib.lines.Line2D at 0x2ba107883150>]"
      ]
     },
     "execution_count": 9,
     "metadata": {},
     "output_type": "execute_result"
    },
    {
     "data": {
      "image/png": "[encoded data removed]",
      "text/plain": [
       "<Figure size 640x480 with 1 Axes>"
      ]
     },
     "metadata": {},
     "output_type": "display_data"
    }
   ],
   "source": [
    "# plot the first sample. Delete this if not necessary.\n",
    "plt.plot(test_pred[0,:])\n",
    "plt.plot(y_test[0,:])"
   ]
  },
  {
   "cell_type": "code",
   "execution_count": 10,
   "id": "fb9f87b0-4413-488d-b338-f8b7cd19bf42",
   "metadata": {
    "execution": {
     "iopub.execute_input": "2024-03-30T19:45:48.656502Z",
     "iopub.status.busy": "2024-03-30T19:45:48.656209Z",
     "iopub.status.idle": "2024-03-30T19:45:48.658141Z",
     "shell.execute_reply": "2024-03-30T19:45:48.657898Z",
     "shell.execute_reply.started": "2024-03-30T19:45:48.656492Z"
    }
   },
   "outputs": [],
   "source": [
    "# # Figure 2 in paper. Can be deleted. Did not do unit coversion, area-weighted, layer-weighted average.\n",
    "\n",
    "# test_ptend_t = y_test[:,:60]\n",
    "# pred_ptend_t = test_pred[:,:60]\n",
    "# test_ptend_q0001_t = y_test[:,60:120]\n",
    "# pred_ptend_q0001_t = test_pred[:,60:120]\n",
    "\n",
    "# fig = plt.figure(figsize=(12,5))\n",
    "# ax1 = fig.add_subplot(221)\n",
    "# # MAE\n",
    "# ax1.plot(np.mean(np.abs(test_ptend_t - pred_ptend_t), axis=0))\n",
    "# ax2 = fig.add_subplot(222)\n",
    "# ax2.plot(np.mean(np.abs(test_ptend_q0001_t - pred_ptend_q0001_t), axis=0))\n",
    "# # R2, only show values greater than 0\n",
    "# R2_test_ptend_t = 1 - ((test_ptend_t - pred_ptend_t) ** 2).sum(0) / ((test_ptend_t - test_ptend_t.mean(0)) ** 2).sum(axis=0)\n",
    "# R2_test_ptend_q0001_t = 1 - ((test_ptend_q0001_t - pred_ptend_q0001_t) ** 2).sum(0) / ((test_ptend_q0001_t - test_ptend_q0001_t.mean(0)) ** 2).sum(axis=0)\n",
    "# ax3 = fig.add_subplot(223)\n",
    "# ax3.set_ylim(0,1)\n",
    "# ax3.plot(R2_test_ptend_t)\n",
    "# ax4 = fig.add_subplot(224)\n",
    "# ax4.set_ylim(0,1)\n",
    "# ax4.plot(R2_test_ptend_q0001_t)"
   ]
  },
  {
   "cell_type": "code",
   "execution_count": 11,
   "id": "bf73860a-6bd7-4371-92b7-b06f7c7444e8",
   "metadata": {
    "execution": {
     "iopub.execute_input": "2024-03-30T19:45:48.658741Z",
     "iopub.status.busy": "2024-03-30T19:45:48.658511Z",
     "iopub.status.idle": "2024-03-30T19:45:48.748966Z",
     "shell.execute_reply": "2024-03-30T19:45:48.748694Z",
     "shell.execute_reply.started": "2024-03-30T19:45:48.658732Z"
    }
   },
   "outputs": [],
   "source": [
    "# # figure 9-12. Can be deleted. Did not do unit coversion, area-weighted, layer-weighted average.\n",
    "# fig = plt.figure(figsize=(12,5))\n",
    "\n",
    "# test_cam_out_NETSW = y_test[:,120]\n",
    "# pred_cam_out_NETSW = test_pred[:,120]\n",
    "# ax1 = fig.add_subplot(241)\n",
    "# ax1.scatter(test_cam_out_NETSW, pred_cam_out_NETSW, s=0.2)\n",
    "# ax1.set_title('NETSW')\n",
    "\n",
    "# test_cam_out_FLWDS = y_test[:,121]\n",
    "# pred_cam_out_FLWDS = test_pred[:,121]\n",
    "# ax2 = fig.add_subplot(242)\n",
    "# ax2.scatter(test_cam_out_FLWDS, pred_cam_out_FLWDS, s=0.2)\n",
    "# ax2.set_title('FLWDS')\n",
    "\n",
    "# test_cam_out_PRECSC = y_test[:,122]\n",
    "# pred_cam_out_PRECSC = test_pred[:,122]\n",
    "# ax3 = fig.add_subplot(243)\n",
    "# ax3.scatter(test_cam_out_PRECSC, pred_cam_out_PRECSC, s=0.2)\n",
    "# ax3.set_title('PRECSC')\n",
    "\n",
    "# test_cam_out_PRECC = y_test[:,123]\n",
    "# pred_cam_out_PRECC = test_pred[:,123]\n",
    "# ax4 = fig.add_subplot(244)\n",
    "# ax4.scatter(test_cam_out_PRECC, pred_cam_out_PRECC, s=0.2)\n",
    "# ax4.set_title('PRECC')\n",
    "\n",
    "# test_cam_out_SOLS = y_test[:,124]\n",
    "# pred_cam_out_SOLS = test_pred[:,124]\n",
    "# ax5 = fig.add_subplot(245)\n",
    "# ax5.scatter(test_cam_out_SOLS, pred_cam_out_SOLS, s=0.2)\n",
    "# ax5.set_title('SOLS')\n",
    "\n",
    "# test_cam_out_SOLL = y_test[:,125]\n",
    "# pred_cam_out_SOLL = test_pred[:,125]\n",
    "# ax5 = fig.add_subplot(246)\n",
    "# ax5.scatter(test_cam_out_SOLL, pred_cam_out_SOLL, s=0.2)\n",
    "# ax5.set_title('SOLL')\n",
    "\n",
    "# test_cam_out_SOLSD = y_test[:,126]\n",
    "# pred_cam_out_SOLSD = test_pred[:,126]\n",
    "# ax5 = fig.add_subplot(247)\n",
    "# ax5.scatter(test_cam_out_SOLSD, pred_cam_out_SOLSD, s=0.2)\n",
    "# ax5.set_title('SOLSD')\n",
    "\n",
    "# test_cam_out_SOLLD = y_test[:,127]\n",
    "# pred_cam_out_SOLLD = test_pred[:,127]\n",
    "# ax6 = fig.add_subplot(248)\n",
    "# ax6.scatter(test_cam_out_SOLLD, pred_cam_out_SOLLD, s=0.2)\n",
    "# ax6.set_title('SOLLD')"
   ]
  },
  {
   "cell_type": "code",
   "execution_count": null,
   "id": "f3f78353-b02e-48dd-a49c-bb8aefada5b2",
   "metadata": {},
   "outputs": [],
   "source": []
  },
  {
   "cell_type": "markdown",
   "id": "7cdbb64e-2da7-4bb4-a368-4fdef884c679",
   "metadata": {},
   "source": [
    "# Post Processing\n",
    "## Copied from ClimSim_metrics.ipynb"
   ]
  },
  {
   "cell_type": "markdown",
   "id": "5c5707ca-1f89-4acf-a901-03e0a05d2d6d",
   "metadata": {},
   "source": [
    "# Convert units to W/m2"
   ]
  },
  {
   "cell_type": "code",
   "execution_count": 12,
   "id": "6aed5e04-1652-42b3-9e3e-8c4f8063b034",
   "metadata": {
    "execution": {
     "iopub.execute_input": "2024-03-30T19:45:48.749490Z",
     "iopub.status.busy": "2024-03-30T19:45:48.749314Z",
     "iopub.status.idle": "2024-03-30T19:45:48.843726Z",
     "shell.execute_reply": "2024-03-30T19:45:48.843474Z",
     "shell.execute_reply.started": "2024-03-30T19:45:48.749481Z"
    }
   },
   "outputs": [],
   "source": [
    "# model name\n",
    "# (model name is used for the output)\n",
    "model_name = 'FCNN'\n",
    "# input of validation dataset (npy)\n",
    "fn_x_true = '/work/sds-lab/Shuochen/climsim/val_input.npy'\n",
    "# true output of validation dataset (npy)\n",
    "fn_y_true = '/work/sds-lab/Shuochen/climsim/val_target.npy'\n",
    "# Model predicted output of varlidation dataset (npy)\n",
    "fn_y_pred = test_pred\n",
    "# model grid information (nc)\n",
    "fn_grid = '/work/sds-lab/Shuochen/climsim/normalizations_git/ClimSim_low-res_grid-info.nc'\n",
    "\n",
    "# normalization and scale factors (nc), fn_mli files are not necessary\n",
    "fn_mli_mean  = '/work/sds-lab/Shuochen/climsim/normalizations_git/inputs/input_mean.nc'\n",
    "fn_mli_min   = '/work/sds-lab/Shuochen/climsim/normalizations_git/inputs/input_min.nc'\n",
    "fn_mli_max   = '/work/sds-lab/Shuochen/climsim/normalizations_git/inputs/input_max.nc'\n",
    "fn_mlo_scale = '/work/sds-lab/Shuochen/climsim/normalizations_git/outputs/output_scale.nc'\n"
   ]
  },
  {
   "cell_type": "code",
   "execution_count": 13,
   "id": "4034235e-2c28-48ae-b415-1897840927fa",
   "metadata": {
    "execution": {
     "iopub.execute_input": "2024-03-30T19:45:48.844911Z",
     "iopub.status.busy": "2024-03-30T19:45:48.844721Z",
     "iopub.status.idle": "2024-03-30T19:45:48.916803Z",
     "shell.execute_reply": "2024-03-30T19:45:48.916554Z",
     "shell.execute_reply.started": "2024-03-30T19:45:48.844902Z"
    }
   },
   "outputs": [],
   "source": [
    "# physical constatns from (E3SM_ROOT/share/util/shr_const_mod.F90)\n",
    "grav    = 9.80616    # acceleration of gravity ~ m/s^2\n",
    "cp      = 1.00464e3  # specific heat of dry air   ~ J/kg/K\n",
    "lv      = 2.501e6    # latent heat of evaporation ~ J/kg\n",
    "lf      = 3.337e5    # latent heat of fusion      ~ J/kg\n",
    "ls      = lv + lf    # latent heat of sublimation ~ J/kg\n",
    "rho_air = 101325./ (6.02214e26*1.38065e-23/28.966) / 273.15 # density of dry air at STP  ~ kg/m^3\n",
    "                                                            # ~ 1.2923182846924677\n",
    "                                                            # SHR_CONST_PSTD/(SHR_CONST_RDAIR*SHR_CONST_TKFRZ)\n",
    "                                                            # SHR_CONST_RDAIR   = SHR_CONST_RGAS/SHR_CONST_MWDAIR\n",
    "                                                            # SHR_CONST_RGAS    = SHR_CONST_AVOGAD*SHR_CONST_BOLTZ\n",
    "rho_h20 = 1.e3       # density of fresh water     ~ kg/m^ 3\n",
    "\n",
    "vars_mlo_energy_conv = {'ptend_t':cp,\n",
    "                        'ptend_q0001':lv,\n",
    "                        'cam_out_NETSW':1.,\n",
    "                        'cam_out_FLWDS':1.,\n",
    "                        'cam_out_PRECSC':lv*rho_h20,\n",
    "                        'cam_out_PRECC':lv*rho_h20,\n",
    "                        'cam_out_SOLS':1.,\n",
    "                        'cam_out_SOLL':1.,\n",
    "                        'cam_out_SOLSD':1.,\n",
    "                        'cam_out_SOLLD':1.\n",
    "                       }\n",
    "vars_longname=\\\n",
    "{'ptend_t':'Heating tendency, ∂T/∂t',\n",
    " 'ptend_q0001':'Moistening tendency, ∂q/∂t',\n",
    " 'cam_out_NETSW':'Net surface shortwave flux, NETSW',\n",
    " 'cam_out_FLWDS':'Downward surface longwave flux, FLWDS',\n",
    " 'cam_out_PRECSC':'Snow rate, PRECSC',\n",
    " 'cam_out_PRECC':'Rain rate, PRECC',\n",
    " 'cam_out_SOLS':'Visible direct solar flux, SOLS',\n",
    " 'cam_out_SOLL':'Near-IR direct solar flux, SOLL',\n",
    " 'cam_out_SOLSD':'Visible diffused solar flux, SOLSD',\n",
    " 'cam_out_SOLLD':'Near-IR diffused solar flux, SOLLD'}"
   ]
  },
  {
   "cell_type": "code",
   "execution_count": 14,
   "id": "09541b99-a361-4044-b212-c05b85602b5b",
   "metadata": {
    "execution": {
     "iopub.execute_input": "2024-03-30T19:45:48.917403Z",
     "iopub.status.busy": "2024-03-30T19:45:48.917163Z",
     "iopub.status.idle": "2024-03-30T19:45:49.700634Z",
     "shell.execute_reply": "2024-03-30T19:45:49.700299Z",
     "shell.execute_reply.started": "2024-03-30T19:45:48.917395Z"
    }
   },
   "outputs": [],
   "source": [
    "# set dimemsion names for xarray datasets\n",
    "dim_name_level  = 'lev'\n",
    "dim_name_sample = 'sample'\n",
    "\n",
    "# load input dataset\n",
    "x_true = np.load(fn_x_true)\n",
    "y_true = np.load(fn_y_true)\n",
    "y_pred = fn_y_pred\n",
    "N_samples = y_pred.shape[0]\n",
    "\n",
    "# load norm/scale factors\n",
    "mlo_scale = xr.open_dataset(fn_mlo_scale)\n",
    "mli_mean  = xr.open_dataset(fn_mli_mean)\n",
    "mli_min   = xr.open_dataset(fn_mli_min)\n",
    "mli_max   = xr.open_dataset(fn_mli_max)"
   ]
  },
  {
   "cell_type": "code",
   "execution_count": 15,
   "id": "0c4c3bc0-c682-4f6d-8885-436a1e63571f",
   "metadata": {
    "execution": {
     "iopub.execute_input": "2024-03-30T19:45:49.701328Z",
     "iopub.status.busy": "2024-03-30T19:45:49.701082Z",
     "iopub.status.idle": "2024-03-30T19:45:49.724938Z",
     "shell.execute_reply": "2024-03-30T19:45:49.724672Z",
     "shell.execute_reply.started": "2024-03-30T19:45:49.701318Z"
    }
   },
   "outputs": [],
   "source": [
    "# load grid information\n",
    "ds_grid = xr.open_dataset(fn_grid) # has ncol:384\n",
    "N_ncol = len(ds_grid['ncol']) # length of ncol dimension (nlat * nlon)\n",
    "\n",
    "# make area-weights\n",
    "ds_grid['area_wgt'] = ds_grid['area'] / ds_grid['area'].mean('ncol')\n",
    "\n",
    "# map ds_grid's ncol dimension -> the N_samples dimension of npy-loayd arrays (e.g., y_pred)\n",
    "to_xarray = {'area_wgt': (dim_name_sample,np.tile(ds_grid['area_wgt'], int(N_samples/len(ds_grid['ncol'])))),\n",
    "            }\n",
    "to_xarray = xr.Dataset(to_xarray)\n",
    "\n",
    "# add nsample-mapped grid variables back to ds_grid\n",
    "ds_grid = xr.merge([ds_grid  [['P0', 'hyai', 'hyam','hybi','hybm','lat','lon','area']],\n",
    "                    to_xarray[['area_wgt']]])"
   ]
  },
  {
   "cell_type": "code",
   "execution_count": 16,
   "id": "45af1ad7-e04f-42e7-b81b-6fae698c9324",
   "metadata": {
    "execution": {
     "iopub.execute_input": "2024-03-30T19:45:49.725594Z",
     "iopub.status.busy": "2024-03-30T19:45:49.725389Z",
     "iopub.status.idle": "2024-03-30T19:45:49.770735Z",
     "shell.execute_reply": "2024-03-30T19:45:49.770484Z",
     "shell.execute_reply.started": "2024-03-30T19:45:49.725585Z"
    }
   },
   "outputs": [],
   "source": [
    "# list of ML output variables\n",
    "vars_mlo = ['ptend_t','ptend_q0001','cam_out_NETSW','cam_out_FLWDS','cam_out_PRECSC',\n",
    "            'cam_out_PRECC','cam_out_SOLS','cam_out_SOLL','cam_out_SOLSD','cam_out_SOLLD'] # mlo mean ML output.\n",
    "\n",
    "# length of each variable\n",
    "# (make sure that the order of variables are correct)\n",
    "vars_mlo_len = {'ptend_t':60,\n",
    "                'ptend_q0001':60,\n",
    "                'cam_out_NETSW':1,\n",
    "                'cam_out_FLWDS':1,\n",
    "                'cam_out_PRECSC':1,\n",
    "                'cam_out_PRECC':1,\n",
    "                'cam_out_SOLS':1,\n",
    "                'cam_out_SOLL':1,\n",
    "                'cam_out_SOLSD':1,\n",
    "                'cam_out_SOLLD':1\n",
    "               }\n",
    "\n",
    "# map the length of dimension to the name of dimension\n",
    "len_to_dim = {60:dim_name_level,\n",
    "              N_samples: dim_name_sample}"
   ]
  },
  {
   "cell_type": "code",
   "execution_count": 17,
   "id": "ba532af0-9046-487d-b967-1864f619f81c",
   "metadata": {
    "execution": {
     "iopub.execute_input": "2024-03-30T19:45:49.771328Z",
     "iopub.status.busy": "2024-03-30T19:45:49.771084Z",
     "iopub.status.idle": "2024-03-30T19:45:55.605821Z",
     "shell.execute_reply": "2024-03-30T19:45:55.605480Z",
     "shell.execute_reply.started": "2024-03-30T19:45:49.771320Z"
    }
   },
   "outputs": [],
   "source": [
    "# Here, we first construct a dictionary of {var name: (dimension name, array-like)},\n",
    "# then, map the dictionary to an Xarray Dataset.\n",
    "# (ref: https://docs.xarray.dev/en/stable/generated/xarray.Dataset.html)\n",
    "\n",
    "DS = {}\n",
    "\n",
    "for kds in ['true', 'pred']:\n",
    "    if kds=='true':\n",
    "        work = y_true\n",
    "    elif kds=='pred':\n",
    "        work = y_pred\n",
    "\n",
    "    # [1] Construct dictionary for xarray dataset\n",
    "    #     format is key for variable name /\n",
    "    #               value for a turple of (dimension names, data).\n",
    "    to_xarray = {}\n",
    "    for k, kvar in enumerate(vars_mlo):\n",
    "\n",
    "        # length of variable (ie, number of levels)\n",
    "        kvar_len = vars_mlo_len[kvar]\n",
    "\n",
    "        # set dimensions of variable\n",
    "        if kvar_len == 60:\n",
    "            kvar_dims = (dim_name_sample, dim_name_level)\n",
    "        elif kvar_len == 1:\n",
    "            kvar_dims = dim_name_sample\n",
    "\n",
    "        # set start and end indices of variable in the loaded numpy array\n",
    "        # then, add 'kvar':(kvar_dims, <np_array>) to dictionary\n",
    "        if k==0: ind1=0\n",
    "        ind2 = ind1 + kvar_len\n",
    "\n",
    "        # scaled output\n",
    "        kvar_data = np.squeeze(work[:,ind1:ind2])\n",
    "        # unscaled output\n",
    "        kvar_data = kvar_data / mlo_scale[kvar].values\n",
    "\n",
    "        to_xarray[kvar] = (kvar_dims, kvar_data)\n",
    "\n",
    "        ind1 = ind2\n",
    "\n",
    "    # [2] convert dict to xarray dataset\n",
    "    DS[kds] = xr.Dataset(to_xarray)\n",
    "\n",
    "    # [3] add surface pressure ('state_ps') from ml input\n",
    "    # normalized ps\n",
    "    state_ps =  xr.DataArray(x_true[:,120], dims=('sample'), name='state_ps')\n",
    "    # denormalized ps\n",
    "    state_ps = state_ps * (mli_max['state_ps'] - mli_min['state_ps']) + mli_mean['state_ps']\n",
    "    DS[kds]['state_ps'] = state_ps\n",
    "\n",
    "    # [4] add grid information\n",
    "    DS[kds] = xr.merge([DS[kds], ds_grid])\n",
    "\n",
    "    # [5] add pressure thickness of each level, dp\n",
    "    # FYI, in a hybrid sigma vertical coordinate system, pressure at level z is\n",
    "    # P[x,z] = hyam[z]*P0 + hybm[z]*PS[x,z],\n",
    "    # where, hyam and hybm are \n",
    "    tmp = DS[kds]['P0']*DS[kds]['hyai'] + DS[kds]['state_ps']*DS[kds]['hybi']\n",
    "    tmp = tmp.isel(ilev=slice(1,61)).values - tmp.isel(ilev=slice(0,60)).values\n",
    "    tmp = tmp.transpose()\n",
    "    DS[kds]['dp'] = xr.DataArray(tmp, dims=('sample', 'lev'))\n",
    "\n",
    "    # [6] break (sample) to (ncol,time)\n",
    "    N_timestep = int(N_samples/N_ncol)\n",
    "    dim_ncol     = np.arange(N_ncol)\n",
    "    dim_timestep = np.arange(N_timestep)\n",
    "    new_ind = pd.MultiIndex.from_product([dim_timestep, dim_ncol],\n",
    "                                         names=['time', 'ncol'])\n",
    "    DS[kds] = DS[kds].assign_coords(sample=new_ind).unstack('sample')\n",
    "\n",
    "del work, to_xarray, y_true, y_pred, x_true, state_ps, tmp"
   ]
  },
  {
   "cell_type": "code",
   "execution_count": 18,
   "id": "c0a88893-25d3-44af-a1ac-67403ab40594",
   "metadata": {
    "execution": {
     "iopub.execute_input": "2024-03-30T19:45:55.606510Z",
     "iopub.status.busy": "2024-03-30T19:45:55.606283Z",
     "iopub.status.idle": "2024-03-30T19:46:02.350188Z",
     "shell.execute_reply": "2024-03-30T19:46:02.349840Z",
     "shell.execute_reply.started": "2024-03-30T19:45:55.606500Z"
    }
   },
   "outputs": [],
   "source": [
    "# [1] Weight vertical levels by dp/g that is equivalent to a mass of air within a grid cell per unit area [kg/m2]\n",
    "# [2] Weight horizontal area of each grid cell by a[x]/mean(a[x]).\n",
    "# [3] Unit conversion to a common energy unit\n",
    "\n",
    "DS_ENERGY = {}\n",
    "for kds in ['true','pred']:\n",
    "    # Make a copy to keep original dataset\n",
    "    DS_ENERGY[kds] = DS[kds].copy(deep=True)\n",
    "\n",
    "    # vertical weighting / area weighting / unit conversion\n",
    "    for kvar in vars_mlo:\n",
    "\n",
    "        # [1] weight vertical levels by dp/g\n",
    "        #     ONLY for vertically-resolved variables, e.g., ptend_{t,q0001}\n",
    "        # dp/g = - \\rho * dz\n",
    "        if vars_mlo_len[kvar] == 60:\n",
    "            DS_ENERGY[kds][kvar] = DS_ENERGY[kds][kvar] * DS_ENERGY[kds]['dp']/grav\n",
    "\n",
    "        # [2] weight area\n",
    "        #     for ALL variables\n",
    "        DS_ENERGY[kds][kvar] = DS_ENERGY[kds]['area_wgt'] * DS_ENERGY[kds][kvar]\n",
    "\n",
    "        # [3] convert units to W/m2\n",
    "        #     for variables with different units, e.g., ptend_{t,q0001}, precsc, precc\n",
    "        DS_ENERGY[kds][kvar] =  vars_mlo_energy_conv[kvar] * DS_ENERGY[kds][kvar]"
   ]
  },
  {
   "cell_type": "code",
   "execution_count": 19,
   "id": "4985125d-7949-4c53-b0e0-3caccb68c3ad",
   "metadata": {
    "execution": {
     "iopub.execute_input": "2024-03-30T19:46:02.350964Z",
     "iopub.status.busy": "2024-03-30T19:46:02.350721Z",
     "iopub.status.idle": "2024-03-30T19:46:16.417759Z",
     "shell.execute_reply": "2024-03-30T19:46:16.417338Z",
     "shell.execute_reply.started": "2024-03-30T19:46:02.350953Z"
    }
   },
   "outputs": [],
   "source": [
    "all_metrics = ['MAE','RMSE','R2']\n",
    "\n",
    "# A. Calculate metrics\n",
    "# After this step,\n",
    "# ptend_{t,q0001} have [ncol, lev] dimension;\n",
    "# and the rest variables have [ncol] dimension.\n",
    "\n",
    "# if spatial analysis is desired (e.g., R2 distribution on global map or on latitude-level plane),\n",
    "# the metrics at this step should be used.\n",
    "\n",
    "\n",
    "# Select only ML output varibles\n",
    "DS_ENERGY[kds] = DS_ENERGY[kds][vars_mlo]\n",
    "\n",
    "# Caclulate 3 metrics\n",
    "Metrics = {}\n",
    "Metrics['MAE']  = (np.abs(DS_ENERGY['true']   - DS_ENERGY['pred'])).mean('time')\n",
    "Metrics['RMSE'] = np.sqrt(((DS_ENERGY['true'] - DS_ENERGY['pred'])**2.).mean('time'))\n",
    "Metrics['R2'] = 1 - ((DS_ENERGY['true'] - DS_ENERGY['pred']                    )**2.).sum('time')/\\\n",
    "                    ((DS_ENERGY['true'] - DS_ENERGY['true'].mean('time'))**2.).sum('time')\n",
    "\n",
    "# Save grid-wise metric files in netcdf format\n",
    "if True:\n",
    "    for kmetric in ['MAE', 'RMSE', 'R2']:\n",
    "        fn_save = f'./metrics_netcdf/{model_name}_{kmetric}.nc'\n",
    "        Metrics[kmetric].to_netcdf(fn_save)"
   ]
  },
  {
   "cell_type": "code",
   "execution_count": 20,
   "id": "cc31ba44-07f4-47b9-bcbe-880c75463b42",
   "metadata": {
    "execution": {
     "iopub.execute_input": "2024-03-30T19:46:16.418506Z",
     "iopub.status.busy": "2024-03-30T19:46:16.418344Z",
     "iopub.status.idle": "2024-03-30T19:46:16.423107Z",
     "shell.execute_reply": "2024-03-30T19:46:16.422837Z",
     "shell.execute_reply.started": "2024-03-30T19:46:16.418496Z"
    }
   },
   "outputs": [],
   "source": [
    "# B. Make horizontal mean.\n",
    "# After this step,\n",
    "# ptend_{t,q0001} have [lev] dimension;\n",
    "# and the rest variables have zero dimensions, i.e., scalars.\n",
    "\n",
    "for kmetric in all_metrics:\n",
    "    Metrics[kmetric] = Metrics[kmetric].mean('ncol') # simple mean"
   ]
  },
  {
   "cell_type": "code",
   "execution_count": 21,
   "id": "de137852-1e58-46d5-aca4-6dbb92e68c3c",
   "metadata": {
    "execution": {
     "iopub.execute_input": "2024-03-30T19:46:16.423691Z",
     "iopub.status.busy": "2024-03-30T19:46:16.423498Z",
     "iopub.status.idle": "2024-03-30T19:46:16.569672Z",
     "shell.execute_reply": "2024-03-30T19:46:16.569413Z",
     "shell.execute_reply.started": "2024-03-30T19:46:16.423682Z"
    }
   },
   "outputs": [
    {
     "data": {
      "text/html": [
       "<div>\n",
       "<style scoped>\n",
       "    .dataframe tbody tr th:only-of-type {\n",
       "        vertical-align: middle;\n",
       "    }\n",
       "\n",
       "    .dataframe tbody tr th {\n",
       "        vertical-align: top;\n",
       "    }\n",
       "\n",
       "    .dataframe thead th {\n",
       "        text-align: right;\n",
       "    }\n",
       "</style>\n",
       "<table border=\"1\" class=\"dataframe\">\n",
       "  <thead>\n",
       "    <tr style=\"text-align: right;\">\n",
       "      <th></th>\n",
       "      <th>MAE</th>\n",
       "      <th>RMSE</th>\n",
       "      <th>R2</th>\n",
       "    </tr>\n",
       "    <tr>\n",
       "      <th>output_idx</th>\n",
       "      <th></th>\n",
       "      <th></th>\n",
       "      <th></th>\n",
       "    </tr>\n",
       "  </thead>\n",
       "  <tbody>\n",
       "    <tr>\n",
       "      <th>0</th>\n",
       "      <td>0.005474</td>\n",
       "      <td>0.010528</td>\n",
       "      <td>0.607667</td>\n",
       "    </tr>\n",
       "    <tr>\n",
       "      <th>1</th>\n",
       "      <td>0.013275</td>\n",
       "      <td>0.020637</td>\n",
       "      <td>0.711470</td>\n",
       "    </tr>\n",
       "    <tr>\n",
       "      <th>2</th>\n",
       "      <td>0.016389</td>\n",
       "      <td>0.024976</td>\n",
       "      <td>0.894422</td>\n",
       "    </tr>\n",
       "    <tr>\n",
       "      <th>3</th>\n",
       "      <td>0.033064</td>\n",
       "      <td>0.045853</td>\n",
       "      <td>0.924836</td>\n",
       "    </tr>\n",
       "    <tr>\n",
       "      <th>4</th>\n",
       "      <td>0.055550</td>\n",
       "      <td>0.072563</td>\n",
       "      <td>0.955169</td>\n",
       "    </tr>\n",
       "    <tr>\n",
       "      <th>...</th>\n",
       "      <td>...</td>\n",
       "      <td>...</td>\n",
       "      <td>...</td>\n",
       "    </tr>\n",
       "    <tr>\n",
       "      <th>123</th>\n",
       "      <td>66.095850</td>\n",
       "      <td>116.131365</td>\n",
       "      <td>-7736.145057</td>\n",
       "    </tr>\n",
       "    <tr>\n",
       "      <th>124</th>\n",
       "      <td>17.767916</td>\n",
       "      <td>31.273829</td>\n",
       "      <td>0.859288</td>\n",
       "    </tr>\n",
       "    <tr>\n",
       "      <th>125</th>\n",
       "      <td>21.019302</td>\n",
       "      <td>36.282514</td>\n",
       "      <td>0.845554</td>\n",
       "    </tr>\n",
       "    <tr>\n",
       "      <th>126</th>\n",
       "      <td>9.545241</td>\n",
       "      <td>16.701563</td>\n",
       "      <td>0.861346</td>\n",
       "    </tr>\n",
       "    <tr>\n",
       "      <th>127</th>\n",
       "      <td>8.493807</td>\n",
       "      <td>15.398232</td>\n",
       "      <td>0.694718</td>\n",
       "    </tr>\n",
       "  </tbody>\n",
       "</table>\n",
       "<p>128 rows × 3 columns</p>\n",
       "</div>"
      ],
      "text/plain": [
       "                  MAE        RMSE           R2\n",
       "output_idx                                    \n",
       "0            0.005474    0.010528     0.607667\n",
       "1            0.013275    0.020637     0.711470\n",
       "2            0.016389    0.024976     0.894422\n",
       "3            0.033064    0.045853     0.924836\n",
       "4            0.055550    0.072563     0.955169\n",
       "...               ...         ...          ...\n",
       "123         66.095850  116.131365 -7736.145057\n",
       "124         17.767916   31.273829     0.859288\n",
       "125         21.019302   36.282514     0.845554\n",
       "126          9.545241   16.701563     0.861346\n",
       "127          8.493807   15.398232     0.694718\n",
       "\n",
       "[128 rows x 3 columns]"
      ]
     },
     "execution_count": 21,
     "metadata": {},
     "output_type": "execute_result"
    }
   ],
   "source": [
    "# C-1. Save the result after B.\n",
    "# to save in a table format as a csv file, the level dimensions are flattened.\n",
    "\n",
    "Metrics_stacked = {}\n",
    "for kmetric in all_metrics:\n",
    "    Metrics_stacked[kmetric] = Metrics[kmetric].to_stacked_array('ml_out_idx', sample_dims='', name=kmetric)\n",
    "\n",
    "\n",
    "# save the output\n",
    "work = pd.DataFrame({'MAE':  Metrics_stacked['MAE'].values,\n",
    "                     'RMSE': Metrics_stacked['RMSE'].values,\n",
    "                     'R2':   Metrics_stacked['R2'].values}\n",
    "                    )\n",
    "work.index.name = 'output_idx'\n",
    "\n",
    "# save to the metrics folder\n",
    "fn_save_metrics = f'./metrics/{model_name}.metrics.csv'\n",
    "work.to_csv(fn_save_metrics)\n",
    "work"
   ]
  },
  {
   "cell_type": "code",
   "execution_count": 22,
   "id": "81f9ad67-f1fb-4bd5-81fe-ba08deb7b7fa",
   "metadata": {
    "execution": {
     "iopub.execute_input": "2024-03-30T19:46:16.570151Z",
     "iopub.status.busy": "2024-03-30T19:46:16.570043Z",
     "iopub.status.idle": "2024-03-30T19:46:16.697059Z",
     "shell.execute_reply": "2024-03-30T19:46:16.696795Z",
     "shell.execute_reply.started": "2024-03-30T19:46:16.570143Z"
    }
   },
   "outputs": [
    {
     "data": {
      "text/plain": [
       "<Axes: xlabel='output_idx'>"
      ]
     },
     "execution_count": 22,
     "metadata": {},
     "output_type": "execute_result"
    },
    {
     "data": {
      "image/png": "[encoded data removed]",
      "text/plain": [
       "<Figure size 640x480 with 1 Axes>"
      ]
     },
     "metadata": {},
     "output_type": "display_data"
    }
   ],
   "source": [
    "# try to reproduce their plot 2\n",
    "work['MAE'][:60].plot()"
   ]
  },
  {
   "cell_type": "code",
   "execution_count": 23,
   "id": "e9431e17-8394-4029-848b-02c40cf5ddc0",
   "metadata": {
    "execution": {
     "iopub.execute_input": "2024-03-30T19:46:16.697778Z",
     "iopub.status.busy": "2024-03-30T19:46:16.697510Z",
     "iopub.status.idle": "2024-03-30T19:46:16.716566Z",
     "shell.execute_reply": "2024-03-30T19:46:16.716325Z",
     "shell.execute_reply.started": "2024-03-30T19:46:16.697767Z"
    }
   },
   "outputs": [
    {
     "data": {
      "text/html": [
       "<div>\n",
       "<style scoped>\n",
       "    .dataframe tbody tr th:only-of-type {\n",
       "        vertical-align: middle;\n",
       "    }\n",
       "\n",
       "    .dataframe tbody tr th {\n",
       "        vertical-align: top;\n",
       "    }\n",
       "\n",
       "    .dataframe thead th {\n",
       "        text-align: right;\n",
       "    }\n",
       "</style>\n",
       "<table border=\"1\" class=\"dataframe\">\n",
       "  <thead>\n",
       "    <tr style=\"text-align: right;\">\n",
       "      <th></th>\n",
       "      <th>MAE</th>\n",
       "      <th>RMSE</th>\n",
       "      <th>R2</th>\n",
       "    </tr>\n",
       "    <tr>\n",
       "      <th>Variable</th>\n",
       "      <th></th>\n",
       "      <th></th>\n",
       "      <th></th>\n",
       "    </tr>\n",
       "  </thead>\n",
       "  <tbody>\n",
       "    <tr>\n",
       "      <th>ptend_t</th>\n",
       "      <td>3.718854</td>\n",
       "      <td>5.731380</td>\n",
       "      <td>-0.054770</td>\n",
       "    </tr>\n",
       "    <tr>\n",
       "      <th>ptend_q0001</th>\n",
       "      <td>5.453398</td>\n",
       "      <td>8.509982</td>\n",
       "      <td>-inf</td>\n",
       "    </tr>\n",
       "    <tr>\n",
       "      <th>cam_out_NETSW</th>\n",
       "      <td>31.527898</td>\n",
       "      <td>52.354284</td>\n",
       "      <td>0.914024</td>\n",
       "    </tr>\n",
       "    <tr>\n",
       "      <th>cam_out_FLWDS</th>\n",
       "      <td>10.180275</td>\n",
       "      <td>12.777631</td>\n",
       "      <td>0.770897</td>\n",
       "    </tr>\n",
       "    <tr>\n",
       "      <th>cam_out_PRECSC</th>\n",
       "      <td>6.669687</td>\n",
       "      <td>9.970116</td>\n",
       "      <td>-inf</td>\n",
       "    </tr>\n",
       "    <tr>\n",
       "      <th>cam_out_PRECC</th>\n",
       "      <td>66.095850</td>\n",
       "      <td>116.131365</td>\n",
       "      <td>-7736.145057</td>\n",
       "    </tr>\n",
       "    <tr>\n",
       "      <th>cam_out_SOLS</th>\n",
       "      <td>17.767916</td>\n",
       "      <td>31.273829</td>\n",
       "      <td>0.859288</td>\n",
       "    </tr>\n",
       "    <tr>\n",
       "      <th>cam_out_SOLL</th>\n",
       "      <td>21.019302</td>\n",
       "      <td>36.282514</td>\n",
       "      <td>0.845554</td>\n",
       "    </tr>\n",
       "    <tr>\n",
       "      <th>cam_out_SOLSD</th>\n",
       "      <td>9.545241</td>\n",
       "      <td>16.701563</td>\n",
       "      <td>0.861346</td>\n",
       "    </tr>\n",
       "    <tr>\n",
       "      <th>cam_out_SOLLD</th>\n",
       "      <td>8.493807</td>\n",
       "      <td>15.398232</td>\n",
       "      <td>0.694718</td>\n",
       "    </tr>\n",
       "  </tbody>\n",
       "</table>\n",
       "</div>"
      ],
      "text/plain": [
       "                      MAE        RMSE           R2\n",
       "Variable                                          \n",
       "ptend_t          3.718854    5.731380    -0.054770\n",
       "ptend_q0001      5.453398    8.509982         -inf\n",
       "cam_out_NETSW   31.527898   52.354284     0.914024\n",
       "cam_out_FLWDS   10.180275   12.777631     0.770897\n",
       "cam_out_PRECSC   6.669687    9.970116         -inf\n",
       "cam_out_PRECC   66.095850  116.131365 -7736.145057\n",
       "cam_out_SOLS    17.767916   31.273829     0.859288\n",
       "cam_out_SOLL    21.019302   36.282514     0.845554\n",
       "cam_out_SOLSD    9.545241   16.701563     0.861346\n",
       "cam_out_SOLLD    8.493807   15.398232     0.694718"
      ]
     },
     "execution_count": 23,
     "metadata": {},
     "output_type": "execute_result"
    }
   ],
   "source": [
    "# C-2. Save the result after vertical averaging.\n",
    "# After this step,\n",
    "# ptend_{t,q0001} also have zero dimensions, i.e., scalars;\n",
    "\n",
    "# Then, the results are saved to a csv file.\n",
    "# This csv file will be used for generating plots.\n",
    "\n",
    "Metrics_vert_avg = {}\n",
    "for kmetric in all_metrics:\n",
    "    Metrics_vert_avg[kmetric] = Metrics[kmetric].mean('lev')\n",
    "    Metrics_vert_avg[kmetric] = Metrics_vert_avg[kmetric].mean('ilev') # remove dummy dim\n",
    "\n",
    "# save the output\n",
    "work = pd.DataFrame({'MAE':  Metrics_vert_avg['MAE'].to_pandas(),\n",
    "                     'RMSE': Metrics_vert_avg['RMSE'].to_pandas(),\n",
    "                     'R2':   Metrics_vert_avg['R2'].to_pandas()}\n",
    "                    )\n",
    "work.index.name = 'Variable'\n",
    "\n",
    "# save to the metrics folder\n",
    "fn_save_metrics_avg = f'./metrics/{model_name}.metrics.lev-avg.csv'\n",
    "work.to_csv(fn_save_metrics_avg)\n",
    "work"
   ]
  },
  {
   "cell_type": "code",
   "execution_count": null,
   "id": "d52a2638-d299-45d8-903f-fc1cb51a9235",
   "metadata": {},
   "outputs": [],
   "source": []
  },
  {
   "cell_type": "code",
   "execution_count": null,
   "id": "b9d15bcd-fd9d-48c5-8e1b-c6629275af3b",
   "metadata": {},
   "outputs": [],
   "source": []
  },
  {
   "cell_type": "code",
   "execution_count": null,
   "id": "4997c3f0-ac94-4ca0-8aa5-35d8a1de8e09",
   "metadata": {},
   "outputs": [],
   "source": []
  }
 ],
 "metadata": {
  "kernelspec": {
   "display_name": "Python 3 (ipykernel)",
   "language": "python",
   "name": "python3"
  },
  "language_info": {
   "codemirror_mode": {
    "name": "ipython",
    "version": 3
   },
   "file_extension": ".py",
   "mimetype": "text/x-python",
   "name": "python",
   "nbconvert_exporter": "python",
   "pygments_lexer": "ipython3",
   "version": "3.11.9"
  }
 },
 "nbformat": 4,
 "nbformat_minor": 5
}
