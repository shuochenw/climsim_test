{
 "cells": [
  {
   "cell_type": "code",
   "execution_count": 1,
   "id": "d499c3ed-39cc-40df-a867-815079bea2d2",
   "metadata": {
    "execution": {
     "iopub.execute_input": "2024-03-05T00:03:15.562751Z",
     "iopub.status.busy": "2024-03-05T00:03:15.562429Z",
     "iopub.status.idle": "2024-03-05T00:03:19.973533Z",
     "shell.execute_reply": "2024-03-05T00:03:19.973132Z",
     "shell.execute_reply.started": "2024-03-05T00:03:15.562736Z"
    }
   },
   "outputs": [],
   "source": [
    "import xarray as xr\n",
    "import os\n",
    "import netCDF4\n",
    "import numpy as np\n",
    "import torch\n",
    "from torch import nn\n",
    "import matplotlib.pyplot as plt\n",
    "from sklearn.model_selection import train_test_split\n",
    "from torch.utils.data import DataLoader\n",
    "from torch.utils.data import random_split\n",
    "import random\n",
    "import pandas as pd\n",
    "from torch.utils.data import DataLoader, TensorDataset\n",
    "from sklearn.preprocessing import StandardScaler\n",
    "from torch.optim.lr_scheduler import ReduceLROnPlateau"
   ]
  },
  {
   "cell_type": "markdown",
   "id": "251b9b56-d167-4fa4-8644-e1aa94d74d64",
   "metadata": {},
   "source": [
    "# combine mli/mlo data to one nc file"
   ]
  },
  {
   "cell_type": "code",
   "execution_count": 2,
   "id": "476eeade-f5bd-4a59-8b6e-acbdfed79307",
   "metadata": {
    "execution": {
     "iopub.execute_input": "2024-03-03T22:12:23.580842Z",
     "iopub.status.busy": "2024-03-03T22:12:23.580184Z",
     "iopub.status.idle": "2024-03-03T22:12:23.586144Z",
     "shell.execute_reply": "2024-03-03T22:12:23.585217Z",
     "shell.execute_reply.started": "2024-03-03T22:12:23.580802Z"
    }
   },
   "outputs": [],
   "source": [
    "# from os import listdir\n",
    "# from os.path import isfile, join\n",
    "\n",
    "# mypath = '/work/sds-lab/Shuochen/climsim/train'\n",
    "# # allfiles = [f for f in listdir(mypath) if isfile(join(mypath, f))]\n",
    "# allfiles = []\n",
    "# for path, subdirs, files in os.walk(mypath):\n",
    "#     for name in files:\n",
    "#        allfiles.append(os.path.join(path, name))\n",
    "# print(len(allfiles))\n",
    "\n",
    "# mli_files = []\n",
    "# mlo_files = []\n",
    "\n",
    "# for i in range(len(allfiles)):\n",
    "#     if 'mli' in allfiles[i]:\n",
    "#         mli_files.append(allfiles[i])\n",
    "#     if 'mlo' in allfiles[i]:\n",
    "#         mlo_files.append(allfiles[i])\n",
    "\n",
    "# ds_mli = []\n",
    "# ds_mlo = []\n",
    "\n",
    "# for i in range(len(mli_files)):\n",
    "#     ds_mli.append(xr.open_dataset(mli_files[i]).expand_dims('time'))\n",
    "# for i in range(len(mlo_files)):\n",
    "#     ds_mlo.append(xr.open_dataset(mlo_files[i]).expand_dims('time'))\n",
    "\n",
    "# combined_mli = xr.concat(ds_mli, dim='time').to_netcdf(/work/sds-lab/Shuochen/climsim/ + 'val_mli.nc')\n",
    "# combined_mlo = xr.concat(ds_mlo, dim='time').to_netcdf('/work/sds-lab/Shuochen/climsim/' + 'val_mlo.nc')"
   ]
  },
  {
   "cell_type": "code",
   "execution_count": null,
   "id": "7ede7d3b-856e-49f7-9f92-31d23d54d8a8",
   "metadata": {},
   "outputs": [],
   "source": []
  },
  {
   "cell_type": "code",
   "execution_count": null,
   "id": "17dde1ae-06c7-41d4-91cf-d6e9efc4c274",
   "metadata": {},
   "outputs": [],
   "source": []
  },
  {
   "cell_type": "markdown",
   "id": "b808c850-b4dc-4985-99d9-adeb6eb94dea",
   "metadata": {},
   "source": [
    "# preprocessing"
   ]
  },
  {
   "cell_type": "code",
   "execution_count": 3,
   "id": "462fcd93-5d14-415f-b382-2c4dced7978c",
   "metadata": {
    "execution": {
     "iopub.execute_input": "2024-03-03T22:12:23.587591Z",
     "iopub.status.busy": "2024-03-03T22:12:23.587179Z",
     "iopub.status.idle": "2024-03-03T22:12:24.403660Z",
     "shell.execute_reply": "2024-03-03T22:12:24.402873Z",
     "shell.execute_reply.started": "2024-03-03T22:12:23.587563Z"
    }
   },
   "outputs": [],
   "source": [
    "mli = xr.open_dataset('/work/sds-lab/Shuochen/climsim/val_mli.nc')\n",
    "mlo = xr.open_dataset('/work/sds-lab/Shuochen/climsim/val_mlo.nc')"
   ]
  },
  {
   "cell_type": "code",
   "execution_count": 4,
   "id": "db8a7a85-05da-4f3c-9e30-31f71d25fa33",
   "metadata": {
    "execution": {
     "iopub.execute_input": "2024-03-03T22:12:24.405756Z",
     "iopub.status.busy": "2024-03-03T22:12:24.404778Z",
     "iopub.status.idle": "2024-03-03T22:12:24.982986Z",
     "shell.execute_reply": "2024-03-03T22:12:24.981967Z",
     "shell.execute_reply.started": "2024-03-03T22:12:24.405721Z"
    }
   },
   "outputs": [],
   "source": [
    "# fix time index\n",
    "\n",
    "date = []\n",
    "for i in range(len(mli.ymd.values)):\n",
    "    my_str=str(mli.ymd.values[i])\n",
    "    date.append(my_str[:0] + '200' + my_str[0:])\n",
    "\n",
    "mli['time'] = pd.to_datetime(date) + pd.to_timedelta(mli.tod.values, unit='s')\n",
    "mlo['time'] = pd.to_datetime(date) + pd.to_timedelta(mlo.tod.values, unit='s')"
   ]
  },
  {
   "cell_type": "code",
   "execution_count": 5,
   "id": "9ce5c565-deaa-4d52-8a48-2a6081992bf0",
   "metadata": {
    "execution": {
     "iopub.execute_input": "2024-03-03T22:12:24.984695Z",
     "iopub.status.busy": "2024-03-03T22:12:24.984130Z",
     "iopub.status.idle": "2024-03-03T22:12:24.990067Z",
     "shell.execute_reply": "2024-03-03T22:12:24.989270Z",
     "shell.execute_reply.started": "2024-03-03T22:12:24.984677Z"
    }
   },
   "outputs": [],
   "source": [
    "# downsample data every 7 samples, data frequency is 1200s.\n",
    "mli = mli.isel(time=slice(None,None,7))\n",
    "mlo = mlo.isel(time=slice(None,None,7))"
   ]
  },
  {
   "cell_type": "code",
   "execution_count": 6,
   "id": "11ee74af-d642-44ec-a278-855fa5a959a8",
   "metadata": {
    "execution": {
     "iopub.execute_input": "2024-03-03T22:12:24.994412Z",
     "iopub.status.busy": "2024-03-03T22:12:24.993736Z",
     "iopub.status.idle": "2024-03-03T22:13:12.836766Z",
     "shell.execute_reply": "2024-03-03T22:13:12.836223Z",
     "shell.execute_reply.started": "2024-03-03T22:12:24.994378Z"
    }
   },
   "outputs": [],
   "source": [
    "# in/out variable lists (6:10)\n",
    "vars_mli = ['state_t','state_q0001','state_ps','pbuf_SOLIN', 'pbuf_LHFLX', 'pbuf_SHFLX']\n",
    "vars_mlo = ['ptend_t','ptend_q0001','cam_out_NETSW','cam_out_FLWDS','cam_out_PRECSC','cam_out_PRECC','cam_out_SOLS','cam_out_SOLL','cam_out_SOLSD','cam_out_SOLLD']\n",
    "\n",
    "# nc to numpy to tensor, then reshape\n",
    "input_list = []\n",
    "output_list = []\n",
    "\n",
    "for i in range(len(vars_mli)):\n",
    "    if i < 2:\n",
    "        temp=torch.Tensor(mli[vars_mli[i]].to_numpy())\n",
    "        new_var=temp.permute(0,2,1)\n",
    "        new_var=new_var.reshape(new_var.shape[0] * new_var.shape[1], new_var.shape[2])\n",
    "        input_list.append(new_var)\n",
    "    else:\n",
    "        temp=torch.Tensor(mli[vars_mli[i]].to_numpy())\n",
    "        new_var=temp.reshape(temp.shape[0] * temp.shape[1], 1)\n",
    "        input_list.append(new_var)\n",
    "\n",
    "# calculate heating and moistening tendency.\n",
    "ptend_t = (mlo['state_t'] - mli['state_t']) / 1200\n",
    "ptend_q0001 = (mlo['state_q0001'] - mli['state_q0001']) / 1200\n",
    "\n",
    "ptend_t = torch.Tensor(ptend_t.to_numpy()).permute(0,2,1)\n",
    "ptend_t = ptend_t.reshape(ptend_t.shape[0] * ptend_t.shape[1], ptend_t.shape[2])\n",
    "\n",
    "ptend_q0001 = torch.Tensor(ptend_q0001.to_numpy()).permute(0,2,1)\n",
    "ptend_q0001 = ptend_q0001.reshape(ptend_q0001.shape[0] * ptend_q0001.shape[1], ptend_q0001.shape[2])\n",
    "\n",
    "# add to output list\n",
    "output_list.extend([ptend_t,ptend_q0001])\n",
    "\n",
    "for i in range(len(vars_mlo)):\n",
    "    if i >= 2:\n",
    "        temp=torch.Tensor(mlo[vars_mlo[i]].to_numpy())\n",
    "        new_var=temp.reshape(temp.shape[0] * temp.shape[1], 1)\n",
    "        output_list.append(new_var)"
   ]
  },
  {
   "cell_type": "code",
   "execution_count": 7,
   "id": "b420b5f6-1665-4707-b02b-06b0023678ca",
   "metadata": {
    "execution": {
     "iopub.execute_input": "2024-03-03T22:13:12.837762Z",
     "iopub.status.busy": "2024-03-03T22:13:12.837463Z",
     "iopub.status.idle": "2024-03-03T22:13:12.933288Z",
     "shell.execute_reply": "2024-03-03T22:13:12.932510Z",
     "shell.execute_reply.started": "2024-03-03T22:13:12.837743Z"
    }
   },
   "outputs": [],
   "source": [
    "# load normalization and scaling factors\n",
    "norm_mean = xr.open_dataset('/work/sds-lab/Shuochen/climsim/normalizations_git/inputs/input_mean.nc')\n",
    "norm_max = xr.open_dataset('/work/sds-lab/Shuochen/climsim/normalizations_git/inputs/input_max.nc')\n",
    "norm_min = xr.open_dataset('/work/sds-lab/Shuochen/climsim/normalizations_git/inputs/input_min.nc')\n",
    "scale = xr.open_dataset('/work/sds-lab/Shuochen/climsim/normalizations_git/outputs/output_scale.nc')\n",
    "\n",
    "norm_mean_list = []\n",
    "for i in range(len(vars_mli)):\n",
    "    temp=torch.Tensor(norm_mean[vars_mli[i]].values)\n",
    "    norm_mean_list.append(temp)\n",
    "\n",
    "norm_max_list = []\n",
    "for i in range(len(vars_mli)):\n",
    "    temp=torch.Tensor(norm_max[vars_mli[i]].values)\n",
    "    norm_max_list.append(temp)\n",
    "\n",
    "norm_min_list = []\n",
    "for i in range(len(vars_mli)):\n",
    "    temp=torch.Tensor(norm_min[vars_mli[i]].values)\n",
    "    norm_min_list.append(temp)\n",
    "\n",
    "scale_list = []\n",
    "for i in range(len(vars_mlo)):\n",
    "    temp=torch.Tensor(scale[vars_mlo[i]].values)\n",
    "    scale_list.append(temp)"
   ]
  },
  {
   "cell_type": "code",
   "execution_count": 8,
   "id": "9eb62779-28f5-4ba0-a2d9-bf488659c013",
   "metadata": {
    "execution": {
     "iopub.execute_input": "2024-03-03T22:13:12.934337Z",
     "iopub.status.busy": "2024-03-03T22:13:12.934034Z",
     "iopub.status.idle": "2024-03-03T22:13:13.462703Z",
     "shell.execute_reply": "2024-03-03T22:13:13.462134Z",
     "shell.execute_reply.started": "2024-03-03T22:13:12.934318Z"
    }
   },
   "outputs": [],
   "source": [
    "for i in range(len(input_list)):\n",
    "    input_list[i] = (input_list[i] - norm_mean_list[i]) / (norm_max_list[i] - norm_min_list[i])  \n",
    "for i in range(len(output_list)):\n",
    "    output_list[i] = output_list[i] * scale_list[i]"
   ]
  },
  {
   "cell_type": "code",
   "execution_count": 9,
   "id": "1cdd7f35-1368-4a3c-9215-1bc1141b506f",
   "metadata": {
    "execution": {
     "iopub.execute_input": "2024-03-03T22:13:13.465032Z",
     "iopub.status.busy": "2024-03-03T22:13:13.464843Z",
     "iopub.status.idle": "2024-03-03T22:13:13.784452Z",
     "shell.execute_reply": "2024-03-03T22:13:13.783905Z",
     "shell.execute_reply.started": "2024-03-03T22:13:13.465016Z"
    }
   },
   "outputs": [
    {
     "name": "stdout",
     "output_type": "stream",
     "text": [
      "torch.Size([1441920, 124]) torch.Size([1441920, 128])\n"
     ]
    }
   ],
   "source": [
    "# concat\n",
    "input = torch.cat((input_list[0],input_list[1],input_list[2],input_list[3],input_list[4],input_list[5]), dim=1)\n",
    "output = torch.cat((output_list[0],output_list[1],output_list[2],output_list[3],output_list[4],output_list[5],output_list[6],output_list[7],output_list[8],output_list[9]), dim=1)\n",
    "\n",
    "print(input.shape,output.shape)"
   ]
  },
  {
   "cell_type": "markdown",
   "id": "1d487b12-e4f6-474e-aade-09b2d3753029",
   "metadata": {},
   "source": [
    "# test input/output data with theirs"
   ]
  },
  {
   "cell_type": "code",
   "execution_count": 10,
   "id": "b0bbca38-516c-4540-ad71-358d63a45c38",
   "metadata": {
    "execution": {
     "iopub.execute_input": "2024-03-03T22:13:13.786424Z",
     "iopub.status.busy": "2024-03-03T22:13:13.786245Z",
     "iopub.status.idle": "2024-03-03T22:13:14.672187Z",
     "shell.execute_reply": "2024-03-03T22:13:14.671181Z",
     "shell.execute_reply.started": "2024-03-03T22:13:13.786408Z"
    }
   },
   "outputs": [],
   "source": [
    "X=np.load('/work/sds-lab/Shuochen/climsim/val_input.npy')\n",
    "y=np.load('/work/sds-lab/Shuochen/climsim/val_target.npy')"
   ]
  },
  {
   "cell_type": "code",
   "execution_count": 11,
   "id": "46b7a845-ee67-4e6e-b00f-72ee581d3deb",
   "metadata": {
    "execution": {
     "iopub.execute_input": "2024-03-03T22:13:14.676996Z",
     "iopub.status.busy": "2024-03-03T22:13:14.676297Z",
     "iopub.status.idle": "2024-03-03T22:13:14.691699Z",
     "shell.execute_reply": "2024-03-03T22:13:14.691046Z",
     "shell.execute_reply.started": "2024-03-03T22:13:14.676944Z"
    }
   },
   "outputs": [
    {
     "data": {
      "text/plain": [
       "tensor([-1.3970e-09,  4.6566e-08,  4.8429e-08,  5.9605e-08, -3.0617e-08,\n",
       "         4.0978e-08, -2.2352e-08,  9.6858e-08,  2.2352e-08,  5.2154e-08,\n",
       "         1.4901e-08, -1.0058e-07, -4.4703e-08, -5.2154e-08,  8.5682e-08,\n",
       "         4.0047e-08, -1.6391e-07,  1.5274e-07, -3.7253e-08, -7.4506e-09,\n",
       "         1.4901e-08,  1.6391e-07, -7.8231e-08, -1.1828e-07, -6.7055e-08,\n",
       "        -1.3039e-07, -8.1956e-08, -1.8626e-07, -1.4901e-08,  1.1921e-07,\n",
       "        -2.2352e-08, -2.1607e-07, -4.4703e-08, -1.4901e-08, -2.1607e-07,\n",
       "         1.7881e-07,  1.1921e-07, -4.0978e-07,  5.2154e-08,  1.4901e-07,\n",
       "         2.0862e-07,  1.0431e-07,  2.9802e-08,  3.1292e-07, -1.4901e-08,\n",
       "         8.9407e-08, -2.9057e-07,  4.4703e-08, -2.9802e-08, -1.3411e-07,\n",
       "        -8.9407e-08, -2.9802e-07, -5.9605e-08,  4.4703e-08, -1.6391e-07,\n",
       "        -9.6858e-08, -7.4506e-09,  2.2352e-08, -1.1176e-07, -1.4901e-08,\n",
       "         1.1921e-07, -8.9407e-08,  8.9407e-08,  5.9605e-08,  5.9605e-08,\n",
       "         2.9802e-08,  0.0000e+00,  8.9407e-08,  5.9605e-08,  8.9407e-08,\n",
       "         6.1467e-08,  2.9802e-08, -1.1176e-08, -1.8626e-09, -2.7940e-09,\n",
       "        -6.4028e-10,  0.0000e+00, -1.1176e-08, -3.7253e-09,  0.0000e+00,\n",
       "        -5.1223e-09,  1.1642e-09, -2.3283e-09, -5.3551e-09,  2.3283e-10,\n",
       "        -4.6566e-10,  4.6566e-10,  4.6566e-10, -3.8417e-09,  1.3970e-09,\n",
       "        -5.5879e-09,  6.9849e-10, -1.8626e-09, -6.5193e-09,  9.3132e-10,\n",
       "         3.1432e-09, -3.2596e-09,  6.8176e-09, -1.2107e-08,  5.5879e-09,\n",
       "         3.7253e-09, -1.4901e-08,  3.7253e-09,  7.4506e-09,  7.4506e-09,\n",
       "         3.7253e-09, -1.4901e-08, -7.4506e-09, -2.9802e-08,  0.0000e+00,\n",
       "        -1.4901e-08,  1.4901e-08, -1.4901e-08,  0.0000e+00,  0.0000e+00,\n",
       "         1.4901e-08, -1.4901e-08, -2.9802e-08, -1.4901e-08,  0.0000e+00,\n",
       "        -1.2666e-07,  0.0000e+00,  0.0000e+00,  0.0000e+00])"
      ]
     },
     "execution_count": 11,
     "metadata": {},
     "output_type": "execute_result"
    }
   ],
   "source": [
    "(torch.Tensor(X[0,:]) - input[0,:])"
   ]
  },
  {
   "cell_type": "code",
   "execution_count": 12,
   "id": "b91571e6-6214-4359-9aed-b8be2049cfcb",
   "metadata": {
    "execution": {
     "iopub.execute_input": "2024-03-03T22:13:14.693215Z",
     "iopub.status.busy": "2024-03-03T22:13:14.692820Z",
     "iopub.status.idle": "2024-03-03T22:13:14.708232Z",
     "shell.execute_reply": "2024-03-03T22:13:14.707610Z",
     "shell.execute_reply.started": "2024-03-03T22:13:14.693184Z"
    }
   },
   "outputs": [
    {
     "data": {
      "text/plain": [
       "tensor([ 0.0000e+00,  0.0000e+00,  0.0000e+00,  3.7253e-09,  0.0000e+00,\n",
       "         0.0000e+00,  0.0000e+00,  0.0000e+00, -3.7253e-09,  3.7253e-09,\n",
       "         0.0000e+00,  0.0000e+00,  0.0000e+00,  0.0000e+00,  0.0000e+00,\n",
       "         0.0000e+00, -1.1642e-10,  0.0000e+00, -2.3283e-10,  0.0000e+00,\n",
       "         0.0000e+00,  0.0000e+00,  0.0000e+00,  0.0000e+00,  0.0000e+00,\n",
       "         0.0000e+00,  0.0000e+00,  1.8626e-09,  0.0000e+00,  0.0000e+00,\n",
       "         0.0000e+00,  0.0000e+00,  1.8626e-09,  1.8626e-09,  0.0000e+00,\n",
       "         0.0000e+00,  0.0000e+00,  0.0000e+00,  0.0000e+00,  1.8626e-09,\n",
       "         0.0000e+00,  1.8626e-09,  0.0000e+00,  1.8626e-09,  1.8626e-09,\n",
       "         0.0000e+00,  0.0000e+00,  0.0000e+00,  0.0000e+00,  1.8626e-09,\n",
       "         0.0000e+00,  0.0000e+00,  1.8626e-09,  1.8626e-09,  0.0000e+00,\n",
       "         0.0000e+00,  0.0000e+00,  3.7253e-09,  0.0000e+00,  0.0000e+00,\n",
       "         0.0000e+00,  0.0000e+00,  0.0000e+00,  0.0000e+00,  0.0000e+00,\n",
       "         0.0000e+00,  0.0000e+00,  0.0000e+00,  0.0000e+00,  0.0000e+00,\n",
       "         0.0000e+00,  0.0000e+00,  0.0000e+00,  0.0000e+00,  0.0000e+00,\n",
       "         0.0000e+00,  0.0000e+00,  0.0000e+00,  0.0000e+00,  0.0000e+00,\n",
       "         0.0000e+00,  0.0000e+00,  0.0000e+00,  0.0000e+00,  0.0000e+00,\n",
       "         0.0000e+00,  1.1642e-10,  0.0000e+00,  0.0000e+00,  0.0000e+00,\n",
       "         1.1642e-10,  0.0000e+00,  0.0000e+00,  0.0000e+00,  0.0000e+00,\n",
       "         0.0000e+00,  0.0000e+00,  0.0000e+00,  0.0000e+00,  5.8208e-11,\n",
       "         0.0000e+00,  0.0000e+00,  0.0000e+00,  0.0000e+00,  0.0000e+00,\n",
       "         0.0000e+00,  0.0000e+00,  0.0000e+00,  4.6566e-10, -4.6566e-10,\n",
       "         0.0000e+00,  0.0000e+00,  0.0000e+00,  0.0000e+00,  0.0000e+00,\n",
       "         2.3283e-10,  0.0000e+00,  0.0000e+00, -4.6566e-10,  0.0000e+00,\n",
       "         0.0000e+00,  0.0000e+00,  0.0000e+00,  0.0000e+00,  0.0000e+00,\n",
       "         0.0000e+00,  0.0000e+00,  0.0000e+00])"
      ]
     },
     "execution_count": 12,
     "metadata": {},
     "output_type": "execute_result"
    }
   ],
   "source": [
    "(torch.Tensor(y[0,:]) - output[0,:])"
   ]
  },
  {
   "cell_type": "code",
   "execution_count": null,
   "id": "e119b841-7261-45a8-ac0c-2875547a4835",
   "metadata": {},
   "outputs": [],
   "source": []
  },
  {
   "cell_type": "code",
   "execution_count": null,
   "id": "5b757483-f3d1-4490-bcd4-0c9de0caa0ad",
   "metadata": {},
   "outputs": [],
   "source": []
  },
  {
   "cell_type": "code",
   "execution_count": null,
   "id": "cb7175f9-b1bd-4a57-aec4-7972ca31e647",
   "metadata": {},
   "outputs": [],
   "source": []
  },
  {
   "cell_type": "code",
   "execution_count": null,
   "id": "0c81a63e-aae5-4eb5-8a34-5a893c64e7b8",
   "metadata": {},
   "outputs": [],
   "source": []
  },
  {
   "cell_type": "code",
   "execution_count": null,
   "id": "4dad8761-5496-404a-bbb8-e35917fdb0bf",
   "metadata": {},
   "outputs": [],
   "source": []
  }
 ],
 "metadata": {
  "kernelspec": {
   "display_name": "Python 3 (ipykernel)",
   "language": "python",
   "name": "python3"
  },
  "language_info": {
   "codemirror_mode": {
    "name": "ipython",
    "version": 3
   },
   "file_extension": ".py",
   "mimetype": "text/x-python",
   "name": "python",
   "nbconvert_exporter": "python",
   "pygments_lexer": "ipython3",
   "version": "3.11.8"
  }
 },
 "nbformat": 4,
 "nbformat_minor": 5
}
