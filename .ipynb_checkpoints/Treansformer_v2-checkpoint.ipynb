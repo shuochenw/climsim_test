{
 "cells": [
  {
   "cell_type": "code",
   "execution_count": 20,
   "id": "0243d9d2-3aa2-477c-936d-6c9afb7ad872",
   "metadata": {
    "execution": {
     "iopub.execute_input": "2024-03-02T20:36:26.680050Z",
     "iopub.status.busy": "2024-03-02T20:36:26.679888Z",
     "iopub.status.idle": "2024-03-02T20:36:26.682735Z",
     "shell.execute_reply": "2024-03-02T20:36:26.682414Z",
     "shell.execute_reply.started": "2024-03-02T20:36:26.680039Z"
    }
   },
   "outputs": [],
   "source": [
    "import xarray as xr\n",
    "import os\n",
    "import netCDF4\n",
    "import numpy as np\n",
    "import torch\n",
    "from torch import nn\n",
    "import matplotlib.pyplot as plt\n",
    "from sklearn.model_selection import train_test_split\n",
    "from torch.utils.data import DataLoader\n",
    "from torch.utils.data import random_split\n",
    "import random\n",
    "import pandas as pd\n",
    "from torch.utils.data import DataLoader, TensorDataset\n",
    "from sklearn.preprocessing import StandardScaler\n",
    "from torch.optim.lr_scheduler import ReduceLROnPlateau"
   ]
  },
  {
   "cell_type": "code",
   "execution_count": 21,
   "id": "2e67b63d-e551-4e89-b84d-abbfc4051e53",
   "metadata": {
    "execution": {
     "iopub.execute_input": "2024-03-02T20:36:26.683239Z",
     "iopub.status.busy": "2024-03-02T20:36:26.683133Z",
     "iopub.status.idle": "2024-03-02T20:36:26.702342Z",
     "shell.execute_reply": "2024-03-02T20:36:26.701997Z",
     "shell.execute_reply.started": "2024-03-02T20:36:26.683229Z"
    }
   },
   "outputs": [
    {
     "name": "stdout",
     "output_type": "stream",
     "text": [
      "Using device: cuda\n"
     ]
    }
   ],
   "source": [
    "has_mps = torch.backends.mps.is_built()\n",
    "device = \"mps\" if has_mps else \"cuda\" if torch.cuda.is_available() else \"cpu\"\n",
    "print(f\"Using device: {device}\")"
   ]
  },
  {
   "cell_type": "code",
   "execution_count": 47,
   "id": "8b1c2736-5b8a-4cc2-aad1-4e3d4f646d7d",
   "metadata": {
    "execution": {
     "iopub.execute_input": "2024-03-02T20:51:19.359395Z",
     "iopub.status.busy": "2024-03-02T20:51:19.359055Z",
     "iopub.status.idle": "2024-03-02T20:51:20.068991Z",
     "shell.execute_reply": "2024-03-02T20:51:20.068638Z",
     "shell.execute_reply.started": "2024-03-02T20:51:19.359383Z"
    }
   },
   "outputs": [],
   "source": [
    "X=np.load('/work/sds-lab/Shuochen/climsim/val_input.npy')\n",
    "y=np.load('/work/sds-lab/Shuochen/climsim/val_target.npy')\n",
    "\n",
    "X = torch.from_numpy(X).type(torch.float).to(device)\n",
    "y = torch.from_numpy(y).type(torch.float).to(device)"
   ]
  },
  {
   "cell_type": "code",
   "execution_count": 48,
   "id": "e4e3721f-bf43-4a8e-bfb2-c9882aefd48c",
   "metadata": {
    "execution": {
     "iopub.execute_input": "2024-03-02T20:51:20.069810Z",
     "iopub.status.busy": "2024-03-02T20:51:20.069640Z",
     "iopub.status.idle": "2024-03-02T20:51:20.103089Z",
     "shell.execute_reply": "2024-03-02T20:51:20.102818Z",
     "shell.execute_reply.started": "2024-03-02T20:51:20.069799Z"
    }
   },
   "outputs": [],
   "source": [
    "LEARNING_RATE = 0.01\n",
    "IN_FEATURES = 124\n",
    "OUT_FEATURES = 128\n",
    "RANDOM_SEED = 42\n",
    "\n",
    "X_train, X_test, y_train, y_test = train_test_split(X,y,test_size=0.2,random_state=RANDOM_SEED)\n",
    "\n",
    "# X_train = X_train.T\n",
    "# X_test = X_test.T\n",
    "# y_train = y_train.T\n",
    "# y_test = y_test.T"
   ]
  },
  {
   "cell_type": "code",
   "execution_count": 49,
   "id": "623bc8df-789d-47da-b0ab-7d4a690244ab",
   "metadata": {
    "execution": {
     "iopub.execute_input": "2024-03-02T20:51:20.401831Z",
     "iopub.status.busy": "2024-03-02T20:51:20.401504Z",
     "iopub.status.idle": "2024-03-02T20:51:20.403435Z",
     "shell.execute_reply": "2024-03-02T20:51:20.403176Z",
     "shell.execute_reply.started": "2024-03-02T20:51:20.401821Z"
    }
   },
   "outputs": [],
   "source": [
    "# # Setup data loaders for batch\n",
    "# train_dataset = TensorDataset(X_train, y_train)\n",
    "# train_loader = DataLoader(train_dataset, batch_size=32, shuffle=True)\n",
    "\n",
    "# test_dataset = TensorDataset(X_test, y_test)\n",
    "# test_loader = DataLoader(test_dataset, batch_size=32, shuffle=False)"
   ]
  },
  {
   "cell_type": "code",
   "execution_count": 51,
   "id": "4da67a09-c032-4fd2-b675-862c6d97859d",
   "metadata": {
    "execution": {
     "iopub.execute_input": "2024-03-02T20:52:20.908101Z",
     "iopub.status.busy": "2024-03-02T20:52:20.907768Z",
     "iopub.status.idle": "2024-03-02T20:52:21.253065Z",
     "shell.execute_reply": "2024-03-02T20:52:21.252689Z",
     "shell.execute_reply.started": "2024-03-02T20:52:20.908089Z"
    }
   },
   "outputs": [
    {
     "name": "stderr",
     "output_type": "stream",
     "text": [
      "/home/wang.shuoc/.conda/envs/my_env/lib/python3.11/site-packages/torch/nn/modules/transformer.py:286: UserWarning: enable_nested_tensor is True, but self.use_nested_tensor is False because encoder_layer.self_attn.batch_first was not True(use batch_first for better inference performance)\n",
      "  warnings.warn(f\"enable_nested_tensor is True, but self.use_nested_tensor is False because {why_not_sparsity_fast_path}\")\n"
     ]
    }
   ],
   "source": [
    "# Model definition using Transformer\n",
    "class TransformerModel(nn.Module):\n",
    "    def __init__(self, input_dim = 124, hidden_dim = 64, output_dim = 128):\n",
    "        super().__init__()\n",
    "\n",
    "        self.linear1 = nn.Linear(input_dim, hidden_dim)\n",
    "        self.transformer = nn.Transformer(nhead=16, num_encoder_layers=12)\n",
    "        # self.linear2 = nn.Linear(hidden_dim, output_dim)\n",
    "\n",
    "    def forward(self, x, y):\n",
    "        x = self.linear1(x)\n",
    "        y = self.linear1(y)\n",
    "        out = self.transformer(x, y)\n",
    "        return out\n",
    "\n",
    "model = TransformerModel().to(device)"
   ]
  },
  {
   "cell_type": "code",
   "execution_count": 52,
   "id": "d8ad39d9-5add-460d-9d40-a7a82a9eb664",
   "metadata": {
    "execution": {
     "iopub.execute_input": "2024-03-02T20:52:24.152233Z",
     "iopub.status.busy": "2024-03-02T20:52:24.151886Z",
     "iopub.status.idle": "2024-03-02T20:52:24.240589Z",
     "shell.execute_reply": "2024-03-02T20:52:24.240172Z",
     "shell.execute_reply.started": "2024-03-02T20:52:24.152222Z"
    }
   },
   "outputs": [
    {
     "ename": "RuntimeError",
     "evalue": "mat1 and mat2 shapes cannot be multiplied (1153536x128 and 124x64)",
     "output_type": "error",
     "traceback": [
      "\u001b[0;31m---------------------------------------------------------------------------\u001b[0m",
      "\u001b[0;31mRuntimeError\u001b[0m                              Traceback (most recent call last)",
      "Cell \u001b[0;32mIn[52], line 7\u001b[0m\n\u001b[1;32m      4\u001b[0m \u001b[38;5;28;01mfor\u001b[39;00m epoch \u001b[38;5;129;01min\u001b[39;00m \u001b[38;5;28mrange\u001b[39m(epochs):\n\u001b[1;32m      6\u001b[0m     model\u001b[38;5;241m.\u001b[39mtrain()\n\u001b[0;32m----> 7\u001b[0m     y_pred \u001b[38;5;241m=\u001b[39m model(X_train, y_train)\n\u001b[1;32m      8\u001b[0m     loss \u001b[38;5;241m=\u001b[39m loss_fn(y_pred, y_train)\n\u001b[1;32m      9\u001b[0m     optimizer\u001b[38;5;241m.\u001b[39mzero_grad()\n",
      "File \u001b[0;32m~/.conda/envs/my_env/lib/python3.11/site-packages/torch/nn/modules/module.py:1511\u001b[0m, in \u001b[0;36mModule._wrapped_call_impl\u001b[0;34m(self, *args, **kwargs)\u001b[0m\n\u001b[1;32m   1509\u001b[0m     \u001b[38;5;28;01mreturn\u001b[39;00m \u001b[38;5;28mself\u001b[39m\u001b[38;5;241m.\u001b[39m_compiled_call_impl(\u001b[38;5;241m*\u001b[39margs, \u001b[38;5;241m*\u001b[39m\u001b[38;5;241m*\u001b[39mkwargs)  \u001b[38;5;66;03m# type: ignore[misc]\u001b[39;00m\n\u001b[1;32m   1510\u001b[0m \u001b[38;5;28;01melse\u001b[39;00m:\n\u001b[0;32m-> 1511\u001b[0m     \u001b[38;5;28;01mreturn\u001b[39;00m \u001b[38;5;28mself\u001b[39m\u001b[38;5;241m.\u001b[39m_call_impl(\u001b[38;5;241m*\u001b[39margs, \u001b[38;5;241m*\u001b[39m\u001b[38;5;241m*\u001b[39mkwargs)\n",
      "File \u001b[0;32m~/.conda/envs/my_env/lib/python3.11/site-packages/torch/nn/modules/module.py:1520\u001b[0m, in \u001b[0;36mModule._call_impl\u001b[0;34m(self, *args, **kwargs)\u001b[0m\n\u001b[1;32m   1515\u001b[0m \u001b[38;5;66;03m# If we don't have any hooks, we want to skip the rest of the logic in\u001b[39;00m\n\u001b[1;32m   1516\u001b[0m \u001b[38;5;66;03m# this function, and just call forward.\u001b[39;00m\n\u001b[1;32m   1517\u001b[0m \u001b[38;5;28;01mif\u001b[39;00m \u001b[38;5;129;01mnot\u001b[39;00m (\u001b[38;5;28mself\u001b[39m\u001b[38;5;241m.\u001b[39m_backward_hooks \u001b[38;5;129;01mor\u001b[39;00m \u001b[38;5;28mself\u001b[39m\u001b[38;5;241m.\u001b[39m_backward_pre_hooks \u001b[38;5;129;01mor\u001b[39;00m \u001b[38;5;28mself\u001b[39m\u001b[38;5;241m.\u001b[39m_forward_hooks \u001b[38;5;129;01mor\u001b[39;00m \u001b[38;5;28mself\u001b[39m\u001b[38;5;241m.\u001b[39m_forward_pre_hooks\n\u001b[1;32m   1518\u001b[0m         \u001b[38;5;129;01mor\u001b[39;00m _global_backward_pre_hooks \u001b[38;5;129;01mor\u001b[39;00m _global_backward_hooks\n\u001b[1;32m   1519\u001b[0m         \u001b[38;5;129;01mor\u001b[39;00m _global_forward_hooks \u001b[38;5;129;01mor\u001b[39;00m _global_forward_pre_hooks):\n\u001b[0;32m-> 1520\u001b[0m     \u001b[38;5;28;01mreturn\u001b[39;00m forward_call(\u001b[38;5;241m*\u001b[39margs, \u001b[38;5;241m*\u001b[39m\u001b[38;5;241m*\u001b[39mkwargs)\n\u001b[1;32m   1522\u001b[0m \u001b[38;5;28;01mtry\u001b[39;00m:\n\u001b[1;32m   1523\u001b[0m     result \u001b[38;5;241m=\u001b[39m \u001b[38;5;28;01mNone\u001b[39;00m\n",
      "Cell \u001b[0;32mIn[51], line 12\u001b[0m, in \u001b[0;36mTransformerModel.forward\u001b[0;34m(self, x, y)\u001b[0m\n\u001b[1;32m     10\u001b[0m \u001b[38;5;28;01mdef\u001b[39;00m \u001b[38;5;21mforward\u001b[39m(\u001b[38;5;28mself\u001b[39m, x, y):\n\u001b[1;32m     11\u001b[0m     x \u001b[38;5;241m=\u001b[39m \u001b[38;5;28mself\u001b[39m\u001b[38;5;241m.\u001b[39mlinear1(x)\n\u001b[0;32m---> 12\u001b[0m     y \u001b[38;5;241m=\u001b[39m \u001b[38;5;28mself\u001b[39m\u001b[38;5;241m.\u001b[39mlinear1(y)\n\u001b[1;32m     13\u001b[0m     out \u001b[38;5;241m=\u001b[39m \u001b[38;5;28mself\u001b[39m\u001b[38;5;241m.\u001b[39mtransformer(x, y)\n\u001b[1;32m     14\u001b[0m     \u001b[38;5;28;01mreturn\u001b[39;00m out\n",
      "File \u001b[0;32m~/.conda/envs/my_env/lib/python3.11/site-packages/torch/nn/modules/module.py:1511\u001b[0m, in \u001b[0;36mModule._wrapped_call_impl\u001b[0;34m(self, *args, **kwargs)\u001b[0m\n\u001b[1;32m   1509\u001b[0m     \u001b[38;5;28;01mreturn\u001b[39;00m \u001b[38;5;28mself\u001b[39m\u001b[38;5;241m.\u001b[39m_compiled_call_impl(\u001b[38;5;241m*\u001b[39margs, \u001b[38;5;241m*\u001b[39m\u001b[38;5;241m*\u001b[39mkwargs)  \u001b[38;5;66;03m# type: ignore[misc]\u001b[39;00m\n\u001b[1;32m   1510\u001b[0m \u001b[38;5;28;01melse\u001b[39;00m:\n\u001b[0;32m-> 1511\u001b[0m     \u001b[38;5;28;01mreturn\u001b[39;00m \u001b[38;5;28mself\u001b[39m\u001b[38;5;241m.\u001b[39m_call_impl(\u001b[38;5;241m*\u001b[39margs, \u001b[38;5;241m*\u001b[39m\u001b[38;5;241m*\u001b[39mkwargs)\n",
      "File \u001b[0;32m~/.conda/envs/my_env/lib/python3.11/site-packages/torch/nn/modules/module.py:1520\u001b[0m, in \u001b[0;36mModule._call_impl\u001b[0;34m(self, *args, **kwargs)\u001b[0m\n\u001b[1;32m   1515\u001b[0m \u001b[38;5;66;03m# If we don't have any hooks, we want to skip the rest of the logic in\u001b[39;00m\n\u001b[1;32m   1516\u001b[0m \u001b[38;5;66;03m# this function, and just call forward.\u001b[39;00m\n\u001b[1;32m   1517\u001b[0m \u001b[38;5;28;01mif\u001b[39;00m \u001b[38;5;129;01mnot\u001b[39;00m (\u001b[38;5;28mself\u001b[39m\u001b[38;5;241m.\u001b[39m_backward_hooks \u001b[38;5;129;01mor\u001b[39;00m \u001b[38;5;28mself\u001b[39m\u001b[38;5;241m.\u001b[39m_backward_pre_hooks \u001b[38;5;129;01mor\u001b[39;00m \u001b[38;5;28mself\u001b[39m\u001b[38;5;241m.\u001b[39m_forward_hooks \u001b[38;5;129;01mor\u001b[39;00m \u001b[38;5;28mself\u001b[39m\u001b[38;5;241m.\u001b[39m_forward_pre_hooks\n\u001b[1;32m   1518\u001b[0m         \u001b[38;5;129;01mor\u001b[39;00m _global_backward_pre_hooks \u001b[38;5;129;01mor\u001b[39;00m _global_backward_hooks\n\u001b[1;32m   1519\u001b[0m         \u001b[38;5;129;01mor\u001b[39;00m _global_forward_hooks \u001b[38;5;129;01mor\u001b[39;00m _global_forward_pre_hooks):\n\u001b[0;32m-> 1520\u001b[0m     \u001b[38;5;28;01mreturn\u001b[39;00m forward_call(\u001b[38;5;241m*\u001b[39margs, \u001b[38;5;241m*\u001b[39m\u001b[38;5;241m*\u001b[39mkwargs)\n\u001b[1;32m   1522\u001b[0m \u001b[38;5;28;01mtry\u001b[39;00m:\n\u001b[1;32m   1523\u001b[0m     result \u001b[38;5;241m=\u001b[39m \u001b[38;5;28;01mNone\u001b[39;00m\n",
      "File \u001b[0;32m~/.conda/envs/my_env/lib/python3.11/site-packages/torch/nn/modules/linear.py:116\u001b[0m, in \u001b[0;36mLinear.forward\u001b[0;34m(self, input)\u001b[0m\n\u001b[1;32m    115\u001b[0m \u001b[38;5;28;01mdef\u001b[39;00m \u001b[38;5;21mforward\u001b[39m(\u001b[38;5;28mself\u001b[39m, \u001b[38;5;28minput\u001b[39m: Tensor) \u001b[38;5;241m-\u001b[39m\u001b[38;5;241m>\u001b[39m Tensor:\n\u001b[0;32m--> 116\u001b[0m     \u001b[38;5;28;01mreturn\u001b[39;00m F\u001b[38;5;241m.\u001b[39mlinear(\u001b[38;5;28minput\u001b[39m, \u001b[38;5;28mself\u001b[39m\u001b[38;5;241m.\u001b[39mweight, \u001b[38;5;28mself\u001b[39m\u001b[38;5;241m.\u001b[39mbias)\n",
      "\u001b[0;31mRuntimeError\u001b[0m: mat1 and mat2 shapes cannot be multiplied (1153536x128 and 124x64)"
     ]
    }
   ],
   "source": [
    "torch.manual_seed(42)\n",
    "epochs = 50\n",
    "\n",
    "for epoch in range(epochs):\n",
    "\n",
    "    model.train()\n",
    "    y_pred = model(X_train, y_train)\n",
    "    loss = loss_fn(y_pred, y_train)\n",
    "    optimizer.zero_grad()\n",
    "    loss.backward()\n",
    "    optimizer.step()\n",
    "\n",
    "    model.eval()\n",
    "    with torch.inference_mode():\n",
    "        test_pred = model(X_test, y_test)\n",
    "        test_loss = loss_fn(test_pred, y_test)\n",
    "\n",
    "    if epoch % 50 == 0:\n",
    "        print(f\"Epoch: {epoch} | Train loss: {loss} | Test loss: {test_loss}\")\n"
   ]
  },
  {
   "cell_type": "code",
   "execution_count": 53,
   "id": "da69ea35-7911-45ab-ad60-7b95f02ea6ee",
   "metadata": {
    "execution": {
     "iopub.execute_input": "2024-03-02T20:53:06.421176Z",
     "iopub.status.busy": "2024-03-02T20:53:06.420951Z",
     "iopub.status.idle": "2024-03-02T20:53:06.423838Z",
     "shell.execute_reply": "2024-03-02T20:53:06.423559Z",
     "shell.execute_reply.started": "2024-03-02T20:53:06.421165Z"
    }
   },
   "outputs": [
    {
     "data": {
      "text/plain": [
       "torch.Size([1153536, 128])"
      ]
     },
     "execution_count": 53,
     "metadata": {},
     "output_type": "execute_result"
    }
   ],
   "source": [
    "y_train.shape"
   ]
  },
  {
   "cell_type": "code",
   "execution_count": 54,
   "id": "3d6f416b-0d5d-4cf9-a059-fc299b9d859a",
   "metadata": {
    "execution": {
     "iopub.execute_input": "2024-03-02T20:53:38.437136Z",
     "iopub.status.busy": "2024-03-02T20:53:38.436957Z",
     "iopub.status.idle": "2024-03-02T20:53:38.439749Z",
     "shell.execute_reply": "2024-03-02T20:53:38.439458Z",
     "shell.execute_reply.started": "2024-03-02T20:53:38.437126Z"
    }
   },
   "outputs": [
    {
     "data": {
      "text/plain": [
       "torch.Size([1153536, 124])"
      ]
     },
     "execution_count": 54,
     "metadata": {},
     "output_type": "execute_result"
    }
   ],
   "source": [
    "X_train.shape"
   ]
  },
  {
   "cell_type": "code",
   "execution_count": 59,
   "id": "d38fa3fd-2371-4c63-a555-80563b246f0e",
   "metadata": {
    "execution": {
     "iopub.execute_input": "2024-03-02T20:55:14.371328Z",
     "iopub.status.busy": "2024-03-02T20:55:14.370984Z",
     "iopub.status.idle": "2024-03-02T20:55:14.769843Z",
     "shell.execute_reply": "2024-03-02T20:55:14.769490Z",
     "shell.execute_reply.started": "2024-03-02T20:55:14.371316Z"
    }
   },
   "outputs": [
    {
     "data": {
      "text/plain": [
       "torch.Size([1153536, 64])"
      ]
     },
     "execution_count": 59,
     "metadata": {},
     "output_type": "execute_result"
    }
   ],
   "source": [
    "a=nn.Linear(124,64)\n",
    "a(X_train.to('cpu')).shape"
   ]
  },
  {
   "cell_type": "code",
   "execution_count": null,
   "id": "4b41032d-4cb4-470d-8ffa-d90072057b16",
   "metadata": {},
   "outputs": [],
   "source": []
  }
 ],
 "metadata": {
  "kernelspec": {
   "display_name": "Python 3 (ipykernel)",
   "language": "python",
   "name": "python3"
  },
  "language_info": {
   "codemirror_mode": {
    "name": "ipython",
    "version": 3
   },
   "file_extension": ".py",
   "mimetype": "text/x-python",
   "name": "python",
   "nbconvert_exporter": "python",
   "pygments_lexer": "ipython3",
   "version": "3.11.8"
  }
 },
 "nbformat": 4,
 "nbformat_minor": 5
}
