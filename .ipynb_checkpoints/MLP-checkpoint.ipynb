{
 "cells": [
  {
   "cell_type": "code",
   "execution_count": 1,
   "id": "208d4555-31c3-4b43-99f4-e8372d6150a9",
   "metadata": {
    "execution": {
     "iopub.execute_input": "2024-03-19T18:04:26.559609Z",
     "iopub.status.busy": "2024-03-19T18:04:26.559181Z",
     "iopub.status.idle": "2024-03-19T18:04:41.807569Z",
     "shell.execute_reply": "2024-03-19T18:04:41.806557Z",
     "shell.execute_reply.started": "2024-03-19T18:04:26.559570Z"
    }
   },
   "outputs": [],
   "source": [
    "import xarray as xr\n",
    "import os\n",
    "import netCDF4\n",
    "import numpy as np\n",
    "import torch\n",
    "from torch import nn\n",
    "import matplotlib.pyplot as plt\n",
    "from sklearn.model_selection import train_test_split\n",
    "from sklearn.metrics import mean_absolute_error\n",
    "from torch.utils.data import random_split\n",
    "import random\n",
    "import pandas as pd\n",
    "from torch.utils.data import DataLoader, TensorDataset\n",
    "from sklearn.preprocessing import StandardScaler\n",
    "from torch.optim.lr_scheduler import ReduceLROnPlateau"
   ]
  },
  {
   "cell_type": "code",
   "execution_count": 2,
   "id": "ac2d5da7-a122-4ba2-af60-ad9e82a962ad",
   "metadata": {
    "execution": {
     "iopub.execute_input": "2024-03-19T18:04:41.809151Z",
     "iopub.status.busy": "2024-03-19T18:04:41.808822Z",
     "iopub.status.idle": "2024-03-19T18:04:41.813764Z",
     "shell.execute_reply": "2024-03-19T18:04:41.813085Z",
     "shell.execute_reply.started": "2024-03-19T18:04:41.809131Z"
    }
   },
   "outputs": [
    {
     "name": "stdout",
     "output_type": "stream",
     "text": [
      "Using device: cpu\n"
     ]
    }
   ],
   "source": [
    "has_mps = torch.backends.mps.is_built()\n",
    "device = \"mps\" if has_mps else \"cuda\" if torch.cuda.is_available() else \"cpu\"\n",
    "print(f\"Using device: {device}\")"
   ]
  },
  {
   "cell_type": "code",
   "execution_count": 11,
   "id": "2525eff5-15c6-494e-87d4-2178ac7f33a8",
   "metadata": {
    "execution": {
     "iopub.execute_input": "2024-03-19T18:34:19.129969Z",
     "iopub.status.busy": "2024-03-19T18:34:19.129351Z",
     "iopub.status.idle": "2024-03-19T18:34:22.761949Z",
     "shell.execute_reply": "2024-03-19T18:34:22.761422Z",
     "shell.execute_reply.started": "2024-03-19T18:34:19.129931Z"
    }
   },
   "outputs": [],
   "source": [
    "# use validation year: change path\n",
    "X=np.load('/work/sds-lab/Shuochen/climsim/val_input.npy')\n",
    "y=np.load('/work/sds-lab/Shuochen/climsim/val_target.npy')\n",
    "\n",
    "X = torch.from_numpy(X).type(torch.float).to(device)\n",
    "y = torch.from_numpy(y).type(torch.float).to(device)\n",
    "\n",
    "X_train, X_test, y_train, y_test = train_test_split(X,\n",
    "    y,\n",
    "    test_size=0.2,\n",
    "    random_state=RANDOM_SEED\n",
    ")\n",
    "\n",
    "# # use all 8 years: change path\n",
    "# X_train=np.load('/work/sds-lab/Shuochen/climsim/train_input.npy')\n",
    "# y_train=np.load('/work/sds-lab/Shuochen/climsim/train_target.npy')\n",
    "# X_test=np.load('/work/sds-lab/Shuochen/climsim/val_input.npy')\n",
    "# y_test=np.load('/work/sds-lab/Shuochen/climsim/val_target.npy')\n",
    "\n",
    "# X_train = torch.from_numpy(X_train).type(torch.float).to(device)\n",
    "# y_train = torch.from_numpy(y_train).type(torch.float).to(device)\n",
    "# X_test = torch.from_numpy(X_test).type(torch.float).to(device)\n",
    "# y_test = torch.from_numpy(y_test).type(torch.float).to(device)"
   ]
  },
  {
   "cell_type": "code",
   "execution_count": 9,
   "id": "61d3c5cb-e9f9-4e4b-9271-c91044e0ffd8",
   "metadata": {
    "execution": {
     "iopub.execute_input": "2024-03-19T18:32:26.323754Z",
     "iopub.status.busy": "2024-03-19T18:32:26.323356Z",
     "iopub.status.idle": "2024-03-19T18:32:26.328823Z",
     "shell.execute_reply": "2024-03-19T18:32:26.327842Z",
     "shell.execute_reply.started": "2024-03-19T18:32:26.323719Z"
    }
   },
   "outputs": [],
   "source": [
    "LEARNING_RATE = 0.01\n",
    "IN_FEATURES = 124\n",
    "OUT_FEATURES = 128\n",
    "RANDOM_SEED = 42"
   ]
  },
  {
   "cell_type": "code",
   "execution_count": 12,
   "id": "52c68d96-3033-45eb-948f-3dd115c52d5d",
   "metadata": {
    "execution": {
     "iopub.execute_input": "2024-03-19T18:39:54.020550Z",
     "iopub.status.busy": "2024-03-19T18:39:54.020111Z",
     "iopub.status.idle": "2024-03-19T18:39:54.063953Z",
     "shell.execute_reply": "2024-03-19T18:39:54.062949Z",
     "shell.execute_reply.started": "2024-03-19T18:39:54.020513Z"
    }
   },
   "outputs": [],
   "source": [
    "class MLP(nn.Module):\n",
    "    def __init__(self, IN_FEATURES, OUT_FEATURES):\n",
    "        super().__init__()\n",
    "        self.seq = nn.Sequential(nn.Linear(IN_FEATURES, 768),\n",
    "                                 nn.LeakyReLU(0.15),\n",
    "                                 nn.Linear(768, 640),\n",
    "                                 nn.LeakyReLU(0.15),\n",
    "                                 nn.Linear(640, 512),\n",
    "                                 nn.LeakyReLU(0.15),\n",
    "                                 nn.Linear(512, 640),\n",
    "                                 nn.LeakyReLU(0.15),\n",
    "                                 nn.Linear(640, 640),\n",
    "                                 nn.LeakyReLU(0.15),\n",
    "                                 nn.Linear(640, 128),\n",
    "                                 nn.LeakyReLU(0.15))\n",
    "        self.linear1 = nn.Linear(128, 120)\n",
    "        self.linear2 = nn.Linear(128, 8)\n",
    "        self.relu = nn.ReLU()\n",
    "\n",
    "    def forward(self, x):\n",
    "        a = self.linear1(self.seq(x))\n",
    "        b = self.relu(self.linear2(self.seq(x)))\n",
    "        return torch.concat((a, b), dim=1)\n",
    "        \n",
    "model = MLP(IN_FEATURES, OUT_FEATURES).to(device)\n",
    "loss_fn = nn.MSELoss()\n",
    "optimizer = torch.optim.RAdam(model.parameters(),lr=LEARNING_RATE)"
   ]
  },
  {
   "cell_type": "code",
   "execution_count": null,
   "id": "0cefc69c-86ba-43cb-a743-ca66e662a2ad",
   "metadata": {},
   "outputs": [],
   "source": [
    "torch.manual_seed(42)\n",
    "epochs = 4\n",
    "\n",
    "for epoch in range(epochs):\n",
    "\n",
    "    model.train()\n",
    "    y_pred = model(X_train)\n",
    "    loss = loss_fn(y_pred, y_train)\n",
    "    optimizer.zero_grad()\n",
    "    loss.backward()\n",
    "    optimizer.step()\n",
    "\n",
    "    model.eval()\n",
    "    with torch.inference_mode():\n",
    "        test_pred = model(X_test)\n",
    "        test_loss = loss_fn(test_pred, y_test)\n",
    "\n",
    "    if epoch % 50 == 0:\n",
    "        print(f\"Epoch: {epoch} | Train loss: {loss} | Test loss: {test_loss}\")"
   ]
  },
  {
   "cell_type": "code",
   "execution_count": null,
   "id": "1532e12e-92c9-47f5-abbe-94bf10da997c",
   "metadata": {},
   "outputs": [],
   "source": [
    "test_pred = torch.Tensor.cpu(test_pred).detach().numpy()\n",
    "y_test = torch.Tensor.cpu(y_test).detach().numpy()"
   ]
  },
  {
   "cell_type": "code",
   "execution_count": null,
   "id": "ba0b5fc9-a086-45fb-9b64-d48784ac4c3f",
   "metadata": {},
   "outputs": [],
   "source": [
    "# plot the first sample. Delete this if not necessary.\n",
    "plt.plot(test_pred[0,:])\n",
    "plt.plot(y_test[0,:])"
   ]
  },
  {
   "cell_type": "code",
   "execution_count": null,
   "id": "0939869e-5e0d-4b26-9b1c-0178ff5bcee1",
   "metadata": {},
   "outputs": [],
   "source": []
  }
 ],
 "metadata": {
  "kernelspec": {
   "display_name": "Python 3 (ipykernel)",
   "language": "python",
   "name": "python3"
  },
  "language_info": {
   "codemirror_mode": {
    "name": "ipython",
    "version": 3
   },
   "file_extension": ".py",
   "mimetype": "text/x-python",
   "name": "python",
   "nbconvert_exporter": "python",
   "pygments_lexer": "ipython3",
   "version": "3.11.8"
  }
 },
 "nbformat": 4,
 "nbformat_minor": 5
}
