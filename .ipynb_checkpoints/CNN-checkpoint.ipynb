{
 "cells": [
  {
   "cell_type": "code",
   "execution_count": 1,
   "id": "2112cbc5-e7b9-4611-a9a2-a51339a99537",
   "metadata": {
    "execution": {
     "iopub.execute_input": "2024-03-02T00:53:16.665174Z",
     "iopub.status.busy": "2024-03-02T00:53:16.664812Z",
     "iopub.status.idle": "2024-03-02T00:53:20.660920Z",
     "shell.execute_reply": "2024-03-02T00:53:20.660536Z",
     "shell.execute_reply.started": "2024-03-02T00:53:16.665160Z"
    }
   },
   "outputs": [],
   "source": [
    "import xarray as xr\n",
    "import os\n",
    "import netCDF4\n",
    "import numpy as np\n",
    "import torch\n",
    "from torch import nn\n",
    "import matplotlib.pyplot as plt\n",
    "from sklearn.model_selection import train_test_split\n",
    "from sklearn.metrics import mean_absolute_error\n",
    "from torch.utils.data import DataLoader\n",
    "from torch.utils.data import random_split\n",
    "import random\n",
    "import pandas as pd\n",
    "from torch.utils.data import DataLoader, TensorDataset\n",
    "from sklearn.preprocessing import StandardScaler\n",
    "from torch.optim.lr_scheduler import ReduceLROnPlateau"
   ]
  },
  {
   "cell_type": "code",
   "execution_count": 2,
   "id": "a6546634-6ae1-4d03-be3a-ce4e75add6ef",
   "metadata": {
    "execution": {
     "iopub.execute_input": "2024-03-02T00:53:20.917854Z",
     "iopub.status.busy": "2024-03-02T00:53:20.917580Z",
     "iopub.status.idle": "2024-03-02T00:53:20.947194Z",
     "shell.execute_reply": "2024-03-02T00:53:20.946900Z",
     "shell.execute_reply.started": "2024-03-02T00:53:20.917842Z"
    }
   },
   "outputs": [
    {
     "name": "stdout",
     "output_type": "stream",
     "text": [
      "Using device: cuda\n"
     ]
    }
   ],
   "source": [
    "has_mps = torch.backends.mps.is_built()\n",
    "device = \"mps\" if has_mps else \"cuda\" if torch.cuda.is_available() else \"cpu\"\n",
    "print(f\"Using device: {device}\")"
   ]
  },
  {
   "cell_type": "code",
   "execution_count": 3,
   "id": "163de63f-eaea-417e-a8cf-d665c1171f81",
   "metadata": {
    "execution": {
     "iopub.execute_input": "2024-03-02T00:53:25.048105Z",
     "iopub.status.busy": "2024-03-02T00:53:25.047724Z",
     "iopub.status.idle": "2024-03-02T00:53:26.036501Z",
     "shell.execute_reply": "2024-03-02T00:53:26.036055Z",
     "shell.execute_reply.started": "2024-03-02T00:53:25.048090Z"
    }
   },
   "outputs": [],
   "source": [
    "X=np.load('/work/sds-lab/Shuochen/climsim/val_input.npy')\n",
    "y=np.load('/work/sds-lab/Shuochen/climsim/val_target.npy')\n",
    "\n",
    "X = torch.from_numpy(X).type(torch.float).to(device)\n",
    "y = torch.from_numpy(y).type(torch.float).to(device)"
   ]
  },
  {
   "cell_type": "code",
   "execution_count": 4,
   "id": "1c8d1a33-b0b1-488d-b34f-c2447bd0300c",
   "metadata": {
    "execution": {
     "iopub.execute_input": "2024-03-02T00:53:31.120594Z",
     "iopub.status.busy": "2024-03-02T00:53:31.120255Z",
     "iopub.status.idle": "2024-03-02T00:53:31.175087Z",
     "shell.execute_reply": "2024-03-02T00:53:31.174726Z",
     "shell.execute_reply.started": "2024-03-02T00:53:31.120577Z"
    }
   },
   "outputs": [],
   "source": [
    "LEARNING_RATE = 0.01\n",
    "IN_FEATURES = 124\n",
    "OUT_FEATURES = 128\n",
    "RANDOM_SEED = 42\n",
    "\n",
    "X_train, X_test, y_train, y_test = train_test_split(X,\n",
    "    y,\n",
    "    test_size=0.2,\n",
    "    random_state=RANDOM_SEED\n",
    ")"
   ]
  },
  {
   "cell_type": "code",
   "execution_count": null,
   "id": "a800881d-e8db-42f9-8335-f55c903be7b8",
   "metadata": {},
   "outputs": [],
   "source": []
  }
 ],
 "metadata": {
  "kernelspec": {
   "display_name": "Python 3 (ipykernel)",
   "language": "python",
   "name": "python3"
  },
  "language_info": {
   "codemirror_mode": {
    "name": "ipython",
    "version": 3
   },
   "file_extension": ".py",
   "mimetype": "text/x-python",
   "name": "python",
   "nbconvert_exporter": "python",
   "pygments_lexer": "ipython3",
   "version": "3.11.8"
  }
 },
 "nbformat": 4,
 "nbformat_minor": 5
}
