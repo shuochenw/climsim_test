{
 "cells": [
  {
   "cell_type": "code",
   "execution_count": 1,
   "id": "132df34f-183f-4d66-9c0d-2029d22b0fbb",
   "metadata": {
    "execution": {
     "iopub.execute_input": "2024-07-18T03:18:04.753400Z",
     "iopub.status.busy": "2024-07-18T03:18:04.753147Z",
     "iopub.status.idle": "2024-07-18T03:18:15.400246Z",
     "shell.execute_reply": "2024-07-18T03:18:15.399835Z",
     "shell.execute_reply.started": "2024-07-18T03:18:04.753387Z"
    }
   },
   "outputs": [],
   "source": [
    "import numpy as np\n",
    "import torch\n",
    "from torch import nn\n",
    "import matplotlib.pyplot as plt\n",
    "from sklearn.model_selection import train_test_split\n",
    "from torch.utils.data import random_split\n",
    "from torch.utils.data import DataLoader, TensorDataset\n",
    "import torch.nn.functional as F"
   ]
  },
  {
   "cell_type": "code",
   "execution_count": 2,
   "id": "80c35e4f-9c2a-42d6-836f-b338cb040023",
   "metadata": {
    "execution": {
     "iopub.execute_input": "2024-07-18T03:18:15.400975Z",
     "iopub.status.busy": "2024-07-18T03:18:15.400787Z",
     "iopub.status.idle": "2024-07-18T03:18:15.481071Z",
     "shell.execute_reply": "2024-07-18T03:18:15.480645Z",
     "shell.execute_reply.started": "2024-07-18T03:18:15.400963Z"
    }
   },
   "outputs": [
    {
     "name": "stdout",
     "output_type": "stream",
     "text": [
      "Using device: cuda\n",
      "NVIDIA A100-SXM4-80GB\n",
      "Memory Usage:\n",
      "Allocated: 0.0 GB\n",
      "Cached:    0.0 GB\n"
     ]
    }
   ],
   "source": [
    "# setting device on GPU if available, else CPU\n",
    "device = torch.device('cuda' if torch.cuda.is_available() else 'cpu')\n",
    "print('Using device:', device)\n",
    "#Additional Info when using cuda\n",
    "if device.type == 'cuda':\n",
    "    print(torch.cuda.get_device_name(0))\n",
    "    print('Memory Usage:')\n",
    "    print('Allocated:', round(torch.cuda.memory_allocated(0)/1024**3,1), 'GB')\n",
    "    print('Cached:   ', round(torch.cuda.memory_reserved(0)/1024**3,1), 'GB')"
   ]
  },
  {
   "cell_type": "code",
   "execution_count": 3,
   "id": "5a3b28e3-4ff8-4aff-8050-271c46c1b545",
   "metadata": {
    "execution": {
     "iopub.execute_input": "2024-07-18T03:18:15.482030Z",
     "iopub.status.busy": "2024-07-18T03:18:15.481714Z",
     "iopub.status.idle": "2024-07-18T03:18:21.741316Z",
     "shell.execute_reply": "2024-07-18T03:18:21.740820Z",
     "shell.execute_reply.started": "2024-07-18T03:18:15.482016Z"
    }
   },
   "outputs": [],
   "source": [
    "SEQUENCE_SIZE = 10\n",
    "LEARNING_RATE = 0.01\n",
    "BATCH_SIZE = 512\n",
    "EPOCHS = 1\n",
    "IN_FEATURES = 124\n",
    "OUT_FEATURES = 128\n",
    "# RANDOM_SEED = 42\n",
    "D_MODEL = 64\n",
    "# DROPOUT = 0.2\n",
    "N_HEAD = 4\n",
    "N_LAYER = 2\n",
    "MAX_LEN = 5000\n",
    "\n",
    "# use all 8 years: change path\n",
    "X_train=np.load('/work/sds-lab/Shuochen/climsim/train_input.npy')\n",
    "y_train=np.load('/work/sds-lab/Shuochen/climsim/train_target.npy')\n",
    "X_test=np.load('/work/sds-lab/Shuochen/climsim/val_input.npy')\n",
    "y_test=np.load('/work/sds-lab/Shuochen/climsim/val_target.npy')\n",
    "\n",
    "X_train = torch.from_numpy(X_train).type(torch.float)\n",
    "y_train = torch.from_numpy(y_train).type(torch.float)\n",
    "X_test = torch.from_numpy(X_test).type(torch.float)\n",
    "y_test = torch.from_numpy(y_test).type(torch.float)"
   ]
  },
  {
   "cell_type": "code",
   "execution_count": 4,
   "id": "f0d94c84-7366-4263-96cc-9012b8917dbf",
   "metadata": {
    "execution": {
     "iopub.execute_input": "2024-07-18T03:18:21.742052Z",
     "iopub.status.busy": "2024-07-18T03:18:21.741843Z",
     "iopub.status.idle": "2024-07-18T03:18:21.749287Z",
     "shell.execute_reply": "2024-07-18T03:18:21.749004Z",
     "shell.execute_reply.started": "2024-07-18T03:18:21.742038Z"
    }
   },
   "outputs": [
    {
     "data": {
      "text/plain": [
       "tensor([-1.5586e-02, -1.7865e-02, -1.5277e-02, -5.2689e-02, -8.3883e-02,\n",
       "        -1.1416e-01, -1.1044e-01, -8.1311e-02, -5.0689e-02, -4.0045e-02,\n",
       "        -2.9639e-02, -2.2547e-02, -1.7762e-02, -1.3505e-02, -9.0672e-03,\n",
       "        -5.5347e-03, -6.4357e-03,  2.2438e-03, -7.3168e-03, -6.7398e-03,\n",
       "         3.5939e-03,  6.6866e-03, -1.7977e-02, -2.2111e-02,  1.8803e-02,\n",
       "        -1.5125e-02, -3.1598e-02, -1.8060e-02, -3.0719e-02, -1.1840e-02,\n",
       "        -1.1841e-02, -6.5446e-03,  5.4671e-03, -3.0274e-02, -3.2462e-02,\n",
       "        -3.7675e-02, -2.2177e-02, -3.1372e-02, -1.0976e-02, -2.8571e-02,\n",
       "        -1.8032e-02, -2.6314e-02, -3.5013e-02, -3.9168e-02, -2.3946e-02,\n",
       "        -3.8324e-02, -3.4702e-02, -3.2525e-02, -2.3825e-02, -3.0524e-02,\n",
       "         1.7836e-02, -2.7327e-03, -2.6212e-03, -6.0459e-02, -5.2980e-02,\n",
       "        -1.5062e-02, -5.6999e-02, -6.5618e-02, -2.6870e-02, -7.9953e-04,\n",
       "         0.0000e+00,  0.0000e+00,  0.0000e+00,  0.0000e+00,  0.0000e+00,\n",
       "         0.0000e+00,  0.0000e+00,  0.0000e+00,  0.0000e+00,  0.0000e+00,\n",
       "         0.0000e+00,  0.0000e+00,  1.9096e-07, -1.2469e-06, -4.2531e-07,\n",
       "         3.1771e-06, -1.6068e-06, -5.4139e-06,  1.6638e-05, -5.6553e-05,\n",
       "        -1.6377e-05, -5.2781e-05, -5.0382e-05,  3.2759e-04,  1.2918e-04,\n",
       "         2.0363e-04,  3.4000e-03,  2.5493e-03, -1.0977e-03,  2.5220e-03,\n",
       "        -5.9407e-04,  2.2471e-04,  1.0954e-02,  1.3459e-03,  6.6094e-03,\n",
       "         1.8779e-02,  9.9704e-04, -9.9544e-03, -6.9102e-03,  4.2933e-03,\n",
       "         7.0122e-03,  2.2309e-02, -8.1454e-03,  3.3948e-02,  2.3450e-03,\n",
       "        -1.4549e-02,  7.8869e-02,  1.3192e-01,  5.3883e-02, -3.6447e-03,\n",
       "        -1.6888e-01, -1.5727e-01, -5.1921e-02,  1.2247e-01,  1.4715e-02,\n",
       "        -5.3380e-02,  1.5391e-01,  2.0559e-01, -1.2144e-01, -1.8063e-01,\n",
       "         0.0000e+00,  1.8448e+00,  0.0000e+00,  3.2687e-03,  0.0000e+00,\n",
       "         0.0000e+00,  0.0000e+00,  0.0000e+00])"
      ]
     },
     "execution_count": 4,
     "metadata": {},
     "output_type": "execute_result"
    }
   ],
   "source": [
    "y_test[1,:]"
   ]
  },
  {
   "cell_type": "code",
   "execution_count": 23,
   "id": "b5f8fa84-4ce0-4d52-8283-f6cc892b1a00",
   "metadata": {
    "execution": {
     "iopub.execute_input": "2024-07-18T03:27:21.516440Z",
     "iopub.status.busy": "2024-07-18T03:27:21.516213Z",
     "iopub.status.idle": "2024-07-18T03:27:22.730077Z",
     "shell.execute_reply": "2024-07-18T03:27:22.729663Z",
     "shell.execute_reply.started": "2024-07-18T03:27:21.516426Z"
    }
   },
   "outputs": [
    {
     "name": "stdout",
     "output_type": "stream",
     "text": [
      "torch.Size([1441920, 128])\n",
      "tensor(-0.0179)\n",
      "torch.Size([384, 3755, 128])\n",
      "tensor(-0.0150)\n",
      "torch.Size([384, 3746, 128, 10])\n",
      "tensor(-0.0296)\n",
      "torch.Size([384, 3746, 10, 128])\n",
      "tensor(-0.0296)\n",
      "torch.Size([1438464, 10, 128])\n",
      "tensor(-0.0330)\n"
     ]
    }
   ],
   "source": [
    "def create_sliding_window(y):\n",
    "    # to tensor, reshape, transpose (time * space, 124 or 128) > (space, time, 124 or 128)\n",
    "    print(y.shape)\n",
    "    print(y[1,1])\n",
    "    y=torch.Tensor(y).reshape(int(y.shape[0]/384),384,128).permute(1,0,2)\n",
    "    print(y.shape)\n",
    "    print(y[1,1,1])\n",
    "    # create sliding window (space, time, 124 or 128) > (space, num_window, 124 or 128, seq_size)\n",
    "    y = y.unfold(1,SEQUENCE_SIZE,1)\n",
    "    print(y.shape)\n",
    "    print(y[1,1,1,1])\n",
    "    # transpose (space, num_window, 124 or 128, seq_size) > (space, num_window, seq_size, 124 or 128)\n",
    "    y = y.permute(0,1,3,2)\n",
    "    print(y.shape)\n",
    "    print(y[1,1,1,1])\n",
    "    # combine dimension (space, num_window, seq_size, 124 or 128) > (space * num_window, seq_size, 124 or 128)\n",
    "    y = y.reshape(384 * y.shape[1],SEQUENCE_SIZE,128)\n",
    "    print(y.shape)\n",
    "    print(y[1,1,1])\n",
    "    return y\n",
    "\n",
    "# X, y = create_sliding_window(X, y)\n",
    "# X_train, y_train = create_sliding_window(X_train, y_train)\n",
    "y_test_a = create_sliding_window(y_test)"
   ]
  },
  {
   "cell_type": "code",
   "execution_count": 26,
   "id": "1a8d7640-0116-41b6-9e85-fa01586cf0ea",
   "metadata": {
    "execution": {
     "iopub.execute_input": "2024-07-18T03:29:42.015072Z",
     "iopub.status.busy": "2024-07-18T03:29:42.014799Z",
     "iopub.status.idle": "2024-07-18T03:29:42.206912Z",
     "shell.execute_reply": "2024-07-18T03:29:42.206568Z",
     "shell.execute_reply.started": "2024-07-18T03:29:42.015059Z"
    }
   },
   "outputs": [
    {
     "name": "stdout",
     "output_type": "stream",
     "text": [
      "torch.Size([1438464, 10, 128])\n",
      "tensor(-0.0330)\n",
      "torch.Size([384, 3746, 10, 128])\n",
      "tensor(-0.0296)\n",
      "torch.Size([384, 3755, 128])\n",
      "tensor(-0.0150)\n",
      "torch.Size([1441920, 128])\n",
      "tensor(-0.0179)\n"
     ]
    }
   ],
   "source": [
    "def get_original_shape(y):\n",
    "    print(y.shape)\n",
    "    print(y[1,1,1])\n",
    "    # (space * num_window, seq_size, 124 or 128) > (space, num_window, seq_size, 124 or 128)\n",
    "    y = y.reshape(384, int(y.shape[0]/384),SEQUENCE_SIZE,128)\n",
    "    \n",
    "    # # (space, num_window, seq_size, 124 or 128) > (space, num_window, 124 or 128, seq_size)\n",
    "    # y = y.permute(0,1,3,2)\n",
    "    print(y.shape)\n",
    "    print(y[1,1,1,1])\n",
    "    \n",
    "    # window_1 is values in the first window, take the last value from each rest window and concat to the end.\n",
    "    # (space, num_window, 124 or 128, seq_size) > (space, time, 124 or 128)\n",
    "    window_1 = y[:, 0, :, :]\n",
    "    #print(window_1.shape)\n",
    "    rest = y[:, 1:, -1, :]\n",
    "    #print(rest.shape)\n",
    "    y = torch.cat((window_1,rest),dim=1)\n",
    "    print(y.shape)\n",
    "    print(y[1,1,1])\n",
    "    y = y.permute(1,0,2)\n",
    "    y = y.reshape(y.shape[0]*y.shape[1],128)\n",
    "    print(y.shape)\n",
    "    print(y[1,1])\n",
    "    return y\n",
    "\n",
    "# get back the original shape\n",
    "y_test_b = get_original_shape(y_test_a)"
   ]
  },
  {
   "cell_type": "code",
   "execution_count": null,
   "id": "7374967f-9ef6-496d-83ee-184a87842dab",
   "metadata": {},
   "outputs": [],
   "source": []
  },
  {
   "cell_type": "code",
   "execution_count": null,
   "id": "e6d751da-e83e-4456-b4d0-de7b7a83a3ef",
   "metadata": {},
   "outputs": [],
   "source": []
  },
  {
   "cell_type": "code",
   "execution_count": null,
   "id": "3496b916-a59a-4e3b-a8d0-2d3ef4bb3084",
   "metadata": {},
   "outputs": [],
   "source": []
  },
  {
   "cell_type": "code",
   "execution_count": null,
   "id": "08f5f2e8-cf2e-4c6b-9af2-48b992ae85bf",
   "metadata": {},
   "outputs": [],
   "source": []
  },
  {
   "cell_type": "code",
   "execution_count": null,
   "id": "124a0bc9-1c6d-4d6c-8f33-4b0085d38e15",
   "metadata": {},
   "outputs": [],
   "source": []
  },
  {
   "cell_type": "code",
   "execution_count": null,
   "id": "724da14e-4b99-4bd0-bde0-60959199dc58",
   "metadata": {},
   "outputs": [],
   "source": []
  },
  {
   "cell_type": "code",
   "execution_count": null,
   "id": "6bee5424-c772-44be-8ceb-fe2cb964234c",
   "metadata": {},
   "outputs": [],
   "source": []
  },
  {
   "cell_type": "code",
   "execution_count": null,
   "id": "5389c1c3-a536-477a-9825-41e93cadb518",
   "metadata": {},
   "outputs": [],
   "source": []
  }
 ],
 "metadata": {
  "kernelspec": {
   "display_name": "Python 3 (ipykernel)",
   "language": "python",
   "name": "python3"
  },
  "language_info": {
   "codemirror_mode": {
    "name": "ipython",
    "version": 3
   },
   "file_extension": ".py",
   "mimetype": "text/x-python",
   "name": "python",
   "nbconvert_exporter": "python",
   "pygments_lexer": "ipython3",
   "version": "3.11.9"
  }
 },
 "nbformat": 4,
 "nbformat_minor": 5
}
