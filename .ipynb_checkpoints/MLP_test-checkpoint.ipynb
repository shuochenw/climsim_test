{
 "cells": [
  {
   "cell_type": "code",
   "execution_count": 2,
   "id": "64009ec7-42a9-4954-9ebf-f098613df298",
   "metadata": {
    "execution": {
     "iopub.execute_input": "2024-03-26T17:59:55.606312Z",
     "iopub.status.busy": "2024-03-26T17:59:55.605956Z",
     "iopub.status.idle": "2024-03-26T17:59:59.061883Z",
     "shell.execute_reply": "2024-03-26T17:59:59.061457Z",
     "shell.execute_reply.started": "2024-03-26T17:59:55.606300Z"
    }
   },
   "outputs": [],
   "source": [
    "import xarray as xr\n",
    "import os\n",
    "import netCDF4\n",
    "import numpy as np\n",
    "import torch\n",
    "from torch import nn\n",
    "import matplotlib.pyplot as plt\n",
    "from sklearn.model_selection import train_test_split\n",
    "from sklearn.metrics import mean_absolute_error\n",
    "from torch.utils.data import random_split\n",
    "import random\n",
    "import pandas as pd\n",
    "from torch.utils.data import DataLoader, TensorDataset\n",
    "from sklearn.preprocessing import StandardScaler\n",
    "from torch.optim.lr_scheduler import ReduceLROnPlateau"
   ]
  },
  {
   "cell_type": "code",
   "execution_count": 3,
   "id": "22c24368-6b80-456f-8c0e-eb8f8d67c740",
   "metadata": {
    "execution": {
     "iopub.execute_input": "2024-03-26T17:59:59.062848Z",
     "iopub.status.busy": "2024-03-26T17:59:59.062587Z",
     "iopub.status.idle": "2024-03-26T17:59:59.134064Z",
     "shell.execute_reply": "2024-03-26T17:59:59.133659Z",
     "shell.execute_reply.started": "2024-03-26T17:59:59.062837Z"
    }
   },
   "outputs": [
    {
     "name": "stdout",
     "output_type": "stream",
     "text": [
      "Using device: cuda\n",
      "NVIDIA A100-SXM4-80GB\n",
      "Memory Usage:\n",
      "Allocated: 0.0 GB\n",
      "Cached:    0.0 GB\n"
     ]
    }
   ],
   "source": [
    "# setting device on GPU if available, else CPU\n",
    "device = torch.device('cuda' if torch.cuda.is_available() else 'cpu')\n",
    "print('Using device:', device)\n",
    "#Additional Info when using cuda\n",
    "if device.type == 'cuda':\n",
    "    print(torch.cuda.get_device_name(0))\n",
    "    print('Memory Usage:')\n",
    "    print('Allocated:', round(torch.cuda.memory_allocated(0)/1024**3,1), 'GB')\n",
    "    print('Cached:   ', round(torch.cuda.memory_reserved(0)/1024**3,1), 'GB')"
   ]
  },
  {
   "cell_type": "code",
   "execution_count": 3,
   "id": "b645ca69-c109-439c-8f5b-1a87b48f35c2",
   "metadata": {
    "execution": {
     "iopub.execute_input": "2024-03-24T21:37:41.851751Z",
     "iopub.status.busy": "2024-03-24T21:37:41.851469Z",
     "iopub.status.idle": "2024-03-24T21:37:42.650396Z",
     "shell.execute_reply": "2024-03-24T21:37:42.650035Z",
     "shell.execute_reply.started": "2024-03-24T21:37:41.851738Z"
    }
   },
   "outputs": [],
   "source": [
    "# use validation year: change path\n",
    "X=np.load('/work/sds-lab/Shuochen/climsim/val_input.npy')\n",
    "y=np.load('/work/sds-lab/Shuochen/climsim/val_target.npy')\n",
    "\n",
    "X = torch.from_numpy(X).type(torch.float).to(device)\n",
    "y = torch.from_numpy(y).type(torch.float).to(device)\n",
    "\n",
    "X_train, X_test, y_train, y_test = train_test_split(X,\n",
    "    y,\n",
    "    test_size=0.2,\n",
    "    random_state=42\n",
    ")\n",
    "\n",
    "# # use all 8 years: change path\n",
    "# X_train=np.load('/work/sds-lab/Shuochen/climsim/train_input.npy')\n",
    "# y_train=np.load('/work/sds-lab/Shuochen/climsim/train_target.npy')\n",
    "# X_test=np.load('/work/sds-lab/Shuochen/climsim/val_input.npy')\n",
    "# y_test=np.load('/work/sds-lab/Shuochen/climsim/val_target.npy')\n",
    "\n",
    "# X_train = torch.from_numpy(X_train).type(torch.float).to(device)\n",
    "# y_train = torch.from_numpy(y_train).type(torch.float).to(device)\n",
    "# X_test = torch.from_numpy(X_test).type(torch.float).to(device)\n",
    "# y_test = torch.from_numpy(y_test).type(torch.float).to(device)"
   ]
  },
  {
   "cell_type": "code",
   "execution_count": 4,
   "id": "0d0592f3-2202-42d5-a674-362c2c15c7ce",
   "metadata": {
    "execution": {
     "iopub.execute_input": "2024-03-24T21:37:42.651191Z",
     "iopub.status.busy": "2024-03-24T21:37:42.651025Z",
     "iopub.status.idle": "2024-03-24T21:37:42.653243Z",
     "shell.execute_reply": "2024-03-24T21:37:42.652984Z",
     "shell.execute_reply.started": "2024-03-24T21:37:42.651177Z"
    }
   },
   "outputs": [],
   "source": [
    "LEARNING_RATE = 0.001\n",
    "IN_FEATURES = 124\n",
    "OUT_FEATURES = 128\n",
    "RANDOM_SEED = 42\n",
    "BATCH_SIZE = 320"
   ]
  },
  {
   "cell_type": "code",
   "execution_count": 5,
   "id": "9ae59098-9490-4222-82b2-c396f36a7981",
   "metadata": {
    "execution": {
     "iopub.execute_input": "2024-03-24T21:37:42.653775Z",
     "iopub.status.busy": "2024-03-24T21:37:42.653604Z",
     "iopub.status.idle": "2024-03-24T21:37:43.460048Z",
     "shell.execute_reply": "2024-03-24T21:37:43.459700Z",
     "shell.execute_reply.started": "2024-03-24T21:37:42.653765Z"
    }
   },
   "outputs": [],
   "source": [
    "class MLP(nn.Module):\n",
    "    def __init__(self, IN_FEATURES, OUT_FEATURES):\n",
    "        super().__init__()\n",
    "        self.seq = nn.Sequential(nn.Linear(IN_FEATURES, 768),\n",
    "                                 nn.LeakyReLU(0.15),\n",
    "                                 nn.Linear(768, 640),\n",
    "                                 nn.LeakyReLU(0.15),\n",
    "                                 nn.Linear(640, 512),\n",
    "                                 nn.LeakyReLU(0.15),\n",
    "                                 nn.Linear(512, 640),\n",
    "                                 nn.LeakyReLU(0.15),\n",
    "                                 nn.Linear(640, 640),\n",
    "                                 nn.LeakyReLU(0.15),\n",
    "                                 nn.Linear(640, 128),\n",
    "                                 nn.LeakyReLU(0.15))\n",
    "        self.linear1 = nn.Linear(128, 120)\n",
    "        self.linear2 = nn.Linear(128, 8)\n",
    "        self.relu = nn.ReLU()\n",
    "\n",
    "    def forward(self, x):\n",
    "        a = self.linear1(self.seq(x))\n",
    "        b = self.relu(self.linear2(self.seq(x)))\n",
    "        return torch.concat((a, b), dim=1)\n",
    "        \n",
    "model = MLP(IN_FEATURES, OUT_FEATURES).to(device)\n",
    "loss_fn = nn.MSELoss()\n",
    "optimizer = torch.optim.RAdam(model.parameters(),lr=LEARNING_RATE)"
   ]
  },
  {
   "cell_type": "code",
   "execution_count": 6,
   "id": "49201ba4-8d50-4e21-9f33-ee77f85bee8e",
   "metadata": {
    "execution": {
     "iopub.execute_input": "2024-03-24T21:37:43.460996Z",
     "iopub.status.busy": "2024-03-24T21:37:43.460694Z",
     "iopub.status.idle": "2024-03-24T21:38:23.228540Z",
     "shell.execute_reply": "2024-03-24T21:38:23.228115Z",
     "shell.execute_reply.started": "2024-03-24T21:37:43.460984Z"
    }
   },
   "outputs": [
    {
     "name": "stdout",
     "output_type": "stream",
     "text": [
      "Epoch: 0 | Train loss: 0.04158 | Test loss: 0.04154\n",
      "Epoch: 10 | Train loss: 0.04116 | Test loss: 0.04101\n",
      "Epoch: 20 | Train loss: 0.03964 | Test loss: 0.03937\n"
     ]
    }
   ],
   "source": [
    "torch.manual_seed(42)\n",
    "epochs = 30\n",
    "for epoch in range(epochs):\n",
    "    model.train()\n",
    "    y_pred = model(X_train)\n",
    "    train_loss = loss_fn(y_pred, y_train)\n",
    "    optimizer.zero_grad()\n",
    "    train_loss.backward()\n",
    "    optimizer.step()\n",
    "    \n",
    "    model.eval()  \n",
    "    with torch.inference_mode():\n",
    "        test_pred = model(X_test)\n",
    "        test_loss = loss_fn(test_pred, y_test.type(torch.float))\n",
    "        \n",
    "        if epoch % 10 == 0:\n",
    "            print(f\"Epoch: {epoch} | Train loss: {train_loss:.5f} | Test loss: {test_loss:.5f}\")\n"
   ]
  },
  {
   "cell_type": "code",
   "execution_count": null,
   "id": "2edabbf6-6574-4ee5-a88a-dc0225f4460d",
   "metadata": {},
   "outputs": [],
   "source": []
  }
 ],
 "metadata": {
  "kernelspec": {
   "display_name": "Python 3 (ipykernel)",
   "language": "python",
   "name": "python3"
  },
  "language_info": {
   "codemirror_mode": {
    "name": "ipython",
    "version": 3
   },
   "file_extension": ".py",
   "mimetype": "text/x-python",
   "name": "python",
   "nbconvert_exporter": "python",
   "pygments_lexer": "ipython3",
   "version": "3.11.8"
  }
 },
 "nbformat": 4,
 "nbformat_minor": 5
}
