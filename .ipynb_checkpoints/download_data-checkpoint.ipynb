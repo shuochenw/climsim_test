{
 "cells": [
  {
   "cell_type": "code",
   "execution_count": 1,
   "id": "2f41b15d-8b0e-4be9-90ab-2df114fa26f2",
   "metadata": {
    "execution": {
     "iopub.execute_input": "2024-03-13T01:00:03.354848Z",
     "iopub.status.busy": "2024-03-13T01:00:03.354710Z",
     "iopub.status.idle": "2024-03-13T01:00:03.737776Z",
     "shell.execute_reply": "2024-03-13T01:00:03.737451Z",
     "shell.execute_reply.started": "2024-03-13T01:00:03.354835Z"
    }
   },
   "outputs": [
    {
     "name": "stderr",
     "output_type": "stream",
     "text": [
      "/home/wang.shuoc/.conda/envs/my_env/lib/python3.11/site-packages/tqdm/auto.py:21: TqdmWarning: IProgress not found. Please update jupyter and ipywidgets. See https://ipywidgets.readthedocs.io/en/stable/user_install.html\n",
      "  from .autonotebook import tqdm as notebook_tqdm\n"
     ]
    }
   ],
   "source": [
    "# download data from huggingface\n",
    "from huggingface_hub import hf_hub_download\n",
    "from huggingface_hub import snapshot_download\n",
    "from huggingface_hub import hf_hub_url"
   ]
  },
  {
   "cell_type": "code",
   "execution_count": 3,
   "id": "6f04036c-3517-49cc-9bf6-a4d9e9134906",
   "metadata": {
    "execution": {
     "iopub.execute_input": "2024-03-13T01:01:31.449784Z",
     "iopub.status.busy": "2024-03-13T01:01:31.449611Z",
     "iopub.status.idle": "2024-03-13T01:01:37.508252Z",
     "shell.execute_reply": "2024-03-13T01:01:37.507914Z",
     "shell.execute_reply.started": "2024-03-13T01:01:31.449772Z"
    }
   },
   "outputs": [
    {
     "name": "stderr",
     "output_type": "stream",
     "text": [
      "Fetching 1 files: 100%|██████████| 1/1 [00:05<00:00,  5.88s/it]\n"
     ]
    },
    {
     "data": {
      "text/plain": [
       "'/work/sds-lab/Shuochen/climsim'"
      ]
     },
     "execution_count": 3,
     "metadata": {},
     "output_type": "execute_result"
    }
   ],
   "source": [
    "snapshot_download(repo_id=\"LEAP/subsampled_low_res\",\n",
    "                  repo_type='dataset',\n",
    "                  local_dir='/work/sds-lab/Shuochen/climsim/',\n",
    "                  allow_patterns='scoring_target.npy',\n",
    "                  local_dir_use_symlinks=False)"
   ]
  },
  {
   "cell_type": "code",
   "execution_count": null,
   "id": "ba5d635c-bd1f-42c9-a4c2-cfd67b704e4a",
   "metadata": {},
   "outputs": [],
   "source": []
  }
 ],
 "metadata": {
  "kernelspec": {
   "display_name": "Python 3 (ipykernel)",
   "language": "python",
   "name": "python3"
  },
  "language_info": {
   "codemirror_mode": {
    "name": "ipython",
    "version": 3
   },
   "file_extension": ".py",
   "mimetype": "text/x-python",
   "name": "python",
   "nbconvert_exporter": "python",
   "pygments_lexer": "ipython3",
   "version": "3.11.8"
  }
 },
 "nbformat": 4,
 "nbformat_minor": 5
}
