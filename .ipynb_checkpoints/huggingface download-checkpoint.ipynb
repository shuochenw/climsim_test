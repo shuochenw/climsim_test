{
 "cells": [
  {
   "cell_type": "code",
   "execution_count": 1,
   "id": "15274d7a-3cf0-4859-a9b7-9178ed5f19d2",
   "metadata": {
    "execution": {
     "iopub.execute_input": "2024-03-02T00:57:45.402643Z",
     "iopub.status.busy": "2024-03-02T00:57:45.402285Z",
     "iopub.status.idle": "2024-03-02T00:57:45.863702Z",
     "shell.execute_reply": "2024-03-02T00:57:45.863418Z",
     "shell.execute_reply.started": "2024-03-02T00:57:45.402621Z"
    }
   },
   "outputs": [
    {
     "name": "stderr",
     "output_type": "stream",
     "text": [
      "/home/wang.shuoc/.conda/envs/my_env/lib/python3.11/site-packages/tqdm/auto.py:21: TqdmWarning: IProgress not found. Please update jupyter and ipywidgets. See https://ipywidgets.readthedocs.io/en/stable/user_install.html\n",
      "  from .autonotebook import tqdm as notebook_tqdm\n"
     ]
    }
   ],
   "source": [
    "# download data from huggingface\n",
    "from huggingface_hub import hf_hub_download\n",
    "from huggingface_hub import snapshot_download\n",
    "from huggingface_hub import hf_hub_url"
   ]
  },
  {
   "cell_type": "code",
   "execution_count": 4,
   "id": "fd29418e-31cd-47f9-af07-5327f8acafc8",
   "metadata": {
    "execution": {
     "iopub.execute_input": "2024-03-02T02:26:49.976965Z",
     "iopub.status.busy": "2024-03-02T02:26:49.976620Z",
     "iopub.status.idle": "2024-03-02T02:34:17.713464Z",
     "shell.execute_reply": "2024-03-02T02:34:17.713135Z",
     "shell.execute_reply.started": "2024-03-02T02:26:49.976953Z"
    }
   },
   "outputs": [
    {
     "name": "stderr",
     "output_type": "stream",
     "text": [
      "Fetching 8784 files: 100%|██████████| 8784/8784 [07:22<00:00, 19.85it/s]\n"
     ]
    },
    {
     "data": {
      "text/plain": [
       "'/work/sds-lab/Shuochen/climsim/train_2'"
      ]
     },
     "execution_count": 4,
     "metadata": {},
     "output_type": "execute_result"
    }
   ],
   "source": [
    "snapshot_download(repo_id=\"LEAP/ClimSim_low-res\",\n",
    "                  repo_type=\"dataset\",\n",
    "                  local_dir='/work/sds-lab/Shuochen/climsim/train_2',\n",
    "                  allow_patterns='train/0006-1[1-2]/*',\n",
    "                  local_dir_use_symlinks=False)"
   ]
  },
  {
   "cell_type": "code",
   "execution_count": 8,
   "id": "d09e5f7a-adc3-4ca8-9c85-840845dd40a1",
   "metadata": {
    "execution": {
     "iopub.execute_input": "2024-02-29T18:23:56.969649Z",
     "iopub.status.busy": "2024-02-29T18:23:56.969419Z",
     "iopub.status.idle": "2024-02-29T18:25:41.872961Z",
     "shell.execute_reply": "2024-02-29T18:25:41.872445Z",
     "shell.execute_reply.started": "2024-02-29T18:23:56.969633Z"
    }
   },
   "outputs": [
    {
     "name": "stderr",
     "output_type": "stream",
     "text": [
      "Fetching 1 files: 100%|██████████| 1/1 [01:44<00:00, 104.83s/it]\n"
     ]
    },
    {
     "data": {
      "text/plain": [
       "'/work/sds-lab/Shuochen/climsim'"
      ]
     },
     "execution_count": 8,
     "metadata": {},
     "output_type": "execute_result"
    }
   ],
   "source": [
    "snapshot_download(repo_id=\"LEAP/subsampled_low_res\",\n",
    "                  repo_type=\"dataset\",\n",
    "                  local_dir='/work/sds-lab/Shuochen/climsim/',\n",
    "                  allow_patterns='train_target.npy',\n",
    "                  local_dir_use_symlinks=False)"
   ]
  },
  {
   "cell_type": "code",
   "execution_count": 2,
   "id": "c68ac287-5df8-459e-bdca-e46fb0cdd9c0",
   "metadata": {
    "execution": {
     "iopub.execute_input": "2024-03-02T21:03:26.475515Z",
     "iopub.status.busy": "2024-03-02T21:03:26.475074Z",
     "iopub.status.idle": "2024-03-02T21:03:35.456044Z",
     "shell.execute_reply": "2024-03-02T21:03:35.455521Z",
     "shell.execute_reply.started": "2024-03-02T21:03:26.475502Z"
    }
   },
   "outputs": [
    {
     "name": "stderr",
     "output_type": "stream",
     "text": [
      "/home/wang.shuoc/.conda/envs/my_env/lib/python3.11/site-packages/torch/nn/modules/transformer.py:286: UserWarning: enable_nested_tensor is True, but self.use_nested_tensor is False because encoder_layer.self_attn.batch_first was not True(use batch_first for better inference performance)\n",
      "  warnings.warn(f\"enable_nested_tensor is True, but self.use_nested_tensor is False because {why_not_sparsity_fast_path}\")\n"
     ]
    }
   ],
   "source": [
    "import torch\n",
    "from torch import nn\n",
    "transformer_model = nn.Transformer(nhead=16, num_encoder_layers=12)\n",
    "src = torch.rand((10, 32, 512))\n",
    "tgt = torch.rand((20, 32, 512))\n",
    "out = transformer_model(src, tgt)"
   ]
  },
  {
   "cell_type": "code",
   "execution_count": 4,
   "id": "b9dbe552-cb62-4f9b-b220-22a6c89c1c4a",
   "metadata": {
    "execution": {
     "iopub.execute_input": "2024-03-02T21:03:44.794648Z",
     "iopub.status.busy": "2024-03-02T21:03:44.794423Z",
     "iopub.status.idle": "2024-03-02T21:03:44.797054Z",
     "shell.execute_reply": "2024-03-02T21:03:44.796774Z",
     "shell.execute_reply.started": "2024-03-02T21:03:44.794623Z"
    }
   },
   "outputs": [
    {
     "data": {
      "text/plain": [
       "torch.Size([20, 32, 512])"
      ]
     },
     "execution_count": 4,
     "metadata": {},
     "output_type": "execute_result"
    }
   ],
   "source": [
    "out.shape"
   ]
  },
  {
   "cell_type": "code",
   "execution_count": null,
   "id": "4cda1c4c-9fdd-4bda-8174-a85378d57617",
   "metadata": {},
   "outputs": [],
   "source": []
  }
 ],
 "metadata": {
  "kernelspec": {
   "display_name": "Python 3 (ipykernel)",
   "language": "python",
   "name": "python3"
  },
  "language_info": {
   "codemirror_mode": {
    "name": "ipython",
    "version": 3
   },
   "file_extension": ".py",
   "mimetype": "text/x-python",
   "name": "python",
   "nbconvert_exporter": "python",
   "pygments_lexer": "ipython3",
   "version": "3.11.8"
  }
 },
 "nbformat": 4,
 "nbformat_minor": 5
}
