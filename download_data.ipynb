{
 "cells": [
  {
   "cell_type": "code",
   "execution_count": 1,
   "id": "2f41b15d-8b0e-4be9-90ab-2df114fa26f2",
   "metadata": {
    "execution": {
     "iopub.execute_input": "2024-03-03T00:06:24.536249Z",
     "iopub.status.busy": "2024-03-03T00:06:24.535861Z",
     "iopub.status.idle": "2024-03-03T00:06:25.141409Z",
     "shell.execute_reply": "2024-03-03T00:06:25.140361Z",
     "shell.execute_reply.started": "2024-03-03T00:06:24.536213Z"
    }
   },
   "outputs": [
    {
     "name": "stderr",
     "output_type": "stream",
     "text": [
      "/home/wang.shuoc/.conda/envs/my_env/lib/python3.11/site-packages/tqdm/auto.py:21: TqdmWarning: IProgress not found. Please update jupyter and ipywidgets. See https://ipywidgets.readthedocs.io/en/stable/user_install.html\n",
      "  from .autonotebook import tqdm as notebook_tqdm\n"
     ]
    }
   ],
   "source": [
    "# download data from huggingface\n",
    "from huggingface_hub import hf_hub_download\n",
    "from huggingface_hub import snapshot_download\n",
    "from huggingface_hub import hf_hub_url"
   ]
  },
  {
   "cell_type": "code",
   "execution_count": null,
   "id": "6f04036c-3517-49cc-9bf6-a4d9e9134906",
   "metadata": {
    "execution": {
     "iopub.execute_input": "2024-03-03T00:46:14.658042Z",
     "iopub.status.busy": "2024-03-03T00:46:14.657660Z"
    }
   },
   "outputs": [
    {
     "name": "stderr",
     "output_type": "stream",
     "text": [
      "Fetching 13248 files:  39%|███▉      | 5175/13248 [03:48<06:30, 20.66it/s]"
     ]
    }
   ],
   "source": [
    "snapshot_download(repo_id=\"LEAP/ClimSim_low-res\",\n",
    "                  repo_type='dataset',\n",
    "                  local_dir='/work/sds-lab/Shuochen/climsim/train_2',\n",
    "                  allow_patterns='train/0003-1[0-2]/*',\n",
    "                  local_dir_use_symlinks=False)"
   ]
  },
  {
   "cell_type": "code",
   "execution_count": null,
   "id": "ba5d635c-bd1f-42c9-a4c2-cfd67b704e4a",
   "metadata": {},
   "outputs": [],
   "source": []
  }
 ],
 "metadata": {
  "kernelspec": {
   "display_name": "Python 3 (ipykernel)",
   "language": "python",
   "name": "python3"
  },
  "language_info": {
   "codemirror_mode": {
    "name": "ipython",
    "version": 3
   },
   "file_extension": ".py",
   "mimetype": "text/x-python",
   "name": "python",
   "nbconvert_exporter": "python",
   "pygments_lexer": "ipython3",
   "version": "3.11.8"
  }
 },
 "nbformat": 4,
 "nbformat_minor": 5
}
