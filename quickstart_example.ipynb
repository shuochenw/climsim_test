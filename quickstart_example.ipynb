{
 "cells": [
  {
   "cell_type": "markdown",
   "metadata": {},
   "source": [
    "# Import data_utils"
   ]
  },
  {
   "cell_type": "code",
   "execution_count": 1,
   "metadata": {
    "execution": {
     "iopub.execute_input": "2024-03-13T01:06:02.755140Z",
     "iopub.status.busy": "2024-03-13T01:06:02.755034Z",
     "iopub.status.idle": "2024-03-13T01:06:08.273048Z",
     "shell.execute_reply": "2024-03-13T01:06:08.272709Z",
     "shell.execute_reply.started": "2024-03-13T01:06:02.755130Z"
    }
   },
   "outputs": [
    {
     "name": "stderr",
     "output_type": "stream",
     "text": [
      "2024-03-12 21:06:04.483512: I external/local_tsl/tsl/cuda/cudart_stub.cc:32] Could not find cuda drivers on your machine, GPU will not be used.\n",
      "2024-03-12 21:06:04.486553: I external/local_tsl/tsl/cuda/cudart_stub.cc:32] Could not find cuda drivers on your machine, GPU will not be used.\n",
      "2024-03-12 21:06:04.519459: I tensorflow/core/platform/cpu_feature_guard.cc:210] This TensorFlow binary is optimized to use available CPU instructions in performance-critical operations.\n",
      "To enable the following instructions: AVX2 FMA, in other operations, rebuild TensorFlow with the appropriate compiler flags.\n",
      "2024-03-12 21:06:06.233346: W tensorflow/compiler/tf2tensorrt/utils/py_utils.cc:38] TF-TRT Warning: Could not find TensorRT\n"
     ]
    }
   ],
   "source": [
    "from data_utils import *"
   ]
  },
  {
   "cell_type": "code",
   "execution_count": 2,
   "metadata": {
    "execution": {
     "iopub.execute_input": "2024-03-13T01:06:08.273873Z",
     "iopub.status.busy": "2024-03-13T01:06:08.273572Z",
     "iopub.status.idle": "2024-03-13T01:06:10.486153Z",
     "shell.execute_reply": "2024-03-13T01:06:10.485788Z",
     "shell.execute_reply.started": "2024-03-13T01:06:08.273861Z"
    }
   },
   "outputs": [],
   "source": [
    "import xarray as xr\n",
    "import os\n",
    "import netCDF4\n",
    "import numpy as np\n",
    "import torch\n",
    "from torch import nn\n",
    "import matplotlib.pyplot as plt\n",
    "from sklearn.model_selection import train_test_split\n",
    "from sklearn.metrics import mean_absolute_error\n",
    "from torch.utils.data import DataLoader\n",
    "from torch.utils.data import random_split\n",
    "import random\n",
    "import pandas as pd\n",
    "from torch.utils.data import DataLoader, TensorDataset\n",
    "from sklearn.preprocessing import StandardScaler\n",
    "from torch.optim.lr_scheduler import ReduceLROnPlateau"
   ]
  },
  {
   "cell_type": "markdown",
   "metadata": {},
   "source": [
    "# Instantiate class"
   ]
  },
  {
   "cell_type": "code",
   "execution_count": 3,
   "metadata": {
    "execution": {
     "iopub.execute_input": "2024-03-13T01:06:10.487504Z",
     "iopub.status.busy": "2024-03-13T01:06:10.487183Z",
     "iopub.status.idle": "2024-03-13T01:06:10.624202Z",
     "shell.execute_reply": "2024-03-13T01:06:10.623926Z",
     "shell.execute_reply.started": "2024-03-13T01:06:10.487493Z"
    }
   },
   "outputs": [],
   "source": [
    "grid_path = '/work/sds-lab/Shuochen/climsim/normalizations_git/ClimSim_low-res_grid-info.nc'\n",
    "norm_path = '/work/sds-lab/Shuochen/climsim/normalizations_git/'\n",
    "\n",
    "grid_info = xr.open_dataset(grid_path)\n",
    "input_mean = xr.open_dataset(norm_path + 'inputs/input_mean.nc')\n",
    "input_max = xr.open_dataset(norm_path + 'inputs/input_max.nc')\n",
    "input_min = xr.open_dataset(norm_path + 'inputs/input_min.nc')\n",
    "output_scale = xr.open_dataset(norm_path + 'outputs/output_scale.nc')\n",
    "\n",
    "data = data_utils(grid_info = grid_info, \n",
    "                  input_mean = input_mean, \n",
    "                  input_max = input_max, \n",
    "                  input_min = input_min, \n",
    "                  output_scale = output_scale)\n",
    "\n",
    "# set variables to V1 subset\n",
    "data.set_to_v1_vars()"
   ]
  },
  {
   "cell_type": "markdown",
   "metadata": {},
   "source": [
    "# Load training and validation data\n",
    "\n",
    "The .npy files shown below were created using the `create_npy_data_splits.ipynb` notebook in the preprocessing folder."
   ]
  },
  {
   "cell_type": "code",
   "execution_count": 4,
   "metadata": {
    "execution": {
     "iopub.execute_input": "2024-03-13T01:06:10.625619Z",
     "iopub.status.busy": "2024-03-13T01:06:10.625452Z",
     "iopub.status.idle": "2024-03-13T01:06:12.071895Z",
     "shell.execute_reply": "2024-03-13T01:06:12.071556Z",
     "shell.execute_reply.started": "2024-03-13T01:06:10.625608Z"
    }
   },
   "outputs": [],
   "source": [
    "# Change this path to your own\n",
    "data_path = '/work/sds-lab/Shuochen/climsim/'\n",
    "\n",
    "train_input_path = data_path + 'train_input.npy'\n",
    "train_target_path = data_path + 'train_target.npy'\n",
    "val_input_path = data_path + 'val_input.npy'\n",
    "val_target_path = data_path + 'val_target.npy'\n",
    "\n",
    "data.input_train = data.load_npy_file(train_input_path)\n",
    "data.target_train = data.load_npy_file(train_target_path)\n",
    "data.input_val = data.load_npy_file(val_input_path)\n",
    "data.target_val = data.load_npy_file(val_target_path)"
   ]
  },
  {
   "cell_type": "markdown",
   "metadata": {},
   "source": [
    "# Train models"
   ]
  },
  {
   "cell_type": "markdown",
   "metadata": {},
   "source": [
    "### Train constant prediction model\n",
    "\n",
    "$\\hat{y} = E[y_{train}]$"
   ]
  },
  {
   "cell_type": "code",
   "execution_count": 5,
   "metadata": {
    "execution": {
     "iopub.execute_input": "2024-03-13T01:06:12.072627Z",
     "iopub.status.busy": "2024-03-13T01:06:12.072443Z",
     "iopub.status.idle": "2024-03-13T01:06:12.314728Z",
     "shell.execute_reply": "2024-03-13T01:06:12.314233Z",
     "shell.execute_reply.started": "2024-03-13T01:06:12.072615Z"
    }
   },
   "outputs": [],
   "source": [
    "const_model = data.target_train.mean(axis = 0)"
   ]
  },
  {
   "cell_type": "markdown",
   "metadata": {},
   "source": [
    "### Train multiple linear regression model\n",
    "\n",
    "$\\beta = {(X_{train}^TX_{train})}^{-1}X_{train}^Ty_{train}$\n",
    "\n",
    "$\\hat{y} = X_{input} \\beta$\n",
    "\n",
    "where $X_{train}$ and $X_{input}$ correspond to the training data and the input data you would like to inference on, respectively. $X_{train}$ and $X_{input}$ both have a column of ones concatenated to the feature space for the bias.\n"
   ]
  },
  {
   "cell_type": "markdown",
   "metadata": {},
   "source": [
    "##### adding bias unit"
   ]
  },
  {
   "cell_type": "code",
   "execution_count": 6,
   "metadata": {
    "execution": {
     "iopub.execute_input": "2024-03-13T01:06:12.315736Z",
     "iopub.status.busy": "2024-03-13T01:06:12.315509Z",
     "iopub.status.idle": "2024-03-13T01:06:13.257259Z",
     "shell.execute_reply": "2024-03-13T01:06:13.256881Z",
     "shell.execute_reply.started": "2024-03-13T01:06:12.315724Z"
    }
   },
   "outputs": [],
   "source": [
    "X = data.input_train\n",
    "bias_vector = np.ones((X.shape[0], 1))\n",
    "X = np.concatenate((X, bias_vector), axis=1)"
   ]
  },
  {
   "cell_type": "markdown",
   "metadata": {},
   "source": [
    "##### create model"
   ]
  },
  {
   "cell_type": "code",
   "execution_count": 7,
   "metadata": {
    "execution": {
     "iopub.execute_input": "2024-03-13T01:06:13.258077Z",
     "iopub.status.busy": "2024-03-13T01:06:13.257831Z",
     "iopub.status.idle": "2024-03-13T01:06:30.355091Z",
     "shell.execute_reply": "2024-03-13T01:06:30.354709Z",
     "shell.execute_reply.started": "2024-03-13T01:06:13.258066Z"
    }
   },
   "outputs": [],
   "source": [
    "mlr_weights = np.linalg.inv(X.transpose()@X)@X.transpose()@data.target_train"
   ]
  },
  {
   "cell_type": "markdown",
   "metadata": {},
   "source": [
    "### Train your models here"
   ]
  },
  {
   "cell_type": "code",
   "execution_count": 8,
   "metadata": {
    "execution": {
     "iopub.execute_input": "2024-03-13T01:06:30.355841Z",
     "iopub.status.busy": "2024-03-13T01:06:30.355655Z",
     "iopub.status.idle": "2024-03-13T01:07:26.401571Z",
     "shell.execute_reply": "2024-03-13T01:07:26.401224Z",
     "shell.execute_reply.started": "2024-03-13T01:06:30.355829Z"
    }
   },
   "outputs": [
    {
     "name": "stdout",
     "output_type": "stream",
     "text": [
      "Using device: cuda\n",
      "Epoch: 0 | Train loss: 0.05603673309087753 | Test loss: 0.04878628998994827\n",
      "Epoch: 50 | Train loss: 0.006586418021470308 | Test loss: 0.006567607168108225\n",
      "Epoch: 100 | Train loss: 0.005573159083724022 | Test loss: 0.005593819078058004\n",
      "Epoch: 150 | Train loss: 0.005371259059756994 | Test loss: 0.005400619935244322\n",
      "Epoch: 200 | Train loss: 0.005348830949515104 | Test loss: 0.005392055492848158\n",
      "Epoch: 250 | Train loss: 0.005229455418884754 | Test loss: 0.0052603185176849365\n",
      "Epoch: 300 | Train loss: 0.00519709475338459 | Test loss: 0.005272074602544308\n",
      "Epoch: 350 | Train loss: 0.005151086952537298 | Test loss: 0.005185052752494812\n"
     ]
    }
   ],
   "source": [
    "has_mps = torch.backends.mps.is_built()\n",
    "device = \"mps\" if has_mps else \"cuda\" if torch.cuda.is_available() else \"cpu\"\n",
    "print(f\"Using device: {device}\")\n",
    "\n",
    "LEARNING_RATE = 0.01\n",
    "IN_FEATURES = 124\n",
    "OUT_FEATURES = 128\n",
    "RANDOM_SEED = 42\n",
    "\n",
    "# use validation year\n",
    "# X=np.load('/work/sds-lab/Shuochen/climsim/val_input.npy')\n",
    "# y=np.load('/work/sds-lab/Shuochen/climsim/val_target.npy')\n",
    "\n",
    "# X = torch.from_numpy(X).type(torch.float).to(device)\n",
    "# y = torch.from_numpy(y).type(torch.float).to(device)\n",
    "\n",
    "# X_train, X_test, y_train, y_test = train_test_split(X,\n",
    "#     y,\n",
    "#     test_size=0.2,\n",
    "#     random_state=RANDOM_SEED\n",
    "# )\n",
    "\n",
    "# use all 8 years\n",
    "X_train = torch.from_numpy(data.input_train).type(torch.float).to(device)\n",
    "y_train = torch.from_numpy(data.target_train).type(torch.float).to(device)\n",
    "X_test = torch.from_numpy(data.input_val).type(torch.float).to(device)\n",
    "y_test = torch.from_numpy(data.target_val).type(torch.float).to(device)\n",
    "\n",
    "\n",
    "class FCNN(nn.Module):\n",
    "    def __init__(self, IN_FEATURES, hidden_dim, OUT_FEATURES):\n",
    "        super().__init__()\n",
    "        self.linear1 = nn.Linear(IN_FEATURES, hidden_dim)\n",
    "        self.relu = nn.ReLU()\n",
    "        self.linear2 = nn.Linear(hidden_dim, OUT_FEATURES)\n",
    "    def forward(self,x):\n",
    "        return self.linear2(self.relu(self.linear1(x)))\n",
    "        \n",
    "model = FCNN(IN_FEATURES,32,OUT_FEATURES).to(device)\n",
    "loss_fn = nn.MSELoss()\n",
    "optimizer = torch.optim.AdamW(model.parameters(),lr=LEARNING_RATE)\n",
    "\n",
    "torch.manual_seed(42)\n",
    "epochs = 400\n",
    "\n",
    "for epoch in range(epochs):\n",
    "\n",
    "    model.train()\n",
    "    y_pred = model(X_train)\n",
    "    loss = loss_fn(y_pred, y_train)\n",
    "    optimizer.zero_grad()\n",
    "    loss.backward()\n",
    "    optimizer.step()\n",
    "\n",
    "    model.eval()\n",
    "    with torch.inference_mode():\n",
    "        test_pred = model(X_test)\n",
    "        test_loss = loss_fn(test_pred, y_test)\n",
    "\n",
    "    if epoch % 50 == 0:\n",
    "        print(f\"Epoch: {epoch} | Train loss: {loss} | Test loss: {test_loss}\")\n",
    "\n",
    "test_pred = torch.Tensor.cpu(test_pred).detach().numpy()\n",
    "y_test = torch.Tensor.cpu(y_test).detach().numpy()"
   ]
  },
  {
   "cell_type": "code",
   "execution_count": 9,
   "metadata": {
    "execution": {
     "iopub.execute_input": "2024-03-13T01:07:26.402425Z",
     "iopub.status.busy": "2024-03-13T01:07:26.402085Z",
     "iopub.status.idle": "2024-03-13T01:07:26.406461Z",
     "shell.execute_reply": "2024-03-13T01:07:26.406132Z",
     "shell.execute_reply.started": "2024-03-13T01:07:26.402413Z"
    }
   },
   "outputs": [
    {
     "data": {
      "text/plain": [
       "(10091520, 124)"
      ]
     },
     "execution_count": 9,
     "metadata": {},
     "output_type": "execute_result"
    }
   ],
   "source": [
    "data.input_train.shape"
   ]
  },
  {
   "cell_type": "markdown",
   "metadata": {},
   "source": [
    "# Evaluate on validation data"
   ]
  },
  {
   "cell_type": "markdown",
   "metadata": {},
   "source": [
    "### Set pressure grid"
   ]
  },
  {
   "cell_type": "code",
   "execution_count": 10,
   "metadata": {
    "execution": {
     "iopub.execute_input": "2024-03-13T01:07:26.407141Z",
     "iopub.status.busy": "2024-03-13T01:07:26.406961Z",
     "iopub.status.idle": "2024-03-13T01:07:26.684741Z",
     "shell.execute_reply": "2024-03-13T01:07:26.684394Z",
     "shell.execute_reply.started": "2024-03-13T01:07:26.407130Z"
    }
   },
   "outputs": [],
   "source": [
    "data.set_pressure_grid(data_split = 'val')"
   ]
  },
  {
   "cell_type": "markdown",
   "metadata": {},
   "source": [
    "### Load predictions"
   ]
  },
  {
   "cell_type": "code",
   "execution_count": 11,
   "metadata": {
    "execution": {
     "iopub.execute_input": "2024-03-13T01:07:26.686300Z",
     "iopub.status.busy": "2024-03-13T01:07:26.686118Z",
     "iopub.status.idle": "2024-03-13T01:07:27.354419Z",
     "shell.execute_reply": "2024-03-13T01:07:27.353995Z",
     "shell.execute_reply.started": "2024-03-13T01:07:26.686290Z"
    }
   },
   "outputs": [
    {
     "name": "stdout",
     "output_type": "stream",
     "text": [
      "(1441920, 128)\n",
      "(1441920, 128)\n"
     ]
    }
   ],
   "source": [
    "# Constant Prediction\n",
    "const_pred_val = np.repeat(const_model[np.newaxis, :], data.target_val.shape[0], axis = 0)\n",
    "print(const_pred_val.shape)\n",
    "\n",
    "# Multiple Linear Regression\n",
    "X_val = data.input_val\n",
    "bias_vector_val = np.ones((X_val.shape[0], 1))\n",
    "X_val = np.concatenate((X_val, bias_vector_val), axis=1)\n",
    "mlr_pred_val = X_val@mlr_weights\n",
    "print(mlr_pred_val.shape)\n",
    "\n",
    "# Load your prediction here\n",
    "fcnn_pred_val = test_pred\n",
    "# Load predictions into data_utils object\n",
    "data.model_names = ['const', 'mlr','FCNN'] # add names of your models here\n",
    "preds = [const_pred_val, mlr_pred_val, fcnn_pred_val] # add your custom predictions here\n",
    "data.preds_val = dict(zip(data.model_names, preds))"
   ]
  },
  {
   "cell_type": "markdown",
   "metadata": {},
   "source": [
    "### Weight predictions and target\n",
    "\n",
    "1. Undo output scaling\n",
    "\n",
    "2.  Weight vertical levels by dp/g\n",
    "\n",
    "3. Weight horizontal area of each grid cell by a[x]/mean(a[x])\n",
    "\n",
    "4. Convert units to a common energy unit"
   ]
  },
  {
   "cell_type": "code",
   "execution_count": 12,
   "metadata": {
    "execution": {
     "iopub.execute_input": "2024-03-13T01:07:27.356002Z",
     "iopub.status.busy": "2024-03-13T01:07:27.355781Z",
     "iopub.status.idle": "2024-03-13T01:07:34.615186Z",
     "shell.execute_reply": "2024-03-13T01:07:34.614822Z",
     "shell.execute_reply.started": "2024-03-13T01:07:27.355990Z"
    }
   },
   "outputs": [],
   "source": [
    "data.reweight_target(data_split = 'val')\n",
    "data.reweight_preds(data_split = 'val')"
   ]
  },
  {
   "cell_type": "markdown",
   "metadata": {},
   "source": [
    "### Set and calculate metrics"
   ]
  },
  {
   "cell_type": "code",
   "execution_count": 13,
   "metadata": {
    "execution": {
     "iopub.execute_input": "2024-03-13T01:07:34.616102Z",
     "iopub.status.busy": "2024-03-13T01:07:34.615863Z",
     "iopub.status.idle": "2024-03-13T01:07:42.230056Z",
     "shell.execute_reply": "2024-03-13T01:07:42.229745Z",
     "shell.execute_reply.started": "2024-03-13T01:07:34.616090Z"
    }
   },
   "outputs": [
    {
     "name": "stderr",
     "output_type": "stream",
     "text": [
      "/home/wang.shuoc/climsim/data_utils.py:1089: RuntimeWarning: divide by zero encountered in divide\n",
      "  r_squared = 1 - sq_diff.sum(axis = 0)/tss_time.sum(axis = 0) # sum over time\n",
      "/home/wang.shuoc/climsim/data_utils.py:1089: RuntimeWarning: invalid value encountered in divide\n",
      "  r_squared = 1 - sq_diff.sum(axis = 0)/tss_time.sum(axis = 0) # sum over time\n",
      "/home/wang.shuoc/climsim/data_utils.py:1089: RuntimeWarning: divide by zero encountered in divide\n",
      "  r_squared = 1 - sq_diff.sum(axis = 0)/tss_time.sum(axis = 0) # sum over time\n",
      "/home/wang.shuoc/climsim/data_utils.py:1089: RuntimeWarning: invalid value encountered in divide\n",
      "  r_squared = 1 - sq_diff.sum(axis = 0)/tss_time.sum(axis = 0) # sum over time\n",
      "/home/wang.shuoc/climsim/data_utils.py:1089: RuntimeWarning: divide by zero encountered in divide\n",
      "  r_squared = 1 - sq_diff.sum(axis = 0)/tss_time.sum(axis = 0) # sum over time\n"
     ]
    }
   ],
   "source": [
    "data.metrics_names = ['MAE', 'RMSE', 'R2', 'bias']\n",
    "data.create_metrics_df(data_split = 'val')"
   ]
  },
  {
   "cell_type": "markdown",
   "metadata": {},
   "source": [
    "### Create plots"
   ]
  },
  {
   "cell_type": "code",
   "execution_count": 14,
   "metadata": {
    "execution": {
     "iopub.execute_input": "2024-03-13T01:07:42.230851Z",
     "iopub.status.busy": "2024-03-13T01:07:42.230635Z",
     "iopub.status.idle": "2024-03-13T01:07:42.907846Z",
     "shell.execute_reply": "2024-03-13T01:07:42.907401Z",
     "shell.execute_reply.started": "2024-03-13T01:07:42.230840Z"
    }
   },
   "outputs": [
    {
     "data": {
      "image/png": "[encoded data removed]",
      "text/plain": [
       "<Figure size 700x800 with 4 Axes>"
      ]
     },
     "metadata": {
      "image/png": {
       "height": 788,
       "width": 686
      }
     },
     "output_type": "display_data"
    }
   ],
   "source": [
    "# set plotting settings\n",
    "%config InlineBackend.figure_format = 'retina'\n",
    "letters = string.ascii_lowercase\n",
    "\n",
    "# create custom dictionary for plotting\n",
    "dict_var = data.metrics_var_val\n",
    "plot_df_byvar = {}\n",
    "for metric in data.metrics_names:\n",
    "    plot_df_byvar[metric] = pd.DataFrame([dict_var[model][metric] for model in data.model_names],\n",
    "                                               index=data.model_names)\n",
    "    plot_df_byvar[metric] = plot_df_byvar[metric].rename(columns = data.var_short_names).transpose()\n",
    "\n",
    "# plot figure\n",
    "fig, axes = plt.subplots(nrows  = len(data.metrics_names), sharex = True)\n",
    "for i in range(len(data.metrics_names)):\n",
    "    plot_df_byvar[data.metrics_names[i]].plot.bar(\n",
    "        legend = False,\n",
    "        ax = axes[i])\n",
    "    if data.metrics_names[i] != 'R2':\n",
    "        axes[i].set_ylabel('$W/m^2$')\n",
    "    else:\n",
    "        axes[i].set_ylim(0,1)\n",
    "\n",
    "    axes[i].set_title(f'({letters[i]}) {data.metrics_names[i]}')\n",
    "axes[i].set_xlabel('Output variable')\n",
    "axes[i].set_xticklabels(plot_df_byvar[data.metrics_names[i]].index, \\\n",
    "    rotation=0, ha='center')\n",
    "\n",
    "axes[0].legend(columnspacing = .9, \n",
    "               labelspacing = .3,\n",
    "               handleheight = .07,\n",
    "               handlelength = 1.5,\n",
    "               handletextpad = .2,\n",
    "               borderpad = .2,\n",
    "               ncol = 3,\n",
    "               loc = 'upper right')\n",
    "fig.set_size_inches(7,8)\n",
    "fig.tight_layout()"
   ]
  },
  {
   "cell_type": "markdown",
   "metadata": {},
   "source": [
    "If you trained models with different hyperparameters, use the ones that performed the best on validation data for evaluation on scoring data."
   ]
  },
  {
   "cell_type": "markdown",
   "metadata": {},
   "source": [
    "## Evaluate on scoring data\n",
    "\n",
    "#### Do this at the VERY END (when you have finished tuned the hyperparameters for your  model and are seeking a final evaluation)"
   ]
  },
  {
   "cell_type": "markdown",
   "metadata": {},
   "source": [
    "### Load scoring data"
   ]
  },
  {
   "cell_type": "code",
   "execution_count": 15,
   "metadata": {
    "execution": {
     "iopub.execute_input": "2024-03-13T01:07:42.908581Z",
     "iopub.status.busy": "2024-03-13T01:07:42.908387Z",
     "iopub.status.idle": "2024-03-13T01:07:43.377410Z",
     "shell.execute_reply": "2024-03-13T01:07:43.377098Z",
     "shell.execute_reply.started": "2024-03-13T01:07:42.908569Z"
    }
   },
   "outputs": [],
   "source": [
    "scoring_input_path = \"/work/sds-lab/Shuochen/climsim/scoring_input.npy\"\n",
    "scoring_target_path = \"/work/sds-lab/Shuochen/climsim/scoring_target.npy\"\n",
    "\n",
    "# path to target input\n",
    "data.input_scoring = np.load(scoring_input_path)\n",
    "\n",
    "# path to target output\n",
    "data.target_scoring = np.load(scoring_target_path)"
   ]
  },
  {
   "cell_type": "markdown",
   "metadata": {},
   "source": [
    "### Set pressure grid"
   ]
  },
  {
   "cell_type": "code",
   "execution_count": 16,
   "metadata": {
    "execution": {
     "iopub.execute_input": "2024-03-13T01:07:43.379867Z",
     "iopub.status.busy": "2024-03-13T01:07:43.379144Z",
     "iopub.status.idle": "2024-03-13T01:07:44.093550Z",
     "shell.execute_reply": "2024-03-13T01:07:44.093179Z",
     "shell.execute_reply.started": "2024-03-13T01:07:43.379855Z"
    }
   },
   "outputs": [],
   "source": [
    "data.set_pressure_grid(data_split = 'scoring')"
   ]
  },
  {
   "cell_type": "markdown",
   "metadata": {},
   "source": [
    "### Load predictions"
   ]
  },
  {
   "cell_type": "code",
   "execution_count": 17,
   "metadata": {
    "execution": {
     "iopub.execute_input": "2024-03-13T01:07:44.095878Z",
     "iopub.status.busy": "2024-03-13T01:07:44.095157Z",
     "iopub.status.idle": "2024-03-13T01:07:45.370272Z",
     "shell.execute_reply": "2024-03-13T01:07:45.369811Z",
     "shell.execute_reply.started": "2024-03-13T01:07:44.095866Z"
    }
   },
   "outputs": [
    {
     "name": "stdout",
     "output_type": "stream",
     "text": [
      "(1681920, 128)\n",
      "(1681920, 128)\n"
     ]
    }
   ],
   "source": [
    "# constant prediction\n",
    "const_pred_scoring = np.repeat(const_model[np.newaxis, :], data.target_scoring.shape[0], axis = 0)\n",
    "print(const_pred_scoring.shape)\n",
    "\n",
    "# multiple linear regression\n",
    "X_scoring = data.input_scoring\n",
    "bias_vector_scoring = np.ones((X_scoring.shape[0], 1))\n",
    "X_scoring = np.concatenate((X_scoring, bias_vector_scoring), axis=1)\n",
    "mlr_pred_scoring = X_scoring@mlr_weights\n",
    "print(mlr_pred_scoring.shape)\n",
    "\n",
    "# Your model prediction here\n",
    "fcnn_pred_val = test_pred\n",
    "# Load predictions into object\n",
    "data.model_names = ['const', 'mlr', 'FCNN'] # model name here\n",
    "preds = [const_pred_scoring, mlr_pred_scoring, fcnn_pred_val] # add prediction here\n",
    "data.preds_scoring = dict(zip(data.model_names, preds))"
   ]
  },
  {
   "cell_type": "markdown",
   "metadata": {},
   "source": [
    "### Weight predictions and target\n",
    "\n",
    "1. Undo output scaling\n",
    "\n",
    "2.  Weight vertical levels by dp/g\n",
    "\n",
    "3. Weight horizontal area of each grid cell by a[x]/mean(a[x])\n",
    "\n",
    "4. Convert units to a common energy unit"
   ]
  },
  {
   "cell_type": "code",
   "execution_count": 18,
   "metadata": {
    "execution": {
     "iopub.execute_input": "2024-03-13T01:07:45.370890Z",
     "iopub.status.busy": "2024-03-13T01:07:45.370777Z",
     "iopub.status.idle": "2024-03-13T01:07:55.272699Z",
     "shell.execute_reply": "2024-03-13T01:07:55.272237Z",
     "shell.execute_reply.started": "2024-03-13T01:07:45.370880Z"
    }
   },
   "outputs": [
    {
     "ename": "ValueError",
     "evalue": "operands could not be broadcast together with shapes (3755,384,60) (4380,384,60) ",
     "output_type": "error",
     "traceback": [
      "\u001b[0;31m---------------------------------------------------------------------------\u001b[0m",
      "\u001b[0;31mValueError\u001b[0m                                Traceback (most recent call last)",
      "Cell \u001b[0;32mIn[18], line 3\u001b[0m\n\u001b[1;32m      1\u001b[0m \u001b[38;5;66;03m# weight predictions and target\u001b[39;00m\n\u001b[1;32m      2\u001b[0m data\u001b[38;5;241m.\u001b[39mreweight_target(data_split \u001b[38;5;241m=\u001b[39m \u001b[38;5;124m'\u001b[39m\u001b[38;5;124mscoring\u001b[39m\u001b[38;5;124m'\u001b[39m)\n\u001b[0;32m----> 3\u001b[0m data\u001b[38;5;241m.\u001b[39mreweight_preds(data_split \u001b[38;5;241m=\u001b[39m \u001b[38;5;124m'\u001b[39m\u001b[38;5;124mscoring\u001b[39m\u001b[38;5;124m'\u001b[39m)\n\u001b[1;32m      5\u001b[0m \u001b[38;5;66;03m# set and calculate metrics\u001b[39;00m\n\u001b[1;32m      6\u001b[0m data\u001b[38;5;241m.\u001b[39mmetrics_names \u001b[38;5;241m=\u001b[39m [\u001b[38;5;124m'\u001b[39m\u001b[38;5;124mMAE\u001b[39m\u001b[38;5;124m'\u001b[39m, \u001b[38;5;124m'\u001b[39m\u001b[38;5;124mRMSE\u001b[39m\u001b[38;5;124m'\u001b[39m, \u001b[38;5;124m'\u001b[39m\u001b[38;5;124mR2\u001b[39m\u001b[38;5;124m'\u001b[39m, \u001b[38;5;124m'\u001b[39m\u001b[38;5;124mbias\u001b[39m\u001b[38;5;124m'\u001b[39m]\n",
      "File \u001b[0;32m~/climsim/data_utils.py:1013\u001b[0m, in \u001b[0;36mdata_utils.reweight_preds\u001b[0;34m(self, data_split)\u001b[0m\n\u001b[1;32m   1011\u001b[0m     \u001b[38;5;28;01massert\u001b[39;00m \u001b[38;5;28mself\u001b[39m\u001b[38;5;241m.\u001b[39mpreds_scoring \u001b[38;5;129;01mis\u001b[39;00m \u001b[38;5;129;01mnot\u001b[39;00m \u001b[38;5;28;01mNone\u001b[39;00m\n\u001b[1;32m   1012\u001b[0m     \u001b[38;5;28;01mfor\u001b[39;00m model_name \u001b[38;5;129;01min\u001b[39;00m \u001b[38;5;28mself\u001b[39m\u001b[38;5;241m.\u001b[39mmodel_names:\n\u001b[0;32m-> 1013\u001b[0m         \u001b[38;5;28mself\u001b[39m\u001b[38;5;241m.\u001b[39mpreds_weighted_scoring[model_name] \u001b[38;5;241m=\u001b[39m \u001b[38;5;28mself\u001b[39m\u001b[38;5;241m.\u001b[39moutput_weighting(\u001b[38;5;28mself\u001b[39m\u001b[38;5;241m.\u001b[39mpreds_scoring[model_name], data_split)\n\u001b[1;32m   1014\u001b[0m \u001b[38;5;28;01melif\u001b[39;00m data_split \u001b[38;5;241m==\u001b[39m \u001b[38;5;124m'\u001b[39m\u001b[38;5;124mtest\u001b[39m\u001b[38;5;124m'\u001b[39m:\n\u001b[1;32m   1015\u001b[0m     \u001b[38;5;28;01massert\u001b[39;00m \u001b[38;5;28mself\u001b[39m\u001b[38;5;241m.\u001b[39mpreds_test \u001b[38;5;129;01mis\u001b[39;00m \u001b[38;5;129;01mnot\u001b[39;00m \u001b[38;5;28;01mNone\u001b[39;00m\n",
      "File \u001b[0;32m~/climsim/data_utils.py:844\u001b[0m, in \u001b[0;36mdata_utils.output_weighting\u001b[0;34m(self, output, data_split, just_weights)\u001b[0m\n\u001b[1;32m    842\u001b[0m     dp \u001b[38;5;241m=\u001b[39m \u001b[38;5;28mself\u001b[39m\u001b[38;5;241m.\u001b[39mdp_test\n\u001b[1;32m    843\u001b[0m \u001b[38;5;28;01massert\u001b[39;00m dp \u001b[38;5;129;01mis\u001b[39;00m \u001b[38;5;129;01mnot\u001b[39;00m \u001b[38;5;28;01mNone\u001b[39;00m\n\u001b[0;32m--> 844\u001b[0m ptend_t \u001b[38;5;241m=\u001b[39m ptend_t \u001b[38;5;241m*\u001b[39m dp\u001b[38;5;241m/\u001b[39m\u001b[38;5;28mself\u001b[39m\u001b[38;5;241m.\u001b[39mgrav\n\u001b[1;32m    845\u001b[0m ptend_q0001 \u001b[38;5;241m=\u001b[39m ptend_q0001 \u001b[38;5;241m*\u001b[39m dp\u001b[38;5;241m/\u001b[39m\u001b[38;5;28mself\u001b[39m\u001b[38;5;241m.\u001b[39mgrav\n\u001b[1;32m    846\u001b[0m \u001b[38;5;28;01mif\u001b[39;00m just_weights:\n",
      "\u001b[0;31mValueError\u001b[0m: operands could not be broadcast together with shapes (3755,384,60) (4380,384,60) "
     ]
    }
   ],
   "source": [
    "# weight predictions and target\n",
    "data.reweight_target(data_split = 'scoring')\n",
    "data.reweight_preds(data_split = 'scoring')\n",
    "\n",
    "# set and calculate metrics\n",
    "data.metrics_names = ['MAE', 'RMSE', 'R2', 'bias']\n",
    "data.create_metrics_df(data_split = 'scoring')"
   ]
  },
  {
   "cell_type": "markdown",
   "metadata": {},
   "source": [
    "### Create plots"
   ]
  },
  {
   "cell_type": "code",
   "execution_count": null,
   "metadata": {
    "execution": {
     "iopub.status.busy": "2024-03-13T01:07:55.273220Z",
     "iopub.status.idle": "2024-03-13T01:07:55.273498Z",
     "shell.execute_reply": "2024-03-13T01:07:55.273423Z",
     "shell.execute_reply.started": "2024-03-13T01:07:55.273415Z"
    }
   },
   "outputs": [],
   "source": [
    "# set plotting settings\n",
    "%config InlineBackend.figure_format = 'retina'\n",
    "letters = string.ascii_lowercase\n",
    "\n",
    "# create custom dictionary for plotting\n",
    "dict_var = data.metrics_var_scoring\n",
    "plot_df_byvar = {}\n",
    "for metric in data.metrics_names:\n",
    "    plot_df_byvar[metric] = pd.DataFrame([dict_var[model][metric] for model in data.model_names],\n",
    "                                               index=data.model_names)\n",
    "    plot_df_byvar[metric] = plot_df_byvar[metric].rename(columns = data.var_short_names).transpose()\n",
    "\n",
    "# plot figure\n",
    "fig, axes = plt.subplots(nrows  = len(data.metrics_names), sharex = True)\n",
    "for i in range(len(data.metrics_names)):\n",
    "    plot_df_byvar[data.metrics_names[i]].plot.bar(\n",
    "        legend = False,\n",
    "        ax = axes[i])\n",
    "    if data.metrics_names[i] != 'R2':\n",
    "        axes[i].set_ylabel('$W/m^2$')\n",
    "    else:\n",
    "        axes[i].set_ylim(0,1)\n",
    "\n",
    "    axes[i].set_title(f'({letters[i]}) {data.metrics_names[i]}')\n",
    "axes[i].set_xlabel('Output variable')\n",
    "axes[i].set_xticklabels(plot_df_byvar[data.metrics_names[i]].index, \\\n",
    "    rotation=0, ha='center')\n",
    "\n",
    "axes[0].legend(columnspacing = .9, \n",
    "               labelspacing = .3,\n",
    "               handleheight = .07,\n",
    "               handlelength = 1.5,\n",
    "               handletextpad = .2,\n",
    "               borderpad = .2,\n",
    "               ncol = 3,\n",
    "               loc = 'upper right')\n",
    "fig.set_size_inches(7,8)\n",
    "fig.tight_layout()"
   ]
  },
  {
   "cell_type": "code",
   "execution_count": null,
   "metadata": {},
   "outputs": [],
   "source": []
  },
  {
   "cell_type": "code",
   "execution_count": null,
   "metadata": {},
   "outputs": [],
   "source": []
  }
 ],
 "metadata": {
  "kernelspec": {
   "display_name": "Python 3 (ipykernel)",
   "language": "python",
   "name": "python3"
  },
  "language_info": {
   "codemirror_mode": {
    "name": "ipython",
    "version": 3
   },
   "file_extension": ".py",
   "mimetype": "text/x-python",
   "name": "python",
   "nbconvert_exporter": "python",
   "pygments_lexer": "ipython3",
   "version": "3.11.8"
  }
 },
 "nbformat": 4,
 "nbformat_minor": 4
}
